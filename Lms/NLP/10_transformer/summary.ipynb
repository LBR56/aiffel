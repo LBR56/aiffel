{
  "nbformat": 4,
  "nbformat_minor": 0,
  "metadata": {
    "colab": {
      "provenance": [],
      "collapsed_sections": []
    },
    "kernelspec": {
      "name": "python3",
      "display_name": "Python 3"
    },
    "language_info": {
      "name": "python"
    }
  },
  "cells": [
    {
      "cell_type": "markdown",
      "source": [
        "# Transformer로 번역기 만들기"
      ],
      "metadata": {
        "id": "kTn7tlu0M3pt"
      }
    },
    {
      "cell_type": "markdown",
      "source": [
        "트랜스포머를 이용해 번역기를 만들어 본다. 먼저 내부 모듈을 하나하나 구현한 후, 조립하여 완성한다. 완성된 번역기를 테스트해 본다."
      ],
      "metadata": {
        "id": "-qshiGE7M4dC"
      }
    },
    {
      "cell_type": "markdown",
      "source": [
        "- 들어가며\n",
        "- 내부 모듈 구현하기\n",
        "- 모듈 조립하기\n",
        "- 모델 밖의 조력자들"
      ],
      "metadata": {
        "id": "1Sv8joC3M6WQ"
      }
    },
    {
      "cell_type": "markdown",
      "source": [
        "# 들어가며"
      ],
      "metadata": {
        "id": "Q04VJZHjNA2Z"
      }
    },
    {
      "cell_type": "code",
      "execution_count": 1,
      "metadata": {
        "colab": {
          "base_uri": "https://localhost:8080/"
        },
        "id": "IkWLKk1VMwo0",
        "outputId": "916659dc-ace8-40c1-954c-cd95e6cde3c8"
      },
      "outputs": [
        {
          "output_type": "stream",
          "name": "stdout",
          "text": [
            "Reading package lists... Done\n",
            "Building dependency tree       \n",
            "Reading state information... Done\n",
            "The following package was automatically installed and is no longer required:\n",
            "  libnvidia-common-460\n",
            "Use 'sudo apt autoremove' to remove it.\n",
            "The following NEW packages will be installed:\n",
            "  fonts-nanum\n",
            "0 upgraded, 1 newly installed, 0 to remove and 20 not upgraded.\n",
            "Need to get 9,604 kB of archives.\n",
            "After this operation, 29.5 MB of additional disk space will be used.\n",
            "Get:1 http://archive.ubuntu.com/ubuntu bionic/universe amd64 fonts-nanum all 20170925-1 [9,604 kB]\n",
            "Fetched 9,604 kB in 1s (9,038 kB/s)\n",
            "debconf: unable to initialize frontend: Dialog\n",
            "debconf: (No usable dialog-like program is installed, so the dialog based frontend cannot be used. at /usr/share/perl5/Debconf/FrontEnd/Dialog.pm line 76, <> line 1.)\n",
            "debconf: falling back to frontend: Readline\n",
            "debconf: unable to initialize frontend: Readline\n",
            "debconf: (This frontend requires a controlling tty.)\n",
            "debconf: falling back to frontend: Teletype\n",
            "dpkg-preconfigure: unable to re-open stdin: \n",
            "Selecting previously unselected package fonts-nanum.\n",
            "(Reading database ... 159447 files and directories currently installed.)\n",
            "Preparing to unpack .../fonts-nanum_20170925-1_all.deb ...\n",
            "Unpacking fonts-nanum (20170925-1) ...\n",
            "Setting up fonts-nanum (20170925-1) ...\n",
            "Processing triggers for fontconfig (2.12.6-0ubuntu2) ...\n",
            "/usr/share/fonts: caching, new cache contents: 0 fonts, 1 dirs\n",
            "/usr/share/fonts/truetype: caching, new cache contents: 0 fonts, 3 dirs\n",
            "/usr/share/fonts/truetype/humor-sans: caching, new cache contents: 1 fonts, 0 dirs\n",
            "/usr/share/fonts/truetype/liberation: caching, new cache contents: 16 fonts, 0 dirs\n",
            "/usr/share/fonts/truetype/nanum: caching, new cache contents: 10 fonts, 0 dirs\n",
            "/usr/local/share/fonts: caching, new cache contents: 0 fonts, 0 dirs\n",
            "/root/.local/share/fonts: skipping, no such directory\n",
            "/root/.fonts: skipping, no such directory\n",
            "/var/cache/fontconfig: cleaning cache directory\n",
            "/root/.cache/fontconfig: not cleaning non-existent cache directory\n",
            "/root/.fontconfig: not cleaning non-existent cache directory\n",
            "fc-cache: succeeded\n"
          ]
        }
      ],
      "source": [
        "!sudo apt-get install -y fonts-nanum\n",
        "!sudo fc-cache -fv\n",
        "!rm ~/.cache/matplotlib -rf"
      ]
    },
    {
      "cell_type": "markdown",
      "source": [
        "# 내부 모듈 구현하기"
      ],
      "metadata": {
        "id": "lwWgomaANe6G"
      }
    },
    {
      "cell_type": "markdown",
      "source": [
        "- 입력\n",
        "- source & target embedding\n",
        "- positional encoding\n",
        "- multi-head attention\n",
        "  - split head\n",
        "  - masking for masked attention\n",
        "  - scaled dot product attention\n",
        "  - combine heads\n",
        "- residual connection\n",
        "- layer normalization\n",
        "- position-wise feed-forward network\n",
        "- output linear layer"
      ],
      "metadata": {
        "id": "62Zf5ef1RInM"
      }
    },
    {
      "cell_type": "code",
      "source": [
        "import numpy as np\n",
        "import tensorflow as tf\n",
        "import matplotlib.pyplot as plt\n",
        "\n",
        "import re\n",
        "import os\n",
        "import io\n",
        "import time\n",
        "import random\n",
        "\n",
        "import seaborn # Attention 시각화를 위해 필요!\n",
        "\n",
        "print(tf.__version__)"
      ],
      "metadata": {
        "colab": {
          "base_uri": "https://localhost:8080/"
        },
        "id": "oLm28wsLQ3pd",
        "outputId": "f2ff0eda-d6f4-4cb5-ddca-45aeb4430312"
      },
      "execution_count": 1,
      "outputs": [
        {
          "output_type": "stream",
          "name": "stdout",
          "text": [
            "2.8.2\n"
          ]
        }
      ]
    },
    {
      "cell_type": "markdown",
      "source": [
        "## Positional Encoding"
      ],
      "metadata": {
        "id": "hCV3clKVNgrq"
      }
    },
    {
      "cell_type": "code",
      "source": [
        "def positional_encoding(pos, d_model):\n",
        "  def cal_angle(position, i):\n",
        "    return position / np.power(10000, int(i) / d_model)\n",
        "\n",
        "  def get_posi_angle_vec(position):\n",
        "    return [cal_angle(position, i) for i in range(d_model)]\n",
        "\n",
        "  sinusoid_table = np.array([get_posi_angle_vec(pos_i) for pos_i in range(pos)])\n",
        "  sinusoid_table[:, 0::2] = np.sin(sinusoid_table[:, 0::2])\n",
        "  sinusoid_table[:, 1::2] = np.cos(sinusoid_table[:, 1::2])\n",
        "  return sinusoid_table"
      ],
      "metadata": {
        "id": "PGVzD2knQ1jL"
      },
      "execution_count": null,
      "outputs": []
    },
    {
      "cell_type": "markdown",
      "source": [
        "## Multi-Head Attention"
      ],
      "metadata": {
        "id": "r-9BLsPgR0WM"
      }
    },
    {
      "cell_type": "markdown",
      "source": [],
      "metadata": {
        "id": "2lpIXB5AR3EM"
      }
    },
    {
      "cell_type": "code",
      "source": [
        "class MultiHeadAttention(tf.keras.layers.Layer):\n",
        "  def __init__(self, d_model, num_heads):\n",
        "    super(MultiHeadAttention, self).__init__()\n",
        "    self.num_heads = num_heads\n",
        "    self.d_model = d_model\n",
        "        \n",
        "    self.depth = d_model // self.num_heads\n",
        "        \n",
        "    self.W_q = tf.keras.layers.Dense(d_model)\n",
        "    self.W_k = tf.keras.layers.Dense(d_model)\n",
        "    self.W_v = tf.keras.layers.Dense(d_model)\n",
        "        \n",
        "    self.linear = tf.keras.layers.Dense(d_model)\n",
        "\n",
        "  def scaled_dot_product_attention(self, Q, K, V, mask):\n",
        "    d_k = tf.cast(K.shape[-1], tf.float32)\n",
        "    QK = tf.matmul(Q, K, transpose_b=True)\n",
        "\n",
        "    scaled_qk = QK / tf.math.sqrt(d_k)\n",
        "\n",
        "    if mask is not None: scaled_qk += (mask * -1e9)  \n",
        "\n",
        "    attentions = tf.nn.softmax(scaled_qk, axis=-1)\n",
        "    out = tf.matmul(attentions, V)\n",
        "\n",
        "    return out, attentions\n",
        "          \n",
        "\n",
        "  def split_heads(self, x):\n",
        "    batch_size = x.shape[0]\n",
        "    split_x = tf.reshape(x, (batch_size, -1, self.num_heads, self.depth))\n",
        "    split_x = tf.transpose(split_x, perm=[0, 2, 1, 3])\n",
        "\n",
        "    return split_x\n",
        "\n",
        "  def combine_heads(self, x):\n",
        "    batch_size = x.shape[0]\n",
        "    combined_x = tf.transpose(x, perm=[0, 2, 1, 3])\n",
        "    combined_x = tf.reshape(combined_x, (batch_size, -1, self.d_model))\n",
        "\n",
        "    return combined_x\n",
        "\n",
        "      \n",
        "  def call(self, Q, K, V, mask):\n",
        "    WQ = self.W_q(Q)\n",
        "    WK = self.W_k(K)\n",
        "    WV = self.W_v(V)\n",
        "    \n",
        "    WQ_splits = self.split_heads(WQ)\n",
        "    WK_splits = self.split_heads(WK)\n",
        "    WV_splits = self.split_heads(WV)\n",
        "        \n",
        "    out, attention_weights = self.scaled_dot_product_attention(\n",
        "        WQ_splits, WK_splits, WV_splits, mask)\n",
        "                \n",
        "    out = self.combine_heads(out)\n",
        "    out = self.linear(out)\n",
        "            \n",
        "    return out, attention_weights"
      ],
      "metadata": {
        "id": "eXehz_DdSCXf"
      },
      "execution_count": null,
      "outputs": []
    },
    {
      "cell_type": "markdown",
      "source": [
        "## Position-wise Feed-Forward Network"
      ],
      "metadata": {
        "id": "TlqKtczPSrN2"
      }
    },
    {
      "cell_type": "code",
      "source": [
        "class PoswiseFeedForwardNet(tf.keras.layers.Layer):\n",
        "  def __init__(self, d_model, d_ff):\n",
        "    super(PoswiseFeedForwardNet, self).__init__()\n",
        "    self.w_1 = tf.keras.layers.Dense(d_ff, activation='relu')\n",
        "    self.w_2 = tf.keras.layers.Dense(d_model)\n",
        "\n",
        "  def call(self, x):\n",
        "    out = self.w_1(x)\n",
        "    out = self.w_2(out)\n",
        "        \n",
        "    return out"
      ],
      "metadata": {
        "id": "N71pRzIIS0mO"
      },
      "execution_count": null,
      "outputs": []
    },
    {
      "cell_type": "markdown",
      "source": [
        "# 모듈 조립하기"
      ],
      "metadata": {
        "id": "X7Amyrc_S6We"
      }
    },
    {
      "cell_type": "markdown",
      "source": [
        "## encoder"
      ],
      "metadata": {
        "id": "3IOq-gZ3S6OT"
      }
    },
    {
      "cell_type": "code",
      "source": [
        "class EncoderLayer(tf.keras.layers.Layer):\n",
        "  def __init__(self, d_model, n_heads, d_ff, dropout):\n",
        "    super(EncoderLayer, self).__init__()\n",
        "\n",
        "    self.enc_self_attn = MultiHeadAttention(d_model, n_heads)\n",
        "    self.ffn = PoswiseFeedForwardNet(d_model, d_ff)\n",
        "\n",
        "    self.norm_1 = tf.keras.layers.LayerNormalization(epsilon=1e-6)\n",
        "    self.norm_2 = tf.keras.layers.LayerNormalization(epsilon=1e-6)\n",
        "\n",
        "    self.dropout = tf.keras.layers.Dropout(dropout)\n",
        "      \n",
        "  def call(self, x, mask):\n",
        "\n",
        "    \"\"\"\n",
        "    Multi-Head Attention\n",
        "    \"\"\"\n",
        "    residual = x\n",
        "    out = self.norm_1(x) # normalization 위치 이슈\n",
        "    out, enc_attn = self.enc_self_attn(out, out, out, mask)\n",
        "    out = self.dropout(out)\n",
        "    out += residual\n",
        "    \n",
        "    \"\"\"\n",
        "    Position-Wise Feed Forward Network\n",
        "    \"\"\"\n",
        "    residual = out\n",
        "    out = self.norm_2(out)\n",
        "    out = self.ffn(out)\n",
        "    out = self.dropout(out)\n",
        "    out += residual\n",
        "    \n",
        "    return out, enc_attn"
      ],
      "metadata": {
        "id": "TCqwKe6nTUoa"
      },
      "execution_count": null,
      "outputs": []
    },
    {
      "cell_type": "markdown",
      "source": [
        "[Normalization 위치 관련 논문](https://arxiv.org/pdf/2002.04745.pdf)"
      ],
      "metadata": {
        "id": "6dKMFyFeUcw3"
      }
    },
    {
      "cell_type": "markdown",
      "source": [
        "## decoder"
      ],
      "metadata": {
        "id": "Jgmf6LYjUqZu"
      }
    },
    {
      "cell_type": "code",
      "source": [
        "class DecoderLayer(tf.keras.layers.Layer):\n",
        "  def __init__(self, d_model, num_heads, d_ff, dropout):\n",
        "    super(DecoderLayer, self).__init__()\n",
        "\n",
        "    self.dec_self_attn = MultiHeadAttention(d_model, num_heads)\n",
        "    self.enc_dec_attn = MultiHeadAttention(d_model, num_heads)\n",
        "\n",
        "    self.ffn = PoswiseFeedForwardNet(d_model, d_ff)\n",
        "\n",
        "    self.norm_1 = tf.keras.layers.LayerNormalization(epsilon=1e-6)\n",
        "    self.norm_2 = tf.keras.layers.LayerNormalization(epsilon=1e-6)\n",
        "    self.norm_3 = tf.keras.layers.LayerNormalization(epsilon=1e-6)\n",
        "\n",
        "    self.dropout = tf.keras.layers.Dropout(dropout)\n",
        "    \n",
        "  def call(self, x, enc_out, causality_mask, padding_mask):\n",
        "    \"\"\"\n",
        "    Masked Multi-Head Attention\n",
        "    \"\"\"\n",
        "    residual = x\n",
        "    out = self.norm_1(x)\n",
        "    out, dec_attn = self.dec_self_attn(out, out, out, padding_mask)\n",
        "    out = self.dropout(out)\n",
        "    out += residual\n",
        "\n",
        "    \"\"\"\n",
        "    Multi-Head Attention\n",
        "    \"\"\"\n",
        "    residual = out\n",
        "    out = self.norm_2(out)\n",
        "    out, dec_enc_attn = self.enc_dec_attn(out, enc_out, enc_out, causality_mask)\n",
        "    out = self.dropout(out)\n",
        "    out += residual\n",
        "    \n",
        "    \"\"\"\n",
        "    Position-Wise Feed Forward Network\n",
        "    \"\"\"\n",
        "    residual = out\n",
        "    out = self.norm_3(out)\n",
        "    out = self.ffn(out)\n",
        "    out = self.dropout(out)\n",
        "    out += residual\n",
        "\n",
        "    return out, dec_attn, dec_enc_attn"
      ],
      "metadata": {
        "id": "1JTuYWIjUrq5"
      },
      "execution_count": null,
      "outputs": []
    },
    {
      "cell_type": "code",
      "source": [
        "class Encoder(tf.keras.Model):\n",
        "  def __init__(self, n_layers, d_model, n_heads, d_ff, dropout):\n",
        "    super(Encoder, self).__init__()\n",
        "    self.n_layers = n_layers\n",
        "    self.enc_layers = [EncoderLayer(d_model, n_heads, d_ff, dropout) for _ in range(n_layers)]\n",
        "      \n",
        "  def call(self, x, mask):\n",
        "    out = x\n",
        "\n",
        "    enc_attns = list()\n",
        "    for i in range(self.n_layers):\n",
        "      out, enc_attn = self.enc_layers[i](out, mask)\n",
        "      enc_attns.append(enc_attn)\n",
        "    \n",
        "    return out, enc_attns"
      ],
      "metadata": {
        "id": "rhTOP0PbWDUs"
      },
      "execution_count": null,
      "outputs": []
    },
    {
      "cell_type": "code",
      "source": [
        "class Decoder(tf.keras.Model):\n",
        "  def __init__(self, n_layers, d_model, n_heads, d_ff, dropout):\n",
        "    super(Decoder, self).__init__()\n",
        "    self.n_layers = n_layers\n",
        "    self.dec_layers = [DecoderLayer(d_model, n_heads, d_ff, dropout) for _ in range(n_layers)]\n",
        "                            \n",
        "                            \n",
        "  def call(self, x, enc_out, causality_mask, padding_mask):\n",
        "      out = x\n",
        "  \n",
        "      dec_attns = list()\n",
        "      dec_enc_attns = list()\n",
        "      for i in range(self.n_layers):\n",
        "        out, dec_attn, dec_enc_attn = \\\n",
        "        self.dec_layers[i](out, enc_out, causality_mask, padding_mask)\n",
        "\n",
        "        dec_attns.append(dec_attn)\n",
        "        dec_enc_attns.append(dec_enc_attn)\n",
        "\n",
        "      return out, dec_attns, dec_enc_attns"
      ],
      "metadata": {
        "id": "-RnwDe2hWTQU"
      },
      "execution_count": null,
      "outputs": []
    },
    {
      "cell_type": "markdown",
      "source": [
        "## Transformer 완성"
      ],
      "metadata": {
        "id": "q3IQcPzPWDEK"
      }
    },
    {
      "cell_type": "code",
      "source": [
        "class Transformer(tf.keras.Model):\n",
        "  def __init__(self, n_layers, d_model, n_heads, d_ff, src_vocab_size, tgt_vocab_size, pos_len, dropout=0.2, shared=True):\n",
        "    super(Transformer, self).__init__()\n",
        "    self.d_model = tf.cast(d_model, tf.float32)\n",
        "\n",
        "    self.enc_emb = tf.keras.layers.Embedding(src_vocab_size, d_model)\n",
        "    self.dec_emb = tf.keras.layers.Embedding(tgt_vocab_size, d_model)\n",
        "\n",
        "    self.pos_encoding = positional_encoding(pos_len, d_model)\n",
        "    self.dropout = tf.keras.layers.Dropout(dropout)\n",
        "\n",
        "    self.encoder = Encoder(n_layers, d_model, n_heads, d_ff, dropout)\n",
        "    self.decoder = Decoder(n_layers, d_model, n_heads, d_ff, dropout)\n",
        "\n",
        "    self.fc = tf.keras.layers.Dense(tgt_vocab_size)\n",
        "\n",
        "    self.shared = shared\n",
        "\n",
        "    if shared: self.fc.set_weights(tf.transpose(self.dec_emb.weights))\n",
        "\n",
        "  def embedding(self, emb, x):\n",
        "    seq_len = x.shape[1]\n",
        "    out = emb(x)\n",
        "\n",
        "    if self.shared: out *= tf.math.sqrt(self.d_model)\n",
        "\n",
        "    out += self.pos_encoding[np.newaxis, ...][:, :seq_len, :]\n",
        "    out = self.dropout(out)\n",
        "\n",
        "    return out\n",
        "\n",
        "        \n",
        "  def call(self, enc_in, dec_in, enc_mask, causality_mask, dec_mask):\n",
        "    enc_in = self.embedding(self.enc_emb, enc_in)\n",
        "    dec_in = self.embedding(self.dec_emb, dec_in)\n",
        "\n",
        "    enc_out, enc_attns = self.encoder(enc_in, enc_mask)\n",
        "    \n",
        "    dec_out, dec_attns, dec_enc_attns = \\\n",
        "    self.decoder(dec_in, enc_out, causality_mask, dec_mask)\n",
        "    \n",
        "    logits = self.fc(dec_out)\n",
        "    \n",
        "    return logits, enc_attns, dec_attns, dec_enc_attns"
      ],
      "metadata": {
        "id": "zsVpB5nFWnsu"
      },
      "execution_count": null,
      "outputs": []
    },
    {
      "cell_type": "markdown",
      "source": [
        "# 모델 밖의 조력자들"
      ],
      "metadata": {
        "id": "rqmULWeOXIdJ"
      }
    },
    {
      "cell_type": "markdown",
      "source": [
        "## Masking"
      ],
      "metadata": {
        "id": "G5HV5dkTXKF7"
      }
    },
    {
      "cell_type": "code",
      "source": [
        "import numpy as np\n",
        "import tensorflow as tf\n",
        "\n",
        "def generate_padding_mask(seq):\n",
        "  seq = tf.cast(tf.math.equal(seq, 0), tf.float32)\n",
        "  return seq[:, tf.newaxis, tf.newaxis, :]\n",
        "\n",
        "def generate_causality_mask(src_len, tgt_len):\n",
        "  mask = 1 - np.cumsum(np.eye(src_len, tgt_len), 0)\n",
        "  return tf.cast(mask, tf.float32)\n",
        "\n",
        "def generate_masks(src, tgt):\n",
        "  enc_mask = generate_padding_mask(src)\n",
        "  dec_mask = generate_padding_mask(tgt)\n",
        "\n",
        "  dec_enc_causality_mask = generate_causality_mask(tgt.shape[1], src.shape[1])\n",
        "  dec_enc_mask = tf.maximum(enc_mask, dec_enc_causality_mask)\n",
        "\n",
        "  dec_causality_mask = generate_causality_mask(tgt.shape[1], tgt.shape[1])\n",
        "  dec_mask = tf.maximum(dec_mask, dec_causality_mask)\n",
        "\n",
        "  return enc_mask, dec_enc_mask, dec_mask"
      ],
      "metadata": {
        "id": "VRB4PurRXNiQ"
      },
      "execution_count": 2,
      "outputs": []
    },
    {
      "cell_type": "code",
      "source": [
        "import matplotlib.pyplot as plt\n",
        "\n",
        "batch, length = 16, 20\n",
        "src_padding = 5\n",
        "tgt_padding = 15\n",
        "\n",
        "src_pad = tf.zeros(shape=(batch, src_padding))\n",
        "tgt_pad = tf.zeros(shape=(batch, tgt_padding))\n",
        "\n",
        "sample_data = tf.ones(shape=(batch, length))\n",
        "\n",
        "sample_src = tf.concat([sample_data, src_pad], axis=-1)\n",
        "sample_tgt = tf.concat([sample_data, tgt_pad], axis=-1)\n",
        "\n",
        "enc_mask, dec_enc_mask, dec_mask = \\\n",
        "generate_masks(sample_src, sample_tgt)\n",
        "\n",
        "fig = plt.figure(figsize=(7, 7))\n",
        "\n",
        "ax1 = fig.add_subplot(131)\n",
        "ax2 = fig.add_subplot(132)\n",
        "ax3 = fig.add_subplot(133)\n",
        "\n",
        "ax1.set_title('1) Encoder Mask')\n",
        "ax2.set_title('2) Encoder-Decoder Mask')\n",
        "ax3.set_title('3) Decoder Mask')\n",
        "\n",
        "ax1.imshow(enc_mask[:3, 0, 0].numpy(), cmap='Dark2')\n",
        "ax2.imshow(dec_enc_mask[0, 0].numpy(), cmap='Dark2')\n",
        "ax3.imshow(dec_mask[0, 0].numpy(), cmap='Dark2')\n",
        "\n",
        "plt.show()"
      ],
      "metadata": {
        "colab": {
          "base_uri": "https://localhost:8080/",
          "height": 225
        },
        "id": "gk3EiLHrXSYR",
        "outputId": "3d50f0a0-7a28-4fff-bce5-9c4f2243408c"
      },
      "execution_count": 3,
      "outputs": [
        {
          "output_type": "display_data",
          "data": {
            "text/plain": [
              "<Figure size 504x504 with 3 Axes>"
            ],
            "image/png": "[encoded data removed]"
          },
          "metadata": {
            "needs_background": "light"
          }
        }
      ]
    },
    {
      "cell_type": "markdown",
      "source": [
        "## Learning Rate Schedualer"
      ],
      "metadata": {
        "id": "Y2KDuwRgZ56k"
      }
    },
    {
      "cell_type": "code",
      "source": [
        "class LearningRateScheduler(tf.keras.optimizers.schedules.LearningRateSchedule):\n",
        "  def __init__(self, d_model, warmup_steps=4000):\n",
        "    super(LearningRateScheduler, self).__init__()\n",
        "    self.d_model = d_model\n",
        "    self.warmup_steps = warmup_steps\n",
        "  \n",
        "  def __call__(self, step):\n",
        "    arg1 = step ** -0.5\n",
        "    arg2 = step * (self.warmup_steps ** -1.5)\n",
        "    \n",
        "    return (self.d_model ** -0.5) * tf.math.minimum(arg1, arg2)\n",
        "\n",
        "learning_rate = LearningRateScheduler(512)\n",
        "optimizer = tf.keras.optimizers.Adam(learning_rate, beta_1=0.9, beta_2=0.98, epsilon=1e-9)"
      ],
      "metadata": {
        "id": "C9G1y--9YWvE"
      },
      "execution_count": 4,
      "outputs": []
    },
    {
      "cell_type": "markdown",
      "source": [
        "# Project"
      ],
      "metadata": {
        "id": "r6FbJu3yaRrp"
      }
    },
    {
      "cell_type": "code",
      "source": [
        "import tensorflow\n",
        "import numpy\n",
        "import matplotlib"
      ],
      "metadata": {
        "id": "o9RBejIiaT5Y"
      },
      "execution_count": 1,
      "outputs": []
    },
    {
      "cell_type": "code",
      "source": [
        "!wget https://github.com/jungyeul/korean-parallel-corpora/raw/master/korean-english-news-v1/korean-english-park.train.tar.gz"
      ],
      "metadata": {
        "colab": {
          "base_uri": "https://localhost:8080/"
        },
        "id": "EigavJPuaYEY",
        "outputId": "4548c37f-6181-4a53-e387-f253bfc1ac74"
      },
      "execution_count": 2,
      "outputs": [
        {
          "output_type": "stream",
          "name": "stdout",
          "text": [
            "--2022-10-02 06:55:36--  https://github.com/jungyeul/korean-parallel-corpora/raw/master/korean-english-news-v1/korean-english-park.train.tar.gz\n",
            "Resolving github.com (github.com)... 192.30.255.112\n",
            "Connecting to github.com (github.com)|192.30.255.112|:443... connected.\n",
            "HTTP request sent, awaiting response... 302 Found\n",
            "Location: https://raw.githubusercontent.com/jungyeul/korean-parallel-corpora/master/korean-english-news-v1/korean-english-park.train.tar.gz [following]\n",
            "--2022-10-02 06:55:37--  https://raw.githubusercontent.com/jungyeul/korean-parallel-corpora/master/korean-english-news-v1/korean-english-park.train.tar.gz\n",
            "Resolving raw.githubusercontent.com (raw.githubusercontent.com)... 185.199.108.133, 185.199.109.133, 185.199.110.133, ...\n",
            "Connecting to raw.githubusercontent.com (raw.githubusercontent.com)|185.199.108.133|:443... connected.\n",
            "HTTP request sent, awaiting response... 200 OK\n",
            "Length: 8718893 (8.3M) [application/octet-stream]\n",
            "Saving to: ‘korean-english-park.train.tar.gz’\n",
            "\n",
            "korean-english-park 100%[===================>]   8.31M  --.-KB/s    in 0.06s   \n",
            "\n",
            "2022-10-02 06:55:37 (142 MB/s) - ‘korean-english-park.train.tar.gz’ saved [8718893/8718893]\n",
            "\n"
          ]
        }
      ]
    },
    {
      "cell_type": "code",
      "source": [
        "!tar -xzvf korean-english-park.train.tar.gz"
      ],
      "metadata": {
        "colab": {
          "base_uri": "https://localhost:8080/"
        },
        "id": "NphbwTa9aqTT",
        "outputId": "349250b2-1c97-4b93-e191-468714c4f068"
      },
      "execution_count": 3,
      "outputs": [
        {
          "output_type": "stream",
          "name": "stdout",
          "text": [
            "korean-english-park.train.en\n",
            "korean-english-park.train.ko\n"
          ]
        }
      ]
    },
    {
      "cell_type": "code",
      "source": [
        "data_dir = '.'\n",
        "kor_path = data_dir+\"/korean-english-park.train.ko\"\n",
        "eng_path = data_dir+\"/korean-english-park.train.en\"\n",
        "\n",
        "# 데이터 정제 및 토큰화\n",
        "def clean_corpus(kor_path, eng_path):\n",
        "  with open(kor_path, \"r\") as f: kor = f.read().splitlines()\n",
        "  with open(eng_path, \"r\") as f: eng = f.read().splitlines()\n",
        "  assert len(kor) == len(eng)\n",
        "  kor = set(kor)\n",
        "  eng = set(eng)\n",
        "\n",
        "  return cleaned_corpus\n",
        "\n",
        "cleaned_corpus = clean_corpus(kor_path, eng_path)"
      ],
      "metadata": {
        "colab": {
          "base_uri": "https://localhost:8080/",
          "height": 330
        },
        "id": "gXkRUbjZeq_d",
        "outputId": "3cd04652-737e-43f2-f2c7-d1d5edd4dae3"
      },
      "execution_count": 5,
      "outputs": [
        {
          "output_type": "error",
          "ename": "NameError",
          "evalue": "ignored",
          "traceback": [
            "\u001b[0;31m---------------------------------------------------------------------------\u001b[0m",
            "\u001b[0;31mNameError\u001b[0m                                 Traceback (most recent call last)",
            "\u001b[0;32m<ipython-input-5-de794858a87a>\u001b[0m in \u001b[0;36m<module>\u001b[0;34m\u001b[0m\n\u001b[1;32m     13\u001b[0m     \u001b[0;32mreturn\u001b[0m \u001b[0mcleaned_corpus\u001b[0m\u001b[0;34m\u001b[0m\u001b[0;34m\u001b[0m\u001b[0m\n\u001b[1;32m     14\u001b[0m \u001b[0;34m\u001b[0m\u001b[0m\n\u001b[0;32m---> 15\u001b[0;31m \u001b[0mcleaned_corpus\u001b[0m \u001b[0;34m=\u001b[0m \u001b[0mclean_corpus\u001b[0m\u001b[0;34m(\u001b[0m\u001b[0mkor_path\u001b[0m\u001b[0;34m,\u001b[0m \u001b[0meng_path\u001b[0m\u001b[0;34m)\u001b[0m\u001b[0;34m\u001b[0m\u001b[0;34m\u001b[0m\u001b[0m\n\u001b[0m",
            "\u001b[0;32m<ipython-input-5-de794858a87a>\u001b[0m in \u001b[0;36mclean_corpus\u001b[0;34m(kor_path, eng_path)\u001b[0m\n\u001b[1;32m     11\u001b[0m     \u001b[0;31m# [[YOUR CODE]]\u001b[0m\u001b[0;34m\u001b[0m\u001b[0;34m\u001b[0m\u001b[0;34m\u001b[0m\u001b[0m\n\u001b[1;32m     12\u001b[0m \u001b[0;34m\u001b[0m\u001b[0m\n\u001b[0;32m---> 13\u001b[0;31m     \u001b[0;32mreturn\u001b[0m \u001b[0mcleaned_corpus\u001b[0m\u001b[0;34m\u001b[0m\u001b[0;34m\u001b[0m\u001b[0m\n\u001b[0m\u001b[1;32m     14\u001b[0m \u001b[0;34m\u001b[0m\u001b[0m\n\u001b[1;32m     15\u001b[0m \u001b[0mcleaned_corpus\u001b[0m \u001b[0;34m=\u001b[0m \u001b[0mclean_corpus\u001b[0m\u001b[0;34m(\u001b[0m\u001b[0mkor_path\u001b[0m\u001b[0;34m,\u001b[0m \u001b[0meng_path\u001b[0m\u001b[0;34m)\u001b[0m\u001b[0;34m\u001b[0m\u001b[0;34m\u001b[0m\u001b[0m\n",
            "\u001b[0;31mNameError\u001b[0m: name 'cleaned_corpus' is not defined"
          ]
        }
      ]
    }
  ]
}