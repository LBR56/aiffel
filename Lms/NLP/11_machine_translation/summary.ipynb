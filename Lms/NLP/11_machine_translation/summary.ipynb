{
  "nbformat": 4,
  "nbformat_minor": 0,
  "metadata": {
    "colab": {
      "provenance": [],
      "collapsed_sections": []
    },
    "kernelspec": {
      "name": "python3",
      "display_name": "Python 3"
    },
    "language_info": {
      "name": "python"
    }
  },
  "cells": [
    {
      "cell_type": "markdown",
      "source": [
        "# 기계 번역이 걸어온 길"
      ],
      "metadata": {
        "id": "ecI9Wb3WiN12"
      }
    },
    {
      "cell_type": "markdown",
      "source": [
        "번역 모델이 발전해 온 과정을 살펴보고, 번역을 생성하는 여러 가지 방법을 소개합니다. 자연어 처리에서 DATA Augmentation을 어떻게 할 수 있는지, 자연어 처리 성능은 어떻게 측정할 수 있는지 알아봅니다. 기계 번역과 뗄 수 없는 챗봇도 간단히 공부합니다.\n"
      ],
      "metadata": {
        "id": "wKTL5LeviPaA"
      }
    },
    {
      "cell_type": "markdown",
      "source": [
        "- 들어가며\n",
        "- 번역의 흐름\n",
        "- 지적 생성을 위한 넓고 얕은 탐색\n",
        "  - greedy decoding\n",
        "  - beam search\n",
        "  - sampling\n",
        "- 방과 후 번역 수업\n",
        "  - data augmentation\n",
        "  - lexical substitution\n",
        "  - back translation\n",
        "  - random noise injection\n",
        "- metric\n",
        "- 챗봇\n",
        "  - 챗봇과 번역\n",
        "  - 좋은 챗봇이란?\n",
        "  - 대표 챗봇"
      ],
      "metadata": {
        "id": "xDWAjJr8iUGv"
      }
    },
    {
      "cell_type": "markdown",
      "source": [
        "# 들어가며"
      ],
      "metadata": {
        "id": "QI0gzxHKfCf6"
      }
    },
    {
      "cell_type": "markdown",
      "source": [
        "학습 목표\n",
        "\n",
        "- 번역 모델 발전 과정\n",
        "- 번역 생성 방법\n",
        "- 더 높은 성능을 위해서\n",
        "- 성능 측정 지표"
      ],
      "metadata": {
        "id": "iQDmdRU76K6V"
      }
    },
    {
      "cell_type": "markdown",
      "source": [
        "# 번역의 흐름"
      ],
      "metadata": {
        "id": "yu-esbX56S24"
      }
    },
    {
      "cell_type": "markdown",
      "source": [
        "Machine Translation == MT\n",
        "\n",
        "|[규칙 기반 기계 번역](https://m.blog.naver.com/newheater/221763031420)|[통계적 기계 번역](https://wikidocs.net/21687)|\n",
        "|:-:|:-:|\n",
        "|Rule-Based MT|Statistical MT|\n",
        "|규칙을 정함|예측 확률 계산|\n",
        "|유연성 결여, 복잡성, 개발 시간||\n",
        "|나는 -> I am|$$p(1|I) * p(1|1, 2) * p(나|I)$$|\n",
        "\n",
        "[SMT 추가 설명](https://en.wikipedia.org/wiki/Statistical_machine_translation)\n",
        "\n",
        "$$ p(번역 단어 갯수|원문 단어) * p(번역 단어 위치|원문 단어 위치, 번역문 길이) * p(번역 단어|원문 단어$$\n"
      ],
      "metadata": {
        "id": "93tmOksl6TmB"
      }
    },
    {
      "cell_type": "markdown",
      "source": [
        "# 지적 생성을 위한 넓고 얕은 탐색"
      ],
      "metadata": {
        "id": "OAMJLh_nEVaq"
      }
    },
    {
      "cell_type": "markdown",
      "source": [
        "## Greedy Decoding"
      ],
      "metadata": {
        "id": "0xeQ1x1VEXpp"
      }
    },
    {
      "cell_type": "markdown",
      "source": [
        "![https://en.wikipedia.org/wiki/Greedy_algorithm](https://upload.wikimedia.org/wikipedia/commons/8/8c/Greedy-search-path-example.gif)\n",
        "\n",
        "가장 높은 확률을 갖는 단어가 다음 단어로!\n",
        "\n",
        "have -> 가지다?, 마시다?\n",
        "\n",
        "대부분 가지다라고 사용됨\n",
        "\n",
        "$$O(V^L)$$"
      ],
      "metadata": {
        "id": "-rWnBA9oFo6o"
      }
    },
    {
      "cell_type": "markdown",
      "source": [
        "## Bean Search"
      ],
      "metadata": {
        "id": "wTcQyWZNGwOl"
      }
    },
    {
      "cell_type": "markdown",
      "source": [],
      "metadata": {
        "id": "gsy3OE_BG0xj"
      }
    },
    {
      "cell_type": "code",
      "execution_count": 1,
      "metadata": {
        "id": "JZG6WVTeiIoD"
      },
      "outputs": [],
      "source": [
        "import math\n",
        "import numpy as np\n",
        "\n",
        "def beam_search_decoder(prob, beam_size):\n",
        "  sequences = [[[], 1.0]]  # 생성된 문장과 점수를 저장\n",
        "\n",
        "  for tok in prob:\n",
        "    all_candidates = []\n",
        "\n",
        "    for seq, score in sequences:\n",
        "      for idx, p in enumerate(tok): # 각 단어의 확률을 총점에 누적 곱\n",
        "        candidate = [seq + [idx], score * -math.log(-(p-1))]\n",
        "        all_candidates.append(candidate)\n",
        "\n",
        "    ordered = sorted(all_candidates,\n",
        "                    key=lambda tup:tup[1],\n",
        "                    reverse=True) # 총점 순 정렬\n",
        "    sequences = ordered[:beam_size] # Beam Size에 해당하는 문장만 저장 \n",
        "\n",
        "  return sequences"
      ]
    },
    {
      "cell_type": "code",
      "source": [
        "vocab = {\n",
        "    0: \"<pad>\",\n",
        "    1: \"까요?\",\n",
        "    2: \"커피\",\n",
        "    3: \"마셔\",\n",
        "    4: \"가져\",\n",
        "    5: \"될\",\n",
        "    6: \"를\",\n",
        "    7: \"한\",\n",
        "    8: \"잔\",\n",
        "    9: \"도\",\n",
        "}\n",
        "\n",
        "# row가 vocab\n",
        "# col이 순간\n",
        "\n",
        "prob_seq = [[0.01, 0.01, 0.60, 0.32, 0.01, 0.01, 0.01, 0.01, 0.01, 0.01],\n",
        "            [0.01, 0.01, 0.01, 0.01, 0.01, 0.01, 0.75, 0.01, 0.01, 0.17],\n",
        "            [0.01, 0.01, 0.01, 0.35, 0.48, 0.10, 0.01, 0.01, 0.01, 0.01],\n",
        "            [0.24, 0.01, 0.01, 0.01, 0.01, 0.01, 0.01, 0.01, 0.01, 0.68],\n",
        "            [0.01, 0.01, 0.12, 0.01, 0.01, 0.80, 0.01, 0.01, 0.01, 0.01],\n",
        "            [0.01, 0.81, 0.01, 0.01, 0.01, 0.01, 0.11, 0.01, 0.01, 0.01],\n",
        "            [0.70, 0.22, 0.01, 0.01, 0.01, 0.01, 0.01, 0.01, 0.01, 0.01],\n",
        "            [0.91, 0.01, 0.01, 0.01, 0.01, 0.01, 0.01, 0.01, 0.01, 0.01],\n",
        "            [0.91, 0.01, 0.01, 0.01, 0.01, 0.01, 0.01, 0.01, 0.01, 0.01],\n",
        "            [0.91, 0.01, 0.01, 0.01, 0.01, 0.01, 0.01, 0.01, 0.01, 0.01]]\n",
        "\n",
        "prob_seq = np.array(prob_seq)\n",
        "beam_size = 3\n",
        "\n",
        "result = beam_search_decoder(prob_seq, beam_size)\n",
        "\n",
        "for seq, score in result:\n",
        "  sentence = \"\"\n",
        "\n",
        "  for word in seq:\n",
        "    sentence += vocab[word] + \" \"\n",
        "\n",
        "  print(sentence, \"// Score: %.4f\" % score)\n"
      ],
      "metadata": {
        "colab": {
          "base_uri": "https://localhost:8080/"
        },
        "id": "HPjZqHrZIL5i",
        "outputId": "45e14164-6cf6-4b85-c523-8777c8b33939"
      },
      "execution_count": 2,
      "outputs": [
        {
          "output_type": "stream",
          "name": "stdout",
          "text": [
            "커피 를 가져 도 될 까요? <pad> <pad> <pad> <pad>  // Score: 42.5243\n",
            "커피 를 마셔 도 될 까요? <pad> <pad> <pad> <pad>  // Score: 28.0135\n",
            "마셔 를 가져 도 될 까요? <pad> <pad> <pad> <pad>  // Score: 17.8983\n"
          ]
        }
      ]
    },
    {
      "cell_type": "markdown",
      "source": [
        "![https://towardsdatascience.com/foundations-of-nlp-explained-visually-beam-search-how-it-works-1586b9849a24](https://miro.medium.com/max/1400/1*tEjhWqUgjX37VnT7gJN-4g.png)\n",
        "\n",
        "모델 학습 단계에서 Beam Search를 사용하지는 않음"
      ],
      "metadata": {
        "id": "yH8-PXZu_V0H"
      }
    },
    {
      "cell_type": "markdown",
      "source": [
        "## [Sampling](https://towardsdatascience.com/decoding-strategies-that-you-need-to-know-for-response-generation-ba95ee0faadc)"
      ],
      "metadata": {
        "id": "iMKxxC-zAlUi"
      }
    },
    {
      "cell_type": "markdown",
      "source": [
        "![https://towardsdatascience.com/decoding-strategies-that-you-need-to-know-for-response-generation-ba95ee0faadc](https://miro.medium.com/max/1400/1*qC-KFHQLToPASxawmUPWLQ.png)\n",
        "\n",
        "확률적으로 다양한 단어를 뽑음\n",
        "\n",
        "확률 분포를 따라가기 때문에, 뜬금없는 문장 생성을 피함\n",
        "\n",
        "서비스 불가"
      ],
      "metadata": {
        "id": "l1XezZUSAoKL"
      }
    },
    {
      "cell_type": "markdown",
      "source": [
        "# [Data Augmentation](https://nittaku.tistory.com/272)"
      ],
      "metadata": {
        "id": "yt8ELhdFCIrK"
      }
    },
    {
      "cell_type": "markdown",
      "source": [
        "이미지는 직관적인 다양한 방법이 존재함\n",
        "\n",
        "- 좌우 반전 (Flipping과 중복): 이미지를 좌우로 반전시킨다.\n",
        "- Crop: 이미지의 특정 부분을 잘라낸다.\n",
        "- 밝기 조절: 이미지의 밝기를 변화시킨다.\n",
        "- Rotation: 이미지를 0 ~ 360도 회전시킨다.\n",
        "- Shifting: 이미지를 약 10px 움직인다. 끝단이 잘려 나가는 효과가 있다.\n",
        "- Rescaling: 이미지를 1.0 ~ 1.6배 키운다.\n",
        "- Flipping: 이미지를 상하 / 좌우 반전을 한다.\n",
        "- Shearing: 약 -20 ~ 20도 정도로 이미지를 찌그러트린다.\n",
        "- Stretching: 이미지를 가로 / 세로 약 1.0 ~ 1.3배 늘린다."
      ],
      "metadata": {
        "id": "aIKrMBK3Cr5h"
      }
    },
    {
      "cell_type": "markdown",
      "source": [
        "## Lexical Substitution"
      ],
      "metadata": {
        "id": "EWsixsHKCQ50"
      }
    },
    {
      "cell_type": "markdown",
      "source": [
        "어휘 대체"
      ],
      "metadata": {
        "id": "cEuoXgs9DF4J"
      }
    },
    {
      "cell_type": "markdown",
      "source": [
        "### 동의어 기반 대체"
      ],
      "metadata": {
        "id": "uVuwH5lEDJKA"
      }
    },
    {
      "cell_type": "markdown",
      "source": [
        "시소러스(Thesaurus)란, 어떤 단어의 동의어나 유의어를 집중적으로 구축해놓은 사전!\n",
        "\n",
        "[워드넷](https://kh-kim.gitbook.io/natural-language-processing-with-pytorch/00-cover-4/03-wordnet)\n",
        "\n",
        "[speech and language processing](https://web.stanford.edu/~jurafsky/slp3/ed3book.pdf)\n",
        "\n",
        "[korlex](http://korlex.pusan.ac.kr/search/WebApplication2/KorLex_SearchPage.aspx)\n",
        "\n",
        "모든 것을 사람이 구축해야함"
      ],
      "metadata": {
        "id": "0ng-CheIDK0X"
      }
    },
    {
      "cell_type": "markdown",
      "source": [
        "### Embedding 활용 대체"
      ],
      "metadata": {
        "id": "aIjO-Rs1hBUf"
      }
    },
    {
      "cell_type": "markdown",
      "source": [
        "Pre-training Word Embedding을 사용하여, 단어를 대체함\n",
        "\n",
        "![https://medium.com/@hari4om/word-embedding-d816f643140](https://miro.medium.com/max/1400/1*sAJdxEsDjsPMioHyzlN3_A.png)"
      ],
      "metadata": {
        "id": "rekHQ8FchHzt"
      }
    },
    {
      "cell_type": "markdown",
      "source": [
        "### TF-IDF 기반 대체"
      ],
      "metadata": {
        "id": "-K4ilLRLt-1S"
      }
    },
    {
      "cell_type": "markdown",
      "source": [
        "TF-IDF에서 중요도가 높은 내용을 변경하지 않고,낮은 내용을 선별적으로 변경함"
      ],
      "metadata": {
        "id": "7YfVNW4wuBPD"
      }
    },
    {
      "cell_type": "markdown",
      "source": [
        "## [Back Translation](https://dev-sngwn.github.io/2020-01-07-back-translation/)"
      ],
      "metadata": {
        "id": "7inN1QaaxMyj"
      }
    },
    {
      "cell_type": "markdown",
      "source": [
        "![](https://raw.githubusercontent.com/dev-sngwn/dev-sngwn.github.io/master/_posts/assets/2020-01-07-back-translation/03_flu.png)\n",
        "\n",
        "유창하게 만들자!\n",
        "\n",
        "target에만 의존하게 되겠다?"
      ],
      "metadata": {
        "id": "i249_iLZxOvO"
      }
    },
    {
      "cell_type": "markdown",
      "source": [
        "![](https://raw.githubusercontent.com/dev-sngwn/dev-sngwn.github.io/master/_posts/assets/2020-01-07-back-translation/04_synthetic.png)\n",
        "\n",
        "학습 결과를 토대로 source를 만들자! == Back Trranslation\n",
        "\n",
        "SOTA(state-of-the-art)"
      ],
      "metadata": {
        "id": "dJZCp_H705I0"
      }
    },
    {
      "cell_type": "markdown",
      "source": [
        "## Random Noise Injection"
      ],
      "metadata": {
        "id": "2jc70FPT29N2"
      }
    },
    {
      "cell_type": "markdown",
      "source": [
        "### 오타 노이즈 추가"
      ],
      "metadata": {
        "id": "N9TNjAky3GbV"
      }
    },
    {
      "cell_type": "markdown",
      "source": [
        "![https://zeddios.tistory.com/640](https://t1.daumcdn.net/cfile/tistory/998B68345C0E05C230)\n",
        "\n",
        "ㅋㅋㅋㅋㅋㅋㅌㅌㅋㅋㅋㅋㅌ\n",
        "\n",
        "키보드 상 거리를 기반으로 노이즈 추가"
      ],
      "metadata": {
        "id": "4yQTD1nu3KL2"
      }
    },
    {
      "cell_type": "markdown",
      "source": [
        "### 공백 노이즈 추가"
      ],
      "metadata": {
        "id": "hM4rb22s3_6f"
      }
    },
    {
      "cell_type": "markdown",
      "source": [
        "Placeholder Token(이하 공백 토큰)\n",
        "\n",
        "나는 고양이를 종아한다\n",
        "\n",
        "나는 _ 종아한다\n",
        "\n",
        "학습의 과적합을 방지"
      ],
      "metadata": {
        "id": "M3AekSsJ4BVs"
      }
    },
    {
      "cell_type": "markdown",
      "source": [
        "### 랜덤 유의어 추가"
      ],
      "metadata": {
        "id": "UOwCpV1b4jGo"
      }
    },
    {
      "cell_type": "markdown",
      "source": [
        "유사 단어를 골라 아무렇게 삽입\n",
        "\n"
      ],
      "metadata": {
        "id": "BoYDKmP-4ku_"
      }
    },
    {
      "cell_type": "markdown",
      "source": [
        "# 채점은 어떻게?"
      ],
      "metadata": {
        "id": "ePgXzSYm7q9Q"
      }
    },
    {
      "cell_type": "markdown",
      "source": [
        "BLEU(Bilingual Evaluation Understudy) Score\n",
        "\n",
        "$$BLEU = min(1, \\frac{output\\ length(예측\\ 문장)}{reference\\ length(실제\\ 문장)})(\\prod^4_{i=1}precision_i)^{\\frac{1}{4}}$$\n",
        "\n",
        "\n",
        "'기계가 실제 번역을 얼마나 잘 재현했는가?' 를 평가하는 지표\n",
        "\n",
        "[장단점](https://wikidocs.net/31695)\n",
        "\n",
        "같은 단어 반복 방어, 어순 중요, 짧은 번역 X\n",
        "\n",
        "[GLUE](https://huffon.github.io/2019/11/16/glue/)\n",
        "\n",
        "Fine-Tuning 모델의 경우 좋은 결과물이 나옴"
      ],
      "metadata": {
        "id": "m6Odynng7vME"
      }
    },
    {
      "cell_type": "markdown",
      "source": [
        "# 챗봇!"
      ],
      "metadata": {
        "id": "gwYL7vjaAD5e"
      }
    },
    {
      "cell_type": "markdown",
      "source": [
        "## [챗봇과 번역기](https://norux.me/56)"
      ],
      "metadata": {
        "id": "tw4tCnrxAHZz"
      }
    },
    {
      "cell_type": "markdown",
      "source": [
        "검색 기반 vs 생성 기반\n",
        "\n",
        "Open Domain vs Closed Domain\n",
        "\n",
        "긴 대화 vs 짧은 대화\n",
        "\n",
        "질문에 대한 답변은 결국 수렴함"
      ],
      "metadata": {
        "id": "NLX03huNAKBE"
      }
    },
    {
      "cell_type": "markdown",
      "source": [
        "## 좋은 챗봇"
      ],
      "metadata": {
        "id": "fhF9bkwwB0pE"
      }
    },
    {
      "cell_type": "markdown",
      "source": [
        "### 200ms"
      ],
      "metadata": {
        "id": "2YQa4zJXB-6W"
      }
    },
    {
      "cell_type": "markdown",
      "source": [
        "답변의 공백 마지노선"
      ],
      "metadata": {
        "id": "gZDOWxQ-B__F"
      }
    },
    {
      "cell_type": "markdown",
      "source": [
        "### 시공간을 담은 질문"
      ],
      "metadata": {
        "id": "Ajd4j6tECBTP"
      }
    },
    {
      "cell_type": "markdown",
      "source": [
        "오늘(시간) 대구(공간) 날씨 어때?"
      ],
      "metadata": {
        "id": "3TmIS3GxCEmW"
      }
    },
    {
      "cell_type": "markdown",
      "source": [
        "### [페르소나](https://doc.danbee.ai/blog_005_UX04_persona.html)"
      ],
      "metadata": {
        "id": "mlp8dHZ9CSZH"
      }
    },
    {
      "cell_type": "markdown",
      "source": [
        "제품이나 서비스 목적에 맞게 설정해야함\n",
        "\n",
        "인격의 일관성(Coherent Personality)"
      ],
      "metadata": {
        "id": "y-9eU_31CVbc"
      }
    },
    {
      "cell_type": "markdown",
      "source": [
        "### [대화의 일관성](https://arxiv.org/pdf/1606.01541.pdf)"
      ],
      "metadata": {
        "id": "h4-CFqGwCTer"
      }
    },
    {
      "cell_type": "markdown",
      "source": [
        "쉬운 답변, 새로운 정보, 대화의 일관성을 점수로 강화학습을 진행함\n",
        "\n"
      ],
      "metadata": {
        "id": "3_92sRIBEJoz"
      }
    },
    {
      "cell_type": "markdown",
      "source": [
        "## 대표적인 챗봇"
      ],
      "metadata": {
        "id": "pfz2kCLhE_yv"
      }
    },
    {
      "cell_type": "markdown",
      "source": [
        "### [Meena](https://brunch.co.kr/@synabreu/35)"
      ],
      "metadata": {
        "id": "t--kuUHhFU1W"
      }
    },
    {
      "cell_type": "markdown",
      "source": [
        "### [Blender](https://littlefoxdiary.tistory.com/39)"
      ],
      "metadata": {
        "id": "bwgUsmrQFC3y"
      }
    },
    {
      "cell_type": "markdown",
      "source": [],
      "metadata": {
        "id": "IGaYI2ZkFgGm"
      }
    }
  ]
}