{
  "nbformat": 4,
  "nbformat_minor": 0,
  "metadata": {
    "colab": {
      "provenance": [],
      "collapsed_sections": []
    },
    "kernelspec": {
      "name": "python3",
      "display_name": "Python 3"
    },
    "language_info": {
      "name": "python"
    }
  },
  "cells": [
    {
      "cell_type": "markdown",
      "source": [
        "# Transformer가 나오기까지"
      ],
      "metadata": {
        "id": "VSjCxtGWJ8ry"
      }
    },
    {
      "cell_type": "markdown",
      "source": [
        "어텐션(Attention) 기법을 간단히 복습한 후, 이를 활용한 트랜스포머(Transformer)에 포함된 모듈을 심층적으로 이해한다. 트랜스포머를 발전시키기 위해 적용된 테크닉도 간략히 알아본다.\n"
      ],
      "metadata": {
        "id": "6mpqNzLOJ94P"
      }
    },
    {
      "cell_type": "markdown",
      "source": [
        "- 들어가며\n",
        "- Attention의 역사\n",
        "- Attention Is All You Need!\n",
        "- Positional Encoding\n",
        "- Multi-Head Attention\n",
        "- Position-wise Feed-Forward Networks\n",
        "- Additional Techniques\n",
        "- 트랜스포머, 그 후엔..\n",
        "- 마지막"
      ],
      "metadata": {
        "id": "sTU58mVcKMI-"
      }
    },
    {
      "cell_type": "markdown",
      "source": [
        "# 들어가며"
      ],
      "metadata": {
        "id": "9GXV2HMvKdd9"
      }
    },
    {
      "cell_type": "markdown",
      "source": [
        "모든 내용을 완벽히 이해하시길 ..."
      ],
      "metadata": {
        "id": "MGHMmcV5KfnJ"
      }
    },
    {
      "cell_type": "markdown",
      "source": [
        "# Attention의 역사"
      ],
      "metadata": {
        "id": "QtieNdKFKty0"
      }
    },
    {
      "cell_type": "markdown",
      "source": [
        "[seq2seq 복습](https://wikidocs.net/24996)\n",
        "\n",
        "[Bahdanau Attention 복습](https://eda-ai-lab.tistory.com/157) - [원문](https://towardsdatascience.com/attn-illustrated-attention-5ec4ad276ee3)\n",
        "\n",
        "[Luong Attention 복습](https://hcnoh.github.io/2019-01-01-luong-attention)"
      ],
      "metadata": {
        "id": "HsZoq31fKwMr"
      }
    },
    {
      "cell_type": "markdown",
      "source": [
        "# [Attention Is All You Need!](https://arxiv.org/pdf/1706.03762.pdf)"
      ],
      "metadata": {
        "id": "3huI9TFeMFGF"
      }
    },
    {
      "cell_type": "markdown",
      "source": [
        "RNN(기울기 소실 문제)과 CNN 버리자!\n",
        "\n",
        "논문의 핵심 부분을 나눠서 설명할 예정"
      ],
      "metadata": {
        "id": "_uRNNCNKMImS"
      }
    },
    {
      "cell_type": "markdown",
      "source": [
        "# [Positional Encoding](https://skyjwoo.tistory.com/31)"
      ],
      "metadata": {
        "id": "WkC668PdN8jI"
      }
    },
    {
      "cell_type": "markdown",
      "source": [
        "## 문장에 연속성을 어떻게 부여할 것인가?"
      ],
      "metadata": {
        "id": "EaKTndcbPSgG"
      }
    },
    {
      "cell_type": "markdown",
      "source": [
        "|일정한 범위|일정한 증가|\n",
        "|:-:|:-:|\n",
        "|0, 0.5, 1|0, 1, 2|\n",
        "|0, 0.01, ... , 0.99, 1|0, 1, ..., 99, 100|\n",
        "|단어 간의 거리가 일정하지 않음|값이 매우 커질 수 있음|"
      ],
      "metadata": {
        "id": "f2ODqePaSDUQ"
      }
    },
    {
      "cell_type": "markdown",
      "source": [
        "## 논문에서 생각하는 방법은 무엇인가?"
      ],
      "metadata": {
        "id": "P7L9DyeyWHcb"
      }
    },
    {
      "cell_type": "markdown",
      "source": [
        "Positional Encoding == Sinusoid Embedding\n",
        "\n",
        "$$PE_{(pos, 2i)}=sin(pos/10000^{2i/d_{model}})$$\n",
        "$$PE_{(pos, 2i+1)}=cos(pos/10000^{2i/d_{model}})$$\n",
        "\n",
        "![https://www.researchgate.net/figure/Visualization-of-the-positional-encoding_fig2_346516047](https://www.researchgate.net/publication/346516047/figure/fig2/AS:963822751866897@1606804659871/Visualization-of-the-positional-encoding.png)\n",
        "\n",
        "Positional Embedding\n",
        "\n",
        "![https://velog.io/@crosstar1228/NLPTransformer-Attention-is-all-you-need-%EC%83%85%EC%83%85%EC%9D%B4-%ED%8C%8C%ED%97%A4%EC%B9%98%EA%B8%B0](https://velog.velcdn.com/images%2Fcrosstar1228%2Fpost%2F68fb22d6-71a4-4bd5-81b3-8037acbeb160%2Fimage.png)\n",
        "\n",
        "Embedding의 경우 학습에 과정이 필요!\n"
      ],
      "metadata": {
        "id": "5UPuz_SOWY_G"
      }
    },
    {
      "cell_type": "code",
      "source": [
        "import numpy as np\n",
        "\n",
        "def positional_encoding(pos, d_model):\n",
        "  def cal_angle(position, i):\n",
        "    return position / np.power(10000, int(i) / d_model)\n",
        "\n",
        "  def get_posi_angle_vec(position):\n",
        "    return [cal_angle(position, i) for i in range(d_model)]\n",
        "\n",
        "  sinusoid_table = np.array([get_posi_angle_vec(pos_i) for pos_i in range(pos)])\n",
        "\n",
        "  sinusoid_table[:, 0::2] = np.sin(sinusoid_table[:, 0::2])\n",
        "  sinusoid_table[:, 1::2] = np.cos(sinusoid_table[:, 1::2])\n",
        "\n",
        "  return sinusoid_table"
      ],
      "metadata": {
        "id": "KR080RA5RGDY"
      },
      "execution_count": 3,
      "outputs": []
    },
    {
      "cell_type": "code",
      "source": [
        "import matplotlib.pyplot as plt\n",
        "\n",
        "plt.figure(figsize=(7, 7))\n",
        "plt.imshow(positional_encoding(20, 20), cmap='Blues')\n",
        "plt.show()"
      ],
      "metadata": {
        "colab": {
          "base_uri": "https://localhost:8080/",
          "height": 428
        },
        "id": "DSNUGjq5RHf4",
        "outputId": "72e05187-72e8-4a75-f451-9d7215cf530a"
      },
      "execution_count": 9,
      "outputs": [
        {
          "output_type": "display_data",
          "data": {
            "text/plain": [
              "<Figure size 504x504 with 1 Axes>"
            ],
            "image/png": "[encoded data removed]"
          },
          "metadata": {
            "needs_background": "light"
          }
        }
      ]
    },
    {
      "cell_type": "markdown",
      "source": [
        "# [Multi-Head Attention](https://reniew.github.io/43/)"
      ],
      "metadata": {
        "id": "M4mdUUQKap7o"
      }
    },
    {
      "cell_type": "markdown",
      "source": [
        "![https://wikidocs.net/162098](https://wikidocs.net/images/page/159310/mha_img_original.png)\n",
        "\n",
        "\\+ 인과 관계 마스킹(Causality Masking)"
      ],
      "metadata": {
        "id": "y2zE9KOYbT9e"
      }
    },
    {
      "cell_type": "markdown",
      "source": [
        "## Scaled Dot-Product Attention"
      ],
      "metadata": {
        "id": "JlDG2SuSe5Wg"
      }
    },
    {
      "cell_type": "markdown",
      "source": [
        "- MatMul(Q, K)\n",
        "  - 유사도 분석\n",
        "- Scale\n",
        "  - 값이 커지는 것을 방지함\n",
        "- Mask(opt)\n",
        "  - "
      ],
      "metadata": {
        "id": "o-AiFOtOe866"
      }
    },
    {
      "cell_type": "code",
      "source": [
        "import tensorflow as tf\n",
        "import matplotlib.pyplot as plt\n",
        "\n",
        "def make_dot_product_tensor(shape):\n",
        "  A = tf.random.uniform(shape, minval=-3, maxval=3)\n",
        "  B = tf.transpose(tf.random.uniform(shape, minval=-3, maxval=3), [1, 0])\n",
        "  return tf.tensordot(A, B, axes=1)\n",
        "\n",
        "length = 30\n",
        "big_dim = 1024.\n",
        "small_dim = 10.\n",
        "\n",
        "big_tensor = make_dot_product_tensor((length, int(big_dim)))\n",
        "scaled_big_tensor = big_tensor / tf.sqrt(big_dim)\n",
        "small_tensor = make_dot_product_tensor((length, int(small_dim)))\n",
        "scaled_small_tensor = small_tensor / tf.sqrt(small_dim)\n",
        "\n",
        "fig = plt.figure(figsize=(13, 6))\n",
        "\n",
        "axs = []\n",
        "titles = [\n",
        "  '1) Big Tensor',\n",
        "  '2) Big Tensor(Scaled)',\n",
        "  '3) Small Tensor',\n",
        "  '4) Small Tensor(Scaled)'\n",
        "]\n",
        "\n",
        "datas = [\n",
        "  big_tensor,\n",
        "  scaled_big_tensor,\n",
        "  small_tensor,\n",
        "  scaled_small_tensor\n",
        "]\n",
        "\n",
        "for i in range(4):\n",
        "  axs.append(fig.add_subplot(1,4,i + 1))\n",
        "  axs[-1].set_title(titles[i])\n",
        "  axs[-1].imshow(tf.nn.softmax(datas[i], axis=-1).numpy(), cmap='cividis')\n",
        "\n",
        "plt.show()"
      ],
      "metadata": {
        "colab": {
          "base_uri": "https://localhost:8080/",
          "height": 204
        },
        "id": "0CUPYSmrWCuU",
        "outputId": "de8cf954-2a2f-4bb0-8fdb-caf9f11e3e39"
      },
      "execution_count": 16,
      "outputs": [
        {
          "output_type": "display_data",
          "data": {
            "text/plain": [
              "<Figure size 936x432 with 4 Axes>"
            ],
            "image/png": "[encoded data removed]"
          },
          "metadata": {
            "needs_background": "light"
          }
        }
      ]
    },
    {
      "cell_type": "markdown",
      "source": [
        "선명한 값을 나타낼수록 모델이 단순화 함\n",
        "\n",
        "즉, scaled 한 것이 더 좋음"
      ],
      "metadata": {
        "id": "X_zhOz8siCw7"
      }
    },
    {
      "cell_type": "markdown",
      "source": [
        "## 인과 관계 마스킹(Causality Masking)"
      ],
      "metadata": {
        "id": "f_3qM9p7i9Bb"
      }
    },
    {
      "cell_type": "code",
      "source": [
        "import numpy as np\n",
        "import tensorflow as tf\n",
        "import matplotlib.pyplot as plt\n",
        "\n",
        "def make_dot_product_tensor(shape):\n",
        "    A = tf.random.uniform(shape, minval=-3, maxval=3)\n",
        "    B = tf.transpose(tf.random.uniform(shape, minval=-3, maxval=3), [1, 0])\n",
        "\n",
        "    return tf.tensordot(A, B, axes=1)\n",
        "\n",
        "def generate_causality_mask(seq_len):\n",
        "    mask = 1 - np.cumsum(np.eye(seq_len, seq_len), 0)\n",
        "    return mask\n",
        "\n",
        "sample_tensor = make_dot_product_tensor((20, 512))\n",
        "sample_tensor = sample_tensor / tf.sqrt(512.)\n",
        "\n",
        "mask = generate_causality_mask(sample_tensor.shape[0])\n",
        "\n",
        "fig = plt.figure(figsize=(7, 7))\n",
        "\n",
        "ax1 = fig.add_subplot(121)\n",
        "ax2 = fig.add_subplot(122)\n",
        "\n",
        "ax1.set_title('1) Causality Mask')\n",
        "ax2.set_title('2) Masked Attention')\n",
        "\n",
        "ax1.imshow((tf.ones(sample_tensor.shape) + mask).numpy(), cmap='cividis')\n",
        "\n",
        "mask *= -1e9\n",
        "ax2.imshow(tf.nn.softmax(sample_tensor + mask, axis=-1).numpy(), cmap='cividis')\n",
        "\n",
        "plt.show()"
      ],
      "metadata": {
        "colab": {
          "base_uri": "https://localhost:8080/",
          "height": 241
        },
        "id": "xSmx8jK2WBgQ",
        "outputId": "c9c14aa3-bff3-4d1b-8072-6df421ae75fc"
      },
      "execution_count": 17,
      "outputs": [
        {
          "output_type": "display_data",
          "data": {
            "text/plain": [
              "<Figure size 504x504 with 2 Axes>"
            ],
            "image/png": "[encoded data removed]"
          },
          "metadata": {
            "needs_background": "light"
          }
        }
      ]
    },
    {
      "cell_type": "markdown",
      "source": [
        "마스킹된 값은 softmax에서 0이 될 것임으로, 역전파 값이 0이 됨\n",
        "\n",
        "![https://peterbloem.nl/blog/transformers](https://peterbloem.nl/files/transformers/masked-attention.svg)\n",
        "\n",
        "현재 정보에 미래 정보가 들어가지 않음"
      ],
      "metadata": {
        "id": "sTd12l6RjFIJ"
      }
    },
    {
      "cell_type": "markdown",
      "source": [
        "## Multi-Head Attention"
      ],
      "metadata": {
        "id": "kwnDJ0ArkFGt"
      }
    },
    {
      "cell_type": "markdown",
      "source": [
        "![https://www.youtube.com/watch?v=mMa2PmYJlCo](https://i.ytimg.com/vi/mMa2PmYJlCo/maxresdefault.jpg)\n",
        "\n",
        "각 정보가 알맞게 모여있을 가능성을 확보하기 위해, Linear 함수를 거침\n",
        "\n",
        "위와 동일한 이유로 출력값을 concat한 후, Linear를 통과함"
      ],
      "metadata": {
        "id": "v80XPQbgl8NL"
      }
    },
    {
      "cell_type": "markdown",
      "source": [
        "# Position-wise Feed-Forward Networks"
      ],
      "metadata": {
        "id": "tDFgmgEol7ZZ"
      }
    },
    {
      "cell_type": "markdown",
      "source": [
        "![https://www.kdnuggets.com/2020/10/understanding-transformers-data-science-way.html](https://miro.medium.com/max/1906/1*1l5JbeGfEGh2oxjI8koHdQ.png)\n",
        "\n",
        "다른 방법으로는 conv로 볼 수 있음\n",
        "\n",
        "![](https://d3s0tskafalll9.cloudfront.net/media/images/GN-5-L_1dconv.max-800x600.png)"
      ],
      "metadata": {
        "id": "5pqXWpOvmAlq"
      }
    },
    {
      "cell_type": "markdown",
      "source": [
        "# Additional Techniques"
      ],
      "metadata": {
        "id": "ykidTNdf9hpv"
      }
    },
    {
      "cell_type": "markdown",
      "source": [
        "## Layer Normalization"
      ],
      "metadata": {
        "id": "i6nkFLIz9qV7"
      }
    },
    {
      "cell_type": "markdown",
      "source": [],
      "metadata": {
        "id": "S-ZDklfs9sXT"
      }
    }
  ]
}