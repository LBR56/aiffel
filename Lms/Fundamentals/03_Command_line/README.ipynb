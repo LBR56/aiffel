{
 "cells": [
  {
   "cell_type": "markdown",
   "metadata": {},
   "source": [
    "# 터미널로 배우는 리눅스 운영체제"
   ]
  },
  {
   "cell_type": "markdown",
   "metadata": {},
   "source": [
    "Command Line & OS Interduction & Hardware 학습 "
   ]
  },
  {
   "cell_type": "markdown",
   "metadata": {},
   "source": [
    "## 목차"
   ]
  },
  {
   "cell_type": "markdown",
   "metadata": {},
   "source": [
    "- Command Line\n",
    "- OS Interoduction\n",
    "  - 프로세스와 스레드(Process & Thread)\n",
    "- 리눅스 기반 운영체제\n",
    "  - 프로세스 관리와 시스템 콜(Process Management & System Call)\n",
    "  - 프로그램과 환경변수(Program & Env Var)\n",
    "  - 사용자와 권한(User & Permissions)\n",
    "- 하드웨어\n",
    "  - 연산장치\n",
    "  - 저장장치\n",
    "  - 클라우드와 가상화(Cloud & Virtualization)\n",
    "- 셀 심화\n",
    "  - 셀 스크립트\n",
    "  - 연습 문제"
   ]
  },
  {
   "cell_type": "markdown",
   "metadata": {},
   "source": [
    "## Command Line"
   ]
  },
  {
   "cell_type": "markdown",
   "metadata": {},
   "source": [
    "Terminal에서 보여주는 기본 화면\n",
    "***"
   ]
  },
  {
   "cell_type": "markdown",
   "metadata": {},
   "source": [
    "```bash\n",
    "user@computer:~/position$\n",
    "```\n",
    "\n",
    "- user : 유저 이름\n",
    "- computer : 컴퓨터 이름\n",
    "- ~ : 홈 디렉토리(home dir)\n",
    "- $ : 프롬프트(prompt)\n",
    "  - 명령어 받을 준비 완료"
   ]
  },
  {
   "cell_type": "markdown",
   "metadata": {},
   "source": [
    "[10 Command Line Cheat Sheet](https://geekflare.com/command-line-cheat-sheets/)"
   ]
  },
  {
   "cell_type": "markdown",
   "metadata": {},
   "source": [
    "필수(!!!) 권장(!!) 검색(!)\n",
    "\n",
    "|종류|명령어|뜻|예제|결과|\n",
    "|:-:|:-:|:-:|:-:|:-:|\n",
    "|셀 환경 관련|\n",
    "|!!|history|입력 명령어 출력|history||\n",
    "|!!|man|프로그램 메뉴얼 출력|man history||\n",
    "|!|which|명령어 전체 경로 출력|which man||\n",
    "|!|export|셀 변수나 함수를 현재 환경 내보냄|export|\n",
    "|!|env|새로운 환경에서 실행|env|\n",
    "\n",
    "|종류|명령어|뜻|예제|결과|\n",
    "|:-:|:-:|:-:|:-:|:-:|\n",
    "|텍스트 처리|\n",
    "|!!!|echo|뒤 입력 내용 출력|echo hello|hello|\n",
    "|!!!|cat|텍스트 파일을 순서대로 출력|cat hello.txt|hello world!|\n",
    "|!!|sort|줄 정렬|sort|`cat hello.txt | sort`|\n",
    "|!!|less|파일의 내용 조회 및 검색|less hello.txt|\n",
    "|!!|head|파일 앞 줄 출력|head -n 3 hello.txt|\n",
    "|!!|tail|퍄일 뒷 줄 출력|tail -n 3 hello.txt|\n",
    "|!!|cut|구분자로 나눔|`ls | cut -b 1-3`|\n",
    "|!!|uniq|중복값 제거|`ls | uniq`|\n",
    "|!!|grep|정규식으로 텍스트 겁색|`ls|grep test*`|\n",
    "|!!|wc|텍스트를 단어, 줄, 문자로 셈|`ls | wc`|\n",
    "|!|comm|텍스트 파일 비교|comm test.txt text.txt|\n",
    "|!|zcat|압축 파일 내용 보기|zcat test.txt.Z\n",
    "|!|sed|정규식 활용해 택스트 변형|sed 's/4/end/g' test.txt\n",
    "|!|awk|텍스트 스캔 후 변경|awk '/4/' test.txt\n",
    "\n",
    "|종류|명령어|뜻|예제|결과|\n",
    "|:-:|:-:|:-:|:-:|:-:|\n",
    "|파일 제어 및 이동|\n",
    "|!!!|ls|파일 및 폴더 출력|ls|\n",
    "|!!!|cd|폴더 이동|cd .|\n",
    "|!!!|cp|복사|cp test.txt test1.txt\n",
    "|!!!|mv|이동|mv test1.txt .\n",
    "|!!!|rm|삭제|rm -rf test1.txt\n",
    "|!!|chown|사용자와 그룹 변경|chown 나 폴더|\n",
    "|!!|chmod|권한 병경|chmod 777 test.txt\n",
    "|!!|find|파일 검색|find test.txt\n",
    "|!!|pwd|현재 디렉토리 위치|pwd\n",
    "|!|ln|링크 생성|ln test.txt test1.txt\n",
    "|!|touch|파일 접근 및 수정 시간 변경|touch test3.txt\n",
    "|!|tar|파일 압축|tar cfv archive.tar *\n",
    "|!|mount|새로운 저장 장치 추가|쓸일 없음\n",
    "|!|rename|파일 이름 한번에 변경|\n",
    "|!|df|파일시스템 용량 표시\n",
    "\n",
    "|종류|명령어|뜻|예제|결과|\n",
    "|:-:|:-:|:-:|:-:|:-:|\n",
    "|시스템 및 프로세스 제어|\n",
    "|!!!|sudo|관리자 권한 실행|sudo history\n",
    "|!!!|apt-get|APT 패키지에서 공인 패키지 설치 또는 제거|apt-get cmatrix\n",
    "|!!|ps|현재 프로세스 목록 출력|ps\n",
    "|!!|kill|프로세스 종료|kill 프로세스 넘버\n",
    "|!!|fg|배경에서 실행되는 작업 가져옴|fg 프로세스 넘버\n",
    "|!!|bg|작업을 뒤로 보냄|bg\n",
    "|!!|jobs|작업 목록 보여줌|jobs\n",
    "\n",
    "|종류|명령어|뜻|예제|결과|\n",
    "|:-:|:-:|:-:|:-:|:-:|\n",
    "|기타|\n",
    "|!!!|ssh|원격 shell 접근|\n",
    "|!!|tmux|여러 쉘 관리\n",
    "|!!|watch|주기적으로 실행\n",
    "|!!|curl|URL과 통신\n",
    "|!!|wget|파일 다운로드\n",
    "|!!|scp|SSH 통해 원격 파일 전송\n",
    "|!|ssh-keygen|SSH 공개키 비밀키 생성\n",
    "|!|ssh-copy|SSH 공개키 서버 등록\n",
    "|!|rsync|원격으로 파일 동기화\n",
    "|!|xarg|명령어를 구성하여 실행\n",
    "|!|cron|주기적 실행 명령어 등록\n",
    "|!|htop|프로세스 목록 및 자원 사용량 시각적 표시\n",
    "|!|clear|화면 초기화"
   ]
  },
  {
   "cell_type": "markdown",
   "metadata": {},
   "source": [
    "## OS Introduction"
   ]
  },
  {
   "cell_type": "markdown",
   "metadata": {},
   "source": [
    "- OS\n",
    "- Kernel\n",
    "- Shell\n",
    "- process & thread"
   ]
  },
  {
   "cell_type": "markdown",
   "metadata": {},
   "source": [
    "### 프로세스와 스레드(Process & Thread)\n",
    "***"
   ]
  },
  {
   "cell_type": "markdown",
   "metadata": {},
   "source": [
    "|노드|단어(링크)|내용|\n",
    "|:-:|:-:|:-:|\n",
    "|Fund 03|프로그램(program)|수행할 작업을 기록한 것|\n",
    "|Fund 03|프로세스(process)|OS에서 수행하고 있는 작업|\n",
    "|Fund 03|스레드(thread)|프로세스의 실행 단위|\n",
    "|Fund 03|멀티프로세싱(Multiprocessing)|프로그램이 여러 개의 프로세스를 활용|\n",
    "|Fund 03|멀티스레딩(Multithreading)|프로세스가 여러 개의 스레드를 활용|\n",
    "|Fund 03|메모리 관리|전체 메모리를 접근하지 않고 가상 메모리만 접근|\n",
    "|Fund 03|CPU 자원 관리|프로세스는 스레드(thread)단위로 작동|"
   ]
  },
  {
   "cell_type": "markdown",
   "metadata": {},
   "source": [
    "## 리눅스 기반 운영체제"
   ]
  },
  {
   "cell_type": "markdown",
   "metadata": {},
   "source": [
    "- Terminal(Fund 01)\n",
    "- Precess Management & System Call\n",
    "- Program & Env Var\n",
    "- Package Management(Fund 01)\n",
    "- User & Permissions"
   ]
  },
  {
   "cell_type": "markdown",
   "metadata": {},
   "source": [
    "### 프로세스 관리와 시스템 콜(Process Management 7 System Call)\n",
    "***"
   ]
  },
  {
   "cell_type": "markdown",
   "metadata": {},
   "source": [
    "- 프로세스를 찾아서(ps -ef | grep process_name)\n",
    "- 종료(sudo kill -s KILL num)"
   ]
  },
  {
   "cell_type": "markdown",
   "metadata": {},
   "source": [
    "### 프로그램과 환경변수(Progream & Env Var)\n",
    "***"
   ]
  },
  {
   "cell_type": "markdown",
   "metadata": {},
   "source": [
    "`$`는 Env Var임\n",
    "\n",
    "`python3`도 Env Var로 추가되어 있음으로 바로 접근 가능함"
   ]
  },
  {
   "cell_type": "markdown",
   "metadata": {},
   "source": [
    "### 사용자와 권한(User & Permissions)\n",
    "***"
   ]
  },
  {
   "cell_type": "markdown",
   "metadata": {},
   "source": [
    "`sudo`는 최고 관리자를 뜻함\n",
    "\n",
    "접근 권한의 종류\n",
    "\n",
    "- 읽고 쓰고 실행하는 권한\n",
    "- 사용자 : 111 = 7\n",
    "- 그룹 : 101 = 5\n",
    "- 기타 : 101 = 5\n",
    "\n",
    "즉, 755로 정할 수 있음\n",
    "\n",
    "\n",
    "`chmod`는 접근 권한을 바꿈"
   ]
  },
  {
   "cell_type": "markdown",
   "metadata": {},
   "source": [
    "## 하드웨어"
   ]
  },
  {
   "cell_type": "markdown",
   "metadata": {},
   "source": [
    "### 연산장치\n",
    "***"
   ]
  },
  {
   "cell_type": "markdown",
   "metadata": {},
   "source": [
    "|노드|단어(링크)|내용|\n",
    "|:-:|:-:|:-:|\n",
    "|Fund 03|마더보드(Matherboard)|Hardware를 연결해주는 판|\n",
    "|Fund 03|중앙처리장치(Central Processing Unit : CPU)|컴퓨터의 연산을 집대성한 장치|\n",
    "|Fund 03|직접회로(Integrated Circuits : IC)|회로의 밀집도를 나타내는 기준|\n",
    "|Fund 03|포토리소그래피(Photolithography)|CPU를 만드는 공정|\n",
    "|Fund 03|기계어(Machine Language)|CPU가 집적 처리하는 명령어|\n",
    "|Fund 03|컴파일(Complie)|program language를 machine language로 바꾸는 작업|\n",
    "|Fund 03|명령어 집합(instruction set)|회로 설계하여 지원하는 연산 세트를 만들어 놓은 것|\n",
    "|Fund 03|메모리와의 관계|CPU가 한번에 읽을 수 있는 범위가 메모리 주소 범위에 영향을 줌(ex:32bits -> 4GB)|\n",
    "|Fund 03|CPU의 성능과 발전|클럭(Clock)과 thread를 늘림|\n",
    "|Fund 03|클럭(Clock)|초당 처리 속도 == 4GHz|\n",
    "|Fund 03|다른 연산장치|GPU, TPU, ASIC, FPGA 등 이 존재함|\n",
    "|Fund 03|GPU(Graphical Processing Unit)|다차원 행렬 연산에 특화|\n",
    "|Fund 03|TPU(Tensor Processing Unit)|딥러닝 전용 연산장치|\n",
    "|Fund 03|어플리케이션 특화 집적회로(Application-Specific Integrated Circuit : ASIC)|맞춤형 집적회로|\n",
    "|Fund 03|FPGA(Field-Programmable Gate Array)|그때그때 직접 프로그래밍하는 집적회로|"
   ]
  },
  {
   "cell_type": "markdown",
   "metadata": {},
   "source": [
    "### 저장장치"
   ]
  },
  {
   "cell_type": "markdown",
   "metadata": {},
   "source": [
    "|노드|단어(링크)|내용|\n",
    "|:-:|:-:|:-:|\n",
    "|Fund 03|CPU 속도|0.4 나노초(1초)|\n",
    "|Fund 03|Cash 속도|0.9 ~ 28 나노초(2초 ~ 1분)|\n",
    "|Fund 03|RAM 속도|~ 100 나노초(4분)|\n",
    "|Fund 03|SSD 속도|50 ~ 150 마이크로초(1.5 ~ 4일)|\n",
    "|Fund 03|HDD 속도|1 ~ 10 밀리초(1 ~ 9 개월)|\n",
    "\n",
    "가격과 속도, 용량, 데이터 저장 방법이 다름"
   ]
  },
  {
   "cell_type": "markdown",
   "metadata": {},
   "source": [
    "### 클라우드와 가상화(Cloud & Virtualization)\n",
    "***"
   ]
  },
  {
   "cell_type": "markdown",
   "metadata": {},
   "source": [
    "|노드|단어(링크)|내용|\n",
    "|:-:|:-:|:-:|\n",
    "|Fund 03|호스트(Host)|물리적인 서버\n",
    "|Fund 03|게스트(Guest)|가상 서버\n",
    "|Fund 03|도커(Docker)|container virtualization program|"
   ]
  },
  {
   "cell_type": "markdown",
   "metadata": {},
   "source": [
    "## 셀 심화"
   ]
  },
  {
   "cell_type": "markdown",
   "metadata": {},
   "source": [
    "### 셀 스크립트\n",
    "***"
   ]
  },
  {
   "cell_type": "markdown",
   "metadata": {},
   "source": [
    "명령어를 파일로 저장할 수 있음"
   ]
  },
  {
   "cell_type": "markdown",
   "metadata": {},
   "source": [
    "### 연습 문제\n",
    "***"
   ]
  },
  {
   "cell_type": "markdown",
   "metadata": {},
   "source": [
    "- 이름이 `--all`인 폴더 만들기\n",
    "  - mkdir ./--all\n",
    "- 폴더에서 확장자 또는 폴더 이름의 갯수를 샘\n",
    "  - ls | cut -d . -f 2 | sort | uniq -c\n",
    "- 폴더에서 txt 확장자의 이름을 샘\n",
    "  - ls | grep *.txt | wc -l"
   ]
  },
  {
   "cell_type": "markdown",
   "metadata": {},
   "source": [
    "## 회고"
   ]
  },
  {
   "cell_type": "markdown",
   "metadata": {},
   "source": [
    "### 느낀 점\n",
    "***"
   ]
  },
  {
   "cell_type": "markdown",
   "metadata": {},
   "source": [
    "### Node의 목적\n",
    "***"
   ]
  },
  {
   "cell_type": "markdown",
   "metadata": {},
   "source": [
    "### 추가 학습이 필요\n",
    "***"
   ]
  },
  {
   "cell_type": "markdown",
   "metadata": {},
   "source": [
    "단어\n",
    "***"
   ]
  },
  {
   "cell_type": "markdown",
   "metadata": {},
   "source": [
    "## Ref"
   ]
  }
 ],
 "metadata": {
  "kernelspec": {
   "display_name": "Python 3.8.9 64-bit",
   "language": "python",
   "name": "python3"
  },
  "language_info": {
   "name": "python",
   "version": "3.8.9"
  },
  "orig_nbformat": 4,
  "vscode": {
   "interpreter": {
    "hash": "31f2aee4e71d21fbe5cf8b01ff0e069b9275f58929596ceb00d14d90e3e16cd6"
   }
  }
 },
 "nbformat": 4,
 "nbformat_minor": 2
}
