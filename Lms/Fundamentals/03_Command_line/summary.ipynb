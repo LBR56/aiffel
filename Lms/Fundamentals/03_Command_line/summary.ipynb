{
 "cells": [
  {
   "cell_type": "markdown",
   "metadata": {},
   "source": [
    "# 터미널로 배우는 리눅스 운영체제"
   ]
  },
  {
   "cell_type": "markdown",
   "metadata": {},
   "source": [
    "프로그래머가 반드시 이해하고 넘어가야 할 process와 thread, 파일시스템을 중심으로 운영체제의 특성을 파악한다."
   ]
  },
  {
   "cell_type": "markdown",
   "metadata": {},
   "source": [
    "- 터미널로 배우는 리눅스 운영체제\n",
    "- 떠나자 디지털 월드로!\n",
    "  - pwd\n",
    "  - ls\n",
    "  - cd\n",
    "- 운영체제 일반 개론 \n",
    "  - 운영체제란\n",
    "  - 커널\n",
    "  - 셸\n",
    "  - 프로세스와 스레드\n",
    "- 리눅스 기반 운영체제\n",
    "  - 터미널\n",
    "  - 프로세스 관리와 시스템 콜\n",
    "  - 프로그램과 환경변수\n",
    "  - 패키지 관리자\n",
    "  - 사용자와 권한\n",
    "- 기타\n",
    "  - 약간의 하드웨어 1: 연산장치\n",
    "  - 약간의 하드웨어 2: 저장장치\n",
    "  - 클라우드와 가상화\n",
    "- 셸 심화\n",
    "  - 편리한 기능\n",
    "  - 셸 스크립트\n",
    "  - 명령어 모음 및 추천자료\n",
    "  - 연습문제"
   ]
  },
  {
   "cell_type": "markdown",
   "metadata": {},
   "source": [
    "## 터미널로 배우는 리눅스 운영체제"
   ]
  },
  {
   "cell_type": "markdown",
   "metadata": {},
   "source": [
    "키워드를 제공하는 것을 목표\n",
    "\n",
    "- 운영체제의 구성과 커널의 역할\n",
    "- 터미널과 터미널 에뮬레이터, 셸\n",
    "- 기본적인 리눅스 명령어들"
   ]
  },
  {
   "cell_type": "markdown",
   "metadata": {},
   "source": [
    "## 떠나자 디지털 월드로!"
   ]
  },
  {
   "cell_type": "markdown",
   "metadata": {},
   "source": [
    "### pwd"
   ]
  },
  {
   "cell_type": "code",
   "execution_count": 2,
   "metadata": {},
   "outputs": [
    {
     "name": "stdout",
     "output_type": "stream",
     "text": [
      "hello\n"
     ]
    }
   ],
   "source": [
    "!echo hello"
   ]
  },
  {
   "cell_type": "code",
   "execution_count": 3,
   "metadata": {},
   "outputs": [
    {
     "name": "stdout",
     "output_type": "stream",
     "text": [
      "/Users/main/Desktop/temp/Lms/Fundamentals/03_Command_line\n"
     ]
    }
   ],
   "source": [
    "!pwd"
   ]
  },
  {
   "cell_type": "markdown",
   "metadata": {},
   "source": [
    "이 위치를 해당 사용자의 홈 디렉토리\n",
    "\n",
    "홈 디렉토리를 줄여서 `~`로도 표시\n",
    "\n",
    "`user@hostname:~#`\n",
    "\n",
    "- `user` : 로그인한 유저 이름\n",
    "- `hostname` : host 컴퓨터 이름\n",
    "- `~` : 현 위치\n",
    "- `#` : 프롬프트(명령어 대기)\n"
   ]
  },
  {
   "cell_type": "markdown",
   "metadata": {},
   "source": [
    "UNIX의 철학 중 하나는 \"모든 것은 파일이다\"라는 점"
   ]
  },
  {
   "cell_type": "markdown",
   "metadata": {},
   "source": [
    "사용하고 있는 것과 같은 프로그램의 종류를 `셸(shell)`\n",
    "\n",
    "이 껍데기를 통해 운영체제의 알맹이인 `커널(kernel)`과 소통"
   ]
  },
  {
   "cell_type": "markdown",
   "metadata": {},
   "source": [
    "### ls"
   ]
  },
  {
   "cell_type": "code",
   "execution_count": 4,
   "metadata": {},
   "outputs": [
    {
     "name": "stdout",
     "output_type": "stream",
     "text": [
      "README.ipynb  \u001b[1m\u001b[36mimg\u001b[m\u001b[m           summary.ipynb\n"
     ]
    }
   ],
   "source": [
    "!ls"
   ]
  },
  {
   "cell_type": "code",
   "execution_count": 5,
   "metadata": {},
   "outputs": [
    {
     "name": "stdout",
     "output_type": "stream",
     "text": [
      "total 48\n",
      "drwxr-xr-x   5 main  staff    160 Aug  7 20:58 \u001b[1m\u001b[36m.\u001b[m\u001b[m\n",
      "drwxr-xr-x  14 main  staff    448 Aug  5 20:13 \u001b[1m\u001b[36m..\u001b[m\u001b[m\n",
      "-rw-r--r--   1 main  staff  12877 Aug  2 18:46 README.ipynb\n",
      "drwxr-xr-x   2 main  staff     64 Aug  1 18:03 \u001b[1m\u001b[36mimg\u001b[m\u001b[m\n",
      "-rw-r--r--   1 main  staff   4699 Aug  7 21:18 summary.ipynb\n"
     ]
    }
   ],
   "source": [
    "!ls -all"
   ]
  },
  {
   "cell_type": "markdown",
   "metadata": {},
   "source": [
    "`.` : 현재 폴더\n",
    "`..` : 상위 폴더\n",
    "`.dir` : 숨긴 디렉토리"
   ]
  },
  {
   "cell_type": "code",
   "execution_count": 6,
   "metadata": {},
   "outputs": [
    {
     "name": "stdout",
     "output_type": "stream",
     "text": [
      "ls: unrecognized option `--help'\n",
      "usage: ls [-@ABCFGHILOPRSTUWabcdefghiklmnopqrstuvwxy1%,] [--color=when] [-D format] [file ...]\n"
     ]
    }
   ],
   "source": [
    "!ls --help"
   ]
  },
  {
   "cell_type": "markdown",
   "metadata": {},
   "source": [
    "- l : 긴 결과\n",
    "- h : 사람이 알아보는 단위\n",
    "- t : 수정시간 순 출력\n",
    "- r : 정렬 뒤집기\n",
    "\n",
    "ls -a -l -r -t == ls -alrt\n"
   ]
  },
  {
   "cell_type": "code",
   "execution_count": 9,
   "metadata": {},
   "outputs": [
    {
     "name": "stdout",
     "output_type": "stream",
     "text": [
      "total 48\n",
      "drwxr-xr-x   2 main  staff    64B Aug  1 18:03 \u001b[1m\u001b[36mimg\u001b[m\u001b[m\n",
      "-rw-r--r--   1 main  staff    13K Aug  2 18:46 README.ipynb\n",
      "drwxr-xr-x  14 main  staff   448B Aug  5 20:13 \u001b[1m\u001b[36m..\u001b[m\u001b[m\n",
      "drwxr-xr-x   5 main  staff   160B Aug  7 20:58 \u001b[1m\u001b[36m.\u001b[m\u001b[m\n",
      "-rw-r--r--   1 main  staff   4.6K Aug  7 21:18 summary.ipynb\n"
     ]
    }
   ],
   "source": [
    "!ls -alrth"
   ]
  },
  {
   "cell_type": "markdown",
   "metadata": {},
   "source": [
    "### cd"
   ]
  },
  {
   "cell_type": "markdown",
   "metadata": {},
   "source": [
    "!!! : cd : change Directory\n",
    "\n",
    "디렉토리에 영향을 받는 위치 표시 방식을 상대 경로\n",
    "\n",
    "똑같은 곳을 가리키도록 위치 전체를 적어주는 것을 절대 경로"
   ]
  },
  {
   "cell_type": "markdown",
   "metadata": {},
   "source": [
    "## 운영체제 일반 개론 "
   ]
  },
  {
   "cell_type": "markdown",
   "metadata": {},
   "source": [
    "### 운영체제란"
   ]
  },
  {
   "cell_type": "markdown",
   "metadata": {},
   "source": [
    "운영체제란 컴퓨터의 다양한 하드웨어 장치들과 더불어 소프트웨어를 관리하는 시스템\n",
    "\n",
    "운영체제는 컴퓨터라는 대저택을 관리하는 집사와 같은 존재로 볼 수 있습니다. 집주인(최고관리자)의 권한을 위임받아 요리사, 정원사, 청소부 등 각각의 보조 인원(어플리케이션)들에게 재산(연산 자원)을 적절히 분배하여 운영하고, 서로 권한을 침범할 수 없도록 관리하는 역할"
   ]
  },
  {
   "cell_type": "markdown",
   "metadata": {},
   "source": [
    "![https://en.wikipedia.org/wiki/Kernel_(operating_system)](img/00.png)"
   ]
  },
  {
   "cell_type": "markdown",
   "metadata": {},
   "source": [
    "조금 더 친숙한 운영체제로는 마이크소프트의 윈도우즈나, 애플의 맥 OS, iOS, 구글의 Android, ChromeOS\n",
    "\n",
    "운영체제=커널이라고 할수는 없겠지만 커널은 보안, 자원관리, 디바이스 인터페이스 추상화 등 바로 대저택의 집사와 같은 역할을 하는 운영체제의 가장 핵심적인 구성요소"
   ]
  },
  {
   "cell_type": "markdown",
   "metadata": {},
   "source": [
    "### 커널"
   ]
  },
  {
   "cell_type": "markdown",
   "metadata": {},
   "source": [
    "운영체제의 내부는 알맹이인 커널(kernel)과 껍데기인 셸(shell)로 이루어져 있음"
   ]
  },
  {
   "cell_type": "markdown",
   "metadata": {},
   "source": [
    "### 셸"
   ]
  },
  {
   "cell_type": "markdown",
   "metadata": {},
   "source": [
    "셸은 말 그대로 눈에 보이는 운영체제의 껍데기인데, 그래픽 기반의 GUI(Graphical User Interface) 셸과 텍스트 기반의 CLI(Command Line Interface) 셸로 구분할 수 있음"
   ]
  },
  {
   "cell_type": "markdown",
   "metadata": {},
   "source": [
    "### 프로세스와 스레드"
   ]
  },
  {
   "cell_type": "markdown",
   "metadata": {},
   "source": [
    "프로그램 은 컴퓨터가 수행할 작업을 기록해놓은 것\n",
    "\n",
    "프로그램이 실제로 작업으로서 수행될 때 운영체제는 이를 프로세스(process) 라는 단위로 관리"
   ]
  },
  {
   "cell_type": "markdown",
   "metadata": {},
   "source": [
    "- 메모리 관리\n",
    "  - 가상 메모리(virtual memory)로서 일부만 떼어서 제공\n",
    "  - 중요한 보안 기제 중 하나인 프로세스 격리(process isolation)\n",
    "  - 서로 소통하기 위해서는 별도로 허용된 프로세스 간 통신 (Inter-Process Communication, IPC) 기법\n",
    "- CPU 자원 관리\n",
    "  - 프로세스는 스레드(thread) 라는 단위로 코어를 하나씩 사용할 수가 있음\n",
    "  - 프로그램이 더 많은 스레드를 사용하도록 설계하여 다중 CPU 코어의 이점을 극대화\n",
    "\n",
    "> 프로세스는 운영체제가 메모리를 할당하는 작업단위라면, 스레드는 프로세스가 할당받은 메모리를 활용하는 실행단위\n",
    "\n",
    "> 하나의 프로그램 안에서 여러개의 프로세스를 활용하는 것을 멀티프로세싱(Multiprocessing) , 하나의 프로세스 안에서 여러개의 스레드를 활용하는 것을 멀티스레딩(Multithreading)\n"
   ]
  },
  {
   "cell_type": "markdown",
   "metadata": {},
   "source": [
    "## 리눅스 기반 운영체제"
   ]
  },
  {
   "cell_type": "markdown",
   "metadata": {},
   "source": [
    "### 터미널"
   ]
  },
  {
   "cell_type": "markdown",
   "metadata": {},
   "source": [
    "터미널 또는 콘솔이라고도 부르는 창이 열립니다. 이 창 내부에서 텍스트로 조작하는 환경\n",
    "\n",
    "그래픽 환경에서 터미널을 모사하는 터미널 에뮬레이터\n",
    "\n",
    "입출력만 담당하는 CRT 모니터와 키보드로 구성된 말단(=terminal)의 기기가 유래\n",
    "\n",
    "터미널이란 컴퓨터에 정보를 입력하고 출력하는 소프트웨어 및 하드웨어로써의 장치\n",
    "\n",
    "[Using a 1930 Teletype as a Linux Terminal](https://youtube.com/watch?v=2XLZ4Z8LpEE)"
   ]
  },
  {
   "cell_type": "markdown",
   "metadata": {},
   "source": [
    "### 프로세스 관리와 시스템 콜"
   ]
  },
  {
   "cell_type": "markdown",
   "metadata": {},
   "source": [
    "ps -e를 입력하여 현재 실행 중인 프로세스들을 확인\n",
    "\n",
    "!! "
   ]
  },
  {
   "cell_type": "code",
   "execution_count": 10,
   "metadata": {},
   "outputs": [
    {
     "name": "stdout",
     "output_type": "stream",
     "text": [
      "  UID   PID  PPID   C STIME   TTY           TIME CMD\n",
      "    0     1     0   0 Fri06PM ??         1:41.64 /sbin/launchd\n",
      "    0    81     1   0 Fri06PM ??         0:41.21 /usr/libexec/logd\n",
      "    0    82     1   0 Fri06PM ??         0:10.29 /usr/libexec/UserEventAgent (System)\n",
      "    0    84     1   0 Fri06PM ??         0:00.05 /Library/PrivilegedHelperTools/com.crystalidea.macsfancontrol.smcwrite\n",
      "    0    86     1   0 Fri06PM ??         0:00.87 /System/Library/PrivateFrameworks/Uninstall.framework/Resources/uninstalld\n",
      "    0    87     1   0 Fri06PM ??         0:28.93 /System/Library/Frameworks/CoreServices.framework/Versions/A/Frameworks/FSEvents.framework/Versions/A/Support/fseventsd\n",
      "    0    88     1   0 Fri06PM ??         0:07.56 /System/Library/PrivateFrameworks/MediaRemote.framework/Support/mediaremoted\n",
      "    0    89     1   0 Fri06PM ??         0:29.97 /Library/Application Support/org.pqrs/Karabiner-DriverKit-VirtualHIDDevice/Applications/Karabiner-DriverKit-VirtualHIDDeviceClient.app/Contents/MacOS/Karabiner-DriverKit-VirtualHIDDeviceClient\n",
      "    0    90     1   0 Fri06PM ??         2:33.52 /Library/Application Support/org.pqrs/Karabiner-Elements/bin/karabiner_observer\n",
      "    0    92     1   0 Fri06PM ??         4:09.35 /Library/Application Support/org.pqrs/Karabiner-Elements/bin/karabiner_grabber\n",
      "    0    94     1   0 Fri06PM ??         0:19.73 /usr/sbin/systemstats --daemon\n",
      "  278    95     1   0 Fri06PM ??         0:00.54 /System/Library/PrivateFrameworks/MobileAccessoryUpdater.framework/Support/accessoryupdaterd 120\n",
      "    0    96     1   0 Fri06PM ??         0:15.04 /usr/libexec/configd\n",
      "    0    97     1   0 Fri06PM ??         0:00.01 endpointsecurityd\n",
      "    0    98     1   0 Fri06PM ??         0:28.88 /System/Library/CoreServices/powerd.bundle/powerd\n",
      "    0   102     1   0 Fri06PM ??         0:00.34 /usr/libexec/remoted\n",
      "    0   104     1   0 Fri06PM ??         0:01.12 /usr/libexec/keybagd -t 15\n",
      "  200   105     1   0 Fri06PM ??         0:00.19 /System/Library/PrivateFrameworks/MobileSoftwareUpdate.framework/Support/softwareupdated\n",
      "    0   107     1   0 Fri06PM ??         0:00.95 /usr/libexec/watchdogd\n",
      "    0   111     1   0 Fri06PM ??         1:04.42 /System/Library/Frameworks/CoreServices.framework/Frameworks/Metadata.framework/Support/mds\n",
      "  240   112     1   0 Fri06PM ??         0:00.05 /System/Library/CoreServices/iconservicesd\n",
      "    0   113     1   0 Fri06PM ??         0:02.06 /usr/libexec/kernelmanagerd\n",
      "    0   114     1   0 Fri06PM ??         0:01.22 /usr/libexec/diskarbitrationd\n",
      "    0   117     1   0 Fri06PM ??         0:14.06 /usr/libexec/coreduetd\n",
      "    0   118     1   0 Fri06PM ??         0:02.00 /usr/sbin/syslogd\n",
      "    0   121     1   0 Fri06PM ??         0:00.03 /usr/libexec/thermalmonitord\n",
      "    0   122     1   0 Fri06PM ??         0:27.92 /usr/libexec/opendirectoryd\n",
      "    0   123     1   0 Fri06PM ??         0:03.57 /System/Library/PrivateFrameworks/ApplePushService.framework/apsd\n",
      "    0   124     1   0 Fri06PM ??         0:49.46 /System/Library/CoreServices/launchservicesd\n",
      "  266   125     1   0 Fri06PM ??         0:00.84 /usr/libexec/timed\n",
      "  213   126     1   0 Fri06PM ??         0:00.22 /System/Library/PrivateFrameworks/MobileDevice.framework/Versions/A/Resources/usbmuxd -launchd\n",
      "    0   127     1   0 Fri06PM ??         0:02.46 /usr/sbin/securityd -i\n",
      "    0   128     1   0 Fri06PM ??         0:00.01 auditd -l\n",
      "    0   132     1   0 Fri06PM ??         0:00.01 autofsd\n",
      "  244   133     1   0 Fri06PM ??         0:00.18 /usr/libexec/displaypolicyd -k 1\n",
      "    0   134     1   0 Fri06PM ??         0:17.35 /usr/libexec/dasd\n",
      "  241   136     1   0 Fri06PM ??         0:08.60 /usr/sbin/distnoted daemon\n",
      "    0   137     1   0 Fri06PM ??         0:00.07 /System/Library/PrivateFrameworks/AppleCredentialManager.framework/AppleCredentialManagerDaemon\n",
      "    0   140     1   0 Fri06PM ??         0:00.10 /System/Library/CoreServices/logind\n",
      "    0   141     1   0 Fri06PM ??         0:00.15 /System/Library/PrivateFrameworks/GenerationalStorage.framework/Versions/A/Support/revisiond\n",
      "    0   142     1   0 Fri06PM ??         0:00.01 /usr/sbin/KernelEventAgent\n",
      "    0   144     1   0 Fri06PM ??         0:11.48 /usr/sbin/bluetoothd\n",
      "    0   145     1   0 Fri06PM ??         0:30.28 /usr/sbin/notifyd\n",
      "    0   146     1   0 Fri06PM ??         0:01.55 /usr/libexec/sandboxd\n",
      "    0   147     1   0 Fri06PM ??         0:04.44 /usr/libexec/corebrightnessd --launchd\n",
      "    0   148     1   0 Fri06PM ??         0:01.01 /usr/libexec/AirPlayXPCHelper\n",
      "    0   149     1   0 Fri06PM ??         0:00.11 /System/Library/Frameworks/CoreMediaIO.framework/Versions/A/Resources/com.apple.cmio.registerassistantservice\n",
      "    0   150     1   0 Fri06PM ??         0:00.88 /usr/libexec/amfid\n",
      "    0   151     1   0 Fri06PM ??         0:12.95 /usr/sbin/cfprefsd daemon\n",
      "   88   152     1   0 Fri06PM ??        51:08.81 /System/Library/PrivateFrameworks/SkyLight.framework/Resources/WindowServer -daemon\n",
      "    0   153     1   0 Fri06PM ??         1:02.04 /System/Library/PrivateFrameworks/TCC.framework/Support/tccd system\n",
      "    0   154     1   0 Fri06PM ??         0:00.07 aslmanager\n",
      "  263   155     1   0 Fri06PM ??         0:07.52 /System/Library/PrivateFrameworks/CoreAnalytics.framework/Support/analyticsd\n",
      "  501   156     1   0 Fri06PM ??         0:45.57 /System/Library/CoreServices/loginwindow.app/Contents/MacOS/loginwindow console\n",
      "  282   159     1   0 Fri06PM ??         0:54.63 /usr/libexec/trustd\n",
      "    0   171     1   0 Fri06PM ??         0:36.20 /System/Library/PrivateFrameworks/CoreDuetContext.framework/Resources/contextstored\n",
      "    0   172     1   0 Fri06PM ??         0:02.25 /usr/libexec/PowerUIAgent\n",
      "    0   174     1   0 Fri06PM ??         0:00.41 /System/Library/Frameworks/Security.framework/Versions/A/XPCServices/authd.xpc/Contents/MacOS/authd\n",
      "    0   177     1   0 Fri06PM ??         0:32.76 /usr/libexec/syspolicyd\n",
      "    0   179     1   0 Fri06PM ??         0:01.68 /System/Library/CoreServices/coreservicesd\n",
      "    0   180     1   0 Fri06PM ??         0:01.10 /usr/sbin/distnoted agent\n",
      "    0   188     1   0 Fri06PM ??         0:53.70 /usr/libexec/runningboardd\n",
      "    0   199     1   0 Fri06PM ??         1:26.83 /usr/libexec/airportd\n",
      "  202   202     1   0 Fri06PM ??         2:30.17 /usr/sbin/coreaudiod\n",
      "    0   209     1   0 Fri06PM ??         0:00.77 /usr/libexec/nehelper\n",
      "   24   210     1   0 Fri06PM ??         0:10.02 /usr/libexec/symptomsd\n",
      "    0   211     1   0 Fri06PM ??         0:00.15 /System/Library/CoreServices/backupd.bundle/Contents/Resources/backupd-helper -launchd\n",
      "    0   214     1   0 Fri06PM ??         0:00.15 /usr/libexec/findmydeviced\n",
      "   65   221     1   0 Fri06PM ??         0:13.61 /usr/sbin/mDNSResponder\n",
      "    0   225     1   0 Fri06PM ??         0:01.95 /usr/libexec/taskgated\n",
      "    0   226     1   0 Fri06PM ??         0:00.01 /System/Library/Frameworks/NetFS.framework/Versions/A/XPCServices/PlugInLibraryService.xpc/Contents/MacOS/PlugInLibraryService\n",
      "    0   228     1   0 Fri06PM ??         0:01.20 /System/Library/CoreServices/backupd.bundle/Contents/Resources/backupd\n",
      "    0   229     1   0 Fri06PM ??         0:01.32 /usr/sbin/mDNSResponderHelper\n",
      "    0   230     1   0 Fri06PM ??         0:02.10 /usr/libexec/lsd runAsRoot\n",
      "    0   231     1   0 Fri06PM ??         0:01.11 /System/Library/PrivateFrameworks/WirelessDiagnostics.framework/Support/awdd\n",
      "    0   233     1   0 Fri06PM ??         0:00.05 /usr/libexec/diskmanagementd\n",
      "    0   234     1   0 Fri06PM ??         0:04.08 /System/Library/Frameworks/Security.framework/Versions/A/XPCServices/com.apple.CodeSigningHelper.xpc/Contents/MacOS/com.apple.CodeSigningHelper\n",
      "    0   236     1   0 Fri06PM ??         0:00.01 /System/Library/Frameworks/CoreServices.framework/Versions/A/Frameworks/CarbonCore.framework/Versions/A/XPCServices/csnameddatad.xpc/Contents/MacOS/csnameddatad\n",
      "  242   237     1   0 Fri06PM ??         0:02.90 /usr/libexec/nsurlsessiond --privileged\n",
      "    0   238     1   0 Fri06PM ??         0:00.05 /System/Library/CryptoTokenKit/com.apple.ifdreader.slotd/Contents/MacOS/com.apple.ifdreader\n",
      "    0   239     1   0 Fri06PM ??         0:00.09 /usr/libexec/apfsd\n",
      "    0   240     1   0 Fri06PM ??         0:01.02 /usr/libexec/usbd\n",
      "  262   241     1   0 Fri06PM ??         0:00.80 /System/Library/Frameworks/CoreMediaIO.framework/Resources/VDC.plugin/Contents/Resources/VDCAssistant\n",
      "    0   242     1   0 Fri06PM ??         0:00.89 /usr/libexec/biometrickitd --launchd\n",
      "    0   243     1   0 Fri06PM ??         0:00.14 /usr/libexec/xartstorageremoted\n",
      "  202   245     1   0 Fri06PM ??         0:00.83 /usr/sbin/distnoted agent\n",
      "    0   246     1   0 Fri06PM ??         0:00.10 /usr/libexec/containermanagerd --runmode=agent --bundle-container-mode=global --bundle-container-owner=_appinstalld --system-container-mode=none\n",
      "    0   247     1   0 Fri06PM ??         0:00.04 /System/Library/PrivateFrameworks/SystemStatusServer.framework/Support/systemstatusd\n",
      "  205   249     1   0 Fri06PM ??         0:00.91 /System/Library/PrivateFrameworks/GeoServices.framework/Versions/A/XPCServices/com.apple.geod.xpc/Contents/MacOS/com.apple.geod\n",
      "  205   250     1   0 Fri06PM ??         0:01.03 /usr/sbin/distnoted agent\n",
      "  205   251     1   0 Fri06PM ??         0:00.05 /usr/libexec/secinitd\n",
      "  202   258     1   0 Fri06PM ??         0:02.30 Core Audio Driver (MSTeamsAudioDevice.driver)\n",
      "  205   261     1   0 Fri06PM ??         0:00.02 /usr/sbin/cfprefsd agent\n",
      "  205   271     1   0 Fri06PM ??         0:00.49 /usr/libexec/trustd --agent\n",
      "  205   274     1   0 Fri06PM ??         0:00.05 /usr/libexec/containermanagerd --runmode=agent --bundle-container-mode=global --bundle-container-owner=_appinstalld --system-container-mode=none\n",
      "    0   276     1   0 Fri06PM ??         0:07.81 /usr/libexec/mobileassetd\n",
      "    0   277     1   0 Fri06PM ??         0:00.25 /usr/libexec/searchpartyd\n",
      "    0   278     1   0 Fri06PM ??         0:00.07 /System/Library/Frameworks/AudioToolbox.framework/AudioComponentRegistrar -daemon\n",
      "  202   279     1   0 Fri06PM ??         0:00.03 /System/Library/Frameworks/AudioToolbox.framework/XPCServices/com.apple.audio.SandboxHelper.xpc/Contents/MacOS/com.apple.audio.SandboxHelper\n",
      "  202   280     1   0 Fri06PM ??         0:00.01 /System/Library/Frameworks/CoreAudio.framework/Versions/A/XPCServices/com.apple.audio.DriverHelper.xpc/Contents/MacOS/com.apple.audio.DriverHelper\n",
      "    0   281     1   0 Fri06PM ??         0:00.29 /usr/libexec/logd_helper\n",
      "  200   282     1   0 Fri06PM ??         0:15.40 /System/Library/CoreServices/Software Update.app/Contents/Resources/softwareupdated\n",
      "  200   283     1   0 Fri06PM ??         0:00.82 /usr/sbin/distnoted agent\n",
      "    0   284     1   0 Fri06PM ??         0:00.07 /System/Library/CoreServices/Software Update.app/Contents/Resources/suhelperd\n",
      "    0   285     1   0 Fri06PM ??         0:00.05 /System/Library/PrivateFrameworks/MobileSoftwareUpdate.framework/Versions/A/XPCServices/com.apple.MobileSoftwareUpdate.CleanupPreparePathService.xpc/Contents/MacOS/com.apple.MobileSoftwareUpdate.CleanupPreparePathService\n",
      "    0   286     1   0 Fri06PM ??         0:00.10 /private/var/db/com.apple.xpc.roleaccountd.staging/com.apple.MobileSoftwareUpdate.UpdateBrainService.16777223.5120714.xpc/Contents/MacOS/com.apple.MobileSoftwareUpdate.UpdateBrainService\n",
      "    0   287     1   0 Fri06PM ??         0:00.14 /usr/libexec/xpcroleaccountd -launchd\n",
      "    0   289     1   0 Fri06PM ??         0:00.01 /System/Library/PrivateFrameworks/FindMyMac.framework/Resources/FindMyMacd\n",
      "    0   290     1   0 Fri06PM ??         0:00.17 /usr/libexec/eoshostd\n",
      "    0   292     1   0 Fri06PM ??        11:21.57 /System/Library/Frameworks/CoreServices.framework/Frameworks/Metadata.framework/Versions/A/Support/mds_stores\n",
      "  270   293     1   0 Fri06PM ??         0:11.14 /Library/SystemExtensions/AD61373F-8D1A-4567-9F99-9477C730C89A/org.pqrs.Karabiner-DriverKit-VirtualHIDDevice.dext/org.pqrs.Karabiner-DriverKit-VirtualHIDDevice org.pqrs.Karabiner-DriverKit-VirtualHIDDevice 0x10000047c org.pqrs.Karabiner-DriverKit-VirtualHIDDevice\n",
      "  270   294     1   0 Fri06PM ??         0:10.37 /System/Library/DriverExtensions/com.apple.AppleUserHIDDrivers.dext/com.apple.AppleUserHIDDrivers com.apple.driverkit.AppleUserHIDDrivers 0x1000004bb com.apple.AppleUserHIDDrivers\n",
      "    0   295     1   0 Fri06PM ??         0:00.04 /usr/libexec/thermald\n",
      "  261   297     1   0 Fri06PM ??         0:00.20 /usr/libexec/hidd\n",
      "    0   299     1   0 Fri06PM ??         0:00.05 /usr/libexec/secinitd\n",
      "   88   300     1   0 Fri06PM ??         0:00.79 /usr/sbin/distnoted agent\n",
      "  242   301     1   0 Fri06PM ??         0:00.76 /usr/sbin/distnoted agent\n",
      "    0   302     1   0 Fri06PM ??         0:00.02 /usr/sbin/BlueTool -R\n",
      "    0   303     1   0 Fri06PM ??         0:00.02 /System/Library/PrivateFrameworks/WiFiPolicy.framework/XPCServices/WiFiCloudAssetsXPCService.xpc/Contents/MacOS/WiFiCloudAssetsXPCService\n",
      "  205   304     1   0 Fri06PM ??         0:29.59 /usr/libexec/locationd\n",
      "    0   305     1   0 Fri06PM ??         0:00.11 /usr/libexec/biokitaggdd\n",
      "    0   307     1   0 Fri06PM ??         0:00.50 /usr/libexec/wifianalyticsd\n",
      "   89   309     1   0 Fri06PM ??         0:00.72 /usr/sbin/distnoted agent\n",
      "    0   313     1   0 Fri06PM ??         4:25.98 /usr/libexec/TouchBarServer\n",
      "    0   315     1   0 Fri06PM ??         0:00.03 /usr/libexec/colorsync.displayservices\n",
      "    0   316     1   0 Fri06PM ??         0:00.03 /usr/libexec/colorsyncd\n",
      "   55   317     1   0 Fri06PM ??         0:03.57 /System/Library/CoreServices/appleeventsd --server\n",
      "    0   319     1   0 Fri06PM ??         0:00.07 /System/Library/CoreServices/sharedfilelistd\n",
      "    0   321     1   0 Fri06PM ??         0:04.65 /System/Library/PrivateFrameworks/ViewBridge.framework/Versions/A/XPCServices/ViewBridgeAuxiliary.xpc/Contents/MacOS/ViewBridgeAuxiliary\n",
      "    0   324     1   0 Fri06PM ??         0:00.03 /usr/libexec/bootinstalld\n",
      "    0   325     1   0 Fri06PM ??         0:00.03 /System/Library/PrivateFrameworks/EmbeddedOSInstall.framework/Versions/A/XPCServices/EmbeddedOSInstallService.xpc/Contents/MacOS/EmbeddedOSInstallService\n",
      "    0   327     1   0 Fri06PM ??         0:01.63 /System/Library/Frameworks/ApplicationServices.framework/Versions/A/Frameworks/HIServices.framework/Versions/A/XPCServices/com.apple.hiservices-xpcservice.xpc/Contents/MacOS/com.apple.hiservices-xpcservice\n",
      "   92   329     1   0 Fri06PM ??         0:00.69 /usr/sbin/distnoted agent\n",
      "    0   330     1   0 Fri06PM ??         0:00.17 /System/Library/Frameworks/SystemExtensions.framework/Versions/A/Helpers/sysextd\n",
      "  262   331     1   0 Fri06PM ??         0:00.66 /usr/sbin/distnoted agent\n",
      "    0   332     1   0 Fri06PM ??         0:00.03 /System/Library/CoreServices/iconservicesagent runAsRoot\n",
      "    0   333     1   0 Fri06PM ??         0:00.04 /System/Library/PrivateFrameworks/AccountPolicy.framework/XPCServices/com.apple.AccountPolicyHelper.xpc/Contents/MacOS/com.apple.AccountPolicyHelper\n",
      "    0   334     1   0 Fri06PM ??         0:00.36 /System/Library/Frameworks/LocalAuthentication.framework/Support/coreauthd\n",
      "    0   335     1   0 Fri06PM ??         0:00.05 /System/Library/Frameworks/CryptoTokenKit.framework/ctkahp.bundle/Contents/MacOS/ctkahp -d\n",
      "    0   336     1   0 Fri06PM ??         0:00.06 /usr/libexec/wifip2pd\n",
      "    0   340     1   0 Fri06PM ??         0:00.33 /usr/sbin/systemsoundserverd\n",
      "  259   341     1   0 Fri06PM ??         0:00.03 /System/Library/Frameworks/CryptoTokenKit.framework/ctkd -s\n",
      "    0   342     1   0 Fri06PM ??         0:00.24 /usr/libexec/symptomsd-diag\n",
      "  258   344     1   0 Fri06PM ??         0:00.20 /usr/libexec/captiveagent\n",
      "  262   346     1   0 Fri06PM ??         0:00.20 /System/Library/Frameworks/CoreMediaIO.framework/Versions/A/Resources/UVCAssistant.systemextension/Contents/MacOS/UVCAssistant\n",
      "  205   348     1   0 Fri06PM ??         0:00.07 /usr/libexec/secd\n",
      "  278   351     1   0 Fri06PM ??         0:00.08 /System/Library/PrivateFrameworks/MobileAccessoryUpdater.framework/XPCServices/UARPUpdaterServiceDisplay.xpc/Contents/MacOS/UARPUpdaterServiceDisplay\n",
      "  278   352     1   0 Fri06PM ??         0:00.17 /System/Library/PrivateFrameworks/MobileAccessoryUpdater.framework/XPCServices/UARPUpdaterServiceUSBPD.xpc/Contents/MacOS/UARPUpdaterServiceUSBPD\n",
      "  278   353     1   0 Fri06PM ??         0:00.06 /System/Library/PrivateFrameworks/MobileAccessoryUpdater.framework/XPCServices/UARPUpdaterServiceHID.xpc/Contents/MacOS/UARPUpdaterServiceHID\n",
      "  278   354     1   0 Fri06PM ??         0:00.07 /System/Library/PrivateFrameworks/MobileAccessoryUpdater.framework/XPCServices/UARPUpdaterServiceLegacyAudio.xpc/Contents/MacOS/UARPUpdaterServiceLegacyAudio\n",
      "  278   355     1   0 Fri06PM ??         0:00.66 /usr/sbin/distnoted agent\n",
      "  278   356     1   0 Fri06PM ??         0:00.17 /System/Library/PrivateFrameworks/MobileAccessoryUpdater.framework/XPCServices/StandaloneHIDAudService.xpc/Contents/MacOS/StandaloneHIDAudService\n",
      "  278   357     1   0 Fri06PM ??         0:00.07 /System/Library/PrivateFrameworks/MobileAccessoryUpdater.framework/XPCServices/ThunderboltAccessoryUpdaterService.xpc/Contents/MacOS/ThunderboltAccessoryUpdaterService\n",
      "    0   358     1   0 Fri06PM ??         0:04.44 /usr/libexec/sysmond\n",
      "    0   359     1   0 Fri06PM ??         0:00.07 /System/Library/PrivateFrameworks/SiriInference.framework/Support/siriinferenced\n",
      "    0   360    94   0 Fri06PM ??         0:00.25 /usr/sbin/systemstats --logger-helper /private/var/db/systemstats\n",
      "    0   361     1   0 Fri06PM ??         0:01.52 /System/Library/PrivateFrameworks/AmbientDisplay.framework/Versions/A/XPCServices/com.apple.AmbientDisplayAgent.xpc/Contents/MacOS/com.apple.AmbientDisplayAgent\n",
      "  270   362     1   0 Fri06PM ??         0:00.01 /System/Library/DriverExtensions/IOUserBluetoothSerialDriver.dext/IOUserBluetoothSerialDriver com.apple.IOUserBluetoothSerialDriver 0x1000006cd com.apple.IOUserBluetoothSerialDriver\n",
      "  270   363     1   0 Fri06PM ??         0:00.00 /System/Library/DriverExtensions/IOUserBluetoothSerialDriver.dext/IOUserBluetoothSerialDriver com.apple.IOUserBluetoothSerialDriver 0x1000006ce com.apple.IOUserBluetoothSerialDriver\n",
      "    0   364     1   0 Fri06PM ??         0:00.32 /System/Library/CoreServices/ReportCrash daemon\n",
      "  269   366     1   0 Fri06PM ??         0:00.63 /usr/sbin/distnoted agent\n",
      "    0   368     1   0 Fri06PM ??         0:00.01 /usr/libexec/smd\n",
      "    0   371     1   0 Fri06PM ??         0:00.05 /System/Library/Frameworks/GSS.framework/Helpers/GSSCred\n",
      "  501   375     1   0 Fri06PM ??         0:44.83 /usr/sbin/distnoted agent\n",
      "  501   376     1   0 Fri06PM ??         0:00.19 /System/Library/Frameworks/LocalAuthentication.framework/Support/coreauthd\n",
      "  501   377     1   0 Fri06PM ??         0:25.98 /usr/sbin/cfprefsd agent\n",
      "    0   378     1   0 Fri06PM ??         0:00.03 /usr/libexec/securityd_service\n",
      "  501   379     1   0 Fri06PM ??         0:04.27 /usr/libexec/UserEventAgent (Aqua)\n",
      "  247   380     1   0 Fri06PM ??         0:02.27 /usr/libexec/gamecontrollerd\n",
      "  501   382     1   0 Fri06PM ??         0:05.93 /usr/libexec/knowledge-agent\n",
      "  501   384     1   0 Fri06PM ??         0:05.46 /usr/libexec/lsd\n",
      "  501   385     1   0 Fri06PM ??         0:00.18 /System/Library/PrivateFrameworks/CloudServices.framework/Helpers/com.apple.sbd\n",
      "  501   386     1   0 Fri06PM ??         0:02.47 /System/Library/PrivateFrameworks/TCC.framework/Support/tccd\n",
      "  501   387     1   0 Fri06PM ??         0:01.71 /System/Library/PrivateFrameworks/iTunesCloud.framework/Support/itunescloudd\n",
      "  501   388     1   0 Fri06PM ??         0:00.01 /System/Library/Frameworks/CoreServices.framework/Versions/A/Frameworks/CarbonCore.framework/Versions/A/XPCServices/csnameddatad.xpc/Contents/MacOS/csnameddatad\n",
      "  501   389     1   0 Fri06PM ??         0:23.45 /usr/libexec/trustd --agent\n",
      "  501   391     1   0 Fri06PM ??         0:04.97 /usr/libexec/secd\n",
      "  501   392     1   0 Fri06PM ??         0:07.18 /System/Library/Frameworks/Accounts.framework/Versions/A/Support/accountsd\n",
      "  501   393     1   0 Fri06PM ??        22:31.74 /Applications/Google Chrome.app/Contents/MacOS/Google Chrome\n",
      "  501   394     1   0 Fri06PM ??         0:00.08 /System/Library/CoreServices/backgroundtaskmanagementagent\n",
      "  501   395     1   0 Fri06PM ??         0:00.27 /System/Library/CoreServices/sharedfilelistd\n",
      "  501   396     1   0 Fri06PM ??         0:00.24 /System/Library/Frameworks/Security.framework/Versions/A/XPCServices/TrustedPeersHelper.xpc/Contents/MacOS/TrustedPeersHelper\n",
      "  501   397     1   0 Fri06PM ??         0:03.29 /System/Library/Frameworks/CoreTelephony.framework/Support/CommCenter -L\n",
      "  501   398     1   0 Fri06PM ??         0:00.02 /System/Library/CoreServices/APFSUserAgent\n",
      "  501   399     1   0 Fri06PM ??         0:00.88 /System/Library/PrivateFrameworks/PassKitCore.framework/passd\n",
      "  501   401     1   0 Fri06PM ??         0:31.84 /System/Library/PrivateFrameworks/CoreDuetContext.framework/Resources/ContextStoreAgent\n",
      "  501   402     1   0 Fri06PM ??         0:07.24 /System/Library/CoreServices/lockoutagent\n",
      "  501   403     1   0 Fri06PM ??         0:04.75 /usr/libexec/nsurlsessiond\n",
      "  501   404     1   0 Fri06PM ??         0:01.58 /usr/libexec/rapportd\n",
      "  501   405     1   0 Fri06PM ??         0:44.60 /Applications/Microsoft Teams.app/Contents/MacOS/Teams\n",
      "  501   406     1   0 Fri06PM ??         0:04.87 /usr/libexec/routined LAUNCHED_BY_LAUNCHD\n",
      "  501   407     1   0 Fri06PM ??         0:02.91 /System/Library/PrivateFrameworks/AssistantServices.framework/Versions/A/Support/assistantd\n",
      "  501   408     1   0 Fri06PM ??         0:00.97 /System/Library/PrivateFrameworks/CloudDocsDaemon.framework/Versions/A/Support/bird\n",
      "  501   409     1   0 Fri06PM ??         0:05.78 /System/Library/PrivateFrameworks/VoiceShortcuts.framework/Versions/A/Support/siriactionsd\n",
      "  501   410     1   0 Fri06PM ??         0:01.96 /usr/libexec/networkserviceproxy\n",
      "  501   411     1   0 Fri06PM ??         0:01.23 /System/Library/PrivateFrameworks/AuthKit.framework/Versions/A/Support/akd\n",
      "  501   412     1   0 Fri06PM ??         0:00.66 /usr/libexec/swcd\n",
      "  501   413     1   0 Fri06PM ??         0:01.13 /usr/libexec/dmd\n",
      "  501   414     1   0 Fri06PM ??         0:11.09 /System/Library/PrivateFrameworks/ScreenTimeCore.framework/Versions/A/ScreenTimeAgent\n",
      "  501   415     1   0 Fri06PM ??         0:00.16 /usr/libexec/siriknowledged\n",
      "  501   416     1   0 Fri06PM ??        11:23.82 /Applications/Visual Studio Code.app/Contents/MacOS/Electron\n",
      "  501   417     1   0 Fri06PM ??         0:00.55 /usr/libexec/secinitd\n",
      "  501   418     1   0 Fri06PM ??         1:18.22 /Applications/KakaoTalk.app/Contents/MacOS/KakaoTalk\n",
      "  501   419     1   0 Fri06PM ??         0:08.18 /System/Library/PrivateFrameworks/ViewBridge.framework/Versions/A/XPCServices/ViewBridgeAuxiliary.xpc/Contents/MacOS/ViewBridgeAuxiliary\n",
      "  501   420     1   0 Fri06PM ??         0:02.23 /usr/libexec/containermanagerd --runmode=agent --bundle-container-mode=global --bundle-container-owner=_appinstalld --system-container-mode=none\n",
      "  501   421     1   0 Fri06PM ??         0:01.12 /System/Library/CoreServices/talagent\n",
      "  501   422     1   0 Fri06PM ??         0:28.30 /System/Library/CoreServices/Dock.app/Contents/MacOS/Dock\n",
      "  265   423     1   0 Fri06PM ??         0:00.55 /System/Library/PrivateFrameworks/CoreADI.framework/adid\n",
      "  501   424     1   0 Fri06PM ??         4:35.34 /System/Library/CoreServices/ControlCenter.app/Contents/MacOS/ControlCenter\n",
      "  501   425     1   0 Fri06PM ??         0:01.74 /System/Library/PrivateFrameworks/IDS.framework/identityservicesd.app/Contents/MacOS/identityservicesd\n",
      "  501   426     1   0 Fri06PM ??         0:03.93 /System/Library/CoreServices/SystemUIServer.app/Contents/MacOS/SystemUIServer\n",
      "  260   427     1   0 Fri06PM ??         0:00.39 /usr/libexec/nfcd\n",
      "  501   428     1   0 Fri06PM ??         0:37.15 /System/Library/CoreServices/Finder.app/Contents/MacOS/Finder\n",
      "  501   431     1   0 Fri06PM ??         0:03.21 /System/Library/PrivateFrameworks/AppSSO.framework/Support/AppSSOAgent.app/Contents/MacOS/AppSSOAgent\n",
      "  501   432     1   0 Fri06PM ??         0:04.17 /usr/libexec/pkd\n",
      "  501   433     1   0 Fri06PM ??         0:10.63 /usr/libexec/pboard\n",
      "  501   434     1   0 Fri06PM ??         0:01.21 /usr/sbin/usernoted\n",
      "    0   435     1   0 Fri06PM ??         0:00.23 /usr/sbin/filecoordinationd\n",
      "  501   436     1   0 Fri06PM ??         0:01.37 /System/Library/Frameworks/Contacts.framework/Support/contactsd\n",
      "  501   437     1   0 Fri06PM ??         0:01.05 /System/Library/PrivateFrameworks/DoNotDisturbServer.framework/Support/donotdisturbd\n",
      "  501   438     1   0 Fri06PM ??         0:15.61 /System/Library/CoreServices/NotificationCenter.app/Contents/MacOS/NotificationCenter\n",
      "  501   439     1   0 Fri06PM ??         0:17.78 /System/Library/PrivateFrameworks/CalendarAgent.framework/Executables/CalendarAgent\n",
      "  501   440     1   0 Fri06PM ??         0:01.70 /System/Library/Frameworks/QuickLookUI.framework/Versions/A/XPCServices/QuickLookUIService.xpc/Contents/MacOS/QuickLookUIService\n",
      "   55   441     1   0 Fri06PM ??         0:00.63 /usr/sbin/distnoted agent\n",
      "  501   442     1   0 Fri06PM ??         0:06.15 /System/Library/PrivateFrameworks/CloudKitDaemon.framework/Support/cloudd\n",
      "  501   443     1   0 Fri06PM ??         0:00.68 /System/Library/PrivateFrameworks/FamilyCircle.framework/Versions/A/Resources/familycircled\n",
      "  501   444     1   0 Fri06PM ??         0:04.91 /System/Library/CoreServices/Spotlight.app/Contents/MacOS/Spotlight\n",
      "  501   445     1   0 Fri06PM ??         0:00.46 /System/Library/PrivateFrameworks/BiomeStreams.framework/Support/BiomeAgent\n",
      "    0   446     1   0 Fri06PM ??         0:00.03 automountd\n",
      "  501   448     1   0 Fri06PM ??         0:01.37 /System/Library/PrivateFrameworks/AMPDevices.framework/Versions/A/Support/AMPDeviceDiscoveryAgent --launchd\n",
      "  501   449     1   0 Fri06PM ??         0:00.83 /System/Library/CoreServices/iconservicesagent\n",
      "  501   450     1   0 Fri06PM ??         0:01.57 /Applications/iRightMouse Lite.app/Contents/PlugIns/iRightMouseExtension.appex/Contents/MacOS/iRightMouseExtension -AppleLanguages (\"ko-KR\")\n",
      "  501   451     1   0 Fri06PM ??         0:05.94 /System/Library/Frameworks/ApplicationServices.framework/Versions/A/Frameworks/HIServices.framework/Versions/A/XPCServices/com.apple.hiservices-xpcservice.xpc/Contents/MacOS/com.apple.hiservices-xpcservice\n",
      "  501   453     1   0 Fri06PM ??         0:00.09 /System/Library/Frameworks/CryptoTokenKit.framework/ctkd -tw\n",
      "  501   454     1   0 Fri06PM ??         0:03.23 /System/Library/PrivateFrameworks/CalendarNotification.framework/Versions/A/XPCServices/CalNCService.xpc/Contents/MacOS/CalNCService\n",
      "  501   455     1   0 Fri06PM ??         0:03.00 /System/Library/PrivateFrameworks/CoreParsec.framework/parsecd\n",
      "  501   456     1   0 Fri06PM ??         0:01.20 /Applications/Keka.app/Contents/PlugIns/KekaFinderIntegration.appex/Contents/MacOS/KekaFinderIntegration -AppleLanguages (\"ko-KR\")\n",
      "  501   457     1   0 Fri06PM ??         0:05.80 /System/Library/PrivateFrameworks/TelephonyUtilities.framework/callservicesd\n",
      "  501   458     1   0 Fri06PM ??         0:00.23 /System/Library/PrivateFrameworks/CoreEmbeddedSpeechRecognition.framework/Versions/A/XPCServices/com.apple.siri.embeddedspeech.xpc/Contents/MacOS/com.apple.siri.embeddedspeech\n",
      "  501   459     1   0 Fri06PM ??         0:01.99 /System/Library/PrivateFrameworks/HomeKitDaemon.framework/Support/homed\n",
      "  501   460     1   0 Fri06PM ??         0:02.60 /usr/libexec/triald\n",
      "  501   461     1   0 Fri06PM ??         0:00.16 /usr/libexec/avconferenced\n",
      "  501   462     1   0 Fri06PM ??         0:07.63 /System/Library/Frameworks/ApplicationServices.framework/Frameworks/ATS.framework/Support/fontd\n",
      "  501   463     1   0 Fri06PM ??         0:00.98 /System/Library/PrivateFrameworks/FileProvider.framework/Support/fileproviderd\n",
      "  501   464     1   0 Fri06PM ??         0:00.83 /System/Library/Frameworks/ApplicationServices.framework/Versions/A/Frameworks/ATS.framework/Versions/A/Support/fontworker\n",
      "  501   465     1   0 Fri06PM ??         0:02.01 /System/Library/PrivateFrameworks/GeoServices.framework/Versions/A/XPCServices/com.apple.geod.xpc/Contents/MacOS/com.apple.geod\n",
      "  501   467     1   0 Fri06PM ??         0:12.08 /System/Library/CoreServices/ControlStrip.app/Contents/MacOS/ControlStrip\n",
      "  501   468     1   0 Fri06PM ??         0:00.12 /System/Library/Frameworks/AudioToolbox.framework/AudioComponentRegistrar\n",
      "  501   469     1   0 Fri06PM ??         0:00.14 /System/Library/Frameworks/AudioToolbox.framework/XPCServices/CarbonComponentScannerXPC.xpc/Contents/MacOS/CarbonComponentScannerXPC\n",
      "  501   470     1   0 Fri06PM ??         0:11.23 /System/Library/CoreServices/WiFiAgent.app/Contents/MacOS/WiFiAgent\n",
      "  501   471     1   0 Fri06PM ??         0:00.40 /System/Library/PrivateFrameworks/StatusKit.framework/StatusKitAgent\n",
      "  501   472     1   0 Fri06PM ??         0:00.59 /System/Library/PrivateFrameworks/IMCore.framework/imagent.app/Contents/MacOS/imagent\n",
      "  501   473     1   0 Fri06PM ??         0:06.87 /usr/libexec/sharingd\n",
      "  501   475     1   0 Fri06PM ??         0:00.38 /System/Library/Frameworks/QuickLookThumbnailing.framework/Support/com.apple.quicklook.ThumbnailsAgent\n",
      "    0   476     1   0 Fri06PM ??         0:01.94 /usr/sbin/WirelessRadioManagerd\n",
      "  501   477     1   0 Fri06PM ??         0:00.31 /System/Library/PrivateFrameworks/SyncedDefaults.framework/Support/syncdefaultsd\n",
      "  501   478     1   0 Fri06PM ??         0:00.04 /System/Library/Frameworks/AudioToolbox.framework/XPCServices/com.apple.audio.SandboxHelper.xpc/Contents/MacOS/com.apple.audio.SandboxHelper\n",
      "  501   479     1   0 Fri06PM ??         0:00.11 /System/Library/PrivateFrameworks/TelephonyUtilities.framework/XPCServices/com.apple.FaceTime.FTConversationService.xpc/Contents/MacOS/com.apple.FaceTime.FTConversationService\n",
      "  501   480     1   0 Fri06PM ??         0:03.55 /System/Library/CoreServices/CoreServicesUIAgent.app/Contents/MacOS/CoreServicesUIAgent\n",
      "  501   481     1   0 Fri06PM ??         0:01.36 /System/Library/PrivateFrameworks/IMDPersistence.framework/XPCServices/IMDPersistenceAgent.xpc/Contents/MacOS/IMDPersistenceAgent\n",
      "  501   482     1   0 Fri06PM ??         0:00.15 /usr/libexec/WiFiVelocityAgent\n",
      "  501   483     1   0 Fri06PM ??         0:02.58 /System/Library/PrivateFrameworks/UserActivity.framework/Agents/useractivityd\n",
      "  501   484     1   0 Fri06PM ??         0:02.22 /System/Library/CoreServices/Dock.app/Contents/XPCServices/com.apple.dock.extra.xpc/Contents/MacOS/com.apple.dock.extra\n",
      "    0   485     1   0 Fri06PM ??         0:00.63 /usr/libexec/wifivelocityd\n",
      "  501   486     1   0 Fri06PM ??         0:00.51 /System/Library/PrivateFrameworks/MediaRemote.framework/Support/mediaremoteagent\n",
      "  501   487     1   0 Fri06PM ??         0:00.77 /System/Library/Frameworks/InputMethodKit.framework/Resources/imklaunchagent\n",
      "  501   488     1   0 Fri06PM ??         0:00.07 /System/Library/CoreServices/pbs\n",
      "  501   489     1   0 Fri06PM ??         0:03.82 /System/Library/Input Methods/PressAndHold.app/Contents/PlugIns/PAH_Extension.appex/Contents/MacOS/PAH_Extension -AppleLanguages (\"ko-KR\")\n",
      "  501   490     1   0 Fri06PM ??         0:00.41 /System/Library/PrivateFrameworks/CallHistory.framework/Support/CallHistoryPluginHelper\n",
      "  501   491     1   0 Fri06PM ??         0:00.60 /usr/libexec/fmfd\n",
      "  501   494     1   0 Fri06PM ??         0:00.18 /usr/libexec/neagent\n",
      "  501   495     1   0 Fri06PM ??         0:05.65 /System/Library/CoreServices/CoreLocationAgent.app/Contents/MacOS/CoreLocationAgent\n",
      "  501   496     1   0 Fri06PM ??         0:00.41 /System/Library/PrivateFrameworks/ContextKit.framework/Versions/A/XPCServices/ContextService.xpc/Contents/MacOS/ContextService\n",
      "  501   497     1   0 Fri06PM ??         0:00.51 /System/Library/PrivateFrameworks/Categories.framework/Versions/A/XPCServices/CategoriesService.xpc/Contents/MacOS/CategoriesService\n",
      "  501   498     1   0 Fri06PM ??         0:00.53 /System/Library/PrivateFrameworks/iCloudNotification.framework/iCloudNotificationAgent\n",
      "  501   499     1   0 Fri06PM ??         0:00.27 /System/Library/PrivateFrameworks/Categories.framework/Versions/A/XPCServices/CategoriesService.xpc/Contents/MacOS/CategoriesService\n",
      "  501   500     1   0 Fri06PM ??         0:00.09 /System/Library/PrivateFrameworks/Categories.framework/Versions/A/XPCServices/CategoriesService.xpc/Contents/MacOS/CategoriesService\n",
      "  501   501     1   0 Fri06PM ??         0:00.03 /System/Library/PrivateFrameworks/Categories.framework/Versions/A/XPCServices/CategoriesService.xpc/Contents/MacOS/CategoriesService\n",
      "  501   502     1   0 Fri06PM ??         0:00.11 /System/Library/PrivateFrameworks/CloudDocsDaemon.framework/XPCServices/ContainerMetadataExtractor.xpc/Contents/MacOS/ContainerMetadataExtractor\n",
      "  501   503     1   0 Fri06PM ??         0:00.02 /System/Library/PrivateFrameworks/CommunicationsFilter.framework/CMFSyncAgent\n",
      "  501   504     1   0 Fri06PM ??         0:00.85 /usr/libexec/adprivacyd\n",
      "  501   505     1   0 Fri06PM ??         0:01.94 /System/Library/PrivateFrameworks/UsageTracking.framework/Versions/A/UsageTrackingAgent\n",
      "  501   507     1   0 Fri06PM ??         0:00.10 /usr/libexec/diagnosticextensionsd\n",
      "  501   508     1   0 Fri06PM ??         0:00.17 /System/Library/PrivateFrameworks/CoreCDP.framework/Versions/A/Resources/cdpd\n",
      "  501   509     1   0 Fri06PM ??         0:00.10 /System/Library/PrivateFrameworks/ProtectedCloudStorage.framework/Helpers/ProtectedCloudKeySyncing\n",
      "  501   510     1   0 Fri06PM ??         0:01.10 /System/Library/CoreServices/Keychain Circle Notification.app/Contents/MacOS/Keychain Circle Notification\n",
      "  501   512     1   0 Fri06PM ??         0:00.11 /System/Library/Frameworks/Security.framework/Versions/A/Resources/CloudKeychainProxy.bundle/Contents/MacOS/CloudKeychainProxy\n",
      "  501   513     1   0 Fri06PM ??         0:00.04 /System/Library/PrivateFrameworks/CoreFollowUp.framework/Versions/A/Support/followupd\n",
      "  501   514     1   0 Fri06PM ??         0:00.16 /System/Library/PrivateFrameworks/CommerceKit.framework/Versions/A/Resources/commerce\n",
      "  501   515     1   0 Fri06PM ??         0:00.01 SafeEjectGPUAgent\n",
      "  501   516     1   0 Fri06PM ??         0:00.02 /System/Library/CoreServices/Menu Extras/SafeEjectGPUExtra.menu/Contents/XPCServices/SafeEjectGPUService.xpc/Contents/MacOS/SafeEjectGPUService\n",
      "  501   517     1   0 Fri06PM ??         0:00.36 /System/Library/PrivateFrameworks/AssetCacheServices.framework/Versions/A/XPCServices/AssetCacheLocatorService.xpc/Contents/MacOS/AssetCacheLocatorService -a\n",
      "  235   518     1   0 Fri06PM ??         0:00.08 /usr/libexec/AssetCache/AssetCache\n",
      "  235   519     1   0 Fri06PM ??         0:00.61 /usr/sbin/distnoted agent\n",
      "    0   520     1   0 Fri06PM ??         0:00.06 /System/Library/PrivateFrameworks/AssetCacheServicesExtensions.framework/XPCServices/AssetCacheTetheratorService.xpc/Contents/MacOS/AssetCacheTetheratorService\n",
      "    0   521     1   0 Fri06PM ??         0:01.62 /usr/libexec/rtcreportingd\n",
      "  501   523     1   0 Fri06PM ??         0:00.03 /Applications/Microsoft Teams.app/Contents/Frameworks/Electron Framework.framework/Helpers/chrome_crashpad_handler --no-rate-limit --monitor-self-annotation=ptype=crashpad-handler --database=/Users/main/Library/Application Support/Microsoft/Teams/Crashpad --url=appcenter://generic?aid=01423867-e208-4ad2-a2b9-cd6e0580e510&uid=e3bef3450eb77d24bcbc1a0c7ea9def0c4159d8f0109bff8fdcc4d725579ec71 --annotation=_companyName=Microsoft --annotation=_productName=com.microsoft.teams --annotation=_version=1.5.00.21551 --annotation=logsFilePath= --annotation=prod=Electron --annotation=sessionId=desktop-749a0db2-5b45-49d3-b2c5-12c3d1569bf3 --annotation=ver=16.2.8 --handshake-fd=29\n",
      "  501   524   405   0 Fri06PM ??         0:13.49 /Applications/Microsoft Teams.app/Contents/Frameworks/Microsoft Teams Helper (GPU).app/Contents/MacOS/Microsoft Teams Helper (GPU) --type=gpu-process --field-trial-handle=1718379636,18232531750617395286,10019874565253512972,131072 --enable-features=ContextBridgeMutability,SharedArrayBuffer --disable-features=CalculateNativeWinOcclusion,ForcedColors,MediaFoundationAsyncH264Encoding,PlzServiceWorker,SpareRendererForSitePerProcess --user-data-dir=/Users/main/Library/Application Support/Microsoft/Teams --gpu-preferences=UAAAAAAAAAAgAAAAAAAAAAAAAAAAAAAAAABgAAAAAAAwAAAAAAAAAAAAAAAAAAAAAAAAAAAAAAAAAAAAAAAAACgFAAAAAAAAKAUAAAAAAAC4AQAANgAAALABAAAAAAAAuAEAAAAAAADAAQAAAAAAAMgBAAAAAAAA0AEAAAAAAADYAQAAAAAAAOABAAAAAAAA6AEAAAAAAADwAQAAAAAAAPgBAAAAAAAAAAIAAAAAAAAIAgAAAAAAABACAAAAAAAAGAIAAAAAAAAgAgAAAAAAACgCAAAAAAAAMAIAAAAAAAA4AgAAAAAAAEACAAAAAAAASAIAAAAAAABQAgAAAAAAAFgCAAAAAAAAYAIAAAAAAABoAgAAAAAAAHACAAAAAAAAeAIAAAAAAACAAgAAAAAAAIgCAAAAAAAAkAIAAAAAAACYAgAAAAAAAKACAAAAAAAAqAIAAAAAAACwAgAAAAAAALgCAAAAAAAAwAIAAAAAAADIAgAAAAAAANACAAAAAAAA2AIAAAAAAADgAgAAAAAAAOgCAAAAAAAA8AIAAAAAAAD4AgAAAAAAAAADAAAAAAAACAMAAAAAAAAQAwAAAAAAABgDAAAAAAAAIAMAAAAAAAAoAwAAAAAAADADAAAAAAAAOAMAAAAAAABAAwAAAAAAAEgDAAAAAAAAUAMAAAAAAABYAwAAAAAAABAAAAAAAAAAAAAAAAAAAAAQAAAAAAAAAAAAAAACAAAAEAAAAAAAAAAAAAAABgAAABAAAAAAAAAAAAAAAAcAAAAQAAAAAAAAAAAAAAAIAAAAEAAAAAAAAAAAAAAACgAAABAAAAAAAAAAAAAAAAsAAAAQAAAAAAAAAAAAAAANAAAAEAAAAAAAAAAAAAAADgAAABAAAAAAAAAAAQAAAAAAAAAQAAAAAAAAAAEAAAACAAAAEAAAAAAAAAABAAAABgAAABAAAAAAAAAAAQAAAAcAAAAQAAAAAAAAAAEAAAAIAAAAEAAAAAAAAAABAAAACgAAABAAAAAAAAAAAQAAAAsAAAAQAAAAAAAAAAEAAAANAAAAEAAAAAAAAAABAAAADgAAABAAAAAAAAAABAAAAAAAAAAQAAAAAAAAAAQAAAACAAAAEAAAAAAAAAAEAAAABgAAABAAAAAAAAAABAAAAAcAAAAQAAAAAAAAAAQAAAAIAAAAEAAAAAAAAAAEAAAACgAAABAAAAAAAAAABAAAAAsAAAAQAAAAAAAAAAQAAAANAAAAEAAAAAAAAAAEAAAADgAAABAAAAAAAAAABwAAAAAAAAAQAAAAAAAAAAcAAAACAAAAEAAAAAAAAAAHAAAABgAAABAAAAAAAAAABwAAAAcAAAAQAAAAAAAAAAcAAAAIAAAAEAAAAAAAAAAHAAAACgAAABAAAAAAAAAABwAAAAsAAAAQAAAAAAAAAAcAAAANAAAAEAAAAAAAAAAHAAAADgAAABAAAAAAAAAACAAAAAAAAAAQAAAAAAAAAAgAAAACAAAAEAAAAAAAAAAIAAAABgAAABAAAAAAAAAACAAAAAcAAAAQAAAAAAAAAAgAAAAIAAAAEAAAAAAAAAAIAAAACgAAABAAAAAAAAAACAAAAAsAAAAQAAAAAAAAAAgAAAANAAAAEAAAAAAAAAAIAAAADgAAABAAAAAAAAAACgAAAAAAAAAQAAAAAAAAAAoAAAACAAAAEAAAAAAAAAAKAAAABgAAABAAAAAAAAAACgAAAAcAAAAQAAAAAAAAAAoAAAAIAAAAEAAAAAAAAAAKAAAACgAAABAAAAAAAAAACgAAAAsAAAAQAAAAAAAAAAoAAAANAAAAEAAAAAAAAAAKAAAADgAAAAgAAAAAAAAACAAAAAAAAAA= --shared-files --seatbelt-client=43\n",
      "  501   525   405   0 Fri06PM ??         0:05.89 /Applications/Microsoft Teams.app/Contents/Frameworks/Microsoft Teams Helper.app/Contents/MacOS/Microsoft Teams Helper --type=utility --utility-sub-type=network.mojom.NetworkService --field-trial-handle=1718379636,18232531750617395286,10019874565253512972,131072 --enable-features=ContextBridgeMutability,SharedArrayBuffer --disable-features=CalculateNativeWinOcclusion,ForcedColors,MediaFoundationAsyncH264Encoding,PlzServiceWorker,SpareRendererForSitePerProcess --lang=ko --service-sandbox-type=network --user-data-dir=/Users/main/Library/Application Support/Microsoft/Teams --ms-teams-less-cors=522133263 --shared-files --seatbelt-client=44\n",
      "  501   527   405   0 Fri06PM ??         0:00.61 /Applications/Microsoft Teams.app/Contents/Frameworks/Microsoft Teams Helper (Renderer).app/Contents/MacOS/Microsoft Teams Helper (Renderer) --type=renderer --user-data-dir=/Users/main/Library/Application Support/Microsoft/Teams --ms-teams-less-cors=522133263 --app-path=/Applications/Microsoft Teams.app/Contents/Resources/app.asar --enable-sandbox --autoplay-policy=no-user-gesture-required --disable-background-timer-throttling --field-trial-handle=1718379636,18232531750617395286,10019874565253512972,131072 --enable-features=ContextBridgeMutability,SharedArrayBuffer --disable-features=CalculateNativeWinOcclusion,ForcedColors,MediaFoundationAsyncH264Encoding,PlzServiceWorker,SpareRendererForSitePerProcess --lang=ko --num-raster-threads=4 --enable-zero-copy --enable-gpu-memory-buffer-compositor-resources --enable-main-frame-before-activation --renderer-client-id=6 --shared-files --msteams-process-type=notificationsManager --seatbelt-client=56\n",
      "    0   528     1   0 Fri06PM ??         0:00.04 /System/Library/Frameworks/OpenGL.framework/Versions/A/Libraries/CVMServer\n",
      "  501   529     1   0 Fri06PM ??         0:00.13 /System/Library/Frameworks/VideoToolbox.framework/Versions/A/XPCServices/VTDecoderXPCService.xpc/Contents/MacOS/VTDecoderXPCService\n",
      "  501   530     1   0 Fri06PM ??         0:01.93 /System/Library/Frameworks/CoreServices.framework/Frameworks/Metadata.framework/Versions/A/Support/corespotlightd\n",
      "  501   531     1   0 Fri06PM ??         0:00.11 /System/Library/Frameworks/VideoToolbox.framework/Versions/A/XPCServices/VTEncoderXPCService.xpc/Contents/MacOS/VTEncoderXPCService\n",
      "  501   532   405   0 Fri06PM ??         3:11.88 /Applications/Microsoft Teams.app/Contents/Frameworks/Microsoft Teams Helper (Renderer).app/Contents/MacOS/Microsoft Teams Helper (Renderer) --type=renderer --user-data-dir=/Users/main/Library/Application Support/Microsoft/Teams --ms-teams-less-cors=522133263 --app-path=/Applications/Microsoft Teams.app/Contents/Resources/app.asar --enable-sandbox --ms-allow-videorenderer --autoplay-policy=no-user-gesture-required --disable-background-timer-throttling --field-trial-handle=1718379636,18232531750617395286,10019874565253512972,131072 --enable-features=ContextBridgeMutability,SharedArrayBuffer --disable-features=CalculateNativeWinOcclusion,ForcedColors,MediaFoundationAsyncH264Encoding,PlzServiceWorker,SpareRendererForSitePerProcess --lang=ko --num-raster-threads=4 --enable-zero-copy --enable-gpu-memory-buffer-compositor-resources --enable-main-frame-before-activation --renderer-client-id=4 --shared-files --msteams-process-type=main-renderer --msteams-rendererid=main-renderer --seatbelt-client=65\n",
      "  501   533   405   0 Fri06PM ??         0:01.16 /Applications/Microsoft Teams.app/Contents/Frameworks/Microsoft Teams Helper.app/Contents/MacOS/Microsoft Teams Helper --type=utility --utility-sub-type=audio.mojom.AudioService --field-trial-handle=1718379636,18232531750617395286,10019874565253512972,131072 --enable-features=ContextBridgeMutability,SharedArrayBuffer --disable-features=CalculateNativeWinOcclusion,ForcedColors,MediaFoundationAsyncH264Encoding,PlzServiceWorker,SpareRendererForSitePerProcess --lang=ko --service-sandbox-type=audio --message-loop-type-ui --user-data-dir=/Users/main/Library/Application Support/Microsoft/Teams --ms-teams-less-cors=522133263 --shared-files --seatbelt-client=70\n",
      "  501   534     1   0 Fri06PM ??         0:00.03 /System/Library/Frameworks/AudioToolbox.framework/XPCServices/com.apple.audio.SandboxHelper.xpc/Contents/MacOS/com.apple.audio.SandboxHelper\n",
      "    0   535     1   0 Fri06PM ??         0:00.82 /System/Library/Frameworks/AudioToolbox.framework/XPCServices/CAReportingService.xpc/Contents/MacOS/CAReportingService\n",
      "    0   538     1   0 Fri06PM ??         0:00.59 /System/Library/PrivateFrameworks/CoreSymbolication.framework/coresymbolicationd\n",
      "  501   539     1   0 Fri06PM ??         0:00.32 /System/Library/PrivateFrameworks/CoreSpeech.framework/corespeechd\n",
      "  501   541     1   0 Fri06PM ??         0:16.45 /Library/Application Support/org.pqrs/Karabiner-Elements/bin/karabiner_console_user_server\n",
      "  501   546     1   0 Fri06PM ??         0:00.57 /System/Library/Image Capture/Support/icdd\n",
      "  501   549     1   0 Fri06PM ??         0:00.94 /System/Library/PrivateFrameworks/AskPermission.framework/Versions/A/Resources/askpermissiond\n",
      "    0   551     1   0 Fri06PM ??         0:08.62 /Library/Application Support/org.pqrs/Karabiner-Elements/bin/karabiner_session_monitor\n",
      "  501   552     1   0 Fri06PM ??         0:01.38 /System/Library/CoreServices/AirPlayUIAgent.app/Contents/MacOS/AirPlayUIAgent --launchd\n",
      "  501   553     1   0 Fri06PM ??         0:00.49 /System/Library/CoreServices/cloudpaird\n",
      "  501   554     1   0 Fri06PM ??         0:04.82 /System/Library/CoreServices/diagnostics_agent\n",
      "  501   555     1   0 Fri06PM ??         0:09.87 /System/Library/CoreServices/TextInputMenuAgent.app/Contents/MacOS/TextInputMenuAgent\n",
      "  501   556     1   0 Fri06PM ??         0:01.34 /System/Library/PrivateFrameworks/AppleMediaServices.framework/Resources/amsaccountsd\n",
      "  501   558     1   0 Fri06PM ??         0:00.07 /System/Library/Frameworks/CryptoTokenKit.framework/ctkahp.bundle/Contents/MacOS/ctkahp\n",
      "  501   559     1   0 Fri06PM ??         1:32.98 /Applications/Macs Fan Control.app/Contents/MacOS/Macs Fan Control\n",
      "  501   560     1   0 Fri06PM ??         1:54.31 /Applications/Pock.app/Contents/MacOS/Pock\n",
      "  501   561     1   0 Fri06PM ??         0:02.14 /System/Library/CoreServices/TextInputSwitcher.app/Contents/MacOS/TextInputSwitcher\n",
      "  501   562     1   0 Fri06PM ??         0:02.54 /System/Library/Frameworks/CoreServices.framework/Frameworks/Metadata.framework/Versions/A/Support/mdbulkimport -s mdworker-bundle -c MDSImporterBundleFinder -m com.apple.metadata.mdbulkimport\n",
      "  501   565   405   0 Fri06PM ??         0:51.23 /Applications/Microsoft Teams.app/Contents/Frameworks/Microsoft Teams Helper (Renderer).app/Contents/MacOS/Microsoft Teams Helper (Renderer) --type=renderer --user-data-dir=/Users/main/Library/Application Support/Microsoft/Teams --ms-teams-less-cors=522133263 --app-path=/Applications/Microsoft Teams.app/Contents/Resources/app.asar --enable-sandbox --enable-blink-features --disable-blink-features --ms-allow-videorenderer --ms-allow-video-extensibility --autoplay-policy=no-user-gesture-required --disable-background-timer-throttling --field-trial-handle=1718379636,18232531750617395286,10019874565253512972,131072 --enable-features=ContextBridgeMutability,SharedArrayBuffer --disable-features=CalculateNativeWinOcclusion,ForcedColors,MediaFoundationAsyncH264Encoding,PlzServiceWorker,SpareRendererForSitePerProcess --lang=ko --num-raster-threads=4 --enable-zero-copy --enable-gpu-memory-buffer-compositor-resources --enable-main-frame-before-activation --renderer-client-id=8 --shared-files --msteams-process-type=experience-renderer --seatbelt-client=97\n",
      "  501   566     1   0 Fri06PM ??         0:02.16 /System/Library/PrivateFrameworks/SafariPlatformSupport.framework/Versions/A/XPCServices/com.apple.SafariPlatformSupport.Helper.xpc/Contents/MacOS/com.apple.SafariPlatformSupport.Helper\n",
      "  501   567     1   0 Fri06PM ??         0:13.93 /System/Library/Input Methods/EmojiFunctionRowIM.app/Contents/PlugIns/EmojiFunctionRowIM_Extension.appex/Contents/MacOS/EmojiFunctionRowIM_Extension -AppleLanguages (\"ko-KR\")\n",
      "    0   568     1   0 Fri06PM ??         0:01.11 /System/Library/CoreServices/SubmitDiagInfo server-init\n",
      "  501   569     1   0 Fri06PM ??         0:00.02 /System/Library/PrivateFrameworks/CharacterPicker.framework/Versions/A/XPCServices/com.apple.CharacterPicker.FileService.xpc/Contents/MacOS/com.apple.CharacterPicker.FileService\n",
      "    0   588     1   0 Fri06PM ??         0:00.02 /System/Library/CoreServices/CrashReporterSupportHelper server-init\n",
      "  501   589   405   0 Fri06PM ??         0:25.10 /Applications/Microsoft Teams.app/Contents/Frameworks/Microsoft Teams Helper (Renderer).app/Contents/MacOS/Microsoft Teams Helper (Renderer) --type=renderer --user-data-dir=/Users/main/Library/Application Support/Microsoft/Teams --ms-teams-less-cors=522133263 --app-path=/Applications/Microsoft Teams.app/Contents/Resources/app.asar --no-sandbox --no-zygote --autoplay-policy=no-user-gesture-required --disable-background-timer-throttling --field-trial-handle=1718379636,18232531750617395286,10019874565253512972,131072 --enable-features=ContextBridgeMutability,SharedArrayBuffer --disable-features=CalculateNativeWinOcclusion,ForcedColors,MediaFoundationAsyncH264Encoding,PlzServiceWorker,SpareRendererForSitePerProcess --lang=ko --num-raster-threads=4 --enable-zero-copy --enable-gpu-memory-buffer-compositor-resources --enable-main-frame-before-activation --renderer-client-id=9 --shared-files --msteams-process-type=pluginHost\n",
      "  501   590     1   0 Fri06PM ??         0:02.95 /System/Library/PrivateFrameworks/AppleMediaServicesUI.framework/amsengagementd\n",
      "  501   591     1   0 Fri06PM ??         0:00.54 /Applications/Microsoft Teams.app/Contents/Resources/app.asar.unpacked/node_modules/slimcore/bin/vcxpc.xpc/Contents/MacOS/vcxpc\n",
      "  501   610     1   0 Fri06PM ??         0:03.16 /System/Library/PrivateFrameworks/SoftwareUpdate.framework/Resources/SoftwareUpdateNotificationManager.app/Contents/MacOS/SoftwareUpdateNotificationManager\n",
      "  501   614     1   0 Fri06PM ??         0:02.87 /Library/Application Support/org.pqrs/Karabiner-Elements/Karabiner-NotificationWindow.app/Contents/MacOS/Karabiner-NotificationWindow\n",
      "  501   620     1   0 Fri06PM ??         0:03.90 /Library/Application Support/org.pqrs/Karabiner-Elements/Karabiner-Menu.app/Contents/MacOS/Karabiner-Menu\n",
      "  501   622     1   0 Fri06PM ??         0:00.34 /Library/Apple/System/Library/CoreServices/SafariSupport.bundle/Contents/MacOS/SafariBookmarksSyncAgent\n",
      "  501   623     1   0 Fri06PM ??         0:00.41 /System/Library/Frameworks/ClassKit.framework/Versions/A/progressd\n",
      "  501   624     1   0 Fri06PM ??         0:13.88 /System/Library/Services/AppleSpell.service/Contents/MacOS/AppleSpell\n",
      "  501   625     1   0 Fri06PM ??         0:00.21 /usr/libexec/keyboardservicesd\n",
      "  501   627     1   0 Fri06PM ??         0:04.50 /System/Library/PrivateFrameworks/CoreSuggestions.framework/Versions/A/Support/suggestd\n",
      "  501   628     1   0 Fri06PM ??         0:00.05 /Library/Apple/System/Library/CoreServices/SafariSupport.bundle/Contents/MacOS/SafariLaunchAgent\n",
      "  501   629     1   0 Fri06PM ??         0:00.11 /System/Library/PrivateFrameworks/DistributedEvaluation.framework/Versions/A/XPCServices/com.apple.siri-distributed-evaluation.xpc/Contents/MacOS/com.apple.siri-distributed-evaluation\n",
      "  501   630     1   0 Fri06PM ??         0:02.63 /System/Library/PrivateFrameworks/AppStoreDaemon.framework/Support/appstoreagent\n",
      "  274   631     1   0 Fri06PM ??         0:00.04 /System/Library/PrivateFrameworks/InstallCoordination.framework/Support/installcoordinationd\n",
      "    0   632     1   0 Fri06PM ??         0:00.03 /System/Library/PrivateFrameworks/AppStoreDaemon.framework/Versions/A/XPCServices/com.apple.AppStoreDaemon.StorePrivilegedTaskService.xpc/Contents/MacOS/com.apple.AppStoreDaemon.StorePrivilegedTaskService\n",
      "  501   634     1   0 Fri06PM ??         0:00.25 /usr/libexec/mlruntimed\n",
      "  260   635     1   0 Fri06PM ??         0:00.29 /usr/libexec/seld\n",
      "  260   636     1   0 Fri06PM ??         0:00.59 /usr/sbin/distnoted agent\n",
      "  501   637     1   0 Fri06PM ??         0:00.81 /usr/libexec/promotedcontentd\n",
      "  501   638     1   0 Fri06PM ??         0:23.23 /System/Library/Input Methods/KoreanIM.app/Contents/PlugIns/KIM_Extension.appex/Contents/MacOS/KIM_Extension -AppleLanguages (\"ko-KR\")\n",
      "  501   639     1   0 Fri06PM ??         0:00.05 /System/Library/PrivateFrameworks/IDSBlastDoorSupport.framework/Versions/A/XPCServices/IDSBlastDoorService.xpc/Contents/MacOS/IDSBlastDoorService\n",
      "  501   643     1   0 Fri06PM ??         0:00.02 /System/Library/CoreServices/ReportCrash agent\n",
      "    0   660     1   0 Fri06PM ??         0:20.42 /usr/sbin/spindump\n",
      "  501   661     1   0 Fri06PM ??         0:00.02 /usr/libexec/spindump_agent\n",
      "  501   662     1   0 Fri06PM ??         0:02.14 /System/Library/PrivateFrameworks/PhotoLibraryServices.framework/Versions/A/Support/photolibraryd\n",
      "   89   684     1   0 Fri06PM ??         0:00.48 /usr/libexec/trustd --agent\n",
      "   89   686     1   0 Fri06PM ??         0:01.86 /System/Library/Frameworks/CoreServices.framework/Frameworks/Metadata.framework/Versions/A/Support/mdbulkimport -s mdworker-bundle -c MDSImporterBundleFinder -m com.apple.metadata.mdbulkimport\n",
      "   89   717     1   0 Fri06PM ??         0:00.09 /System/Library/Frameworks/CoreServices.framework/Frameworks/Metadata.framework/Versions/A/Support/mdworker -s mdworker-sizing -c MDSSizingWorker -m com.apple.mdworker.sizing\n",
      "  501   727     1   0 Fri06PM ??         0:00.04 /Applications/Google Chrome.app/Contents/Frameworks/Google Chrome Framework.framework/Versions/103.0.5060.134/Helpers/chrome_crashpad_handler --monitor-self-annotation=ptype=crashpad-handler --database=/Users/main/Library/Application Support/Google/Chrome/Crashpad --metrics-dir=/Users/main/Library/Application Support/Google/Chrome --url=https://clients2.google.com/cr/report --annotation=channel= --annotation=plat=OS X --annotation=prod=Chrome_Mac --annotation=ver=103.0.5060.134 --handshake-fd=5\n",
      "  501   736   393   0 Fri06PM ??        13:15.53 /Applications/Google Chrome.app/Contents/Frameworks/Google Chrome Framework.framework/Versions/103.0.5060.134/Helpers/Google Chrome Helper (GPU).app/Contents/MacOS/Google Chrome Helper (GPU) --type=gpu-process --metrics-client-id=a4496833-eec7-4073-8043-3729762090e3 --gpu-preferences=UAAAAAAAAAAgAAAIAAAAAAAAAAAAAAAAAABgAAAAAAAwAAAAAAAAAAAAAAAQAAAAAAAAAAAAAAAAAAAAAAAAAJgEAAAAAAAAmAQAAAAAAACIAQAAMAAAAIABAAAAAAAAiAEAAAAAAACQAQAAAAAAAJgBAAAAAAAAoAEAAAAAAACoAQAAAAAAALABAAAAAAAAuAEAAAAAAADAAQAAAAAAAMgBAAAAAAAA0AEAAAAAAADYAQAAAAAAAOABAAAAAAAA6AEAAAAAAADwAQAAAAAAAPgBAAAAAAAAAAIAAAAAAAAIAgAAAAAAABACAAAAAAAAGAIAAAAAAAAgAgAAAAAAACgCAAAAAAAAMAIAAAAAAAA4AgAAAAAAAEACAAAAAAAASAIAAAAAAABQAgAAAAAAAFgCAAAAAAAAYAIAAAAAAABoAgAAAAAAAHACAAAAAAAAeAIAAAAAAACAAgAAAAAAAIgCAAAAAAAAkAIAAAAAAACYAgAAAAAAAKACAAAAAAAAqAIAAAAAAACwAgAAAAAAALgCAAAAAAAAwAIAAAAAAADIAgAAAAAAANACAAAAAAAA2AIAAAAAAADgAgAAAAAAAOgCAAAAAAAA8AIAAAAAAAD4AgAAAAAAABAAAAAAAAAAAAAAAAAAAAAQAAAAAAAAAAAAAAAHAAAAEAAAAAAAAAAAAAAACAAAABAAAAAAAAAAAAAAAAkAAAAQAAAAAAAAAAAAAAALAAAAEAAAAAAAAAAAAAAADAAAABAAAAAAAAAAAAAAAA4AAAAQAAAAAAAAAAAAAAAPAAAAEAAAAAAAAAABAAAAAAAAABAAAAAAAAAAAQAAAAcAAAAQAAAAAAAAAAEAAAAIAAAAEAAAAAAAAAABAAAACQAAABAAAAAAAAAAAQAAAAsAAAAQAAAAAAAAAAEAAAAMAAAAEAAAAAAAAAABAAAADgAAABAAAAAAAAAAAQAAAA8AAAAQAAAAAAAAAAQAAAAAAAAAEAAAAAAAAAAEAAAABwAAABAAAAAAAAAABAAAAAgAAAAQAAAAAAAAAAQAAAAJAAAAEAAAAAAAAAAEAAAACwAAABAAAAAAAAAABAAAAAwAAAAQAAAAAAAAAAQAAAAOAAAAEAAAAAAAAAAEAAAADwAAABAAAAAAAAAABwAAAAAAAAAQAAAAAAAAAAcAAAAHAAAAEAAAAAAAAAAHAAAACAAAABAAAAAAAAAABwAAAAkAAAAQAAAAAAAAAAcAAAALAAAAEAAAAAAAAAAHAAAADAAAABAAAAAAAAAABwAAAA4AAAAQAAAAAAAAAAcAAAAPAAAAEAAAAAAAAAAIAAAAAAAAABAAAAAAAAAACAAAAAcAAAAQAAAAAAAAAAgAAAAIAAAAEAAAAAAAAAAIAAAACQAAABAAAAAAAAAACAAAAAsAAAAQAAAAAAAAAAgAAAAMAAAAEAAAAAAAAAAIAAAADgAAABAAAAAAAAAACAAAAA8AAAAQAAAAAAAAAAoAAAAAAAAAEAAAAAAAAAAKAAAABwAAABAAAAAAAAAACgAAAAgAAAAQAAAAAAAAAAoAAAAJAAAAEAAAAAAAAAAKAAAACwAAABAAAAAAAAAACgAAAAwAAAAQAAAAAAAAAAoAAAAOAAAAEAAAAAAAAAAKAAAADwAAAAgAAAAAAAAACAAAAAAAAAA= --shared-files --field-trial-handle=1718379636,r,10437062191916903311,13810114839974925934,131072 --seatbelt-client=25\n",
      "  501   737   393   0 Fri06PM ??         3:07.66 /Applications/Google Chrome.app/Contents/Frameworks/Google Chrome Framework.framework/Versions/103.0.5060.134/Helpers/Google Chrome Helper.app/Contents/MacOS/Google Chrome Helper --type=utility --utility-sub-type=network.mojom.NetworkService --lang=ko --service-sandbox-type=network --metrics-client-id=a4496833-eec7-4073-8043-3729762090e3 --shared-files --field-trial-handle=1718379636,r,10437062191916903311,13810114839974925934,131072 --seatbelt-client=24\n",
      "  501   738   393   0 Fri06PM ??         0:06.68 /Applications/Google Chrome.app/Contents/Frameworks/Google Chrome Framework.framework/Versions/103.0.5060.134/Helpers/Google Chrome Helper.app/Contents/MacOS/Google Chrome Helper --type=utility --utility-sub-type=storage.mojom.StorageService --lang=ko --service-sandbox-type=utility --metrics-client-id=a4496833-eec7-4073-8043-3729762090e3 --shared-files --field-trial-handle=1718379636,r,10437062191916903311,13810114839974925934,131072 --seatbelt-client=25\n",
      "    0   741     1   0 Fri06PM ??         0:00.02 /usr/libexec/misagent\n",
      "  501   742     1   0 Fri06PM ??         0:34.55 /System/Library/Frameworks/VideoToolbox.framework/Versions/A/XPCServices/VTDecoderXPCService.xpc/Contents/MacOS/VTDecoderXPCService\n",
      "  501   744     1   0 Fri06PM ??         0:00.01 /System/Library/PrivateFrameworks/MobileAccessoryUpdater.framework/Support/fudHelperAgent\n",
      "    0   745     1   0 Fri06PM ??         0:00.01 /usr/libexec/online-authd\n",
      "  501   746     1   0 Fri06PM ??         0:00.13 /usr/libexec/biomesyncd\n",
      "  501   765     1   0 Fri06PM ??         0:16.75 /System/Library/CoreServices/Screen Time.app/Contents/PlugIns/ScreenTimeWidgetExtension.appex/Contents/MacOS/ScreenTimeWidgetExtension -AppleLanguages (\"ko-KR\")\n",
      "  501   766     1   0 Fri06PM ??         0:00.05 /System/Library/PrivateFrameworks/Categories.framework/Versions/A/XPCServices/CategoriesService.xpc/Contents/MacOS/CategoriesService\n",
      "  501   767     1   0 Fri06PM ??         0:00.65 /System/Library/CoreServices/UIKitSystem.app/Contents/MacOS/UIKitSystem system_app_start\n",
      "  501   770     1   0 Fri06PM ??         0:00.46 /System/Library/PrivateFrameworks/Synapse.framework/Support/contentlinkingd\n",
      "  501   772   393   0 Fri06PM ??         1:11.02 /Applications/Google Chrome.app/Contents/Frameworks/Google Chrome Framework.framework/Versions/103.0.5060.134/Helpers/Google Chrome Helper.app/Contents/MacOS/Google Chrome Helper --type=utility --utility-sub-type=audio.mojom.AudioService --lang=ko --service-sandbox-type=audio --message-loop-type-ui --metrics-client-id=a4496833-eec7-4073-8043-3729762090e3 --shared-files --field-trial-handle=1718379636,r,10437062191916903311,13810114839974925934,131072 --seatbelt-client=261\n",
      "    0   774     1   0 Fri06PM ??         0:00.08 /usr/libexec/mobileactivationd\n",
      "    0   804     1   0 Fri06PM ??         0:00.04 /usr/libexec/memoryanalyticsd -xlatS\n",
      "  265   808     1   0 Fri06PM ??         0:00.25 /System/Library/PrivateFrameworks/CoreLSKD.framework/Versions/A/lskdd\n",
      "  501   829     1   0 Fri06PM ??         0:00.30 /Library/Apple/System/Library/CoreServices/SafariSupport.bundle/Contents/MacOS/PasswordBreachAgent\n",
      "  501   854     1   0 Fri06PM ??         0:01.65 /System/Library/PrivateFrameworks/SkyLight.framework//Versions/A/Resources/AquaAppearanceHelper.app/Contents/MacOS/AquaAppearanceHelper\n",
      "  501   868     1   0 Fri06PM ??         0:01.17 /System/Library/Frameworks/LocalAuthentication.framework/Support/coreautha.bundle/Contents/MacOS/coreautha\n",
      "  501   874     1   0 Fri06PM ??         0:00.07 /usr/libexec/USBAgent\n",
      "    0   876     1   0 Fri06PM ??         0:00.06 /usr/libexec/ASPCarryLog\n",
      "  501   877     1   0 Fri06PM ??         0:00.39 /usr/libexec/transparencyd\n",
      "  501   878     1   0 Fri06PM ??         0:00.16 /usr/libexec/proactiveeventtrackerd\n",
      "  501   888     1   0 Fri06PM ??         0:10.35 /System/Library/CoreServices/ClimateProxy.app/Contents/PlugIns/WeatherWidget.appex/Contents/MacOS/WeatherWidget -AppleLanguages (\"ko-KR\")\n",
      "  501   889     1   0 Fri06PM ??         0:01.71 /System/Applications/Notes.app/Contents/PlugIns/com.apple.Notes.WidgetExtension.appex/Contents/MacOS/com.apple.Notes.WidgetExtension -AppleLanguages (\"ko-KR\")\n",
      "  501   890     1   0 Fri06PM ??         0:17.51 /System/Applications/Calendar.app/Contents/PlugIns/CalendarWidgetExtension.appex/Contents/MacOS/CalendarWidgetExtension -AppleLanguages (\"ko-KR\")\n",
      "  501   946     1   0 Fri08PM ??         0:00.01 /System/Library/Frameworks/NetFS.framework/Versions/A/XPCServices/PlugInLibraryService.xpc/Contents/MacOS/PlugInLibraryService\n",
      "  501   949     1   0 Fri08PM ??         0:00.19 /System/Library/CoreServices/ScopedBookmarkAgent\n",
      "  501   952     1   0 Fri08PM ??         0:00.03 /Applications/Visual Studio Code.app/Contents/Frameworks/Electron Framework.framework/Helpers/chrome_crashpad_handler --no-rate-limit --monitor-self-annotation=ptype=crashpad-handler --database=/Users/main/Library/Application Support/Code/Crashpad --url=appcenter://code?aid=de75e3cc-e22f-4f42-a03f-1409c21d8af8&uid=75745388-162d-4850-9e21-5f9bf72069f1&iid=75745388-162d-4850-9e21-5f9bf72069f1&sid=75745388-162d-4850-9e21-5f9bf72069f1 --annotation=_companyName=Microsoft --annotation=_productName=VSCode --annotation=_version=1.69.2 --annotation=prod=Electron --annotation=ver=18.3.5 --handshake-fd=27\n",
      "  501   953   416   0 Fri08PM ??        12:52.25 /Applications/Visual Studio Code.app/Contents/Frameworks/Code Helper (GPU).app/Contents/MacOS/Code Helper (GPU) --type=gpu-process --disable-color-correct-rendering --user-data-dir=/Users/main/Library/Application Support/Code --gpu-preferences=UAAAAAAAAAAgAAAIAAAAAAAAAAAAAAAAAABgAAAAAAAwAAAAAAAAAAAAAAAAAAAAAAAAAAAAAAAAAAAAAAAAACgFAAAAAAAAKAUAAAAAAAC4AQAANgAAALABAAAAAAAAuAEAAAAAAADAAQAAAAAAAMgBAAAAAAAA0AEAAAAAAADYAQAAAAAAAOABAAAAAAAA6AEAAAAAAADwAQAAAAAAAPgBAAAAAAAAAAIAAAAAAAAIAgAAAAAAABACAAAAAAAAGAIAAAAAAAAgAgAAAAAAACgCAAAAAAAAMAIAAAAAAAA4AgAAAAAAAEACAAAAAAAASAIAAAAAAABQAgAAAAAAAFgCAAAAAAAAYAIAAAAAAABoAgAAAAAAAHACAAAAAAAAeAIAAAAAAACAAgAAAAAAAIgCAAAAAAAAkAIAAAAAAACYAgAAAAAAAKACAAAAAAAAqAIAAAAAAACwAgAAAAAAALgCAAAAAAAAwAIAAAAAAADIAgAAAAAAANACAAAAAAAA2AIAAAAAAADgAgAAAAAAAOgCAAAAAAAA8AIAAAAAAAD4AgAAAAAAAAADAAAAAAAACAMAAAAAAAAQAwAAAAAAABgDAAAAAAAAIAMAAAAAAAAoAwAAAAAAADADAAAAAAAAOAMAAAAAAABAAwAAAAAAAEgDAAAAAAAAUAMAAAAAAABYAwAAAAAAABAAAAAAAAAAAAAAAAAAAAAQAAAAAAAAAAAAAAACAAAAEAAAAAAAAAAAAAAABwAAABAAAAAAAAAAAAAAAAgAAAAQAAAAAAAAAAAAAAAJAAAAEAAAAAAAAAAAAAAACwAAABAAAAAAAAAAAAAAAAwAAAAQAAAAAAAAAAAAAAAOAAAAEAAAAAAAAAAAAAAADwAAABAAAAAAAAAAAQAAAAAAAAAQAAAAAAAAAAEAAAACAAAAEAAAAAAAAAABAAAABwAAABAAAAAAAAAAAQAAAAgAAAAQAAAAAAAAAAEAAAAJAAAAEAAAAAAAAAABAAAACwAAABAAAAAAAAAAAQAAAAwAAAAQAAAAAAAAAAEAAAAOAAAAEAAAAAAAAAABAAAADwAAABAAAAAAAAAABAAAAAAAAAAQAAAAAAAAAAQAAAACAAAAEAAAAAAAAAAEAAAABwAAABAAAAAAAAAABAAAAAgAAAAQAAAAAAAAAAQAAAAJAAAAEAAAAAAAAAAEAAAACwAAABAAAAAAAAAABAAAAAwAAAAQAAAAAAAAAAQAAAAOAAAAEAAAAAAAAAAEAAAADwAAABAAAAAAAAAABwAAAAAAAAAQAAAAAAAAAAcAAAACAAAAEAAAAAAAAAAHAAAABwAAABAAAAAAAAAABwAAAAgAAAAQAAAAAAAAAAcAAAAJAAAAEAAAAAAAAAAHAAAACwAAABAAAAAAAAAABwAAAAwAAAAQAAAAAAAAAAcAAAAOAAAAEAAAAAAAAAAHAAAADwAAABAAAAAAAAAACAAAAAAAAAAQAAAAAAAAAAgAAAACAAAAEAAAAAAAAAAIAAAABwAAABAAAAAAAAAACAAAAAgAAAAQAAAAAAAAAAgAAAAJAAAAEAAAAAAAAAAIAAAACwAAABAAAAAAAAAACAAAAAwAAAAQAAAAAAAAAAgAAAAOAAAAEAAAAAAAAAAIAAAADwAAABAAAAAAAAAACgAAAAAAAAAQAAAAAAAAAAoAAAACAAAAEAAAAAAAAAAKAAAABwAAABAAAAAAAAAACgAAAAgAAAAQAAAAAAAAAAoAAAAJAAAAEAAAAAAAAAAKAAAACwAAABAAAAAAAAAACgAAAAwAAAAQAAAAAAAAAAoAAAAOAAAAEAAAAAAAAAAKAAAADwAAAAgAAAAAAAAACAAAAAAAAAA= --shared-files --field-trial-handle=1718379636,r,11370457255051517692,7449538743095192303,131072 --disable-features=SpareRendererForSitePerProcess --seatbelt-client=39\n",
      "  501   954     1   0 Fri08PM ??         0:00.10 /System/Library/Frameworks/VideoToolbox.framework/Versions/A/XPCServices/VTDecoderXPCService.xpc/Contents/MacOS/VTDecoderXPCService\n",
      "  501   955   416   0 Fri08PM ??         0:02.55 /Applications/Visual Studio Code.app/Contents/Frameworks/Code Helper.app/Contents/MacOS/Code Helper --type=utility --utility-sub-type=network.mojom.NetworkService --lang=ko --service-sandbox-type=network --user-data-dir=/Users/main/Library/Application Support/Code --standard-schemes=vscode-webview,vscode-file --secure-schemes=vscode-webview,vscode-file --bypasscsp-schemes --cors-schemes=vscode-webview,vscode-file --fetch-schemes=vscode-webview,vscode-file --service-worker-schemes=vscode-webview --streaming-schemes --shared-files --field-trial-handle=1718379636,r,11370457255051517692,7449538743095192303,131072 --disable-features=SpareRendererForSitePerProcess --seatbelt-client=47\n",
      "  501   956   416   0 Fri08PM ??        47:52.45 /Applications/Visual Studio Code.app/Contents/Frameworks/Code Helper (Renderer).app/Contents/MacOS/Code Helper (Renderer) --type=renderer --user-data-dir=/Users/main/Library/Application Support/Code --standard-schemes=vscode-webview,vscode-file --secure-schemes=vscode-webview,vscode-file --bypasscsp-schemes --cors-schemes=vscode-webview,vscode-file --fetch-schemes=vscode-webview,vscode-file --service-worker-schemes=vscode-webview --streaming-schemes --app-path=/Applications/Visual Studio Code.app/Contents/Resources/app --no-sandbox --no-zygote --enable-blink-features=HighlightAPI --disable-color-correct-rendering --lang=ko --num-raster-threads=4 --enable-zero-copy --enable-gpu-memory-buffer-compositor-resources --enable-main-frame-before-activation --renderer-client-id=4 --launch-time-ticks=759933194 --shared-files --field-trial-handle=1718379636,r,11370457255051517692,7449538743095192303,131072 --disable-features=SpareRendererForSitePerProcess --vscode-window-config=vscode:4f2a74d5-2f66-41a3-bcdb-9807516ed397\n",
      "  501   960     1   0 Fri08PM ??         0:00.09 /System/Library/Frameworks/VideoToolbox.framework/Versions/A/XPCServices/VTEncoderXPCService.xpc/Contents/MacOS/VTEncoderXPCService\n",
      "  501   989   416   0 Fri08PM ??         0:44.04 /Applications/Visual Studio Code.app/Contents/Frameworks/Code Helper (Renderer).app/Contents/MacOS/Code Helper (Renderer) --type=renderer --user-data-dir=/Users/main/Library/Application Support/Code --standard-schemes=vscode-webview,vscode-file --secure-schemes=vscode-webview,vscode-file --bypasscsp-schemes --cors-schemes=vscode-webview,vscode-file --fetch-schemes=vscode-webview,vscode-file --service-worker-schemes=vscode-webview --streaming-schemes --app-path=/Applications/Visual Studio Code.app/Contents/Resources/app --no-sandbox --no-zygote --node-integration-in-worker --disable-color-correct-rendering --lang=ko --num-raster-threads=4 --enable-zero-copy --enable-gpu-memory-buffer-compositor-resources --enable-main-frame-before-activation --renderer-client-id=5 --launch-time-ticks=761377979 --shared-files --field-trial-handle=1718379636,r,11370457255051517692,7449538743095192303,131072 --disable-features=SpareRendererForSitePerProcess --vscode-window-config=vscode:4b611cd3-ae32-4fa1-8e99-1cdad44bd09c --vscode-window-kind=shared-process\n",
      "  501   990   989   0 Fri08PM ??         0:29.12 /Applications/Visual Studio Code.app/Contents/Frameworks/Code Helper (Renderer).app/Contents/MacOS/Code Helper (Renderer) --ms-enable-electron-run-as-node /Applications/Visual Studio Code.app/Contents/Resources/app/out/bootstrap-fork --type=ptyHost --logsPath /Users/main/Library/Application Support/Code/logs/20220805T201223\n",
      "  501  1006   416   0 Fri08PM ??         2:53.01 /Applications/Visual Studio Code.app/Contents/Frameworks/Code Helper.app/Contents/MacOS/Code Helper --ms-enable-electron-run-as-node --inspect-port=0 /Applications/Visual Studio Code.app/Contents/Resources/app/out/bootstrap-fork --type=extensionHost --skipWorkspaceStorageLock\n",
      "  501  1021   989   0 Fri08PM ??         0:01.56 /Applications/Visual Studio Code.app/Contents/Frameworks/Code Helper (Renderer).app/Contents/MacOS/Code Helper (Renderer) --ms-enable-electron-run-as-node /Applications/Visual Studio Code.app/Contents/Resources/app/out/bootstrap-fork --type=fileWatcher\n",
      "  501  1072  1006   0 Fri08PM ??         0:04.58 /Applications/Visual Studio Code.app/Contents/Frameworks/Code Helper.app/Contents/MacOS/Code Helper --ms-enable-electron-run-as-node /Users/main/.vscode/extensions/dbaeumer.vscode-eslint-2.2.6/server/out/eslintServer.js --node-ipc --clientProcessId=1006\n",
      "  501  1088   393   0 Fri08PM ??         0:01.66 /Applications/Google Chrome.app/Contents/Frameworks/Google Chrome Framework.framework/Versions/103.0.5060.134/Helpers/Google Chrome Helper (Renderer).app/Contents/MacOS/Google Chrome Helper (Renderer) --type=renderer --metrics-client-id=a4496833-eec7-4073-8043-3729762090e3 --extension-process --display-capture-permissions-policy-allowed --lang=ko --num-raster-threads=4 --enable-zero-copy --enable-gpu-memory-buffer-compositor-resources --enable-main-frame-before-activation --renderer-client-id=37 --launch-time-ticks=781986554 --shared-files --field-trial-handle=1718379636,r,10437062191916903311,13810114839974925934,131072 --seatbelt-client=98\n",
      "  501  1089   393   0 Fri08PM ??         0:40.57 /Applications/Google Chrome.app/Contents/Frameworks/Google Chrome Framework.framework/Versions/103.0.5060.134/Helpers/Google Chrome Helper (Renderer).app/Contents/MacOS/Google Chrome Helper (Renderer) --type=renderer --metrics-client-id=a4496833-eec7-4073-8043-3729762090e3 --extension-process --display-capture-permissions-policy-allowed --lang=ko --num-raster-threads=4 --enable-zero-copy --enable-gpu-memory-buffer-compositor-resources --enable-main-frame-before-activation --renderer-client-id=38 --launch-time-ticks=781996294 --shared-files --field-trial-handle=1718379636,r,10437062191916903311,13810114839974925934,131072 --seatbelt-client=98\n",
      "  501  1090   393   0 Fri08PM ??         0:02.56 /Applications/Google Chrome.app/Contents/Frameworks/Google Chrome Framework.framework/Versions/103.0.5060.134/Helpers/Google Chrome Helper (Renderer).app/Contents/MacOS/Google Chrome Helper (Renderer) --type=renderer --metrics-client-id=a4496833-eec7-4073-8043-3729762090e3 --extension-process --display-capture-permissions-policy-allowed --lang=ko --num-raster-threads=4 --enable-zero-copy --enable-gpu-memory-buffer-compositor-resources --enable-main-frame-before-activation --renderer-client-id=39 --launch-time-ticks=782003220 --shared-files --field-trial-handle=1718379636,r,10437062191916903311,13810114839974925934,131072 --seatbelt-client=97\n",
      "  501  1093   393   0 Fri08PM ??         0:00.54 /Applications/Google Chrome.app/Contents/Frameworks/Google Chrome Framework.framework/Versions/103.0.5060.134/Helpers/Google Chrome Helper (Renderer).app/Contents/MacOS/Google Chrome Helper (Renderer) --type=renderer --metrics-client-id=a4496833-eec7-4073-8043-3729762090e3 --extension-process --display-capture-permissions-policy-allowed --lang=ko --num-raster-threads=4 --enable-zero-copy --enable-gpu-memory-buffer-compositor-resources --enable-main-frame-before-activation --renderer-client-id=40 --launch-time-ticks=782017998 --shared-files --field-trial-handle=1718379636,r,10437062191916903311,13810114839974925934,131072 --seatbelt-client=97\n",
      "  501  1096   393   0 Fri08PM ??         0:01.25 /Applications/Google Chrome.app/Contents/Frameworks/Google Chrome Framework.framework/Versions/103.0.5060.134/Helpers/Google Chrome Helper (Renderer).app/Contents/MacOS/Google Chrome Helper (Renderer) --type=renderer --metrics-client-id=a4496833-eec7-4073-8043-3729762090e3 --extension-process --display-capture-permissions-policy-allowed --lang=ko --num-raster-threads=4 --enable-zero-copy --enable-gpu-memory-buffer-compositor-resources --enable-main-frame-before-activation --renderer-client-id=41 --launch-time-ticks=782066649 --shared-files --field-trial-handle=1718379636,r,10437062191916903311,13810114839974925934,131072 --seatbelt-client=97\n",
      "  501  1097   393   0 Fri08PM ??         0:02.92 /Applications/Google Chrome.app/Contents/Frameworks/Google Chrome Framework.framework/Versions/103.0.5060.134/Helpers/Google Chrome Helper (Renderer).app/Contents/MacOS/Google Chrome Helper (Renderer) --type=renderer --metrics-client-id=a4496833-eec7-4073-8043-3729762090e3 --extension-process --display-capture-permissions-policy-allowed --lang=ko --num-raster-threads=4 --enable-zero-copy --enable-gpu-memory-buffer-compositor-resources --enable-main-frame-before-activation --renderer-client-id=42 --launch-time-ticks=782070349 --shared-files --field-trial-handle=1718379636,r,10437062191916903311,13810114839974925934,131072 --seatbelt-client=97\n",
      "  501  1098   393   0 Fri08PM ??         0:00.69 /Applications/Google Chrome.app/Contents/Frameworks/Google Chrome Framework.framework/Versions/103.0.5060.134/Helpers/Google Chrome Helper (Renderer).app/Contents/MacOS/Google Chrome Helper (Renderer) --type=renderer --metrics-client-id=a4496833-eec7-4073-8043-3729762090e3 --extension-process --display-capture-permissions-policy-allowed --lang=ko --num-raster-threads=4 --enable-zero-copy --enable-gpu-memory-buffer-compositor-resources --enable-main-frame-before-activation --renderer-client-id=43 --launch-time-ticks=782072199 --shared-files --field-trial-handle=1718379636,r,10437062191916903311,13810114839974925934,131072 --seatbelt-client=97\n",
      "  501  1106     1   0 Fri08PM ??         0:00.03 /System/Library/Frameworks/AudioToolbox.framework/XPCServices/com.apple.audio.SandboxHelper.xpc/Contents/MacOS/com.apple.audio.SandboxHelper\n",
      "  501  1107     1   0 Fri08PM ??         0:00.12 /System/Library/Frameworks/VideoToolbox.framework/Versions/A/XPCServices/VTEncoderXPCService.xpc/Contents/MacOS/VTEncoderXPCService\n",
      "  501  1121     1   0 Fri08PM ??         0:00.48 /System/Library/Frameworks/ApplicationServices.framework/Frameworks/SpeechSynthesis.framework/Resources/com.apple.speech.speechsynthesisd\n",
      "  501  1152  1006   0 Fri08PM ??         4:31.92 /Applications/Visual Studio Code.app/Contents/Frameworks/Code Helper.app/Contents/MacOS/Code Helper --ms-enable-electron-run-as-node /Users/main/.vscode/extensions/ms-python.vscode-pylance-2022.7.40/dist/server.bundle.js --cancellationReceive=file:87ec8916ee73aa875c1a53d4fcec6db032ee4923cf --node-ipc --clientProcessId=1006\n",
      "  501  1156  1006   0 Fri08PM ??         0:01.36 /Applications/Visual Studio Code.app/Contents/Frameworks/Code Helper.app/Contents/MacOS/Code Helper --ms-enable-electron-run-as-node /Applications/Visual Studio Code.app/Contents/Resources/app/extensions/json-language-features/server/dist/node/jsonServerMain --node-ipc --clientProcessId=1006\n",
      "  501  1157  1006   0 Fri08PM ??         0:16.52 /Applications/Visual Studio Code.app/Contents/Frameworks/Code Helper.app/Contents/MacOS/Code Helper --ms-enable-electron-run-as-node /Users/main/.vscode/extensions/ms-python.vscode-pylance-2022.7.40/dist/server.bundle.js --cancellationReceive=file:47bca419d70a84774ee1b8323ad999b305fdb5f881 --node-ipc --clientProcessId=1006\n",
      "  501  1222     1   0 Fri08PM ??         0:00.02 /Applications/Visual Studio Code.app/Contents/Frameworks/Squirrel.framework/Resources/ShipIt com.microsoft.VSCode.ShipIt /Users/main/Library/Caches/com.microsoft.VSCode.ShipIt/ShipItState.plist\n",
      "  501  2010     1   0 Fri09PM ??         0:00.46 /System/Library/CoreServices/rcd.app/Contents/MacOS/rcd\n",
      "    0  2062     1   0 Sat09AM ??         0:00.00 /usr/sbin/aslmanager -s /var/log/eventmonitor\n",
      "    0  2066     1   0 Sat09AM ??         0:00.08 /System/Library/CoreServices/osanalyticshelper server-init\n",
      "    0  2183     1   0 10:14AM ??         0:00.06 /System/Library/Frameworks/AudioToolbox.framework/XPCServices/com.apple.audio.SandboxHelper.xpc/Contents/MacOS/com.apple.audio.SandboxHelper\n",
      "  501  2205     1   0 10:14AM ??         0:04.25 /System/Library/PrivateFrameworks/CacheDelete.framework/deleted\n",
      "    0  2207     1   0 10:14AM ??         0:00.06 /Library/Apple/System/Library/CoreServices/XProtect.app/Contents/MacOS/XProtect\n",
      "    0  2208     1   0 10:14AM ??         0:02.69 /Library/Apple/System/Library/CoreServices/XProtect.app/Contents/XPCServices/XProtectPluginService.xpc/Contents/MacOS/XProtectPluginService\n",
      "  501  2210     1   0 10:14AM ??         0:01.30 /System/Library/CoreServices/PowerChime.app/Contents/MacOS/PowerChime\n",
      "  501  2214     1   0 10:14AM ??         0:00.48 /System/Library/CoreServices/mapspushd\n",
      "    0  2215     1   0 10:14AM ??         0:00.71 /usr/libexec/dprivacyd\n",
      "  501  2219     1   0 10:14AM ??         0:00.30 cloudphotod\n",
      "  501  2220     1   0 10:14AM ??         0:00.16 /System/Library/CoreServices/EscrowSecurityAlert.app/Contents/MacOS/EscrowSecurityAlert\n",
      "    0  2222     1   0 10:14AM ??         0:20.13 /usr/libexec/PerfPowerServices\n",
      "  501  2242     1   0 10:46AM ??         0:00.03 /Library/Apple/System/Library/CoreServices/XProtect.app/Contents/MacOS/XProtect\n",
      "  501  2243     1   0 10:46AM ??         0:02.57 /Library/Apple/System/Library/CoreServices/XProtect.app/Contents/XPCServices/XProtectPluginService.xpc/Contents/MacOS/XProtectPluginService\n",
      "  501  2254     1   0 10:46AM ??         0:00.15 /System/Library/PrivateFrameworks/IMDPersistence.framework/IMAutomaticHistoryDeletionAgent.app/Contents/MacOS/IMAutomaticHistoryDeletionAgent\n",
      "  501  2262     1   0 11:03AM ??         0:00.08 /usr/libexec/replayd\n",
      "    0  2263     1   0 11:03AM ??         0:00.03 /usr/bin/sysdiagnose\n",
      "    0  2264     1   0 11:03AM ??         0:00.07 /System/Library/PrivateFrameworks/CacheDelete.framework/deleted_helper\n",
      "    0  2265     1   0 11:03AM ??         0:02.10 /System/Library/PrivateFrameworks/CloudKitDaemon.framework/Support/cloudd --system\n",
      "  501  2267     1   0 11:03AM ??         0:00.14 /Applications/Safari.app/Contents/PlugIns/CacheDeleteExtension.appex/Contents/MacOS/CacheDeleteExtension -AppleLanguages (\"ko-KR\")\n",
      "  501  2269     1   0 11:03AM ??         0:00.07 /System/Applications/Mail.app/Contents/PlugIns/MailCacheDelete.appex/Contents/MacOS/MailCacheDelete -AppleLanguages (\"ko-KR\")\n",
      "  501  2270     1   0 11:03AM ??         0:00.04 /System/Library/PrivateFrameworks/GeoServices.framework/geodMachServiceBridge\n",
      "  501  2271     1   0 11:03AM ??         0:00.11 /System/Library/PrivateFrameworks/CommerceKit.framework/Versions/A/Resources/storedownloadd\n",
      "    0  2272     1   0 11:03AM ??         0:00.05 /System/Library/PrivateFrameworks/PackageKit.framework/Resources/installd\n",
      "    0  2273     1   0 11:03AM ??         0:00.05 /System/Library/PrivateFrameworks/PackageKit.framework/Resources/system_installd\n",
      "    0  2274     1   0 11:03AM ??         0:00.08 /usr/libexec/aned\n",
      "  501  2275     1   0 11:03AM ??         0:00.06 /System/Applications/Music.app/Contents/PlugIns/MusicCacheExtension.appex/Contents/MacOS/MusicCacheExtension -AppleLanguages (\"ko-KR\")\n",
      "  501  2276     1   0 11:03AM ??         0:00.05 /System/Applications/TV.app/Contents/PlugIns/TVCacheExtension.appex/Contents/MacOS/TVCacheExtension -AppleLanguages (\"ko-KR\")\n",
      "  501  2353     1   0 11:21AM ??         0:00.02 /System/Library/PrivateFrameworks/NewDeviceOutreach.framework/ndoagent\n",
      "  222  2367     1   0 11:22AM ??         0:00.33 /usr/sbin/netbiosd\n",
      "  501  2374     1   0 11:22AM ??         0:00.02 /System/Library/PrivateFrameworks/IntlPreferences.framework/Support/localizationswitcherd\n",
      "    0  2390     1   0 11:22AM ??         0:00.02 /usr/libexec/periodic-wrapper daily\n",
      "  501  2415     1   0 11:22AM ??         0:00.04 /System/Library/PrivateFrameworks/DeviceCheckInternal.framework/devicecheckd\n",
      "  501  2416     1   0 11:22AM ??         0:04.58 /System/Library/PrivateFrameworks/Noticeboard.framework/Versions/A/Resources/nbagent.app/Contents/MacOS/nbagent\n",
      "    0  2417     1   0 11:23AM ??         0:00.03 /System/Library/PrivateFrameworks/Noticeboard.framework/Versions/A/Resources/nbstated\n",
      "    0  2479     1   0 11:23AM ??         0:00.01 /usr/libexec/batteryintelligenced\n",
      "    0  2501     1   0 11:23AM ??         0:00.14 /usr/libexec/applessdstatistics\n",
      "  501  2511     1   0 11:23AM ??         0:00.58 /usr/libexec/tipsd\n",
      "  501  2512     1   0 11:23AM ??         0:00.11 /usr/libexec/silhouette\n",
      "  501  2516     1   0 11:23AM ??         0:00.05 /usr/libexec/proactived\n",
      "    0  2523     1   0 11:24AM ??         0:00.03 /usr/libexec/microstackshot\n",
      "  501  2524     1   0 11:24AM ??         0:00.18 /usr/libexec/appleaccountd\n",
      "  501  2525     1   0 11:24AM ??         0:00.06 /System/Library/PrivateFrameworks/AssistantServices.framework/Versions/A/XPCServices/media-indexer.xpc/Contents/MacOS/media-indexer\n",
      "  501  2527     1   0 11:24AM ??         0:01.29 /System/Library/PrivateFrameworks/AMPLibrary.framework/Versions/A/Support/AMPLibraryAgent --launchd\n",
      "  501  2528     1   0 11:24AM ??         0:00.06 /System/Library/PrivateFrameworks/PodcastServices.framework/XPCServices/PodcastContentService.xpc/Contents/MacOS/PodcastContentService\n",
      "  501  2529     1   0 11:24AM ??         0:00.06 /System/Library/PrivateFrameworks/BookKit.framework/Versions/A/XPCServices/com.apple.BKAgentService.xpc/Contents/MacOS/com.apple.BKAgentService\n",
      "  265  2530     1   0 11:24AM ??         0:00.04 /System/Library/PrivateFrameworks/CoreFP.framework/Versions/A/fairplayd\n",
      "  501  2531     1   0 11:24AM ??         0:00.05 /System/Library/PrivateFrameworks/AMPLibrary.framework/Versions/A/Support/AMPArtworkAgent --launchd\n",
      "  501  2550     1   0 11:24AM ??         0:00.75 /System/Library/PrivateFrameworks/PhotoAnalysis.framework/Versions/A/Support/photoanalysisd\n",
      "    0  2551     1   0 11:24AM ??         0:00.02 /usr/libexec/tzd\n",
      "    0  2565     1   0 11:25AM ??         0:00.03 /System/Library/Frameworks/CoreServices.framework/Frameworks/Metadata.framework/Versions/A/Support/mdsync -s mdworker-scan -c MDSSyncScanWorker -m com.apple.metadata.mds.scan\n",
      "  278  2571     1   0 11:25AM ??         0:00.07 /System/Library/PrivateFrameworks/MobileAccessoryUpdater.framework/XPCServices/EAUpdaterService.xpc/Contents/MacOS/EAUpdaterService\n",
      "  501  2730     1   0 11:26AM ??         0:00.02 /Applications/Google Chrome.app/Contents/Frameworks/Google Chrome Framework.framework/Versions/103.0.5060.134/Helpers/chrome_crashpad_handler --monitor-self-annotation=ptype=crashpad-handler --database=/var/folders/3c/92085pds035_bky462x8tl0h0000gn/T/Crashpad --url=https://clients2.google.com/cr/report --annotation=channel= --annotation=plat=OS X --annotation=prod=Chrome_Mac --annotation=ver=103.0.5060.134 --handshake-fd=6\n",
      "  501  2739     1   0 11:26AM ??         0:00.13 /System/Library/Frameworks/VideoToolbox.framework/Versions/A/XPCServices/VTDecoderXPCService.xpc/Contents/MacOS/VTDecoderXPCService\n",
      "  501  2754     1   0 11:27AM ??         0:00.22 /System/Library/Frameworks/CoreServices.framework/Frameworks/Metadata.framework/Versions/A/Support/mdworker -s mdworker-sizing -c MDSSizingWorker -m com.apple.mdworker.sizing\n",
      "  501  2814     1   0 11:29AM ??         0:00.39 /System/Library/Frameworks/CoreSpotlight.framework/CoreSpotlightService\n",
      "  501  3624     1   0 12:09PM ??         0:00.04 /usr/libexec/metrickitd\n",
      "  501  3630     1   0 12:10PM ??         0:00.02 /System/Library/PrivateFrameworks/BiomeStreams.framework/PlugIns/BiomeLighthousePlugin.appex/Contents/MacOS/BiomeLighthousePlugin -AppleLanguages (\"ko-KR\")\n",
      "  501  3633     1   0 12:10PM ??         0:01.04 /System/Library/PrivateFrameworks/ContactsDonation.framework/Versions/A/Support/contactsdonationagent\n",
      "    0  3842     1   0 12:36PM ??         0:05.67 /System/Library/PrivateFrameworks/XprotectFramework.framework/Versions/A/XPCServices/XprotectService.xpc/Contents/MacOS/XprotectService\n",
      "  501  3988     1   0 12:47PM ??         0:00.01 /System/Library/Frameworks/NetFS.framework/Versions/A/XPCServices/PlugInLibraryService.xpc/Contents/MacOS/PlugInLibraryService\n",
      "  501  4152     1   0  1:19PM ??         0:00.50 /System/Library/Frameworks/QuickLookThumbnailing.framework/Versions/A/PlugIns/ThumbnailExtension_macOS.appex/Contents/MacOS/ThumbnailExtension_macOS -AppleLanguages (\"ko-KR\")\n",
      "  501  4154     1   0  1:19PM ??         0:00.06 /System/Library/PrivateFrameworks/CloudDocs.framework/PlugIns/com.apple.CloudDocs.MobileDocumentsFileProvider.appex/Contents/MacOS/com.apple.CloudDocs.MobileDocumentsFileProvider -AppleLanguages (\"ko-KR\")\n",
      "  501  4157     1   0  1:19PM ??         0:14.95 /System/Library/Frameworks/AppKit.framework/Versions/C/XPCServices/com.apple.appkit.xpc.openAndSavePanelService.xpc/Contents/MacOS/com.apple.appkit.xpc.openAndSavePanelService\n",
      "  501  4158     1   0  1:19PM ??         0:01.10 /System/Library/Frameworks/QuickLookUI.framework/Versions/A/XPCServices/QuickLookUIService.xpc/Contents/MacOS/QuickLookUIService\n",
      "  501  4159     1   0  1:19PM ??         0:00.85 /Applications/Keka.app/Contents/PlugIns/KekaFinderIntegration.appex/Contents/MacOS/KekaFinderIntegration -AppleLanguages (\"ko-KR\")\n",
      "  501  4160     1   0  1:19PM ??         0:01.00 /Applications/iRightMouse Lite.app/Contents/PlugIns/iRightMouseExtension.appex/Contents/MacOS/iRightMouseExtension -AppleLanguages (\"ko-KR\")\n",
      "  501  4161     1   0  1:19PM ??         0:00.03 /System/Library/Frameworks/AudioToolbox.framework/XPCServices/com.apple.audio.SandboxHelper.xpc/Contents/MacOS/com.apple.audio.SandboxHelper\n",
      "  501  4565     1   0  2:17PM ??         0:00.04 /System/Library/PrivateFrameworks/XprotectFramework.framework/Versions/A/XPCServices/XprotectService.xpc/Contents/MacOS/XprotectService\n",
      "  263  9139     1   0  2:25PM ??         0:00.36 /usr/sbin/distnoted agent\n",
      "   65 11771     1   0  2:50PM ??         0:00.34 /usr/sbin/distnoted agent\n",
      "  501 11897     1   0  3:00PM ??         0:00.81 /System/Library/PrivateFrameworks/PaperKit.framework/Contents/LinkedNotesUIService.app/Contents/MacOS/LinkedNotesUIService\n",
      "  501 12153     1   0  3:08PM ??         0:00.83 /System/Library/CoreServices/OSDUIHelper.app/Contents/MacOS/OSDUIHelper\n",
      "  501 12194   393   0  3:10PM ??         1:08.18 /Applications/Google Chrome.app/Contents/Frameworks/Google Chrome Framework.framework/Versions/103.0.5060.134/Helpers/Google Chrome Helper (Renderer).app/Contents/MacOS/Google Chrome Helper (Renderer) --type=renderer --metrics-client-id=a4496833-eec7-4073-8043-3729762090e3 --display-capture-permissions-policy-allowed --lang=ko --num-raster-threads=4 --enable-zero-copy --enable-gpu-memory-buffer-compositor-resources --enable-main-frame-before-activation --renderer-client-id=215 --launch-time-ticks=15255673514 --shared-files --field-trial-handle=1718379636,r,10437062191916903311,13810114839974925934,131072 --seatbelt-client=268\n",
      "  501 12793   393   0  6:32PM ??        15:45.20 /Applications/Google Chrome.app/Contents/Frameworks/Google Chrome Framework.framework/Versions/103.0.5060.134/Helpers/Google Chrome Helper (Renderer).app/Contents/MacOS/Google Chrome Helper (Renderer) --type=renderer --metrics-client-id=a4496833-eec7-4073-8043-3729762090e3 --display-capture-permissions-policy-allowed --lang=ko --num-raster-threads=4 --enable-zero-copy --enable-gpu-memory-buffer-compositor-resources --enable-main-frame-before-activation --renderer-client-id=231 --launch-time-ticks=17117017750 --shared-files --field-trial-handle=1718379636,r,10437062191916903311,13810114839974925934,131072 --seatbelt-client=105\n",
      "  501 12827     1   0  6:33PM ??         0:00.80 /Applications/iRightMouse Lite.app/Contents/PlugIns/iRightMouseExtension.appex/Contents/MacOS/iRightMouseExtension -AppleLanguages (\"ko-KR\")\n",
      "  501 12828     1   0  6:33PM ??         0:00.65 /Applications/Keka.app/Contents/PlugIns/KekaFinderIntegration.appex/Contents/MacOS/KekaFinderIntegration -AppleLanguages (\"ko-KR\")\n",
      "  501 12830     1   0  6:33PM ??         0:00.04 /System/Library/Frameworks/AudioToolbox.framework/XPCServices/com.apple.audio.SandboxHelper.xpc/Contents/MacOS/com.apple.audio.SandboxHelper\n",
      "  501 15329   393   0  8:31PM ??        13:18.56 /Applications/Google Chrome.app/Contents/Frameworks/Google Chrome Framework.framework/Versions/103.0.5060.134/Helpers/Google Chrome Helper (Renderer).app/Contents/MacOS/Google Chrome Helper (Renderer) --type=renderer --metrics-client-id=a4496833-eec7-4073-8043-3729762090e3 --display-capture-permissions-policy-allowed --lang=ko --num-raster-threads=4 --enable-zero-copy --enable-gpu-memory-buffer-compositor-resources --enable-main-frame-before-activation --renderer-client-id=301 --launch-time-ticks=24170793006 --shared-files --field-trial-handle=1718379636,r,10437062191916903311,13810114839974925934,131072 --seatbelt-client=105\n",
      "  501 15732   416   0  8:58PM ??         0:11.22 /Applications/Visual Studio Code.app/Contents/Frameworks/Code Helper (Renderer).app/Contents/MacOS/Code Helper (Renderer) --type=renderer --user-data-dir=/Users/main/Library/Application Support/Code --standard-schemes=vscode-webview,vscode-file --secure-schemes=vscode-webview,vscode-file --bypasscsp-schemes --cors-schemes=vscode-webview,vscode-file --fetch-schemes=vscode-webview,vscode-file --service-worker-schemes=vscode-webview --streaming-schemes --app-path=/Applications/Visual Studio Code.app/Contents/Resources/app --enable-sandbox --enable-blink-features=HighlightAPI --disable-color-correct-rendering --lang=ko --num-raster-threads=4 --enable-zero-copy --enable-gpu-memory-buffer-compositor-resources --enable-main-frame-before-activation --renderer-client-id=19 --launch-time-ticks=25762491328 --shared-files --field-trial-handle=1718379636,r,11370457255051517692,7449538743095192303,131072 --disable-features=SpareRendererForSitePerProcess --vscode-window-config=vscode:4f2a74d5-2f66-41a3-bcdb-9807516ed397 --seatbelt-client=94\n",
      "  501 15986     1   0  9:14PM ??         0:00.01 /System/Library/Frameworks/CoreServices.framework/Versions/A/Frameworks/DictionaryServices.framework/Versions/A/XPCServices/com.apple.DictionaryServiceHelper.xpc/Contents/MacOS/com.apple.DictionaryServiceHelper\n",
      "  501 15990     1   0  9:15PM ??         0:00.02 /System/Library/PrivateFrameworks/Categories.framework/Versions/A/XPCServices/CategoriesService.xpc/Contents/MacOS/CategoriesService\n",
      "  501 16069  1006   0  9:17PM ??         0:01.37 /Library/Developer/CommandLineTools/Library/Frameworks/Python3.framework/Versions/3.8/Resources/Python.app/Contents/MacOS/Python -m ipykernel_launcher --ip=127.0.0.1 --stdin=9008 --control=9006 --hb=9005 --Session.signature_scheme=\"hmac-sha256\" --Session.key=b\"6763c7be-dc99-4c7f-b95b-0055aa026cc9\" --shell=9007 --transport=\"tcp\" --iopub=9009 --f=/Users/main/Library/Jupyter/runtime/kernel-v2-1006bCab7b1Vaq4h.json\n",
      "  501 16575     1   0  9:50PM ??         0:00.15 /Applications/Keka.app/Contents/PlugIns/KekaFinderIntegration.appex/Contents/MacOS/KekaFinderIntegration -AppleLanguages (\"ko-KR\")\n",
      "  501 16576     1   0  9:50PM ??         0:00.22 /Applications/iRightMouse Lite.app/Contents/PlugIns/iRightMouseExtension.appex/Contents/MacOS/iRightMouseExtension -AppleLanguages (\"ko-KR\")\n",
      "  501 16577     1   0  9:50PM ??         0:00.03 /System/Library/Frameworks/AudioToolbox.framework/XPCServices/com.apple.audio.SandboxHelper.xpc/Contents/MacOS/com.apple.audio.SandboxHelper\n",
      "  501 16580     1   0  9:50PM ??         0:00.06 /System/Library/Frameworks/QuickLook.framework/Versions/A/XPCServices/QuickLookSatellite.xpc/Contents/MacOS/QuickLookSatellite\n",
      "   89 16873     1   0 10:09PM ??         0:00.08 /System/Library/Frameworks/CoreServices.framework/Frameworks/Metadata.framework/Versions/A/Support/mdworker_shared -s mdworker -c MDSImporterWorker -m com.apple.mdworker.shared\n",
      "  501 16901   393   0 10:10PM ??         0:00.13 /Applications/Google Chrome.app/Contents/Frameworks/Google Chrome Framework.framework/Versions/103.0.5060.134/Helpers/Google Chrome Helper (Renderer).app/Contents/MacOS/Google Chrome Helper (Renderer) --type=renderer --metrics-client-id=a4496833-eec7-4073-8043-3729762090e3 --display-capture-permissions-policy-allowed --lang=ko --num-raster-threads=4 --enable-zero-copy --enable-gpu-memory-buffer-compositor-resources --enable-main-frame-before-activation --renderer-client-id=320 --launch-time-ticks=30079667229 --shared-files --field-trial-handle=1718379636,r,10437062191916903311,13810114839974925934,131072 --seatbelt-client=210\n",
      "  501 16922     1   0 10:12PM ??         0:00.16 /System/Library/Frameworks/CoreServices.framework/Frameworks/Metadata.framework/Versions/A/Support/mdworker_shared -s mdworker -c MDSImporterWorker -m com.apple.mdworker.shared\n",
      "  501 16933   405   0 10:13PM ??         0:00.13 /Applications/Microsoft Teams.app/Contents/Frameworks/Microsoft Teams Helper (Renderer).app/Contents/MacOS/Microsoft Teams Helper (Renderer) --type=renderer --user-data-dir=/Users/main/Library/Application Support/Microsoft/Teams --ms-teams-less-cors=522133263 --app-path=/Applications/Microsoft Teams.app/Contents/Resources/app.asar --autoplay-policy=no-user-gesture-required --disable-background-timer-throttling --field-trial-handle=1718379636,18232531750617395286,10019874565253512972,131072 --enable-features=ContextBridgeMutability,SharedArrayBuffer --disable-features=CalculateNativeWinOcclusion,ForcedColors,MediaFoundationAsyncH264Encoding,PlzServiceWorker,SpareRendererForSitePerProcess --lang=ko --num-raster-threads=4 --enable-zero-copy --enable-gpu-memory-buffer-compositor-resources --enable-main-frame-before-activation --renderer-client-id=347 --shared-files --seatbelt-client=74\n",
      "  501  2594   990   0 11:26AM ttys000    0:02.38 /usr/local/bin/zsh -l\n",
      "  501  2725     1   0 11:26AM ttys000    0:00.48 /Users/main/Desktop/temp/lms_crawler/driver/103/chromedriver --port=50537\n",
      "  501  2726  2725   0 11:26AM ttys000    0:08.37 /Applications/Google Chrome.app/Contents/MacOS/Google Chrome --allow-pre-commit-input --disable-background-networking --disable-client-side-phishing-detection --disable-default-apps --disable-dev-shm-usage --disable-hang-monitor --disable-popup-blocking --disable-prompt-on-repost --disable-sync --enable-automation --enable-blink-features=ShadowDOMV0 --enable-logging --headless --log-level=0 --no-first-run --no-sandbox --no-service-autorun --password-store=basic --remote-debugging-port=0 --test-type=webdriver --use-mock-keychain --user-data-dir=/var/folders/3c/92085pds035_bky462x8tl0h0000gn/T/.com.google.Chrome.sixnVe --window-size=1920,6000 data:,\n",
      "  501  2731  2726   0 11:26AM ttys000    3:47.86 /Applications/Google Chrome.app/Contents/Frameworks/Google Chrome Framework.framework/Versions/103.0.5060.134/Helpers/Google Chrome Helper (GPU).app/Contents/MacOS/Google Chrome Helper (GPU) --type=gpu-process --no-sandbox --enable-logging --headless --log-level=0 --use-angle=swiftshader-webgl --headless --gpu-preferences=UAAAAAAAAAAgAAAIAAAAAAAAAAAAAAAAAABgAAAAAAAwAAAAAAAAAAAAAAAAAAAAAAAAAAAAAAAAAAAAAAAAAJgEAAAAAAAAmAQAAAAAAACIAQAAMAAAAIABAAAAAAAAiAEAAAAAAACQAQAAAAAAAJgBAAAAAAAAoAEAAAAAAACoAQAAAAAAALABAAAAAAAAuAEAAAAAAADAAQAAAAAAAMgBAAAAAAAA0AEAAAAAAADYAQAAAAAAAOABAAAAAAAA6AEAAAAAAADwAQAAAAAAAPgBAAAAAAAAAAIAAAAAAAAIAgAAAAAAABACAAAAAAAAGAIAAAAAAAAgAgAAAAAAACgCAAAAAAAAMAIAAAAAAAA4AgAAAAAAAEACAAAAAAAASAIAAAAAAABQAgAAAAAAAFgCAAAAAAAAYAIAAAAAAABoAgAAAAAAAHACAAAAAAAAeAIAAAAAAACAAgAAAAAAAIgCAAAAAAAAkAIAAAAAAACYAgAAAAAAAKACAAAAAAAAqAIAAAAAAACwAgAAAAAAALgCAAAAAAAAwAIAAAAAAADIAgAAAAAAANACAAAAAAAA2AIAAAAAAADgAgAAAAAAAOgCAAAAAAAA8AIAAAAAAAD4AgAAAAAAABAAAAAAAAAAAAAAAAAAAAAQAAAAAAAAAAAAAAAHAAAAEAAAAAAAAAAAAAAACAAAABAAAAAAAAAAAAAAAAkAAAAQAAAAAAAAAAAAAAALAAAAEAAAAAAAAAAAAAAADAAAABAAAAAAAAAAAAAAAA4AAAAQAAAAAAAAAAAAAAAPAAAAEAAAAAAAAAABAAAAAAAAABAAAAAAAAAAAQAAAAcAAAAQAAAAAAAAAAEAAAAIAAAAEAAAAAAAAAABAAAACQAAABAAAAAAAAAAAQAAAAsAAAAQAAAAAAAAAAEAAAAMAAAAEAAAAAAAAAABAAAADgAAABAAAAAAAAAAAQAAAA8AAAAQAAAAAAAAAAQAAAAAAAAAEAAAAAAAAAAEAAAABwAAABAAAAAAAAAABAAAAAgAAAAQAAAAAAAAAAQAAAAJAAAAEAAAAAAAAAAEAAAACwAAABAAAAAAAAAABAAAAAwAAAAQAAAAAAAAAAQAAAAOAAAAEAAAAAAAAAAEAAAADwAAABAAAAAAAAAABwAAAAAAAAAQAAAAAAAAAAcAAAAHAAAAEAAAAAAAAAAHAAAACAAAABAAAAAAAAAABwAAAAkAAAAQAAAAAAAAAAcAAAALAAAAEAAAAAAAAAAHAAAADAAAABAAAAAAAAAABwAAAA4AAAAQAAAAAAAAAAcAAAAPAAAAEAAAAAAAAAAIAAAAAAAAABAAAAAAAAAACAAAAAcAAAAQAAAAAAAAAAgAAAAIAAAAEAAAAAAAAAAIAAAACQAAABAAAAAAAAAACAAAAAsAAAAQAAAAAAAAAAgAAAAMAAAAEAAAAAAAAAAIAAAADgAAABAAAAAAAAAACAAAAA8AAAAQAAAAAAAAAAoAAAAAAAAAEAAAAAAAAAAKAAAABwAAABAAAAAAAAAACgAAAAgAAAAQAAAAAAAAAAoAAAAJAAAAEAAAAAAAAAAKAAAACwAAABAAAAAAAAAACgAAAAwAAAAQAAAAAAAAAAoAAAAOAAAAEAAAAAAAAAAKAAAADwAAAAgAAAAAAAAACAAAAAAAAAA= --use-gl=angle --enable-logging --log-level=0 --shared-files --field-trial-handle=1718379636,r,11655538964222733045,15442202830569006181,131072 --disable-features=PaintHolding\n",
      "  501  2735  2726   0 11:26AM ttys000    0:12.10 /Applications/Google Chrome.app/Contents/Frameworks/Google Chrome Framework.framework/Versions/103.0.5060.134/Helpers/Google Chrome Helper.app/Contents/MacOS/Google Chrome Helper --type=utility --utility-sub-type=network.mojom.NetworkService --lang=en-US --service-sandbox-type=network --no-sandbox --use-mock-keychain --enable-logging --log-level=0 --use-angle=swiftshader-webgl --use-gl=angle --headless --enable-logging --log-level=0 --shared-files --field-trial-handle=1718379636,r,11655538964222733045,15442202830569006181,131072 --disable-features=PaintHolding\n",
      "  501  2741  2726   0 11:26AM ttys000   61:34.29 /Applications/Google Chrome.app/Contents/Frameworks/Google Chrome Framework.framework/Versions/103.0.5060.134/Helpers/Google Chrome Helper (Renderer).app/Contents/MacOS/Google Chrome Helper (Renderer) --type=renderer --headless --lang=en-US --no-sandbox --enable-automation --enable-logging --log-level=0 --remote-debugging-port=0 --test-type=webdriver --allow-pre-commit-input --disable-gpu-compositing --enable-blink-features=ShadowDOMV0 --lang=en-US --num-raster-threads=4 --enable-zero-copy --enable-gpu-memory-buffer-compositor-resources --enable-main-frame-before-activation --renderer-client-id=5 --launch-time-ticks=5465816194 --shared-files --field-trial-handle=1718379636,r,11655538964222733045,15442202830569006181,131072 --disable-features=PaintHolding\n",
      "  501  2750  2726   0 11:26AM ttys000    0:01.98 /Applications/Google Chrome.app/Contents/Frameworks/Google Chrome Framework.framework/Versions/103.0.5060.134/Helpers/Google Chrome Helper.app/Contents/MacOS/Google Chrome Helper --type=utility --utility-sub-type=audio.mojom.AudioService --lang=en-US --service-sandbox-type=audio --no-sandbox --use-mock-keychain --enable-logging --log-level=0 --use-angle=swiftshader-webgl --use-gl=angle --message-loop-type-ui --headless --enable-logging --log-level=0 --shared-files --field-trial-handle=1718379636,r,11655538964222733045,15442202830569006181,131072 --disable-features=PaintHolding\n",
      "    0 16953 16069   0 10:13PM ttys001    0:00.34 ps -ef\n"
     ]
    }
   ],
   "source": [
    "!ps -ef"
   ]
  },
  {
   "cell_type": "markdown",
   "metadata": {},
   "source": [
    "- `PID`는 process ID 번호\n",
    "- `TTY`는 해당 프로세스가 붙어있는 teletype(터미널)\n",
    "- 0번 가상 터미널(pts, pseudo teletype slave)에 우리가 방금 실행한 ps 명령어\n",
    "- 해당 명령어를 실행한 셸 bash\n",
    "- `TTY` 칸에 ?가 표시된 프로세스들은 터미널에 부착되지 않은 프로세스들"
   ]
  },
  {
   "cell_type": "markdown",
   "metadata": {},
   "source": [
    "프로세스가 커널에게 요청을 전달하는 기능을 시스템 콜(system call) "
   ]
  },
  {
   "cell_type": "markdown",
   "metadata": {},
   "source": [
    "프로그램 실행 중에 Ctrl+C를 누르면 전달되는 INT (interrupt) 신호\n",
    "\n",
    ", 프로세스를 종료하기 전에 해당 프로세스에게 해명할 기회를 주는 TERM (terminate) 신호"
   ]
  },
  {
   "cell_type": "markdown",
   "metadata": {},
   "source": [
    "### 프로그램과 환경변수"
   ]
  },
  {
   "cell_type": "code",
   "execution_count": 12,
   "metadata": {},
   "outputs": [
    {
     "name": "stdout",
     "output_type": "stream",
     "text": [
      "/bin/ls\n"
     ]
    }
   ],
   "source": [
    "!which ls"
   ]
  },
  {
   "cell_type": "code",
   "execution_count": 13,
   "metadata": {},
   "outputs": [
    {
     "name": "stdout",
     "output_type": "stream",
     "text": [
      "cd: shell built-in command\n"
     ]
    }
   ],
   "source": [
    "!which cd"
   ]
  },
  {
   "cell_type": "markdown",
   "metadata": {},
   "source": [
    "- ls는 /bin 디렉토리에 설치된 ls라는 프로그램\n",
    "- cd는 프로그램이 아니라 셸에서 제공하는 명령어"
   ]
  },
  {
   "cell_type": "code",
   "execution_count": 15,
   "metadata": {},
   "outputs": [
    {
     "name": "stdout",
     "output_type": "stream",
     "text": [
      "/usr/bin:/usr/local/bin:/usr/bin:/bin:/usr/sbin:/sbin\n"
     ]
    }
   ],
   "source": [
    "!echo $PATH"
   ]
  },
  {
   "cell_type": "markdown",
   "metadata": {},
   "source": [
    "셸에서 단어 앞에 $가 붙으면 `환경 변수(environment variable)`를 의미\n",
    "\n",
    "- 디렉토리 여러 개가 :로 구분\n",
    "- `PATH` 환경 변수의 기본값은 사용자가 로그인할 때 운영체제가 자동으로 정의\n",
    "- 사용자가 직접 수정할 수도 있습니다. 셸 명령어인 `export` 명령어\n",
    "- `env` 명령어로 현재 설정된 환경변수들을 모두 출력"
   ]
  },
  {
   "cell_type": "markdown",
   "metadata": {},
   "source": [
    "### 패키지 관리자"
   ]
  },
  {
   "cell_type": "markdown",
   "metadata": {},
   "source": [
    "새로운 프로그램을 설치하거나 기존에 설치된 프로그램을 업데이트 하려면\n",
    "\n",
    "우분투 운영체제는 공식적으로 APT(Advanced Packaging Tool)라는 `패키지 관리자(package manager)` 를 제공\n",
    "\n",
    "`패키지 관리자란`\n",
    "- 공인 저장소에서 프로그램과 라이브러리(다른 프로그램들이 참조하여 사용할 수 있는 코드)를 패키지 단위로 설치하고 관리할 수 있도록 하는 프로그램\n",
    "\n",
    "파이썬의 `PIP(Python Package Installer)` 등 프로그래밍 언어상 제공되는 경우도 있음"
   ]
  },
  {
   "cell_type": "code",
   "execution_count": null,
   "metadata": {},
   "outputs": [],
   "source": [
    "#!sudo apt-get update\n",
    "#!sudo apt-get install htop\n",
    "#!htop\n",
    "#!sudo apt-get remove htop -y"
   ]
  },
  {
   "cell_type": "markdown",
   "metadata": {},
   "source": [
    "### 사용자와 권한"
   ]
  },
  {
   "cell_type": "markdown",
   "metadata": {},
   "source": [
    "sudo(최고 관리자(superuser))\n",
    "***\n",
    "한 대의 컴퓨터를 여러 사람이 함께 사용하는 것은 운영체제의 초기 역사부터 일반적인 사용법\n",
    "\n",
    "ps -ef 명령어를 사용하면 프로세스마다 누구의 권한으로 실행되는지(`UID`, User ID) 확인할 수 있음"
   ]
  },
  {
   "cell_type": "markdown",
   "metadata": {},
   "source": [
    "사용자 그룹\n",
    "***"
   ]
  },
  {
   "cell_type": "code",
   "execution_count": 16,
   "metadata": {},
   "outputs": [
    {
     "name": "stdout",
     "output_type": "stream",
     "text": [
      "##\n",
      "# Group Database\n",
      "# \n",
      "# Note that this file is consulted directly only when the system is running\n",
      "# in single-user mode.  At other times this information is provided by\n",
      "# Open Directory.\n",
      "#\n",
      "# See the opendirectoryd(8) man page for additional information about\n",
      "# Open Directory.\n",
      "##\n",
      "nobody:*:-2:\n",
      "nogroup:*:-1:\n",
      "wheel:*:0:root\n",
      "daemon:*:1:root\n",
      "kmem:*:2:root\n",
      "sys:*:3:root\n",
      "tty:*:4:root\n",
      "operator:*:5:root\n",
      "mail:*:6:_teamsserver\n",
      "bin:*:7:\n",
      "procview:*:8:root\n",
      "procmod:*:9:root\n",
      "owner:*:10:\n",
      "everyone:*:12:\n",
      "_taskgated:*:13:_taskgated\n",
      "group:*:16:\n",
      "staff:*:20:root\n",
      "_networkd:*:24:\n",
      "_installassistant:*:25:\n",
      "_lp:*:26:\n",
      "_postfix:*:27:\n",
      "_postdrop:*:28:\n",
      "certusers:*:29:root,_jabber,_postfix,_cyrus,_calendar,_dovecot\n",
      "_keytabusers:*:30:_calendar,_jabber,_postfix\n",
      "_scsd:*:31:\n",
      "_ces:*:32:\n",
      "_appstore:*:33:_appstore\n",
      "utmp:*:45:\n",
      "authedusers:*:50:\n",
      "interactusers:*:51:\n",
      "netusers:*:52:\n",
      "consoleusers:*:53:\n",
      "_mcxalr:*:54:\n",
      "_appleevents:*:55:\n",
      "_geod:*:56:\n",
      "_devdocs:*:59:\n",
      "_sandbox:*:60:\n",
      "localaccounts:*:61:\n",
      "netaccounts:*:62:\n",
      "_mdnsresponder:*:65:\n",
      "_uucp:*:66:\n",
      "_ard:*:67:\n",
      "dialer:*:68:\n",
      "network:*:69:\n",
      "_www:*:70:_devicemgr,_teamsserver\n",
      "_eppc:*:71:_eppc\n",
      "_cvs:*:72:\n",
      "_svn:*:73:\n",
      "_mysql:*:74:\n",
      "_sshd:*:75:\n",
      "_qtss:*:76:\n",
      "_mailman:*:78:\n",
      "_appserverusr:*:79:\n",
      "admin:*:80:root\n",
      "_appserveradm:*:81:\n",
      "_clamav:*:82:\n",
      "_amavisd:*:83:\n",
      "_jabber:*:84:\n",
      "_appowner:*:87:\n",
      "_windowserver:*:88:\n",
      "_spotlight:*:89:\n",
      "accessibility:*:90:\n",
      "_tokend:*:91:\n",
      "_securityagent:*:92:\n",
      "_calendar:*:93:_teamsserver\n",
      "_teamsserver:*:94:_devicemgr\n",
      "_update_sharing:*:95:\n",
      "_installer:*:96:\n",
      "_atsserver:*:97:\n",
      "_lpadmin:*:98:\n",
      "_unknown:*:99:\n",
      "_lpoperator:*:100:\n",
      "_softwareupdate:*:200:_softwareupdate\n",
      "_guest:*:201:\n",
      "_coreaudiod:*:202:\n",
      "_screensaver:*:203:\n",
      "_developer:*:204:\n",
      "_locationd:*:205:\n",
      "_detachedsig:*:207:_locationd\n",
      "_trustevaluationagent:*:208:\n",
      "_odchpass:*:209:_teamsserver\n",
      "_timezone:*:210:\n",
      "_lda:*:211:\n",
      "_cvms:*:212:\n",
      "_usbmuxd:*:213:\n",
      "_postgres:*:216:_devicemgr,_calendar,_teamsserver,_xserverdocs\n",
      "_devicemgr:*:220:\n",
      "_webauthserver:*:221:_teamsserver,_devicemgr\n",
      "_netbios:*:222:\n",
      "_warmd:*:224:_warmd\n",
      "_dovenull:*:227:\n",
      "_netstatistics:*:228:\n",
      "_assetcache:*:235:\n",
      "_coremediaiod:*:236:\n",
      "_launchservicesd:*:239:\n",
      "_iconservices:*:240:\n",
      "_distnote:*:241:\n",
      "_nsurlsessiond:*:242:\n",
      "_displaypolicyd:*:244:\n",
      "_astris:*:245:\n",
      "_gamecontrollerd:*:247:\n",
      "_mbsetupuser:*:248:\n",
      "_ondemand:*:249:\n",
      "_analyticsusers:*:250:_analyticsd,_networkd,_timed,_reportmemoryexception,_mbsetupuser\n",
      "_xserverdocs:*:251:\n",
      "_wwwproxy:*:252:\n",
      "_mobileasset:*:253:\n",
      "_findmydevice:*:254:\n",
      "_datadetectors:*:257:\n",
      "_captiveagent:*:258:\n",
      "_ctkd:*:259:\n",
      "_applepay:*:260:\n",
      "_hidd:*:261:\n",
      "_cmiodalassistants:*:262:\n",
      "_analyticsd:*:263:_analyticsd\n",
      "_webdeveloper:*:264:\n",
      "_fpsd:*:265:_fpsd\n",
      "_timed:*:266:\n",
      "_nearbyd:*:268:_nearbyd\n",
      "_reportmemoryexception:*:269:_reportmemoryexception\n",
      "_driverkit:*:270:_driverkit\n",
      "_diskimagesiod:*:271:_diskimagesiod\n",
      "_logd:*:272:_logd\n",
      "_appinstalld:*:273:_appinstalld\n",
      "_installcoordinationd:*:274:_installcoordinationd\n",
      "_demod:*:275:_demod\n",
      "_rmd:*:277:_rmd\n",
      "_accessoryupdater:*:278:_accessoryupdater\n",
      "_knowledgegraphd:*:279:_knowledgegraphd\n",
      "_coreml:*:280:_coreml\n",
      "_sntpd:*:281:_sntpd,_timed\n",
      "_trustd:*:282:_trustd\n",
      "_darwindaemon:*:284:_darwindaemon\n",
      "_notification_proxy:*:285:\n",
      "com.apple.access_ftp:*:395:\n",
      "com.apple.access_disabled:*:396:\n",
      "com.apple.access_sessionkey:*:397:\n",
      "com.apple.access_screensharing:*:398:\n",
      "com.apple.access_ssh:*:399:\n",
      "com.apple.access_remote_ae:*:400:\n",
      "_oahd:*:441:_oahd\n"
     ]
    }
   ],
   "source": [
    "!cat /etc/group"
   ]
  },
  {
   "cell_type": "markdown",
   "metadata": {},
   "source": [
    "접근 권한\n",
    "***\n",
    "프로그램 실행 권한은 파일 접근 권한과 동일한 방법으로 구분\n",
    "\n",
    "`chown`으로 소유권 권한 변경 가능\n",
    "\n",
    "`chmod`으로 파일의 권한 변경 가능"
   ]
  },
  {
   "cell_type": "markdown",
   "metadata": {},
   "source": [
    "## 기타"
   ]
  },
  {
   "cell_type": "markdown",
   "metadata": {},
   "source": [
    "### 약간의 하드웨어 1: 연산장치"
   ]
  },
  {
   "cell_type": "markdown",
   "metadata": {},
   "source": [
    "![https://en.wikipedia.org/wiki/Motherboard](img/01.png)"
   ]
  },
  {
   "cell_type": "markdown",
   "metadata": {},
   "source": [
    "마더보드의 CPU Socket에는 CPU(Central Processing Unit, 중앙처리장치)가 올라감\n",
    "\n",
    "칩은 반도체인 실리콘 웨이퍼 위에 직접회로(Integrated Circuits, IC)를 포토리소그래피(photolithography) 공정을 통해 회로를 인쇄\n",
    "\n",
    "어떻게??\n",
    "\n",
    "[집적 회로와 무어의 법칙 : 컴퓨터 과학 특강 #17](https://www.youtube.com/watch?v=6-tKOHICqrI)"
   ]
  },
  {
   "cell_type": "markdown",
   "metadata": {},
   "source": [
    "제작된 CPU 칩이 처리할 수 있는 명령어는 기계어\n",
    "\n",
    "비효율적이기에 C, C++, Python 등 인간이 이해할 수 있는 프로그래밍 언어 사용\n",
    "\n",
    "인간이 이해할 수 있는 언어로 짠 프로그램을 CPU에서 실행할 수 있는 기계어로 번역하고 최적화하는 과정이 바로 컴파일 \n"
   ]
  },
  {
   "cell_type": "markdown",
   "metadata": {},
   "source": [
    "명령어 집합\n",
    "\n",
    "연산 세트를 나타내는 명령어 집합(instruction set) 은 데스크탑용 CPU 간 상당 부분 호환"
   ]
  },
  {
   "cell_type": "markdown",
   "metadata": {},
   "source": [
    "메모리와의 관계\n",
    "\n",
    "CPU를 구분할 때에는 32bit와 64bit로 구분\n",
    "\n",
    "CPU가 한 번에 읽고 쓸 수 있는 데이터의 크기\n",
    "\n",
    "메모리 주소 의 범위에 영향\n",
    "\n",
    "32bit 컴퓨터에서는 2의 32승인 약 42억 개 메모리 주소공간만 사용할 수 있습니다. 1개 주소공간이 1 Byte라면 4GB 크기의 메모리 용량만 표기"
   ]
  },
  {
   "cell_type": "markdown",
   "metadata": {},
   "source": [
    "CPU의 성능과 발전\n",
    "\n",
    "초당 처리 속도의 기준인 클럭(clock)"
   ]
  },
  {
   "cell_type": "markdown",
   "metadata": {},
   "source": [
    "다른 연산장치\n",
    "\n",
    "CPU 외에도 특정 작업에 특화된 연산장치들\n",
    "\n",
    "그래픽 연산을 위한 GPU(Graphical Processing Unit) \n",
    "\n",
    "구글에서 딥러닝 전용으로 만든 TPU(Tensor Processing Unit) \n",
    "\n",
    "작업에 맞게 직접 설계하여 생산하는 ASIC(Application-Specific Integrated Circuit, 어플리케이션 특화 집적회로)\n",
    "\n",
    "그때그때 회로를 직접 프로그래밍해서 사용할 수 있는 FPGA(Field-Programmable Gate Array) "
   ]
  },
  {
   "cell_type": "markdown",
   "metadata": {},
   "source": [
    "### 약간의 하드웨어 2: 저장장치"
   ]
  },
  {
   "cell_type": "markdown",
   "metadata": {},
   "source": [
    "저장장치\n",
    "***\n",
    "주 저장장치는 RAM(Random Access Memory) 입니다. RAM은 비싸서 용량을 쉽게 늘리기도 어렵고, 전원이 꺼지면 데이터가 사라집\n",
    "\n",
    "보조 저장장치인 HDD(Hard Disk Drive) 나 SSD(Solid State Drive) 는 가격도 비교적 저렴하고, 전원이 꺼져도 데이터는 그대로 보존\n",
    "\n"
   ]
  },
  {
   "cell_type": "markdown",
   "metadata": {},
   "source": [
    "![https://gist.github.com/jboner/2841832](img/02.png)"
   ]
  },
  {
   "cell_type": "markdown",
   "metadata": {},
   "source": [
    "딥러닝과 저장장치\n",
    "***\n",
    "병목 지점이 GPU/CPU 처리속도가 아닌 경우도 많음"
   ]
  },
  {
   "cell_type": "markdown",
   "metadata": {},
   "source": [
    "### 클라우드와 가상화"
   ]
  },
  {
   "cell_type": "markdown",
   "metadata": {},
   "source": [
    "클라우드 컴퓨팅\n",
    "***\n",
    "아마존 웹 서비스(Amazon Web Services) 라는 자회사를 설립하여, 수요에 따라 그때그때 서버를 빌렸다가 반납하는 서버 임대업\n",
    "\n",
    "물리적인 서버를 임대하는 것이 아님\n",
    "\n",
    "물리적인 서버를 여러 개의 가상 서버로 쪼개어 판매하기 시작"
   ]
  },
  {
   "cell_type": "markdown",
   "metadata": {},
   "source": [
    "가상화\n",
    "***\n",
    "가상화(virtualization) 는 이처럼 하나의 컴퓨터를 쪼개어 여러 대의 컴퓨터가 있는 것처럼 사용하게 하는 기술\n",
    "\n",
    "실제 물리적인 서버를 호스트(host), 그 안에서 돌아가는 가상 서버를 게스트(guest)\n",
    "\n",
    "가상화에는 여러 가지 종류가 있습니다. 가상머신(Virtual Machine) 가상화의 경우 게스트 자체에 운영체제가 돌아가지만, 컨테이너(Container) 가상화 운영체제 공유\n",
    "\n",
    "도커(Docker) 는 이런 컨테이너 가상화를 손쉽게 제공하는 프로그램"
   ]
  },
  {
   "cell_type": "markdown",
   "metadata": {},
   "source": [
    "## 셸 심화"
   ]
  },
  {
   "cell_type": "markdown",
   "metadata": {},
   "source": [
    "### 편리한 기능"
   ]
  },
  {
   "cell_type": "markdown",
   "metadata": {},
   "source": [
    "터미널 에뮬레이터에서 무언가를 복사하거나 붙여넣을 때에는 `Ctrl+Shift+C`, `Ctrl+Shift+V`\n",
    "\n",
    "위아래 화살표를 통해 이전에 실행한 명령들을 다시 입력\n",
    "\n",
    "history 명령을 통해 기존에 실행한 명령들을 표시할 수 있습니다. 여기서 나오는 번호를 참고하여 !번호를 실행하면 해당 번호의 명령이 다시 실행\n",
    "\n",
    "Ctrl+A, Ctrl+E를 통해 명령어의 앞, 뒤로 커서를 이동\n",
    "\n",
    "clear 명령어 또는 Ctrl+L을 통해 기존에 터미널에 출력되었던 내용을 깨끗이 지울 수 있음\n",
    "\n",
    "실수로 Ctrl+z를 눌러 프로세스를 중지시켰다면, fg를 통해 다시 재개\n",
    "\n",
    "실수로 vi 편집기에 처음 들어갔다면, Ctrl+C 또는 Esc를 누른 뒤 :q!를 입력하고 엔터를 눌러 편집기를 종료"
   ]
  },
  {
   "cell_type": "markdown",
   "metadata": {},
   "source": [
    "### 셸 스크립트"
   ]
  },
  {
   "cell_type": "markdown",
   "metadata": {},
   "source": [
    "명령어들을 파일로 묶어 실행\n",
    "\n",
    "test.sh\n",
    "\n",
    "chmod +x ./test.sh"
   ]
  },
  {
   "cell_type": "code",
   "execution_count": 18,
   "metadata": {},
   "outputs": [
    {
     "name": "stdout",
     "output_type": "stream",
     "text": [
      "Bye\n"
     ]
    }
   ],
   "source": [
    "# ./test.sh\n",
    "\n",
    "!echo \"Bye\""
   ]
  },
  {
   "cell_type": "markdown",
   "metadata": {},
   "source": [
    "`||` false면, 실행\n",
    "\n",
    "`&&` true면, 실행\n",
    "\n",
    "`>`를 통해 명령어의 결과를 파일에 저장하는 것도 가능합니다. \n",
    "\n",
    "`>>`를 쓰면 명령어의 결과가 기존 파일 뒤에 추가\n",
    "\n",
    "`|` 출력을 입력으로 사용함"
   ]
  },
  {
   "cell_type": "markdown",
   "metadata": {},
   "source": [
    "### 명령어 모음 및 추천자료"
   ]
  },
  {
   "cell_type": "markdown",
   "metadata": {},
   "source": [
    "명령어 모음\n",
    "필수(- ❤️) 및 권장(👍) 명령어들은 한번씩 실행하거나, 사용법을 검색해 보는 것을 추천합니다.\n",
    "\n",
    "셸 환경\n",
    "- 👍history: 셸 명령어 이력을 출력합니다.\n",
    "- 👍man: 프로그램의 매뉴얼 페이지를 출력합니다.\n",
    "- 👌which: 명령어의 전체 경로를 출력합니다.\n",
    "- 👌export: 셸 변수나 함수를 현재 환경으로 내보냅니다.\n",
    "- 👌env: 명령어가 제공된다면 해당 명령어를 새로운 환경에서 실행합니다. 명령어가 제공되지 않은 경우 현재 환경의 정보를 출력합니다.\n",
    "\n",
    "텍스트 처리\n",
    "- ❤️echo: 뒤이어 입력한 내용을 출력합니다.\n",
    "- ❤️cat: 하나 이상의 텍스트 파일을 순서대로 출력합니다.\n",
    "- 👍sort: 입력된 텍스트를 줄 단위로 정렬합니다.\n",
    "- 👍less: 텍스트 파일의 내용을 자유롭게 조회하고 검색합니다.\n",
    "- 👍head: 텍스트 파일의 앞 몇 줄만 출력합니다.\n",
    "- 👍tail: 텍스트 파일의 마지막 몇 줄만 출력합니다.\n",
    "- 👍cut: 텍스트를 구분자(delimiter)에 따라 나눕니다.\n",
    "- 👍uniq: 텍스트 중 중복 값들을 제거합니다.\n",
    "- 👍grep: 정규식을 활용해 텍스트를 검색합니다.\n",
    "- 👍wc: 텍스트를 단어, 줄, 문자 등 단위로 셉니다.\n",
    "- 👌comm: 텍스트 파일을 비교합니다.\n",
    "- 👌zcat: 압축된 텍스트 파일을 출력합니다.\n",
    "- 👌sed: 정규식을 활용해 텍스트를 변형합니다.\n",
    "- 👌awk: 텍스트를 스캔하고 변형합니다.\n",
    "\n",
    "파일 제어 및 이동\n",
    "- ❤️ls: 현재 디렉토리 내의 파일 및 폴더들을 출력합니다.\n",
    "- ❤️cd: Change Directory의 약자로, 뒤에 따라오는 폴더로 내가 있는 셸의 현재 위치를 이동시킵니다.\n",
    "- ❤️cp: 파일을 복사합니다.\n",
    "- ❤️mv: 파일을 이동합니다.\n",
    "- ❤️rm: 파일을 삭제합니다. 폴더를 삭제하기 위해서는 -r (recursive) 옵션을, 빈 폴더가 아니더라도 내부까지 삭제하려면 -f (force) 옵션을 함께 사용해야 합니다.\n",
    "- 👍chown: 대상 파일의 소유 사용자와 그룹을 변경합니다.\n",
    "- 👍chmod: 대상 파일의 권한을 변경합니다.\n",
    "- 👍find: 파일을 찾습니다.\n",
    "- 👍pwd: Present Working Directory의 약자입니다. 현재 내가 >위치한 디렉토리 위치를 출력합니다.\n",
    "- 👌ln: 파일에 대한 링크를 생성합니다.\n",
    "- 👌touch: 파일 접근 및 수정 시간을 변경합니다. 빈 파일을 만드는데도 사용할 수 있습니다.\n",
    "- 👌tar: 파일 및 폴더를 하나의 아카이브 파일로 통합하고 압축합니다.\n",
    "- 👌mount: 새로운 저장장치를 파일시스템으로서 추가합니다.\n",
    "- 👌rename: 여러 파일들의 이름을 규칙에 따라 한번에 변경합니다.\n",
    "- 👌df: 파일시스템의 남은 용량을 표시합니다.\n",
    "\n",
    "시스템 및 프로세스 제어\n",
    "- ❤️sudo: 이어지는 명령을 최고 관리자 권한으로 실행합니다.\n",
    "- ❤️apt-get: APT 패키지 관리자를 통해 공인 저장소에서 패 >키지를 가져다 설치하거나 제거합니다.\n",
    "- 👍ps: 현재 프로세스 목록을 출력합니다.\n",
    "- 👍kill: PID에 해당하는 프로세스에 시그널을 보냅니다.\n",
    "- 👌fg: 배경에서 실행되는 작업을 전경(foreground)으로 가져옵니다.\n",
    "- 👌bg: 작업을 배경(backgound)으로 보냅니다.\n",
    "- 👌jobs: 전경 및 배경 작업의 목록을 표시합니다.\n",
    "\n",
    "기타\n",
    "- ❤️ssh: 원격으로 셸에 접속합니다.\n",
    "- 👍tmux: 여러 개의 셸 세션을 관리하고, 터미널 접속이 끊어지더라도 셸 세션을 유지합니다.\n",
    "- 👍watch: 이어지는 명령을 주기적으로 실행하여 표시합니다.\n",
    "- 👍curl: 주어진 URL과 통신합니다.\n",
    "- 👍wget: 네트워크를 통해 파일을 다운로드합니다.\n",
    "- 👍scp: SSH를 통해 원격으로 파일을 전송합니다.\n",
    "- 👌ssh-keygen: SSH 공개키 비밀키 쌍을 생성합니다.\n",
    "- 👌ssh-copy: SSH 공개키를 해당 서버에 등록합니다.\n",
    "- 👌rsync: 원격으로 파일을 동기화합니다.\n",
    "- 👌xarg: 명령어를 구성하여 실행합니다. 이전 명령에서 인자를 넘겨받아 실행하거나, 다중 프로세스를 사용하여 명령을 병렬로 실행하는 등의 작업이 가능합니다.\n",
    "- 👌cron: 주기적으로 실행될 명령을 등록합니다.\n",
    "- 👌htop: 프로세스 목록 및 자원 사용량을 시각적으로 표시합니다."
   ]
  },
  {
   "cell_type": "markdown",
   "metadata": {},
   "source": [
    "[만화로 배우는 리눅스 시스템 관리 1 : 명령어 & 셸 스크립트 입문](http://www.yes24.com/Product/Goods/30705473)\n",
    "\n",
    "['리눅스/Linux 일반' 카테고리의 글 목록](https://webdir.tistory.com/category/%EB%A6%AC%EB%88%85%EC%8A%A4/Linux%20%EC%9D%BC%EB%B0%98)"
   ]
  },
  {
   "cell_type": "markdown",
   "metadata": {},
   "source": [
    "### 연습문제"
   ]
  },
  {
   "cell_type": "markdown",
   "metadata": {},
   "source": [
    "Q1. 이름이 --all인 폴더를 만들기\n",
    "\n",
    "```bash\n",
    "mkdir ① ②\n",
    "```\n",
    "\n",
    "Q2. titanic.csv에서 남성과 여성이 몇 명인지 세어봅시다. 우선 tail 을 통해 첫 줄을 제외한 나머지 줄을 출력하고, cut으로 성별이 들어있는 열만 추출한 다음, ④로 뭔가 쓱싹 한 다음에 uniq로 각각 세어봄\n",
    "\n",
    "```bash\n",
    "cd ~/data\n",
    "ls -l\n",
    "tail -n ① titanic.csv | cut -d② -f③ | ④ | uniq ⑤ \n",
    "314 female\n",
    "577 male\n",
    "```\n",
    "\n",
    "Q3. titanic.csv에서 성이 Brown인 사람이 몇 명인지 세어봅시다. 성이 아닌 나머지 이름에 Brown이 들어가는 경우도 있으니 조심\n",
    "\n",
    "```bash\n",
    "cat titanic.csv | grep '①' | wc ②\n",
    "```"
   ]
  },
  {
   "cell_type": "markdown",
   "metadata": {},
   "source": [
    "# 코드 블록"
   ]
  },
  {
   "cell_type": "code",
   "execution_count": null,
   "metadata": {},
   "outputs": [],
   "source": [
    "!echo hello"
   ]
  },
  {
   "cell_type": "code",
   "execution_count": null,
   "metadata": {},
   "outputs": [],
   "source": [
    "!pwd"
   ]
  },
  {
   "cell_type": "code",
   "execution_count": null,
   "metadata": {},
   "outputs": [],
   "source": [
    "!ls -alrt"
   ]
  },
  {
   "cell_type": "code",
   "execution_count": null,
   "metadata": {},
   "outputs": [],
   "source": [
    "!ls --help"
   ]
  },
  {
   "cell_type": "code",
   "execution_count": null,
   "metadata": {},
   "outputs": [],
   "source": [
    "!ps -ef"
   ]
  },
  {
   "cell_type": "code",
   "execution_count": 20,
   "metadata": {},
   "outputs": [
    {
     "name": "stdout",
     "output_type": "stream",
     "text": [
      "cd: shell built-in command\n",
      "/bin/ls\n"
     ]
    }
   ],
   "source": [
    "!which ls & which cd"
   ]
  },
  {
   "cell_type": "code",
   "execution_count": null,
   "metadata": {},
   "outputs": [],
   "source": [
    "!echo $PATH"
   ]
  },
  {
   "cell_type": "code",
   "execution_count": null,
   "metadata": {},
   "outputs": [],
   "source": [
    "#!sudo apt-get update\n",
    "#!sudo apt-get install htop\n",
    "#!htop\n",
    "#!sudo apt-get remove htop -y"
   ]
  },
  {
   "cell_type": "markdown",
   "metadata": {},
   "source": [
    "# 중요"
   ]
  },
  {
   "cell_type": "markdown",
   "metadata": {},
   "source": [
    "키워드를 제공하는 것을 목표\n",
    "\n",
    "- 운영체제의 구성과 커널의 역할\n",
    "- 터미널과 터미널 에뮬레이터, 셸\n",
    "- 기본적인 리눅스 명령어들"
   ]
  },
  {
   "cell_type": "markdown",
   "metadata": {},
   "source": [
    "`user@hostname:~#`"
   ]
  },
  {
   "cell_type": "markdown",
   "metadata": {},
   "source": [
    "- `셸(shell)` : 운영체제의 껍데기(GUI, CLI)\n",
    "- `커널(kernel)` : 운영체제의 알맹이"
   ]
  },
  {
   "cell_type": "markdown",
   "metadata": {},
   "source": [
    "- `.` : 현재 폴더\n",
    "- `..` : 상위 폴더\n",
    "- `.dir` : 숨긴 디렉토리"
   ]
  },
  {
   "cell_type": "markdown",
   "metadata": {},
   "source": [
    "- `상대 경로` : 디렉토리에 영향을 받는 위치 표시 방식\n",
    "- `절대 경로` : 똑같은 곳을 가리키도록 위치 전체를 적어주는 것"
   ]
  },
  {
   "cell_type": "markdown",
   "metadata": {},
   "source": [
    "- `운영체제란` : 컴퓨터의 다양한 하드웨어 장치들과 더불어 소프트웨어를 관리하는 시스템"
   ]
  },
  {
   "cell_type": "markdown",
   "metadata": {},
   "source": [
    "- `프로그램` : 컴퓨터가 수행할 작업을 기록해놓은 것\n",
    "- `프로세스(process)` : 운영체제가 메모리를 할당하는 작업 단위\n",
    "- `스레드` : 프로세스가 할당받은 메모리를 활용하는 실행 단위"
   ]
  },
  {
   "cell_type": "markdown",
   "metadata": {},
   "source": [
    "- `멀티프로세싱(Multiprocessing)` : 하나의 프로그램 안에서 여러개의 프로세스를 활용\n",
    "- `멀티스레딩(Multithreading)` : 하나의 프로세스 안에서 여러개의 스레드를 활용"
   ]
  },
  {
   "cell_type": "markdown",
   "metadata": {},
   "source": [
    "- `터미널` : 컴퓨터에 정보를 입력하고 출력하는 소프트웨어 및 하드웨어로써의 장치\n",
    "- `터미널 에뮬레이터` : 그래픽 환경에서 터미널을 모사"
   ]
  },
  {
   "cell_type": "markdown",
   "metadata": {},
   "source": [
    "- `PID` : process ID 번호\n",
    "- `TTY` : 해당 프로세스가 붙어있는 teletype(터미널)"
   ]
  },
  {
   "cell_type": "markdown",
   "metadata": {},
   "source": [
    "`패키지 관리자` : 공인 저장소에서 프로그램과 라이브러리를 패키지 단위로 설치하고 관리할 수 있도록 하는 프로그램"
   ]
  },
  {
   "cell_type": "markdown",
   "metadata": {},
   "source": [
    "- `chown` : 소유권 권한 변경 가능\n",
    "- `chmod` : 파일의 권한 변경 가능"
   ]
  },
  {
   "cell_type": "markdown",
   "metadata": {},
   "source": [
    "- `기계어` : 제작된 CPU 칩이 처리할 수 있는 명령어\n",
    "- `프로그래밍 언어` : Python 등 인간이 이해할 수 있는 언어\n",
    "- `컴파일` :  기게어2프로그래밍 언어 번역하고 최적화하는 과정"
   ]
  },
  {
   "cell_type": "markdown",
   "metadata": {},
   "source": [
    "- `GPU(Graphical Processing Unit)` : 그래픽 연산 \n",
    "- `TPU(Tensor Processing Unit)` : 구글에서 딥러닝 전용으로 만든 연산장치"
   ]
  },
  {
   "cell_type": "markdown",
   "metadata": {},
   "source": [
    "- `RAM(Random Access Memory)` : 주 저장장치 / 비쌈 / 용량 적음 / 전원이 꺼지면 데이터가 사라잠\n",
    "- `HDD(Hard Disk Drive)` & `SSD(Solid State Drive)` : 보조 저장장치 / 저렴 / 전원이 꺼져도 데이터는 그대로 보존"
   ]
  },
  {
   "cell_type": "markdown",
   "metadata": {},
   "source": [
    "- `가상화(virtualization)` : 하나의 컴퓨터 - 여러 대의 컴퓨터 처럼 사용하게 하는 기술\n",
    "- `호스트(host)` : 물리적인 서버\n",
    "- `게스트(guest)` : 가상 서버\n",
    "- `가상머신(Virtual Machine)` : 게스트 자체에 운영체제\n",
    "- `컨테이너(Container)` : 운영체제 공유\n",
    "- `도커(Docker)` : 컨테이너 가상화를 손쉽게 제공하는 프로그램"
   ]
  },
  {
   "cell_type": "markdown",
   "metadata": {},
   "source": [
    "[명령어 모음 및 추천자료](#명령어-모음-및-추천자료)"
   ]
  },
  {
   "cell_type": "markdown",
   "metadata": {},
   "source": [
    "# 링크"
   ]
  },
  {
   "cell_type": "markdown",
   "metadata": {},
   "source": [
    "[Using a 1930 Teletype as a Linux Terminal](https://youtube.com/watch?v=2XLZ4Z8LpEE)\n",
    "\n",
    "[집적 회로와 무어의 법칙 : 컴퓨터 과학 특강 #17](https://www.youtube.com/watch?v=6-tKOHICqrI)\n",
    "\n",
    "[만화로 배우는 리눅스 시스템 관리 1 : 명령어 & 셸 스크립트 입문](http://www.yes24.com/Product/Goods/30705473)\n",
    "\n",
    "['리눅스/Linux 일반' 카테고리의 글 목록](https://webdir.tistory.com/category/%EB%A6%AC%EB%88%85%EC%8A%A4/Linux%20%EC%9D%BC%EB%B0%98)"
   ]
  },
  {
   "cell_type": "markdown",
   "metadata": {},
   "source": [
    "# 이미지"
   ]
  },
  {
   "cell_type": "markdown",
   "metadata": {},
   "source": [
    "![https://en.wikipedia.org/wiki/Kernel_(operating_system)](img/00.png)\n",
    "\n",
    "![https://en.wikipedia.org/wiki/Motherboard](img/01.png)\n",
    "\n",
    "![https://gist.github.com/jboner/2841832](img/02.png)"
   ]
  }
 ],
 "metadata": {
  "kernelspec": {
   "display_name": "Python 3.8.9 64-bit",
   "language": "python",
   "name": "python3"
  },
  "language_info": {
   "codemirror_mode": {
    "name": "ipython",
    "version": 3
   },
   "file_extension": ".py",
   "mimetype": "text/x-python",
   "name": "python",
   "nbconvert_exporter": "python",
   "pygments_lexer": "ipython3",
   "version": "3.8.9"
  },
  "orig_nbformat": 4,
  "vscode": {
   "interpreter": {
    "hash": "31f2aee4e71d21fbe5cf8b01ff0e069b9275f58929596ceb00d14d90e3e16cd6"
   }
  }
 },
 "nbformat": 4,
 "nbformat_minor": 2
}
