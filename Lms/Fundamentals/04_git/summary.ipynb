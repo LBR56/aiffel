{
 "cells": [
  {
   "cell_type": "markdown",
   "metadata": {},
   "source": [
    "# 개발자를 위한 첫 번째 필수 교양"
   ]
  },
  {
   "cell_type": "markdown",
   "metadata": {},
   "source": [
    "개발에 필요한 git, 마크다운 등 기본 툴을 익힌다."
   ]
  },
  {
   "cell_type": "markdown",
   "metadata": {},
   "source": [
    "- 학습 목표 및 목차\n",
    "- 개발자를 위한 첫 번째 필수 교양\n",
    "  - 협업을 더 잘, 더 편리하게 하기 위해\n",
    "  - 개발자의 가드닝, 잔디 심기\n",
    "- 내 코드의 모든 발자취를 기록할 수 있을까?\n",
    "  - 버전관리와 Git\n",
    "  - Git과 GitHub\n",
    "  - Git, GitHub 셋팅하기\n",
    "- GitHub에 첫 번째 잔디 심기, 어렵지 않아요!\n",
    "  - 로컬 저장소\n",
    "  - 변화 추적하기\n",
    "  - 원격 저장소\n",
    "  - 협업하기\n",
    "  - 받아오기\n",
    "  - 정리\n",
    "- 개발자 문서작업의 시작과 끝! 마크다운을 익혀보자\n",
    "  - 마크다운 소개\n",
    "  - 마크다운 작성하기\n",
    "- 마무리\n"
   ]
  },
  {
   "cell_type": "markdown",
   "metadata": {},
   "source": [
    "## 학습 목표 및 목차"
   ]
  },
  {
   "cell_type": "markdown",
   "metadata": {},
   "source": [
    "- Git과 GitHub의 차이\n",
    "- Git의 add, commit, push, pull 명령어\n",
    "- GitHub을 활용해 소스코드 버전관리\n",
    "- Jupyter Notebook을 활용해 자유자재로 코드/문서 작업\n",
    "- 마크다운 문법"
   ]
  },
  {
   "cell_type": "markdown",
   "metadata": {},
   "source": [
    "## 개발자를 위한 첫 번째 필수 교양"
   ]
  },
  {
   "cell_type": "markdown",
   "metadata": {},
   "source": [
    "### 협업을 더 잘, 더 편리하게 하기 위해"
   ]
  },
  {
   "cell_type": "markdown",
   "metadata": {},
   "source": [
    "언제나 빼먹지 않고 이야기되는 것은 바로 협업 능력\n",
    "\n",
    "커뮤니케이션 및 생산성 앱\n",
    "\n",
    "[![Slack](img/00.png)](https://slack.com/)\n",
    "\n",
    "많은 사람들이 효율적으로 소통하는 데에 최적화 된 앱\n",
    "\n",
    "[![Notion](img/01.png)](https://www.notion.so/)\n",
    "\n",
    "문서작성 앱\n",
    "\n",
    "[![Trello (트렐로)](img/02.png)](https://trello.com/)\n",
    "\n",
    "ToDo List\n",
    "\n",
    "[Zoom (줌)](https://zoom.us/) / [Google Meet (구글 밋)](https://meet.google.com/)\n"
   ]
  },
  {
   "cell_type": "markdown",
   "metadata": {},
   "source": [
    "검색 키워드\n",
    "\n",
    "- 개발자의 생산성\n",
    "- 개발자를 위한 생산성 도구\n",
    "- 개발자 협업\n",
    "- 개발자 커뮤니케이션"
   ]
  },
  {
   "cell_type": "markdown",
   "metadata": {},
   "source": [
    "### 개발자의 가드닝, 잔디 심기"
   ]
  },
  {
   "cell_type": "markdown",
   "metadata": {},
   "source": [
    "![03](img/03.png)"
   ]
  },
  {
   "cell_type": "markdown",
   "metadata": {},
   "source": [
    "- 작은 사각형은 하루하루\n",
    "- 각 열마다 일주일\n",
    "- 365개의 셀로 1년\n",
    "\n",
    "GitHub은 코드를 다루는 개발자들이 편리하게 협업하기 위한 도구"
   ]
  },
  {
   "cell_type": "markdown",
   "metadata": {},
   "source": [
    "## 내 코드의 모든 발자취를 기록할 수 있을까?"
   ]
  },
  {
   "cell_type": "markdown",
   "metadata": {},
   "source": [
    "### 버전관리와 Git"
   ]
  },
  {
   "cell_type": "markdown",
   "metadata": {},
   "source": [
    "버전 관리의 대표적인 예라고 할 수 있습니다. 특정 시점의 진행 상황을 저장해두고, 언제 다시 돌아오더라도 그 시점으로부터 다시 시작할 수 있도록 관리\n",
    "\n",
    "나 혼자서 하는 작업이 아니라, 다른 사람과 함께 한다면 더더욱\n",
    "\n",
    "소스 코드의 버전 관리를 도와주는 시스템 중 하나가 바로 Git과 GitHub\n",
    "\n",
    "오늘 기초적인 것들을 학습한 후 꼭 책이나 전체 내용을 다루는 온라인 커리큘럼 등을 통해서 보다 깊게 공부해 보시는 것을 추천\n",
    "\n",
    "[Pro Git](https://git-scm.com/book/ko/v2)\n",
    "\n",
    "[지옥에서 온 Git](https://opentutorials.org/module/2676)"
   ]
  },
  {
   "cell_type": "markdown",
   "metadata": {},
   "source": [
    "### Git과 GitHub"
   ]
  },
  {
   "cell_type": "markdown",
   "metadata": {},
   "source": [
    "- `Git` : 개발을 진행하며 작성하는 소스코드가 업데이트 되는 버전을 기록해두고 관리할 수 있는 소스코드 버전 관리 시스템\n",
    "- `GitHub` : Git으로 관리하는 프로젝트를 호스팅하고, 시간과 공간의 제약 없이 협업할 수 있는 온라인 서비스"
   ]
  },
  {
   "cell_type": "markdown",
   "metadata": {},
   "source": [
    "- `로컬` : 개인 노트북 또는 데스크탑같은 Personal Computer\n",
    "- `원격(Remote)` : 웹사이트와 같이 다른 사람과 함께 작업할 수 있는 공간"
   ]
  },
  {
   "cell_type": "markdown",
   "metadata": {},
   "source": [
    "### Git, GitHub 셋팅하기"
   ]
  },
  {
   "cell_type": "markdown",
   "metadata": {},
   "source": [
    "git 설치"
   ]
  },
  {
   "cell_type": "code",
   "execution_count": 1,
   "metadata": {},
   "outputs": [
    {
     "name": "stdout",
     "output_type": "stream",
     "text": [
      "git version 2.32.1 (Apple Git-133)\n"
     ]
    }
   ],
   "source": [
    "#!git --version"
   ]
  },
  {
   "cell_type": "markdown",
   "metadata": {},
   "source": [
    "[github 계정 생성](https://github.com/)\n",
    "\n",
    "[github 공식 문서](https://docs.github.com/en/get-started/signing-up-for-github/signing-up-for-a-new-github-account)"
   ]
  },
  {
   "cell_type": "markdown",
   "metadata": {},
   "source": [
    "계정을 만들 때 유의해야 할 것\n",
    "- 중복되지 않는 Username을 잘 선택\n",
    "- 인증 가능한 email을 사용"
   ]
  },
  {
   "cell_type": "markdown",
   "metadata": {},
   "source": [
    "## GitHub에 첫 번째 잔디 심기, 어렵지 않아요!"
   ]
  },
  {
   "cell_type": "markdown",
   "metadata": {},
   "source": [
    "### 로컬 저장소"
   ]
  },
  {
   "cell_type": "markdown",
   "metadata": {},
   "source": [
    "로컬의 Git과 원격에 있는 GitHub을 연결하는 것"
   ]
  },
  {
   "cell_type": "markdown",
   "metadata": {},
   "source": [
    "`레파지토리(Repository)` : 로컬의 Git과 동기화를 해서 온라인으로 관리할 수 있는 원격저장소"
   ]
  },
  {
   "cell_type": "code",
   "execution_count": null,
   "metadata": {},
   "outputs": [],
   "source": [
    "#!git config --global user.email \"my-email@gmail.com\"\n",
    "#!git config --global user.name \"my-username\""
   ]
  },
  {
   "cell_type": "markdown",
   "metadata": {},
   "source": [
    "`my-email@gmail.com` 과 `my-username` 자신의 email 주소와 username으로 변경"
   ]
  },
  {
   "cell_type": "markdown",
   "metadata": {},
   "source": [
    "내 컴퓨터에 로컬 저장소 만들기\n",
    "***"
   ]
  },
  {
   "cell_type": "markdown",
   "metadata": {},
   "source": [
    "디렉토리를 Git으로 관리하기 시작"
   ]
  },
  {
   "cell_type": "code",
   "execution_count": null,
   "metadata": {},
   "outputs": [],
   "source": [
    "#!git init"
   ]
  },
  {
   "cell_type": "markdown",
   "metadata": {},
   "source": [
    "`init` : initialization의 약자"
   ]
  },
  {
   "cell_type": "markdown",
   "metadata": {},
   "source": [
    "### 변화 추적하기"
   ]
  },
  {
   "cell_type": "markdown",
   "metadata": {},
   "source": [
    "README.md 파일 생성\n",
    "***"
   ]
  },
  {
   "cell_type": "markdown",
   "metadata": {},
   "source": [
    "텐서플로우 git 링크 [tensorflow/tensorflow](https://github.com/tensorflow/tensorflow)\n",
    "\n",
    "![tensorflow/tensorflow](img/04.png)\n",
    "\n",
    "`README.md` : 레파지토리가 담은 오픈소스 코드들에 대해 소개하는 역할\n",
    "\n",
    "`md` : 마크다운(Markdown) 확장자 : 문서작업 용 언어"
   ]
  },
  {
   "cell_type": "markdown",
   "metadata": {},
   "source": [
    "git으로 변화 확인!\n",
    "***"
   ]
  },
  {
   "cell_type": "code",
   "execution_count": null,
   "metadata": {},
   "outputs": [],
   "source": [
    "#!git status"
   ]
  },
  {
   "cell_type": "markdown",
   "metadata": {},
   "source": [
    "[깃허브, 개발용어 '마스터'→메인으로 바꾼다](https://zdnet.co.kr/view/?no=20200921101131)"
   ]
  },
  {
   "cell_type": "code",
   "execution_count": null,
   "metadata": {},
   "outputs": [],
   "source": [
    "#!git add README.md\n",
    "#!git commit -m \"new file\""
   ]
  },
  {
   "cell_type": "markdown",
   "metadata": {},
   "source": [
    "[Git 저장소 생성 및 커밋 ( init / add / commit )](https://ifuwanna.tistory.com/193)\n",
    "\n",
    "[git - 간편 안내서](https://rogerdudler.github.io/git-guide/index.ko.html)"
   ]
  },
  {
   "cell_type": "markdown",
   "metadata": {},
   "source": [
    "Git의 Repository 구조는 크게 세가지로 구성되어 있습니다.\n",
    "\n",
    "작업폴더(Working directory) > 인덱스(Staging Area) > 저장소(Head -Repository) \n",
    "\n",
    "`git add` : 인덱싱하는 작업\n",
    "`git commit` : 저장소에 저장"
   ]
  },
  {
   "cell_type": "markdown",
   "metadata": {},
   "source": [
    "### 원격 저장소"
   ]
  },
  {
   "cell_type": "markdown",
   "metadata": {},
   "source": [
    "GitHub에 나의 첫 번째 레파지토리 만들기\n",
    "***"
   ]
  },
  {
   "cell_type": "markdown",
   "metadata": {},
   "source": [
    "[깃허브(Github) 원격저장소(Repository) 생성](https://aboneu.tistory.com/482)"
   ]
  },
  {
   "cell_type": "markdown",
   "metadata": {},
   "source": [
    "내 로컬 저장소와 원격 저장소를 연결\n",
    "***"
   ]
  },
  {
   "cell_type": "code",
   "execution_count": null,
   "metadata": {},
   "outputs": [],
   "source": [
    "#!git remote add origin https://github.com/user_name/first-repository.git"
   ]
  },
  {
   "cell_type": "markdown",
   "metadata": {},
   "source": [
    "GitHub에서 토큰 생성\n",
    "***"
   ]
  },
  {
   "cell_type": "markdown",
   "metadata": {},
   "source": [
    "[GitHub Token](https://docs.github.com/en/authentication/keeping-your-account-and-data-secure/creating-a-personal-access-token)"
   ]
  },
  {
   "cell_type": "markdown",
   "metadata": {},
   "source": [
    "로컬 저장소의 기록을 원격 저장소로 전송\n",
    "***"
   ]
  },
  {
   "cell_type": "code",
   "execution_count": null,
   "metadata": {},
   "outputs": [],
   "source": [
    "#!git config credential.helper \"store --file ~/aiffel/.git-credentials\"\n",
    "#!git config --unset credential.helper\n",
    "#!git push origin main"
   ]
  },
  {
   "cell_type": "markdown",
   "metadata": {},
   "source": [
    "```bash\n",
    "Username for 'https://github.com': [계정에 사용된 이메일을 입력하세요]\n",
    "Password for 'https://[위에 입력한 이메일]@github.com': [비밀번호(토큰)를 입력하세요]\n",
    "```"
   ]
  },
  {
   "cell_type": "markdown",
   "metadata": {},
   "source": [
    "[브랜치란? 【브랜치 (Branch)】 | 누구나 쉽게 이해할 수 있는 Git 입문~버전 관리를 완벽하게 이용해 보자~ | Backlog](https://backlog.com/git-tutorial/kr/stepup/stepup1_1.html)"
   ]
  },
  {
   "cell_type": "markdown",
   "metadata": {},
   "source": [
    "### 협업하기"
   ]
  },
  {
   "cell_type": "markdown",
   "metadata": {},
   "source": [
    "원격 저장소를 로컬로\n",
    "***"
   ]
  },
  {
   "cell_type": "code",
   "execution_count": null,
   "metadata": {},
   "outputs": [],
   "source": [
    "#!git clone https://github.com/user_name/first-repository.git"
   ]
  },
  {
   "cell_type": "markdown",
   "metadata": {},
   "source": [
    "### 받아오기"
   ]
  },
  {
   "cell_type": "markdown",
   "metadata": {},
   "source": [
    "로컬 저장소를 원격 저장소의 내용과 같게 업데이트\n",
    "***"
   ]
  },
  {
   "cell_type": "code",
   "execution_count": null,
   "metadata": {},
   "outputs": [],
   "source": [
    "#!git pull origin main"
   ]
  },
  {
   "cell_type": "markdown",
   "metadata": {},
   "source": [
    "### 정리"
   ]
  },
  {
   "cell_type": "markdown",
   "metadata": {},
   "source": [
    "![05](img/05.png)\n",
    "\n",
    "![06](img/06.png)"
   ]
  },
  {
   "cell_type": "markdown",
   "metadata": {},
   "source": [
    "파일을 따로 전송할 필요 없이 GitHub에 Push 또는 Pull 하는 것만으로 효율적인 협업"
   ]
  },
  {
   "cell_type": "markdown",
   "metadata": {},
   "source": [
    "메인 레파지토리는 망치지 않으면서, 손님으로써 작업하기 위해 레파지토리를 fork\n",
    "\n",
    "반영하도록 요청하기 위해 pull request 를 보냄"
   ]
  },
  {
   "cell_type": "markdown",
   "metadata": {},
   "source": [
    "## 개발자 문서작업의 시작과 끝! 마크다운을 익혀보자"
   ]
  },
  {
   "cell_type": "markdown",
   "metadata": {},
   "source": [
    "### 마크다운 소개"
   ]
  },
  {
   "cell_type": "markdown",
   "metadata": {},
   "source": [
    "![07](img/07.png)"
   ]
  },
  {
   "cell_type": "markdown",
   "metadata": {},
   "source": [
    "주피터 노트북의 마크다운 셀에서도 사용 가능"
   ]
  },
  {
   "cell_type": "markdown",
   "metadata": {},
   "source": [
    "### 마크다운 작성하기"
   ]
  },
  {
   "cell_type": "markdown",
   "metadata": {},
   "source": [
    "[마크다운 사용법](https://gist.github.com/ihoneymon/652be052a0727ad59601)"
   ]
  },
  {
   "cell_type": "markdown",
   "metadata": {},
   "source": [
    "## 마무리"
   ]
  },
  {
   "cell_type": "markdown",
   "metadata": {},
   "source": [
    "# 코드 블록"
   ]
  },
  {
   "cell_type": "code",
   "execution_count": null,
   "metadata": {},
   "outputs": [],
   "source": [
    "#!git --version"
   ]
  },
  {
   "cell_type": "code",
   "execution_count": null,
   "metadata": {},
   "outputs": [],
   "source": [
    "#!git config --global user.email \"my-email@gmail.com\"\n",
    "#!git config --global user.name \"my-username\""
   ]
  },
  {
   "cell_type": "code",
   "execution_count": null,
   "metadata": {},
   "outputs": [],
   "source": [
    "#!git add README.md\n",
    "#!git commit -m \"new file\""
   ]
  },
  {
   "cell_type": "code",
   "execution_count": null,
   "metadata": {},
   "outputs": [],
   "source": [
    "#!git remote add origin https://github.com/user_name/first-repository.git"
   ]
  },
  {
   "cell_type": "code",
   "execution_count": null,
   "metadata": {},
   "outputs": [],
   "source": [
    "#!git config credential.helper \"store --file ~/aiffel/.git-credentials\"\n",
    "#!git config --unset credential.helper\n",
    "#!git push origin main"
   ]
  },
  {
   "cell_type": "code",
   "execution_count": null,
   "metadata": {},
   "outputs": [],
   "source": [
    "#!git clone https://github.com/user_name/first-repository.git"
   ]
  },
  {
   "cell_type": "code",
   "execution_count": null,
   "metadata": {},
   "outputs": [],
   "source": [
    "#!git pull origin main"
   ]
  },
  {
   "cell_type": "markdown",
   "metadata": {},
   "source": [
    "```bash\n",
    "Username for 'https://github.com': [계정에 사용된 이메일을 입력하세요]\n",
    "Password for 'https://[위에 입력한 이메일]@github.com': [비밀번호(토큰)를 입력하세요]\n",
    "```"
   ]
  },
  {
   "cell_type": "markdown",
   "metadata": {},
   "source": [
    "# 중요"
   ]
  },
  {
   "cell_type": "markdown",
   "metadata": {},
   "source": [
    "- Git과 GitHub의 차이\n",
    "- Git의 add, commit, push, pull 명령어\n",
    "- GitHub을 활용해 소스코드 버전관리\n",
    "- Jupyter Notebook을 활용해 자유자재로 코드/문서 작업\n",
    "- 마크다운 문법"
   ]
  },
  {
   "cell_type": "markdown",
   "metadata": {},
   "source": [
    "- `Git` : 개발을 진행하며 작성하는 소스코드가 업데이트 되는 버전을 기록해두고 관리할 수 있는 소스코드 버전 관리 시스템\n",
    "- `GitHub` : Git으로 관리하는 프로젝트를 호스팅하고, 시간과 공간의 제약 없이 협업할 수 있는 온라인 서비스\n",
    "- `로컬` : 개인 노트북 또는 데스크탑같은 Personal Computer\n",
    "- `원격(Remote)` : 웹사이트와 같이 다른 사람과 함께 작업할 수 있는 공간"
   ]
  },
  {
   "cell_type": "markdown",
   "metadata": {},
   "source": [
    "계정을 만들 때 유의해야 할 것\n",
    "- 중복되지 않는 Username을 잘 선택\n",
    "- 인증 가능한 email을 사용"
   ]
  },
  {
   "cell_type": "markdown",
   "metadata": {},
   "source": [
    "- `레파지토리(Repository)` : 로컬의 Git과 동기화를 해서 온라인으로 관리할 수 있는 원격저장소\n",
    "- `init` : initialization의 약자"
   ]
  },
  {
   "cell_type": "markdown",
   "metadata": {},
   "source": [
    "- `README.md` : 레파지토리가 담은 오픈소스 코드들에 대해 소개하는 역할\n",
    "- `md` : 마크다운(Markdown) 확장자 : 문서작업 용 언어"
   ]
  },
  {
   "cell_type": "markdown",
   "metadata": {},
   "source": [
    "- `git add` : 인덱싱하는 작업\n",
    "- `git commit` : 저장소에 저장"
   ]
  },
  {
   "cell_type": "markdown",
   "metadata": {},
   "source": [
    "- `fork` : 메인 레파지토리는 망치지 않으면서, 손님으로써 작업하기 위해 레파지토리 복사\n",
    "- `pull request` : 반영하도록 요청"
   ]
  },
  {
   "cell_type": "markdown",
   "metadata": {},
   "source": [
    "# 링크"
   ]
  },
  {
   "cell_type": "markdown",
   "metadata": {},
   "source": [
    "[Zoom (줌)](https://zoom.us/)\n",
    "\n",
    "[Google Meet (구글 밋)](https://meet.google.com/)\n",
    "\n",
    "[Pro Git](https://git-scm.com/book/ko/v2)\n",
    "\n",
    "[지옥에서 온 Git](https://opentutorials.org/module/2676)\n",
    "\n",
    "[github 계정 생성](https://github.com/)\n",
    "\n",
    "[github 공식 문서](https://docs.github.com/en/get-started/signing-up-for-github/signing-up-for-a-new-github-account)\n",
    "\n",
    "[tensorflow/tensorflow](https://github.com/tensorflow/tensorflow)\n",
    "\n",
    "[깃허브, 개발용어 '마스터'→메인으로 바꾼다](https://zdnet.co.kr/view/?no=20200921101131)\n",
    "\n",
    "[Git 저장소 생성 및 커밋 ( init / add / commit )](https://ifuwanna.tistory.com/193)\n",
    "\n",
    "[git - 간편 안내서](https://rogerdudler.github.io/git-guide/index.ko.html)\n",
    "\n",
    "[깃허브(Github) 원격저장소(Repository) 생성](https://aboneu.tistory.com/482)\n",
    "\n",
    "[GitHub Token](https://docs.github.com/en/authentication/keeping-your-account-and-data-secure/creating-a-personal-access-token)\n",
    "\n",
    "[브랜치란? 【브랜치 (Branch)】 | 누구나 쉽게 이해할 수 있는 Git 입문~버전 관리를 완벽하게 이용해 보자~ | Backlog](https://backlog.com/git-tutorial/kr/stepup/stepup1_1.html)\n",
    "\n",
    "[마크다운 사용법](https://gist.github.com/ihoneymon/652be052a0727ad59601)"
   ]
  },
  {
   "cell_type": "markdown",
   "metadata": {},
   "source": [
    "# 이미지"
   ]
  },
  {
   "cell_type": "markdown",
   "metadata": {},
   "source": [
    "[![Slack](img/00.png)](https://slack.com/)\n",
    "\n",
    "[![Notion](img/01.png)](https://www.notion.so/)\n",
    "\n",
    "[![Trello (트렐로)](img/02.png)](https://trello.com/)\n",
    "\n",
    "![03](img/03.png)\n",
    "\n",
    "![tensorflow/tensorflow](img/04.png)\n",
    "\n",
    "![05](img/05.png)\n",
    "\n",
    "![06](img/06.png)\n",
    "\n",
    "![07](img/07.png)"
   ]
  }
 ],
 "metadata": {
  "kernelspec": {
   "display_name": "Python 3.8.9 64-bit",
   "language": "python",
   "name": "python3"
  },
  "language_info": {
   "codemirror_mode": {
    "name": "ipython",
    "version": 3
   },
   "file_extension": ".py",
   "mimetype": "text/x-python",
   "name": "python",
   "nbconvert_exporter": "python",
   "pygments_lexer": "ipython3",
   "version": "3.8.9"
  },
  "orig_nbformat": 4,
  "vscode": {
   "interpreter": {
    "hash": "31f2aee4e71d21fbe5cf8b01ff0e069b9275f58929596ceb00d14d90e3e16cd6"
   }
  }
 },
 "nbformat": 4,
 "nbformat_minor": 2
}
