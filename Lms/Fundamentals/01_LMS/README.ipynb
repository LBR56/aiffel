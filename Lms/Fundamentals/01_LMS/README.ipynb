{
 "cells": [
  {
   "cell_type": "markdown",
   "metadata": {},
   "source": [
    "# Ready to go?"
   ]
  },
  {
   "cell_type": "markdown",
   "metadata": {},
   "source": [
    "LMS의 **의미**, **사용법**, **환경**을 확인함"
   ]
  },
  {
   "cell_type": "markdown",
   "metadata": {},
   "source": [
    "## 목차\n",
    "\n",
    "- LMS 설명서\n",
    "- Cloud 환경 소개\n",
    "- Cloud 환경 설명서\n",
    "- 커널 설정법\n",
    "- 코드 실행 및 확인\n",
    "- 회고\n",
    "- Ref"
   ]
  },
  {
   "cell_type": "markdown",
   "metadata": {},
   "source": [
    "## LMS 설명서"
   ]
  },
  {
   "cell_type": "markdown",
   "metadata": {},
   "source": [
    "![00](img/00.png)\n",
    "\n",
    "<details>\n",
    "<summary>디테일 토글</summary>\n",
    "<code>CODE!</code>\n",
    "</details>"
   ]
  },
  {
   "cell_type": "markdown",
   "metadata": {},
   "source": [
    "### LMS란?\n",
    "***"
   ]
  },
  {
   "cell_type": "markdown",
   "metadata": {},
   "source": [
    "교육 관리 시스템(Learning Management System : LMS)!"
   ]
  },
  {
   "cell_type": "markdown",
   "metadata": {},
   "source": [
    "|번호|이름|내용|위치|\n",
    "|:-:|:-:|:-:|:-:|\n",
    "|1|노드(node)|하루 학습할 대단원|노란 박스|\n",
    "|2|단계(step)|하루 학습할 소단원|갈색 박스|\n",
    "|3|블록 리스트(block list)|step에 포함된 퀴즈와 코드를 한번에 보여줌|빨간 박스|\n",
    "|3-1|퀴즈 블록(quiz block)|질문에 답변하고, 예시 답안과 비교|녹색 박스|\n",
    "|3-2|코드 블록(code block)|코드를 실행하고, 결과를 확인|보라색 박스|\n",
    "|4|클라우드 주피터 노트북(cloud jupyter notebook)|node의 환경을 GUI로 접근|주황 박스|\n",
    "|5|클라우드 쉘(cloud shell)|node의 환경을 CLI로 접근|파란 박스|\n",
    "||디테일 토글(detail toggle)|보통, 코드 문제의 정답이 기재||"
   ]
  },
  {
   "cell_type": "markdown",
   "metadata": {},
   "source": [
    "### 클라우드 / 로컬 환경(cloud / local environment)\n",
    "***"
   ]
  },
  {
   "cell_type": "markdown",
   "metadata": {},
   "source": [
    "클라우드 환경을 통해 환경 설정 없이 코드 실행 가능\n",
    "\n",
    "> 환경 설정은 패키지 설치 등이 있음!"
   ]
  },
  {
   "cell_type": "markdown",
   "metadata": {},
   "source": [
    "## cloud 환경 소개"
   ]
  },
  {
   "cell_type": "markdown",
   "metadata": {},
   "source": [
    "### LMS 환경이 사용하는 운영체제는?\n",
    "***"
   ]
  },
  {
   "cell_type": "markdown",
   "metadata": {},
   "source": [
    "리눅스(Linux)의 배포판 중 하나인 **우분투**(Ubuntu)를 사용함\n",
    "\n",
    "- 버전은 20.04.3 버전을 사용함!"
   ]
  },
  {
   "cell_type": "markdown",
   "metadata": {},
   "source": [
    "### **왜** 우분투를 사용하는가?\n",
    "***"
   ]
  },
  {
   "cell_type": "markdown",
   "metadata": {},
   "source": [
    "1. **무료**\n",
    "2. **표준** 배포 환경을 우분투로 사용함\n",
    "    - 라이브러리 **안정적**으로 실행\n",
    "3. **다른 환경**에서는 호환성이 떨어짐"
   ]
  },
  {
   "cell_type": "markdown",
   "metadata": {},
   "source": [
    "## cloud 환경 설명서"
   ]
  },
  {
   "cell_type": "markdown",
   "metadata": {},
   "source": [
    "### Cloud Shell\n",
    "***"
   ]
  },
  {
   "cell_type": "markdown",
   "metadata": {},
   "source": [
    "![01](img/01.png)"
   ]
  },
  {
   "cell_type": "markdown",
   "metadata": {},
   "source": [
    "다양한 명령어를 사용하는 공간\n",
    "\n",
    "다음 명령어를 통해 현재 패키지를 확인할 수 있음"
   ]
  },
  {
   "cell_type": "code",
   "execution_count": 1,
   "metadata": {
    "vscode": {
     "languageId": "powershell"
    }
   },
   "outputs": [
    {
     "name": "stdout",
     "output_type": "stream",
     "text": [
      "Package                      Version\n",
      "---------------------------- ---------\n",
      "absl-py                      1.0.0\n",
      "appnope                      0.1.2\n",
      "asttokens                    2.0.5\n",
      "astunparse                   1.6.3\n",
      "async-generator              1.10\n",
      "attrs                        21.4.0\n",
      "backcall                     0.2.0\n",
      "beautifulsoup4               4.10.0\n",
      "black                        21.12b0\n",
      "bs4                          0.0.1\n",
      "cachetools                   5.0.0\n",
      "certifi                      2021.10.8\n",
      "cffi                         1.15.0\n",
      "charset-normalizer           2.0.10\n",
      "chromedriver-autoinstaller   0.3.1\n",
      "click                        8.0.3\n",
      "cryptography                 36.0.2\n",
      "cycler                       0.11.0\n",
      "debugpy                      1.5.1\n",
      "decorator                    5.1.1\n",
      "entrypoints                  0.3\n",
      "et-xmlfile                   1.1.0\n",
      "executing                    0.8.2\n",
      "flatbuffers                  2.0\n",
      "fonttools                    4.34.4\n",
      "gast                         0.4.0\n",
      "google-auth                  2.5.0\n",
      "google-auth-oauthlib         0.4.6\n",
      "google-pasta                 0.2.0\n",
      "grpcio                       1.43.0\n",
      "h11                          0.13.0\n",
      "h5py                         3.6.0\n",
      "idna                         3.3\n",
      "importlib-metadata           4.10.1\n",
      "ipykernel                    6.7.0\n",
      "ipython                      8.0.1\n",
      "jedi                         0.18.1\n",
      "joblib                       1.1.0\n",
      "jupyter-client               7.1.2\n",
      "jupyter-core                 4.9.1\n",
      "kaggle                       1.5.12\n",
      "keras                        2.7.0\n",
      "Keras-Preprocessing          1.1.2\n",
      "kiwisolver                   1.4.3\n",
      "libclang                     13.0.0\n",
      "lxml                         4.9.1\n",
      "Markdown                     3.3.6\n",
      "matplotlib                   3.5.2\n",
      "matplotlib-inline            0.1.3\n",
      "mypy-extensions              0.4.3\n",
      "nest-asyncio                 1.5.4\n",
      "numpy                        1.22.1\n",
      "oauthlib                     3.1.1\n",
      "opencv-python                4.6.0.66\n",
      "openpyxl                     3.0.9\n",
      "opt-einsum                   3.3.0\n",
      "outcome                      1.1.0\n",
      "packaging                    21.3\n",
      "pandas                       1.4.3\n",
      "parso                        0.8.3\n",
      "pathspec                     0.9.0\n",
      "patsy                        0.5.2\n",
      "pexpect                      4.8.0\n",
      "pickleshare                  0.7.5\n",
      "Pillow                       9.2.0\n",
      "pip                          22.2\n",
      "platformdirs                 2.4.1\n",
      "prompt-toolkit               3.0.26\n",
      "protobuf                     3.19.3\n",
      "ptyprocess                   0.7.0\n",
      "pure-eval                    0.2.2\n",
      "pyasn1                       0.4.8\n",
      "pyasn1-modules               0.2.8\n",
      "pycparser                    2.21\n",
      "Pygments                     2.11.2\n",
      "pyOpenSSL                    22.0.0\n",
      "pyparsing                    3.0.9\n",
      "PySocks                      1.7.1\n",
      "python-dateutil              2.8.2\n",
      "python-slugify               6.1.2\n",
      "pytz                         2022.1\n",
      "pyzmq                        22.3.0\n",
      "requests                     2.27.1\n",
      "requests-oauthlib            1.3.0\n",
      "rsa                          4.8\n",
      "scikit-learn                 1.1.1\n",
      "scipy                        1.8.1\n",
      "seaborn                      0.11.2\n",
      "selenium                     4.1.3\n",
      "setuptools                   49.2.1\n",
      "six                          1.15.0\n",
      "sklearn                      0.0\n",
      "sniffio                      1.2.0\n",
      "sortedcontainers             2.4.0\n",
      "soupsieve                    2.3.1\n",
      "stack-data                   0.1.4\n",
      "statsmodels                  0.13.2\n",
      "tensorboard                  2.8.0\n",
      "tensorboard-data-server      0.6.1\n",
      "tensorboard-plugin-wit       1.8.1\n",
      "tensorflow                   2.7.0\n",
      "tensorflow-estimator         2.7.0\n",
      "tensorflow-io-gcs-filesystem 0.23.1\n",
      "termcolor                    1.1.0\n",
      "text-unidecode               1.3\n",
      "threadpoolctl                3.1.0\n",
      "tomli                        1.2.3\n",
      "tornado                      6.1\n",
      "tqdm                         4.64.0\n",
      "traitlets                    5.1.1\n",
      "trio                         0.20.0\n",
      "trio-websocket               0.9.2\n",
      "typing_extensions            4.0.1\n",
      "urllib3                      1.26.8\n",
      "wcwidth                      0.2.5\n",
      "Werkzeug                     2.0.2\n",
      "wget                         3.2\n",
      "wheel                        0.36.2\n",
      "wrapt                        1.13.3\n",
      "wsproto                      1.1.0\n",
      "zipp                         3.7.0\n",
      "Note: you may need to restart the kernel to use updated packages.\n"
     ]
    }
   ],
   "source": [
    "pip list"
   ]
  },
  {
   "cell_type": "markdown",
   "metadata": {},
   "source": [
    "### Cloud Jupyter\n",
    "***"
   ]
  },
  {
   "cell_type": "markdown",
   "metadata": {},
   "source": [
    "Cloud에서 사용 가능한 주피터 노트북(jupyter notebook)"
   ]
  },
  {
   "cell_type": "markdown",
   "metadata": {},
   "source": [
    "![02](img/02.png)"
   ]
  },
  {
   "cell_type": "markdown",
   "metadata": {},
   "source": [
    "경우에 따라 필요한 정보를 환경에 준비하여야 함!\n",
    "\n",
    "이때 **aiffel 폴더에 있는 내용은 계속 유지됨**\n",
    "\n",
    "각 node 별로 데이터를 준비할 수 있도록 명령어를 제공할 것임"
   ]
  },
  {
   "cell_type": "markdown",
   "metadata": {},
   "source": [
    "## 커널 설정법"
   ]
  },
  {
   "cell_type": "markdown",
   "metadata": {},
   "source": [
    "코드는 프로세스가 필요함\n",
    "\n",
    "우리는 이것을 커널(Kernel)이라고 부르고 있음\n",
    "\n",
    "클라우드에서 로컬로 변경이 가능함"
   ]
  },
  {
   "cell_type": "markdown",
   "metadata": {},
   "source": [
    "## 코드 실행 및 확인"
   ]
  },
  {
   "cell_type": "markdown",
   "metadata": {},
   "source": [
    "![03](img/03.png)"
   ]
  },
  {
   "cell_type": "code",
   "execution_count": 2,
   "metadata": {},
   "outputs": [
    {
     "name": "stdout",
     "output_type": "stream",
     "text": [
      "Hello World\n"
     ]
    }
   ],
   "source": [
    "print('Hello World')"
   ]
  },
  {
   "cell_type": "markdown",
   "metadata": {},
   "source": [
    "### 주요 기능\n",
    "***"
   ]
  },
  {
   "cell_type": "markdown",
   "metadata": {},
   "source": [
    "1. 코드 중지\n",
    "2. 코드 복사\n",
    "3. 새로 고침\n",
    "    - 최초 실행 전, 사용할 것"
   ]
  },
  {
   "cell_type": "markdown",
   "metadata": {},
   "source": [
    "## 회고"
   ]
  },
  {
   "cell_type": "markdown",
   "metadata": {},
   "source": [
    "### 느낀 점\n",
    "***"
   ]
  },
  {
   "cell_type": "markdown",
   "metadata": {},
   "source": [
    "### Node의 목적\n",
    "***"
   ]
  },
  {
   "cell_type": "markdown",
   "metadata": {},
   "source": [
    "### 추가 학습이 필요\n",
    "***"
   ]
  },
  {
   "cell_type": "markdown",
   "metadata": {},
   "source": [
    "단어\n",
    "***"
   ]
  },
  {
   "cell_type": "markdown",
   "metadata": {},
   "source": [
    "|노드|단어(링크)|내용|\n",
    "|:-:|:-:|:-:|\n",
    "|Fund 01|[환경(ENVironment : ENV)](https://www.pcmag.com/encyclopedia/term/environment)|사용하는 컴퓨터의 하드웨어와 운영체제를 뜻함|\n",
    "|-|-|-|\n",
    "|Fund 01|컴퓨터의 하드웨어|콘솔(Console), 하드웨어 플랫폼(hardware platform), 물리적 터미널(physical terminal) 등으로 불림|\n",
    "|-|-|-|\n",
    "|Fund 01|[![fund_01_00](img/fund_01_00.png)](https://www.44bits.io/ko/keyword/command-line-interface-cli-shell-and-terminal)||\n",
    "|Fund 01|[운영체제(Operating System : OS)](https://terms.naver.com/entry.naver?docId=4383176&cid=59941&categoryId=59941)|하드웨어를 제어하고 한정된 자원을 관리하여, 사용자가 컴퓨터를 편리하게 사용하도록 도와주는 프로그램|\n",
    "|Fund 01|[커널(kernel)](https://ko.wikipedia.org/wiki/커널_(컴퓨팅))|운영체제의 핵심 프로그램|\n",
    "|Fund 01|[쉘(Shell)](https://ko.wikipedia.org/wiki/쉘)|운영체제 기능과 서비스를 구현한 인터페이스를 제공하는 프로그램|\n",
    "|Fund 01|[터미널(Terminal)](https://ko.wikipedia.org/wiki/단말기)|쉘을 실행하는 CLI 인터페이스 프로그램|\n",
    "|Fund 01|[프로세스(Process)](https://ko.wikipedia.org/wiki/프로세스)|커널의 제어를 받는 컴퓨터 프로그램|\n",
    "|-|-|-|\n",
    "|Fund 01|[인터페이스(Interface)](https://ditoday.com/ui-이해하기-인터페이스란-무엇인가)|사용자가 기기를 쉽게 동작시키기 위해 도움을 주는 시스템|\n",
    "|-|-|-|\n",
    "|Fund 01|[명렁 줄 인터페이스(Command Line Interface : CLI)](https://ko.wikipedia.org/wiki/명령_줄_인터페이스)|터미널을 통해 사용자와 컴퓨터가 상호작용하는 방식|\n",
    "|Fund 01|[그래픽 사용자 인터페이스(Graphical User Interface : GUI)](https://ditoday.com/gui-이해하기-gui의-탄생과-변천사/)|화면을 통해 사용자와 컴퓨터가 상호작용하는 방식|\n",
    "|-|-|-|\n",
    "|Fund 01|[![fund_01_01](img/fund_01_01.png)](https://thinkreen.github.io/python/py-FunctionModuleClass/)||\n",
    "|Fund 01|프레임워크(flamework)|특정 프로그램을 개발하기 위한 요소를 모아서 룰을 제공한 프로그램|\n",
    "|Fund 01|라이브러리(library)|일종의 목표 기능이 있는 코드 모음|\n",
    "|Fund 01|패키지(Package)|설치하여 사용 가능한 라이브러리|\n",
    "|Fund 01|모듈(Module)|기능별로 분리한 각 파일|\n",
    "|Fund 01|함수(Function)|하나의 기능을 가진 코드|\n",
    "|Fund 01|클래스(Class)|객체 지향 프로그래밍을 하기 위한 틀|\n",
    "|-|-|-|\n",
    "|Fund 01|[클라우드(Cloud)](https://ko.wikipedia.org/wiki/클라우드_컴퓨팅)|인터넷 기반의 컴퓨터|\n",
    "|Fund 01|로컬(Local)|사용하고 있는 컴퓨터|\n",
    "|-|-|-|\n",
    "|Fund 01|[주피터 노트북(jupyter notebook)](http://pythonstudy.xyz/python/article/514-Jupyter-Notebook)|웹 브라우저에서 파이썬 코드 작성, readme 작성, command 작성이 되는 개발도구|\n"
   ]
  },
  {
   "cell_type": "markdown",
   "metadata": {},
   "source": [
    "## Ref"
   ]
  },
  {
   "cell_type": "markdown",
   "metadata": {},
   "source": [
    "|날짜|제목(링크)|내용|\n",
    "|:-:|:--------:|:--:|"
   ]
  }
 ],
 "metadata": {
  "kernelspec": {
   "display_name": "Python 3.8.9 64-bit",
   "language": "python",
   "name": "python3"
  },
  "language_info": {
   "codemirror_mode": {
    "name": "ipython",
    "version": 3
   },
   "file_extension": ".py",
   "mimetype": "text/x-python",
   "name": "python",
   "nbconvert_exporter": "python",
   "pygments_lexer": "ipython3",
   "version": "3.8.9"
  },
  "orig_nbformat": 4,
  "vscode": {
   "interpreter": {
    "hash": "31f2aee4e71d21fbe5cf8b01ff0e069b9275f58929596ceb00d14d90e3e16cd6"
   }
  }
 },
 "nbformat": 4,
 "nbformat_minor": 2
}
