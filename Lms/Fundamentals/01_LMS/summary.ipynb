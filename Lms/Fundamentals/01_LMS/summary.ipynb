{
 "cells": [
  {
   "cell_type": "markdown",
   "metadata": {},
   "source": [
    "# Ready to go?"
   ]
  },
  {
   "cell_type": "markdown",
   "metadata": {},
   "source": [
    "AIFFEL LMS 활용을 위한 사용자 환경 구성이 완료되었는지 점검하고, 미완료시 꼭 필요한 환경 구성이 진행될 수 있도록 안내한다."
   ]
  },
  {
   "cell_type": "markdown",
   "metadata": {},
   "source": [
    "- LMS % 활용하기 \n",
    "- 안녕, 우분투 \n",
    "- 삐빅! 환경 구성 나와라, 오버 \n",
    "- 커널 실행하기 \n",
    "- 코드 실행 확인하기 "
   ]
  },
  {
   "cell_type": "markdown",
   "metadata": {},
   "source": [
    "## LMS % 활용하기 "
   ]
  },
  {
   "cell_type": "markdown",
   "metadata": {},
   "source": [
    "> LMS는 Learning management system 의 약자입니다."
   ]
  },
  {
   "cell_type": "markdown",
   "metadata": {},
   "source": [
    "퀴즈 블록\n",
    "***\n",
    "직접 생각해보기!"
   ]
  },
  {
   "cell_type": "markdown",
   "metadata": {},
   "source": [
    "코드 블록\n",
    "***\n",
    "LMS 상에는 코드 실행 멈춤, 복사, refresh, 실행"
   ]
  },
  {
   "cell_type": "markdown",
   "metadata": {},
   "source": [
    "디테일 토글\n",
    "***\n",
    "<details>\n",
    "<summary>토글 접기/펼치기</summary>\n",
    "<div markdown=\"1\">\n",
    "\n",
    "안녕\n",
    "\n",
    "</div>\n",
    "</details>"
   ]
  },
  {
   "cell_type": "markdown",
   "metadata": {},
   "source": [
    "블록 리스트\n",
    "***\n",
    "현재 스텝에 어떤 코드 블록과 퀴즈 블록이 있는지 리스트되고, 클릭 한 번만 하면 거기로 쓩 날아갈 수 있음"
   ]
  },
  {
   "cell_type": "markdown",
   "metadata": {},
   "source": [
    "클라우드 / 로컬 환경\n",
    "***\n",
    "클라우드 환경을 제공하여 별도의 패키지 설치나 환경 설정 없이 바로 코드를 돌려보실 수 있도록 해놓은 놀라운 시스템"
   ]
  },
  {
   "cell_type": "markdown",
   "metadata": {},
   "source": [
    "## 안녕, 우분투 "
   ]
  },
  {
   "cell_type": "markdown",
   "metadata": {},
   "source": [
    "운영체제는 바로 우분투(Ubuntu)\n",
    "\n",
    "구글을 비롯한 수많은 회사에서 표준 배포환경으로 사용\n",
    "\n",
    "가장 안정적으로 구동되는 환경"
   ]
  },
  {
   "cell_type": "markdown",
   "metadata": {},
   "source": [
    "익숙한 윈도우즈(Windows) 환경을 사용하면 안되냐구요? \n",
    "\n",
    "안정적으로 구동되지 않는 경우들"
   ]
  },
  {
   "cell_type": "markdown",
   "metadata": {},
   "source": [
    "## 삐빅! 환경 구성 나와라, 오버"
   ]
  },
  {
   "cell_type": "markdown",
   "metadata": {},
   "source": [
    "Cloud Shell\n",
    "***\n",
    "패키지들이 준비돼있나 확인"
   ]
  },
  {
   "cell_type": "code",
   "execution_count": 1,
   "metadata": {},
   "outputs": [
    {
     "name": "stdout",
     "output_type": "stream",
     "text": [
      "Package                      Version\n",
      "---------------------------- --------------\n",
      "absl-py                      1.0.0\n",
      "appnope                      0.1.2\n",
      "asttokens                    2.0.5\n",
      "astunparse                   1.6.3\n",
      "async-generator              1.10\n",
      "attrs                        21.4.0\n",
      "backcall                     0.2.0\n",
      "beautifulsoup4               4.10.0\n",
      "black                        21.12b0\n",
      "bs4                          0.0.1\n",
      "cachetools                   5.0.0\n",
      "certifi                      2021.10.8\n",
      "cffi                         1.15.0\n",
      "charset-normalizer           2.0.10\n",
      "chromedriver-autoinstaller   0.3.1\n",
      "click                        8.0.3\n",
      "cryptography                 36.0.2\n",
      "cycler                       0.11.0\n",
      "debugpy                      1.5.1\n",
      "decorator                    5.1.1\n",
      "entrypoints                  0.3\n",
      "et-xmlfile                   1.1.0\n",
      "executing                    0.8.2\n",
      "flatbuffers                  2.0\n",
      "fonttools                    4.34.4\n",
      "gast                         0.4.0\n",
      "gensim                       4.2.0\n",
      "google-auth                  2.5.0\n",
      "google-auth-oauthlib         0.4.6\n",
      "google-pasta                 0.2.0\n",
      "grpcio                       1.43.0\n",
      "h11                          0.13.0\n",
      "h5py                         3.6.0\n",
      "idna                         3.3\n",
      "importlib-metadata           4.10.1\n",
      "ipykernel                    6.7.0\n",
      "ipython                      8.0.1\n",
      "jedi                         0.18.1\n",
      "joblib                       1.1.0\n",
      "JPype1                       1.4.0\n",
      "jupyter-client               7.1.2\n",
      "jupyter-core                 4.9.1\n",
      "kaggle                       1.5.12\n",
      "keras                        2.7.0\n",
      "Keras-Preprocessing          1.1.2\n",
      "kiwisolver                   1.4.3\n",
      "konlpy                       0.6.0\n",
      "libclang                     13.0.0\n",
      "lxml                         4.9.1\n",
      "Markdown                     3.3.6\n",
      "matplotlib                   3.5.2\n",
      "matplotlib-inline            0.1.3\n",
      "mecab-python                 0.996-ko-0.9.2\n",
      "mypy-extensions              0.4.3\n",
      "nest-asyncio                 1.5.4\n",
      "numpy                        1.22.1\n",
      "oauthlib                     3.1.1\n",
      "opencv-python                4.6.0.66\n",
      "openpyxl                     3.0.9\n",
      "opt-einsum                   3.3.0\n",
      "outcome                      1.1.0\n",
      "packaging                    21.3\n",
      "pandas                       1.4.3\n",
      "parso                        0.8.3\n",
      "pathspec                     0.9.0\n",
      "patsy                        0.5.2\n",
      "pexpect                      4.8.0\n",
      "pickleshare                  0.7.5\n",
      "Pillow                       9.2.0\n",
      "pip                          22.2.1\n",
      "platformdirs                 2.4.1\n",
      "prompt-toolkit               3.0.26\n",
      "protobuf                     3.19.3\n",
      "ptyprocess                   0.7.0\n",
      "pure-eval                    0.2.2\n",
      "pyasn1                       0.4.8\n",
      "pyasn1-modules               0.2.8\n",
      "pycparser                    2.21\n",
      "Pygments                     2.11.2\n",
      "pyOpenSSL                    22.0.0\n",
      "pyparsing                    3.0.9\n",
      "PySocks                      1.7.1\n",
      "python-dateutil              2.8.2\n",
      "python-slugify               6.1.2\n",
      "pytz                         2022.1\n",
      "pyzmq                        22.3.0\n",
      "requests                     2.27.1\n",
      "requests-oauthlib            1.3.0\n",
      "rsa                          4.8\n",
      "scikit-learn                 1.1.1\n",
      "scipy                        1.8.1\n",
      "seaborn                      0.11.2\n",
      "selenium                     4.1.3\n",
      "setuptools                   49.2.1\n",
      "six                          1.15.0\n",
      "sklearn                      0.0\n",
      "smart-open                   6.0.0\n",
      "sniffio                      1.2.0\n",
      "sortedcontainers             2.4.0\n",
      "soupsieve                    2.3.1\n",
      "stack-data                   0.1.4\n",
      "statsmodels                  0.13.2\n",
      "tensorboard                  2.8.0\n",
      "tensorboard-data-server      0.6.1\n",
      "tensorboard-plugin-wit       1.8.1\n",
      "tensorflow                   2.7.0\n",
      "tensorflow-estimator         2.7.0\n",
      "tensorflow-io-gcs-filesystem 0.23.1\n",
      "termcolor                    1.1.0\n",
      "text-unidecode               1.3\n",
      "threadpoolctl                3.1.0\n",
      "tomli                        1.2.3\n",
      "torch                        1.12.0\n",
      "torchvision                  0.13.0\n",
      "tornado                      6.1\n",
      "tqdm                         4.64.0\n",
      "traitlets                    5.1.1\n",
      "trio                         0.20.0\n",
      "trio-websocket               0.9.2\n",
      "typing_extensions            4.0.1\n",
      "urllib3                      1.26.8\n",
      "wcwidth                      0.2.5\n",
      "Werkzeug                     2.0.2\n",
      "wget                         3.2\n",
      "wheel                        0.36.2\n",
      "wrapt                        1.13.3\n",
      "wsproto                      1.1.0\n",
      "zipp                         3.7.0\n",
      "\n",
      "\u001b[1m[\u001b[0m\u001b[34;49mnotice\u001b[0m\u001b[1;39;49m]\u001b[0m\u001b[39;49m A new release of pip available: \u001b[0m\u001b[31;49m22.2.1\u001b[0m\u001b[39;49m -> \u001b[0m\u001b[32;49m22.2.2\u001b[0m\n",
      "\u001b[1m[\u001b[0m\u001b[34;49mnotice\u001b[0m\u001b[1;39;49m]\u001b[0m\u001b[39;49m To update, run: \u001b[0m\u001b[32;49m/Library/Developer/CommandLineTools/usr/bin/python3 -m pip install --upgrade pip\u001b[0m\n",
      "Note: you may need to restart the kernel to use updated packages.\n"
     ]
    }
   ],
   "source": [
    "pip list"
   ]
  },
  {
   "cell_type": "markdown",
   "metadata": {},
   "source": [
    "Cloud Jupyter\n",
    "***\n",
    "데이터를 업로드하는 방법\n",
    "\n",
    "`aiffel`이라는 디렉토리가 이미 준비\n",
    "\n",
    "`upload` 버튼 클릭"
   ]
  },
  {
   "cell_type": "markdown",
   "metadata": {},
   "source": [
    "## 커널 실행하기 "
   ]
  },
  {
   "cell_type": "markdown",
   "metadata": {},
   "source": [
    "코드가 실제로 수행되기 위한 프로세스가 별도로 필요합니다. 우리는 이것을 커널(Kernel)\n",
    "\n",
    "`user->계정설정->커널 사용 설정`부분에 구름 모양 토글이 왼쪽에 있으면 `클라우드` 오른쪽에 있으면 `로컬`로 커널 연결이 구분"
   ]
  },
  {
   "cell_type": "markdown",
   "metadata": {},
   "source": [
    "## 코드 실행 확인하기 "
   ]
  },
  {
   "cell_type": "code",
   "execution_count": 2,
   "metadata": {},
   "outputs": [
    {
     "name": "stdout",
     "output_type": "stream",
     "text": [
      "Hello, AIFFEL.\n"
     ]
    }
   ],
   "source": [
    "print('Hello, AIFFEL.')"
   ]
  },
  {
   "cell_type": "code",
   "execution_count": 3,
   "metadata": {},
   "outputs": [
    {
     "name": "stderr",
     "output_type": "stream",
     "text": [
      "2022-08-07 18:46:37.496405: I tensorflow/core/platform/cpu_feature_guard.cc:151] This TensorFlow binary is optimized with oneAPI Deep Neural Network Library (oneDNN) to use the following CPU instructions in performance-critical operations:  AVX2 FMA\n",
      "To enable them in other operations, rebuild TensorFlow with the appropriate compiler flags.\n"
     ]
    },
    {
     "name": "stdout",
     "output_type": "stream",
     "text": [
      "Model: \"sequential\"\n",
      "_________________________________________________________________\n",
      " Layer (type)                Output Shape              Param #   \n",
      "=================================================================\n",
      " conv2d (Conv2D)             (None, 26, 26, 16)        160       \n",
      "                                                                 \n",
      " max_pooling2d (MaxPooling2D  (None, 13, 13, 16)       0         \n",
      " )                                                               \n",
      "                                                                 \n",
      " conv2d_1 (Conv2D)           (None, 11, 11, 32)        4640      \n",
      "                                                                 \n",
      " max_pooling2d_1 (MaxPooling  (None, 5, 5, 32)         0         \n",
      " 2D)                                                             \n",
      "                                                                 \n",
      " flatten (Flatten)           (None, 800)               0         \n",
      "                                                                 \n",
      " dense (Dense)               (None, 32)                25632     \n",
      "                                                                 \n",
      " dense_1 (Dense)             (None, 10)                330       \n",
      "                                                                 \n",
      "=================================================================\n",
      "Total params: 30,762\n",
      "Trainable params: 30,762\n",
      "Non-trainable params: 0\n",
      "_________________________________________________________________\n",
      "Epoch 1/10\n",
      "1875/1875 [==============================] - 21s 11ms/step - loss: 0.1966 - accuracy: 0.9420\n",
      "Epoch 2/10\n",
      "1875/1875 [==============================] - 22s 12ms/step - loss: 0.0644 - accuracy: 0.9805\n",
      "Epoch 3/10\n",
      "1875/1875 [==============================] - 22s 12ms/step - loss: 0.0474 - accuracy: 0.9852\n",
      "Epoch 4/10\n",
      "1875/1875 [==============================] - 22s 11ms/step - loss: 0.0366 - accuracy: 0.9888\n",
      "Epoch 5/10\n",
      "1875/1875 [==============================] - 22s 12ms/step - loss: 0.0297 - accuracy: 0.9906\n",
      "Epoch 6/10\n",
      "1875/1875 [==============================] - 20s 11ms/step - loss: 0.0251 - accuracy: 0.9917\n",
      "Epoch 7/10\n",
      "1875/1875 [==============================] - 19s 10ms/step - loss: 0.0197 - accuracy: 0.9936\n",
      "Epoch 8/10\n",
      "1875/1875 [==============================] - 16s 9ms/step - loss: 0.0158 - accuracy: 0.9952\n",
      "Epoch 9/10\n",
      "1875/1875 [==============================] - 17s 9ms/step - loss: 0.0145 - accuracy: 0.9952\n",
      "Epoch 10/10\n",
      "1875/1875 [==============================] - 14s 7ms/step - loss: 0.0111 - accuracy: 0.9964\n"
     ]
    },
    {
     "data": {
      "text/plain": [
       "<keras.callbacks.History at 0x14c8d3460>"
      ]
     },
     "execution_count": 3,
     "metadata": {},
     "output_type": "execute_result"
    }
   ],
   "source": [
    "import tensorflow as tf\n",
    "from tensorflow import keras\n",
    "import numpy as np\n",
    "import matplotlib.pyplot as plt\n",
    "\n",
    "mnist = keras.datasets.mnist\n",
    "(x_train, y_train), (x_test, y_test) = mnist.load_data()   \n",
    "x_train_norm, x_test_norm = x_train / 255.0, x_test / 255.0\n",
    "x_train_reshaped=x_train_norm.reshape( -1, 28, 28, 1)  \n",
    "x_test_reshaped=x_test_norm.reshape( -1, 28, 28, 1)\n",
    "\n",
    "model=keras.models.Sequential()\n",
    "model.add(keras.layers.Conv2D(16, (3,3), activation='relu', input_shape=(28,28,1)))\n",
    "model.add(keras.layers.MaxPool2D(2,2))\n",
    "model.add(keras.layers.Conv2D(32, (3,3), activation='relu'))\n",
    "model.add(keras.layers.MaxPooling2D((2,2)))\n",
    "model.add(keras.layers.Flatten())\n",
    "model.add(keras.layers.Dense(32, activation='relu'))\n",
    "model.add(keras.layers.Dense(10, activation='softmax'))\n",
    "\n",
    "model.summary()\n",
    "model.compile(optimizer='adam',\n",
    "             loss='sparse_categorical_crossentropy',\n",
    "             metrics=['accuracy'])\n",
    "\n",
    "# 모델 훈련\n",
    "model.fit(x_train_reshaped, y_train, epochs=10)"
   ]
  },
  {
   "cell_type": "markdown",
   "metadata": {},
   "source": [
    "- 코드 중지\n",
    "  - `KeyboardInterrupt`\n",
    "- 코드 복사\n",
    "  - Copy 아이콘을 클릭하시면 클립보드로 복사\n",
    "- 새로 고침\n",
    "  - 새로 고침 버튼을 클릭하시면 원본으로 새로고침"
   ]
  },
  {
   "cell_type": "markdown",
   "metadata": {},
   "source": [
    "# 코드 블록"
   ]
  },
  {
   "cell_type": "code",
   "execution_count": null,
   "metadata": {},
   "outputs": [],
   "source": [
    "pip list"
   ]
  },
  {
   "cell_type": "code",
   "execution_count": null,
   "metadata": {},
   "outputs": [],
   "source": [
    "print('Hello, AIFFEL.')"
   ]
  },
  {
   "cell_type": "code",
   "execution_count": null,
   "metadata": {},
   "outputs": [],
   "source": [
    "import tensorflow as tf\n",
    "from tensorflow import keras\n",
    "import numpy as np\n",
    "import matplotlib.pyplot as plt\n",
    "\n",
    "mnist = keras.datasets.mnist\n",
    "(x_train, y_train), (x_test, y_test) = mnist.load_data()   \n",
    "x_train_norm, x_test_norm = x_train / 255.0, x_test / 255.0\n",
    "x_train_reshaped=x_train_norm.reshape( -1, 28, 28, 1)  \n",
    "x_test_reshaped=x_test_norm.reshape( -1, 28, 28, 1)\n",
    "\n",
    "model=keras.models.Sequential()\n",
    "model.add(keras.layers.Conv2D(16, (3,3), activation='relu', input_shape=(28,28,1)))\n",
    "model.add(keras.layers.MaxPool2D(2,2))\n",
    "model.add(keras.layers.Conv2D(32, (3,3), activation='relu'))\n",
    "model.add(keras.layers.MaxPooling2D((2,2)))\n",
    "model.add(keras.layers.Flatten())\n",
    "model.add(keras.layers.Dense(32, activation='relu'))\n",
    "model.add(keras.layers.Dense(10, activation='softmax'))\n",
    "\n",
    "model.summary()\n",
    "model.compile(optimizer='adam',\n",
    "             loss='sparse_categorical_crossentropy',\n",
    "             metrics=['accuracy'])\n",
    "\n",
    "# 모델 훈련\n",
    "model.fit(x_train_reshaped, y_train, epochs=10)"
   ]
  },
  {
   "cell_type": "markdown",
   "metadata": {},
   "source": [
    "# 중요"
   ]
  },
  {
   "cell_type": "markdown",
   "metadata": {},
   "source": [
    "- `aiffel` 폴더 내부 내용은 변하지 않고 갱신됨(나머지는 없어짐)\n",
    "- `user->계정설정->커널 사용 설정`를 통해 `클라우드`와 `로컬` 변경이 가능\n",
    "- `KeyboardInterrupt`오류를 발생하여 코드를 중단 시킬 수 있음"
   ]
  },
  {
   "cell_type": "markdown",
   "metadata": {},
   "source": [
    "# 링크"
   ]
  },
  {
   "cell_type": "markdown",
   "metadata": {},
   "source": [
    "# 이미지"
   ]
  }
 ],
 "metadata": {
  "kernelspec": {
   "display_name": "Python 3.8.9 64-bit",
   "language": "python",
   "name": "python3"
  },
  "language_info": {
   "codemirror_mode": {
    "name": "ipython",
    "version": 3
   },
   "file_extension": ".py",
   "mimetype": "text/x-python",
   "name": "python",
   "nbconvert_exporter": "python",
   "pygments_lexer": "ipython3",
   "version": "3.8.9"
  },
  "orig_nbformat": 4,
  "vscode": {
   "interpreter": {
    "hash": "31f2aee4e71d21fbe5cf8b01ff0e069b9275f58929596ceb00d14d90e3e16cd6"
   }
  }
 },
 "nbformat": 4,
 "nbformat_minor": 2
}
