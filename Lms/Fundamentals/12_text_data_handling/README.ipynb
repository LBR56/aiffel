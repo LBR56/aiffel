{
 "cells": [
  {
   "cell_type": "markdown",
   "metadata": {},
   "source": [
    "# 텍스트의 다양한 변신(문자열, 파일 다루기)\n",
    "\n",
    "텍스트 데이터는 어떻게 처리하는지, 텍스트 파일의 종류는 무엇이 있는 지 살펴보고 연습해 봄"
   ]
  },
  {
   "cell_type": "markdown",
   "metadata": {},
   "source": [
    "## 목차\n",
    "\n",
    "- 텍스트 데이터를 문자열로 저장한다는 것\n",
    "  - incoding & decoding\n",
    "  - string in python\n",
    "  - regex\n",
    "- file & directory\n",
    "  - file\n",
    "  - directory\n",
    "  - module & package\n",
    "- file format\n",
    "  - csv\n",
    "  - xml\n",
    "  - json\n",
    "- 회고\n",
    "- Ref"
   ]
  },
  {
   "cell_type": "markdown",
   "metadata": {},
   "source": [
    "## 텍스트 데이터를 문자열로 저장한다는 것"
   ]
  },
  {
   "cell_type": "markdown",
   "metadata": {},
   "source": [
    "간단하게 python에서 다루는 문자열"
   ]
  },
  {
   "cell_type": "code",
   "execution_count": 1,
   "metadata": {},
   "outputs": [
    {
     "name": "stdout",
     "output_type": "stream",
     "text": [
      "Welcome!\n",
      "You're welcome.\n",
      "<class 'str'>\n",
      "<class 'str'>\n"
     ]
    }
   ],
   "source": [
    "my_str = 'Welcome!'\n",
    "ur_str = \"You're welcome.\"\n",
    "\n",
    "print(my_str)\n",
    "print(ur_str)\n",
    "\n",
    "print(type(my_str))\n",
    "print(type(ur_str))"
   ]
  },
  {
   "cell_type": "markdown",
   "metadata": {},
   "source": [
    "### encoding & decoding"
   ]
  },
  {
   "cell_type": "markdown",
   "metadata": {},
   "source": [
    "[![00](img/00.png)](https://pertinency.blogspot.com/2020/03/blog-post.html?m=0)"
   ]
  },
  {
   "cell_type": "markdown",
   "metadata": {},
   "source": [
    "기본 용어 정리\n",
    "***\n",
    "- 바이트(byte)란?\n",
    "  - 컴퓨터 기본 저장 단위\n",
    "- 인코딩(encoding)이란?\n",
    "  - 문자열 -> 바이트\n",
    "- 디코딩(decoding)이란?\n",
    "  - 바이트 -> 문자열"
   ]
  },
  {
   "cell_type": "markdown",
   "metadata": {},
   "source": [
    "왜 인코딩과 디코딩을 하는가?\n",
    "***\n",
    "컴퓨터 내부에서는 메모리(RAM)에 정보가 저장됨\n",
    "\n",
    "즉, 0과 1로 저장되기 때문에! == 2진수"
   ]
  },
  {
   "cell_type": "markdown",
   "metadata": {},
   "source": [
    "텍스트 데이터 처리 과정\n",
    "***"
   ]
  },
  {
   "cell_type": "markdown",
   "metadata": {},
   "source": [
    "문자와 숫자를 1대1 대응 한다면?\n",
    "\n",
    "쉽게 문자를 숫자로 변경할 수 있음\n",
    "\n",
    "국제표준기구(ISO)에서 유니코드(Unicode)를 설정하였음\n",
    "\n",
    "[실제 유니코드 테이블](http://titus.uni-frankfurt.de/unicode/unitestx.htm)\n",
    "\n",
    "위 링크를 들어가면 `UTF-8`이라고 말함\n",
    "\n",
    "[`UTF-8`은 인코딩 방식](https://jeongdowon.medium.com/unicode%EC%99%80-utf-8-%EA%B0%84%EB%8B%A8%ED%9E%88-%EC%9D%B4%ED%95%B4%ED%95%98%EA%B8%B0-b6aa3f7edf96)\n",
    "\n",
    "검색을 하다보면, `UTF-16`이 나옴\n",
    "\n",
    "[`UTF-16`은 글자를 2 byte에 저장함](https://pickykang.tistory.com/13)"
   ]
  },
  {
   "cell_type": "markdown",
   "metadata": {},
   "source": [
    "파이썬에서 어떻게 encoding, decoding 할까?\n",
    "***"
   ]
  },
  {
   "cell_type": "code",
   "execution_count": 2,
   "metadata": {},
   "outputs": [
    {
     "name": "stdout",
     "output_type": "stream",
     "text": [
      "97\n",
      "65\n",
      "a\n",
      "44032\n",
      "가\n"
     ]
    }
   ],
   "source": [
    "print(ord('a'))    \n",
    "print(ord('A'))\n",
    "print(chr(97))\n",
    "print(ord('가'))\n",
    "print(chr(0xAC00))   \n",
    "#- 0xAC00은 44032의 16진수 표현입니다."
   ]
  },
  {
   "cell_type": "markdown",
   "metadata": {},
   "source": [
    "### string in python"
   ]
  },
  {
   "cell_type": "markdown",
   "metadata": {},
   "source": [
    "이스케이프 문자\n",
    "***"
   ]
  },
  {
   "cell_type": "code",
   "execution_count": 3,
   "metadata": {},
   "outputs": [
    {
     "ename": "SyntaxError",
     "evalue": "invalid syntax (4145611764.py, line 1)",
     "output_type": "error",
     "traceback": [
      "\u001b[0;36m  Input \u001b[0;32mIn [3]\u001b[0;36m\u001b[0m\n\u001b[0;31m    s = 'I don't like Python!'\u001b[0m\n\u001b[0m               ^\u001b[0m\n\u001b[0;31mSyntaxError\u001b[0m\u001b[0;31m:\u001b[0m invalid syntax\n"
     ]
    }
   ],
   "source": [
    "s = 'I don't like Python!'"
   ]
  },
  {
   "cell_type": "markdown",
   "metadata": {},
   "source": [
    "`'` 를 출력하고 싶다면, `\\'`로 처리해 주어야 함"
   ]
  },
  {
   "cell_type": "markdown",
   "metadata": {},
   "source": [
    "원시 문자열\n",
    "***"
   ]
  },
  {
   "cell_type": "code",
   "execution_count": 4,
   "metadata": {},
   "outputs": [
    {
     "name": "stdout",
     "output_type": "stream",
     "text": [
      "Please don't touch it\n",
      "Please don\\'t touch it\n"
     ]
    }
   ],
   "source": [
    "#- 예제 코드2\n",
    "print('Please don\\'t touch it')\n",
    "print(r'Please don\\'t touch it')"
   ]
  },
  {
   "cell_type": "markdown",
   "metadata": {},
   "source": [
    "이스케이프를 그대로 출력하고 싶다면?\n",
    "\n",
    "문자열 맨 앞에 `r`를 추가함"
   ]
  },
  {
   "cell_type": "markdown",
   "metadata": {},
   "source": [
    "startswith, endswith\n",
    "***"
   ]
  },
  {
   "cell_type": "code",
   "execution_count": 5,
   "metadata": {},
   "outputs": [
    {
     "data": {
      "text/plain": [
       "['OB94382', 'OB32308', 'OB83461', 'OB74830', 'OB82345']"
      ]
     },
     "execution_count": 5,
     "metadata": {},
     "output_type": "execute_result"
    }
   ],
   "source": [
    "EmployeeID = [\n",
    "  'OB94382', 'OW34723', 'OB32308', 'OB83461', \n",
    "  'OB74830', 'OW37402', 'OW11235', 'OB82345'] \n",
    "\n",
    "Production_Employee = []\n",
    "for P in EmployeeID:\n",
    "  if P.startswith('OB'):\n",
    "    Production_Employee.append(P)\n",
    "\n",
    "Production_Employee"
   ]
  },
  {
   "cell_type": "markdown",
   "metadata": {},
   "source": [
    "OB로 시작되는 문자열 뽑기"
   ]
  },
  {
   "cell_type": "code",
   "execution_count": 6,
   "metadata": {},
   "outputs": [
    {
     "name": "stdout",
     "output_type": "stream",
     "text": [
      "['00.png', '01.png']\n"
     ]
    }
   ],
   "source": [
    "import os\n",
    "image_dir_path = \"img\"   \n",
    "\n",
    "photo = os.listdir(image_dir_path )\n",
    "png = [png for png in photo if png.endswith('.png')]\n",
    "print(png)"
   ]
  },
  {
   "cell_type": "markdown",
   "metadata": {},
   "source": [
    "png로 끝나는 문자열 뽑기"
   ]
  },
  {
   "cell_type": "markdown",
   "metadata": {},
   "source": [
    "공백 문자 처리 : trimming\n",
    "***"
   ]
  },
  {
   "cell_type": "code",
   "execution_count": 7,
   "metadata": {},
   "outputs": [
    {
     "name": "stdout",
     "output_type": "stream",
     "text": [
      "사회적 거리두기\n",
      "--------------------------\n",
      "사회적\t거리두기\n",
      "--------------------------\n",
      "사회적\n",
      "거리두기\n",
      "--------------------------\n",
      "거리두기\n"
     ]
    }
   ],
   "source": [
    "print(\"사회적 거리두기\")\n",
    "print('--------------------------')\n",
    "print(\"사회적\\t거리두기\")\n",
    "print('--------------------------')\n",
    "print(\"사회적\\n거리두기\")\n",
    "print('--------------------------')\n",
    "print(\"사회적\\r거리두기\")"
   ]
  },
  {
   "cell_type": "markdown",
   "metadata": {},
   "source": [
    "공백 문자 종류\n",
    "\n",
    "- 스페이스(space)\n",
    "- 탭(tab) `\\t`\n",
    "- 줄 바꿈(new line)\n",
    "- 개행(line feed) `\\n`\n",
    "- 복귀(carriage return) `\\r`"
   ]
  },
  {
   "cell_type": "code",
   "execution_count": 8,
   "metadata": {},
   "outputs": [
    {
     "name": "stdout",
     "output_type": "stream",
     "text": [
      "   \trip white spaces.\n",
      "]\n",
      "--------------------------\n",
      "[Strip white spaces.]\n",
      "--------------------------\n",
      "   \tip white spaces.\n",
      "]\n",
      "--------------------------\n",
      "[ Strip white spaces.]\n"
     ]
    }
   ],
   "source": [
    "txt = \" Strip white spaces.\\r   \\t\\n\"\n",
    "print(f'[{txt}]')\n",
    "print('--------------------------')\n",
    "\n",
    "#- 양쪽 공백 제거 : strip()\n",
    "print(f'[{txt.strip()}]')\n",
    "print('--------------------------')\n",
    "\n",
    "#- 왼쪽 공백 제거 : lstrip()\n",
    "print(f'[{txt.lstrip()}]')\n",
    "print('--------------------------')\n",
    "\n",
    "#- 오른쪽 공백 제거 : rstrip()\n",
    "print(f'[{txt.rstrip()}]')"
   ]
  },
  {
   "cell_type": "markdown",
   "metadata": {},
   "source": [
    "대소문자 관련\n",
    "***"
   ]
  },
  {
   "cell_type": "code",
   "execution_count": 9,
   "metadata": {},
   "outputs": [
    {
     "name": "stdout",
     "output_type": "stream",
     "text": [
      "I GO TO HOME\n",
      "i go to home\n",
      "I go to home\n"
     ]
    }
   ],
   "source": [
    "txt = \"I go to Home\"\n",
    "# 모든 문자 대문자\n",
    "print(txt.upper())\n",
    "# 모든 문자 소문자\n",
    "print(txt.lower())\n",
    "# 첫 글자만 대문자\n",
    "print(txt.capitalize())"
   ]
  },
  {
   "cell_type": "markdown",
   "metadata": {},
   "source": [
    "isX\n",
    "***"
   ]
  },
  {
   "cell_type": "code",
   "execution_count": 10,
   "metadata": {},
   "outputs": [
    {
     "name": "stdout",
     "output_type": "stream",
     "text": [
      "False\n",
      "True\n",
      "False\n",
      "False\n",
      "False\n",
      "True\n"
     ]
    }
   ],
   "source": [
    "# 전체 대문자?\n",
    "print(\"go\".isupper())\n",
    "# 전체 소문자?\n",
    "print(\"go\".islower())\n",
    "# 첫 글자만 대문자?\n",
    "print(\"I GO\".istitle())\n",
    "# 전체 알파벳?\n",
    "print(\"i want 10 apples\".isalpha())\n",
    "# 전체 알파벳과 숫자?\n",
    "print(\"i want 10 apples\".isalnum())\n",
    "# 전체 숫자?\n",
    "print(\"10\".isdecimal())"
   ]
  },
  {
   "cell_type": "markdown",
   "metadata": {},
   "source": [
    "split()와 join()\n",
    "***"
   ]
  },
  {
   "cell_type": "code",
   "execution_count": 11,
   "metadata": {},
   "outputs": [
    {
     "name": "stdout",
     "output_type": "stream",
     "text": [
      "['I', 'go', 'to', 'Home']\n",
      "I,go,to,Home\n"
     ]
    }
   ],
   "source": [
    "txt = \"I go to Home\"\n",
    "\n",
    "# 문자열 나누기\n",
    "txts = txt.split()\n",
    "print(txts)\n",
    "\n",
    "# 문자열 붙이기\n",
    "print(','.join(txts))"
   ]
  },
  {
   "cell_type": "markdown",
   "metadata": {},
   "source": [
    "replace()\n",
    "***"
   ]
  },
  {
   "cell_type": "code",
   "execution_count": 12,
   "metadata": {},
   "outputs": [
    {
     "data": {
      "text/plain": [
       "'You can do it!'"
      ]
     },
     "execution_count": 12,
     "metadata": {},
     "output_type": "execute_result"
    }
   ],
   "source": [
    "sent = 'I can do it!'\n",
    "\n",
    "# 특정 요소 변경\n",
    "sent.replace('I', 'You')"
   ]
  },
  {
   "cell_type": "markdown",
   "metadata": {},
   "source": [
    "가변 객체와 불변 객체\n",
    "***\n",
    "\n",
    "string은 불변 객체"
   ]
  },
  {
   "cell_type": "markdown",
   "metadata": {},
   "source": [
    "### regex"
   ]
  },
  {
   "cell_type": "markdown",
   "metadata": {},
   "source": [
    "[![01](img/01.png)](https://regexr.com/#native_link#)"
   ]
  },
  {
   "cell_type": "markdown",
   "metadata": {},
   "source": [
    "정규 표현식(regular expression)"
   ]
  },
  {
   "cell_type": "markdown",
   "metadata": {},
   "source": [
    "문자열 vs 정규 표현식\n",
    "***"
   ]
  },
  {
   "cell_type": "code",
   "execution_count": 13,
   "metadata": {},
   "outputs": [
    {
     "name": "stdout",
     "output_type": "stream",
     "text": [
      "I can do You!\n",
      "You You You You!\n"
     ]
    }
   ],
   "source": [
    "sent = 'I can do it!'\n",
    "rep = sent.replace(\"I\", \"You\")\n",
    "rep = sent.replace(\"can\", \"You\")\n",
    "rep = sent.replace(\"do\", \"You\")\n",
    "rep = sent.replace(\"it\", \"You\")\n",
    "print(rep)\n",
    "\n",
    "import re\n",
    "pattern = re.sub(r\"\\b\\w+\\b\", \"You\", sent)\n",
    "print(pattern)"
   ]
  },
  {
   "cell_type": "markdown",
   "metadata": {},
   "source": [
    "정규 표현식 시작하기\n",
    "***"
   ]
  },
  {
   "cell_type": "code",
   "execution_count": 14,
   "metadata": {},
   "outputs": [
    {
     "name": "stdout",
     "output_type": "stream",
     "text": [
      "['the', 'the', 'the']\n",
      "['the', 'the', 'the']\n"
     ]
    }
   ],
   "source": [
    "#1단계 :  \"the\"라는 패턴을 컴파일한 후 패턴 객체를 리턴합니다. \n",
    "pattern = re.compile(\"the\")    \n",
    "\n",
    "# 2단계 : 컴파일된 패턴 객체를 활용하여 다른 텍스트에서 검색을 수행합니다.\n",
    "print(pattern.findall('of the people, for the people, by the people'))\n",
    "\n",
    "# 한번에 할 수 있음\n",
    "print(re.findall('the', 'of the people, for the people, by the people'))"
   ]
  },
  {
   "cell_type": "markdown",
   "metadata": {},
   "source": [
    "메서드\n",
    "***"
   ]
  },
  {
   "cell_type": "code",
   "execution_count": 15,
   "metadata": {},
   "outputs": [],
   "source": [
    "src = \"My name is...\""
   ]
  },
  {
   "cell_type": "code",
   "execution_count": 16,
   "metadata": {},
   "outputs": [
    {
     "name": "stdout",
     "output_type": "stream",
     "text": [
      "<re.Match object; span=(3, 7), match='name'>\n",
      "name\n"
     ]
    }
   ],
   "source": [
    "# 검색 대상과 일치\n",
    "regex = re.search(\"name\", src)\n",
    "print(regex)\n",
    "\n",
    "if regex:\n",
    "  # 실제 결과 반환\n",
    "  print(regex.group())\n",
    "else:\n",
    "  print(\"No!\")"
   ]
  },
  {
   "cell_type": "code",
   "execution_count": 17,
   "metadata": {},
   "outputs": [
    {
     "name": "stdout",
     "output_type": "stream",
     "text": [
      "None\n",
      "No!\n"
     ]
    }
   ],
   "source": [
    "# 처음부터 검색 대상과 일치\n",
    "regex = re.match(\"name\", src)\n",
    "print(regex)\n",
    "\n",
    "if regex:\n",
    "  # 실제 결과 반환\n",
    "  print(regex.group())\n",
    "else:\n",
    "  print(\"No!\")"
   ]
  },
  {
   "cell_type": "code",
   "execution_count": 18,
   "metadata": {},
   "outputs": [
    {
     "name": "stdout",
     "output_type": "stream",
     "text": [
      "['name']\n"
     ]
    }
   ],
   "source": [
    "# 일치하는 모든 패턴 찾기\n",
    "regex = re.findall(\"name\", src)\n",
    "print(regex)"
   ]
  },
  {
   "cell_type": "code",
   "execution_count": 19,
   "metadata": {},
   "outputs": [
    {
     "name": "stdout",
     "output_type": "stream",
     "text": [
      "['My ', ' is...']\n"
     ]
    }
   ],
   "source": [
    "# 패턴 나누기\n",
    "regex = re.split(\"name\", src)\n",
    "print(regex)"
   ]
  },
  {
   "cell_type": "code",
   "execution_count": 20,
   "metadata": {},
   "outputs": [
    {
     "name": "stdout",
     "output_type": "stream",
     "text": [
      "My job is...\n"
     ]
    }
   ],
   "source": [
    "# 패턴 대체하기\n",
    "regex = re.sub(\"name\", 'job', src)\n",
    "print(regex)"
   ]
  },
  {
   "cell_type": "markdown",
   "metadata": {},
   "source": [
    "패턴 : 특수문자, 메타 문자\n",
    "***"
   ]
  },
  {
   "cell_type": "markdown",
   "metadata": {},
   "source": [
    "`[]-.?*+{}/`등을 이용해 툭수한 패턴을 만들 수 있음\n",
    "- `[]` : 문자 == [0123456789]\n",
    "- `-` : 범위 == 0-9\n",
    "- `.` : 하나의 문자 == .\n",
    "- `?` : 0 또는 1회 반복 == a?\n",
    "- `*` : 0 이상 반복 == a*\n",
    "- `+` : 1 이상 반복 == a+\n",
    "- `{m,n}` : m ~ n == a{2,3}\n",
    "- `^` : 아님 == [^0-9]\n",
    "- `\\d` : 숫자 == [0-9]\n",
    "- `\\D` : 숫자가 아님 == [^0-9]\n",
    "- `\\w` : 영어, 숫자, _ == [a-zA-Z0-9_]\n",
    "- `\\W` : 영어, 숫자, _ 아님 == [^a-zA-Z0-9_]\n",
    "- `\\s` : 공백 문자 == [ \\t\\n\\r\\f\\v]\n",
    "- `\\S` : 공백 문자 아님 == [^ \\t\\n\\r\\f\\v]\n",
    "- `\\b` : 단어 경계\n",
    "- `\\B` : 비 단어 경계\n",
    "- `\\t` : 탭\n",
    "- `\\v` : 세로 탭\n",
    "- `\\f` : 폼 피드\n",
    "- `\\n` : 라인 피드\n",
    "- `\\r` : 캐리지 리턴\n",
    "\n",
    "자세한 내용은 regex의 사진을 클릭!"
   ]
  },
  {
   "cell_type": "markdown",
   "metadata": {},
   "source": [
    "예제\n",
    "***"
   ]
  },
  {
   "cell_type": "code",
   "execution_count": 21,
   "metadata": {},
   "outputs": [
    {
     "data": {
      "text/plain": [
       "['1993', '1995', '2019', '2000', '2002', '2013', '2015', '2017']"
      ]
     },
     "execution_count": 21,
     "metadata": {},
     "output_type": "execute_result"
    }
   ],
   "source": [
    "#- 연도(숫자)\n",
    "text = \"\"\"\n",
    "The first season of America Premiere League  was played in 1993. \n",
    "The second season was played in 1995 in South Africa. \n",
    "Last season was played in 2019 and won by Chennai Super Kings (CSK).\n",
    "CSK won the title in 2000 and 2002 as well.\n",
    "Mumbai Indians (MI) has also won the title 3 times in 2013, 2015 and 2017.\n",
    "\"\"\"\n",
    "pattern = re.compile(\"[1-2]\\d{3}\")\n",
    "pattern.findall(text)"
   ]
  },
  {
   "cell_type": "code",
   "execution_count": 22,
   "metadata": {},
   "outputs": [
    {
     "name": "stdout",
     "output_type": "stream",
     "text": [
      "010-111-1111\n"
     ]
    }
   ],
   "source": [
    "#- 전화번호(숫자, 기호)\n",
    "phonenumber = re.compile(r'(\\d{3}-){2}\\d{4}')\n",
    "phone = phonenumber.search('This is my phone number 010-111-1111')\n",
    "if phone:\n",
    "  print(phone.group())"
   ]
  },
  {
   "cell_type": "code",
   "execution_count": 23,
   "metadata": {},
   "outputs": [
    {
     "data": {
      "text/plain": [
       "['doingharu@aiffel.com', 'tomorrow@aiffel.com']"
      ]
     },
     "execution_count": 23,
     "metadata": {},
     "output_type": "execute_result"
    }
   ],
   "source": [
    "#- 이메일(알파벳, 숫자, 기호)\n",
    "text = \"My e-mail adress is doingharu@aiffel.com, and tomorrow@aiffel.com\"\n",
    "pattern = re.compile(\"[0-9a-zA-Z]+@[0-9a-z]+\\.[0-9a-z]+\")\n",
    "pattern.findall(text)"
   ]
  },
  {
   "cell_type": "markdown",
   "metadata": {},
   "source": [
    "## file & directory\n"
   ]
  },
  {
   "cell_type": "markdown",
   "metadata": {},
   "source": [
    "영구적으로 저장하기 위해 파일을 사용함\n",
    "\n",
    "파일을 계층적으로 정리하기 위해 디렉토리를 사용함"
   ]
  },
  {
   "cell_type": "markdown",
   "metadata": {},
   "source": [
    "### file"
   ]
  },
  {
   "cell_type": "markdown",
   "metadata": {},
   "source": [
    "메서드\n",
    "***"
   ]
  },
  {
   "cell_type": "code",
   "execution_count": 24,
   "metadata": {},
   "outputs": [],
   "source": [
    "with open(\"data/hello.txt\", \"w\") as f:\n",
    "  # 글쓰기\n",
    "  f.write('안녕')\n",
    "\n",
    "with open(\"data/hello.txt\", \"w\") as f:\n",
    "  # iter로 글쓰기\n",
    "  f.writelines(['안녕\\n', '안녕\\n'])"
   ]
  },
  {
   "cell_type": "code",
   "execution_count": 25,
   "metadata": {},
   "outputs": [
    {
     "name": "stdout",
     "output_type": "stream",
     "text": [
      "안녕\n",
      "안녕\n",
      "\n",
      "안녕\n",
      "안녕\n",
      "['안녕\\n', '안녕\\n']\n",
      "14\n",
      "0\n"
     ]
    }
   ],
   "source": [
    "with open(\"data/hello.txt\", \"r\") as f:\n",
    "\n",
    "  # 전체 읽기\n",
    "  print(f.read())\n",
    "\n",
    "with open(\"data/hello.txt\", \"r\") as f:\n",
    "  while True:\n",
    "\n",
    "    # 한 줄 읽기\n",
    "    text = f.readline()\n",
    "\n",
    "    if text != '':\n",
    "      print(text, end='')\n",
    "    else:\n",
    "      break\n",
    "\n",
    "# 파일 열기\n",
    "f = open(\"data/hello.txt\", \"r\")\n",
    "\n",
    "# 배열로 읽기\n",
    "print(f.readlines())\n",
    "\n",
    "# 현재 커서 위치\n",
    "print(f.tell())\n",
    "\n",
    "# 현재 커서 위치 변경\n",
    "f.seek(0)\n",
    "print(f.tell())\n",
    "\n",
    "# 파일 닫기\n",
    "f.close()"
   ]
  },
  {
   "cell_type": "markdown",
   "metadata": {},
   "source": [
    "### directory"
   ]
  },
  {
   "cell_type": "markdown",
   "metadata": {},
   "source": [
    "최상이 폴더를 루트 디렉토리(root directory)라고 함\n",
    "\n",
    "- window : C:\\\n",
    "- Linux : /"
   ]
  },
  {
   "cell_type": "markdown",
   "metadata": {},
   "source": [
    "### module & package"
   ]
  },
  {
   "cell_type": "markdown",
   "metadata": {},
   "source": [
    "파이썬 파일은 어디에 저장될까?\n",
    "***"
   ]
  },
  {
   "cell_type": "code",
   "execution_count": 26,
   "metadata": {},
   "outputs": [
    {
     "data": {
      "text/plain": [
       "'/Library/Developer/CommandLineTools/usr/bin/python3'"
      ]
     },
     "execution_count": 26,
     "metadata": {},
     "output_type": "execute_result"
    }
   ],
   "source": [
    "#- 현재 실행되고 있는 파이썬 실행 파일의 디렉터리를 반환합니다.\n",
    "import sys\n",
    "sys.executable"
   ]
  },
  {
   "cell_type": "code",
   "execution_count": 27,
   "metadata": {},
   "outputs": [
    {
     "data": {
      "text/plain": [
       "['/Users/main/Desktop/temp/Lms/Fundamentals/12_text_data_handling',\n",
       " '/Library/Developer/CommandLineTools/Library/Frameworks/Python3.framework/Versions/3.8/lib/python38.zip',\n",
       " '/Library/Developer/CommandLineTools/Library/Frameworks/Python3.framework/Versions/3.8/lib/python3.8',\n",
       " '/Library/Developer/CommandLineTools/Library/Frameworks/Python3.framework/Versions/3.8/lib/python3.8/lib-dynload',\n",
       " '',\n",
       " '/Users/main/Library/Python/3.8/lib/python/site-packages',\n",
       " '/Library/Developer/CommandLineTools/Library/Frameworks/Python3.framework/Versions/3.8/lib/python3.8/site-packages']"
      ]
     },
     "execution_count": 27,
     "metadata": {},
     "output_type": "execute_result"
    }
   ],
   "source": [
    "#- 임포트할 때 불러 오는 모듈들이 위치한 경로입니다.\n",
    "sys.path"
   ]
  },
  {
   "cell_type": "code",
   "execution_count": 28,
   "metadata": {},
   "outputs": [
    {
     "name": "stdout",
     "output_type": "stream",
     "text": [
      "['img/00.png', 'img/01.png', 'img/02.jpg']\n",
      "test/img\n",
      "['.DS_Store', 'README.ipynb', 'img', 'data']\n",
      "True\n",
      "False\n",
      "True\n",
      "192\n"
     ]
    }
   ],
   "source": [
    "# 위 코드를 통해 모듈을 추가할 수 있음\n",
    "# sys.path.append()\n",
    "\n",
    "# 디렉토리 위치 변경\n",
    "os.chdir('.')\n",
    "\n",
    "# 현위치 반환\n",
    "os.getcwd()\n",
    "\n",
    "# mkdir\n",
    "os.mkdir('dir')\n",
    "\n",
    "# rm\n",
    "os.rmdir('dir')\n",
    "\n",
    "import glob\n",
    "# 해당 경로 dir, file 리스트로\n",
    "print(glob.glob(r'img/*'))\n",
    "\n",
    "# 결로를 만들어 줌\n",
    "print(os.path.join('test', 'img'))\n",
    "\n",
    "# 디렉토리 안의 dir, file 리스트로\n",
    "print(os.listdir())\n",
    "\n",
    "# 존재 여부 확인\n",
    "print(os.path.exists('img'))\n",
    "\n",
    "# 파일 존재 여부 확인\n",
    "print(os.path.isfile('img'))\n",
    "\n",
    "# 디렉토리 존재 여부 확인\n",
    "print(os.path.isdir('img'))\n",
    "\n",
    "# 용량 확인\n",
    "print(os.path.getsize('img'))"
   ]
  },
  {
   "cell_type": "markdown",
   "metadata": {},
   "source": [
    "## file format"
   ]
  },
  {
   "cell_type": "markdown",
   "metadata": {},
   "source": [
    "### csv"
   ]
  },
  {
   "cell_type": "markdown",
   "metadata": {},
   "source": [
    "쉽표로 구분한 값(Comma Seperated Value)"
   ]
  },
  {
   "cell_type": "code",
   "execution_count": 29,
   "metadata": {},
   "outputs": [],
   "source": [
    "billboardchart = {\n",
    "  1 : [\"Tho Box\",\"Roddy Ricch\",\"2019-12-19\"],\n",
    "  2 : [\"Don't Start Now\", \"Dua Lipa\", \"2019-11-01\"],\n",
    "  3 : [\"Life Is Good\", \"Future Featuring Drake\", \"2020-02-10\"],\n",
    "  4 : [\"Blinding\", \"The Weeknd\", \"2019-11-29\"],\n",
    "  5 : [\"Circles\", \"Post Malone\",\"2019-08-30\"]}\n",
    "\n",
    "# open으로 처리\n",
    "with open(\"data/billboardchart.csv\",\"w\") as f:\n",
    "  for i in billboardchart.values():\n",
    "    data = \",\".join(i)\n",
    "    f.write(data+\"\\n\")"
   ]
  },
  {
   "cell_type": "code",
   "execution_count": 30,
   "metadata": {},
   "outputs": [],
   "source": [
    "import csv\n",
    "\n",
    "header = [\"title\", \"singer\", \"released date\"]\n",
    "\n",
    "with open(\"data/billboardchart.csv\",\"r\") as inputfile:\n",
    "  with open(\"data/billboardchart_out.csv\",\"w\", newline='\\n') as outputfile:\n",
    "\n",
    "    # csv로 처리\n",
    "    fi = csv.reader(inputfile, delimiter=',')\n",
    "    fo = csv.writer(outputfile, delimiter=',')\n",
    "    fo.writerow(header)\n",
    "    for row in fi:\n",
    "      fo.writerow(row)"
   ]
  },
  {
   "cell_type": "code",
   "execution_count": 31,
   "metadata": {},
   "outputs": [],
   "source": [
    "#- 1. 데이터를 준비합니다.\n",
    "fields = [\"title\", \"singer\", \"released date\"]\n",
    "rows = [\n",
    "  [\"Tho Box\",\"Roddy Ricch\",\"2019-12-19\"],\n",
    "  [\"Don't Start Now\", \"Dua Lipa\", \"2019-11-01\"],\n",
    "  [\"Life Is Good\", \"Future Featuring Drake\", \"2020-02-10\"],\n",
    "  [\"Blinding\", \"The Weeknd\", \"2019-11-29\"],\n",
    "  [\"Circles\", \"Post Malone\",\"2019-08-30\"]\n",
    "]"
   ]
  },
  {
   "cell_type": "code",
   "execution_count": 32,
   "metadata": {},
   "outputs": [],
   "source": [
    "#- 2. 판다스를 이용해 데이터를 csv 파일로 저장합니다.\n",
    "import pandas as pd\n",
    "\n",
    "df=pd.DataFrame(rows, columns=fields)\n",
    "df.to_csv('data/pandas.csv',index=False)"
   ]
  },
  {
   "cell_type": "code",
   "execution_count": 33,
   "metadata": {},
   "outputs": [
    {
     "data": {
      "text/html": [
       "<div>\n",
       "<style scoped>\n",
       "    .dataframe tbody tr th:only-of-type {\n",
       "        vertical-align: middle;\n",
       "    }\n",
       "\n",
       "    .dataframe tbody tr th {\n",
       "        vertical-align: top;\n",
       "    }\n",
       "\n",
       "    .dataframe thead th {\n",
       "        text-align: right;\n",
       "    }\n",
       "</style>\n",
       "<table border=\"1\" class=\"dataframe\">\n",
       "  <thead>\n",
       "    <tr style=\"text-align: right;\">\n",
       "      <th></th>\n",
       "      <th>title</th>\n",
       "      <th>singer</th>\n",
       "      <th>released date</th>\n",
       "    </tr>\n",
       "  </thead>\n",
       "  <tbody>\n",
       "    <tr>\n",
       "      <th>0</th>\n",
       "      <td>Tho Box</td>\n",
       "      <td>Roddy Ricch</td>\n",
       "      <td>2019-12-19</td>\n",
       "    </tr>\n",
       "    <tr>\n",
       "      <th>1</th>\n",
       "      <td>Don't Start Now</td>\n",
       "      <td>Dua Lipa</td>\n",
       "      <td>2019-11-01</td>\n",
       "    </tr>\n",
       "    <tr>\n",
       "      <th>2</th>\n",
       "      <td>Life Is Good</td>\n",
       "      <td>Future Featuring Drake</td>\n",
       "      <td>2020-02-10</td>\n",
       "    </tr>\n",
       "    <tr>\n",
       "      <th>3</th>\n",
       "      <td>Blinding</td>\n",
       "      <td>The Weeknd</td>\n",
       "      <td>2019-11-29</td>\n",
       "    </tr>\n",
       "    <tr>\n",
       "      <th>4</th>\n",
       "      <td>Circles</td>\n",
       "      <td>Post Malone</td>\n",
       "      <td>2019-08-30</td>\n",
       "    </tr>\n",
       "  </tbody>\n",
       "</table>\n",
       "</div>"
      ],
      "text/plain": [
       "             title                  singer released date\n",
       "0          Tho Box             Roddy Ricch    2019-12-19\n",
       "1  Don't Start Now                Dua Lipa    2019-11-01\n",
       "2     Life Is Good  Future Featuring Drake    2020-02-10\n",
       "3         Blinding              The Weeknd    2019-11-29\n",
       "4          Circles             Post Malone    2019-08-30"
      ]
     },
     "execution_count": 33,
     "metadata": {},
     "output_type": "execute_result"
    }
   ],
   "source": [
    "df = pd.read_csv('data/pandas.csv')\n",
    "df.head()"
   ]
  },
  {
   "cell_type": "markdown",
   "metadata": {},
   "source": [
    "### xml"
   ]
  },
  {
   "cell_type": "markdown",
   "metadata": {},
   "source": [
    "다목적 마크업 언어(Extensible Markup Language)"
   ]
  },
  {
   "cell_type": "code",
   "execution_count": 34,
   "metadata": {
    "vscode": {
     "languageId": "xml"
    }
   },
   "outputs": [
    {
     "ename": "SyntaxError",
     "evalue": "invalid syntax (1903902067.py, line 1)",
     "output_type": "error",
     "traceback": [
      "\u001b[0;36m  Input \u001b[0;32mIn [34]\u001b[0;36m\u001b[0m\n\u001b[0;31m    <Person id=\"0x0001\">\u001b[0m\n\u001b[0m    ^\u001b[0m\n\u001b[0;31mSyntaxError\u001b[0m\u001b[0;31m:\u001b[0m invalid syntax\n"
     ]
    }
   ],
   "source": [
    "<Person id=\"0x0001\">\n",
    "  <firstname>병률</firstname>\n",
    "  <lastname date='2022-07-14'>이</lastname>\n",
    "  <age>26</age>\n",
    "  <place>대구</place>\n",
    "</Person>"
   ]
  },
  {
   "cell_type": "markdown",
   "metadata": {},
   "source": [
    "특징\n",
    "***\n",
    "`<tag attr='attr'>content</tag>`\n",
    "\n",
    "- tag로 이루어져 있음\n",
    "- 계층적 구조를 띔\n",
    "- tag를 포함하여 감싸져 있는 것을 요소(Element)라고 부름\n",
    "- 속성(attribute)을 가질 수 있음\n",
    "- 내용(content)를 가질 수 있음(없을 수 도 있음)"
   ]
  },
  {
   "cell_type": "markdown",
   "metadata": {},
   "source": [
    "실습\n",
    "***"
   ]
  },
  {
   "cell_type": "code",
   "execution_count": 35,
   "metadata": {},
   "outputs": [
    {
     "name": "stdout",
     "output_type": "stream",
     "text": [
      "<Person><name>병률</name><age>26</age><place>대구</place></Person>\n",
      "<Person id=\"0x0001\"><firstname>병률</firstname><age>26</age><place>대구</place></Person>\n",
      "<Person id=\"0x0001\"><firstname>병률</firstname><lastname date=\"2020-03-20\">이</lastname><age>26</age><place>대구</place></Person>\n"
     ]
    }
   ],
   "source": [
    "import xml.etree.ElementTree as ET\n",
    "\n",
    "# 요소 만들기\n",
    "person = ET.Element(\"Person\")\n",
    "name = ET.Element(\"name\")\n",
    "age = ET.Element(\"age\")\n",
    "\n",
    "# content 추가\n",
    "name.text = \"병률\"\n",
    "age.text = \"26\"\n",
    "\n",
    "# 계층 만들기\n",
    "person.append(name)\n",
    "person.append(age)\n",
    "\n",
    "# 계층 만들면서, 요소 만들면서 content 추가\n",
    "ET.SubElement(person, 'place').text = '대구'\n",
    "\n",
    "# 객체를 문자열로 변경\n",
    "ET.dump(person)\n",
    "\n",
    "# 속성 추가\n",
    "person.attrib[\"id\"] = \"0x0001\"\n",
    "\n",
    "# tag 이름 변경\n",
    "name.tag = \"firstname\"\n",
    "\n",
    "ET.dump(person)\n",
    "\n",
    "# 요소를 만들면서, 속성을 지정\n",
    "lastname = ET.Element('lastname', date='2020-03-20')\n",
    "\n",
    "# content 추가\n",
    "lastname.text = '이'\n",
    "\n",
    "# 원하는 위치에 계층 만들기\n",
    "person.insert(1,lastname)\n",
    "ET.dump(person)\n",
    "\n",
    "# 요소 지우기\n",
    "person.remove(age)\n",
    "\n",
    "# 요소 저장\n",
    "ET.ElementTree(person).write('data/person.xml')"
   ]
  },
  {
   "cell_type": "markdown",
   "metadata": {},
   "source": [
    "XML 읽기\n",
    "***"
   ]
  },
  {
   "cell_type": "code",
   "execution_count": 36,
   "metadata": {},
   "outputs": [
    {
     "name": "stdout",
     "output_type": "stream",
     "text": [
      "beautifulsoup4               4.10.0\n",
      "lxml                         4.9.1\n"
     ]
    }
   ],
   "source": [
    "!pip3 list | grep beautifulsoup4\n",
    "!pip3 list | grep lxml"
   ]
  },
  {
   "cell_type": "code",
   "execution_count": 37,
   "metadata": {},
   "outputs": [
    {
     "name": "stdout",
     "output_type": "stream",
     "text": [
      "병률이대구\n"
     ]
    }
   ],
   "source": [
    "from bs4 import BeautifulSoup\n",
    "import os\n",
    "\n",
    "path = 'data/person.xml'\n",
    "with open(path, \"r\", encoding='utf8') as f:\n",
    "    booksxml = f.read() \n",
    "    #- 파일을 문자열로 읽기\n",
    "\n",
    "soup = BeautifulSoup(booksxml,'lxml') \n",
    "#- BeautifulSoup 객체 생성 : lxml parser를 이용해 데이터 분석\n",
    "\n",
    "for title in soup.select('person'): \n",
    "#-  태그를 찾는 find_all 함수 이용\n",
    "    print(title.get_text())"
   ]
  },
  {
   "cell_type": "markdown",
   "metadata": {},
   "source": [
    "[![02](img/02.jpg)](https://www.crummy.com/software/BeautifulSoup/bs4/doc/#parsing-xml)\n",
    "\n",
    "뷰티플 수프 설명서"
   ]
  },
  {
   "cell_type": "markdown",
   "metadata": {},
   "source": [
    "### json"
   ]
  },
  {
   "cell_type": "markdown",
   "metadata": {},
   "source": [
    "javascript 데이터 객체 표현 방식(JavaScript Object Notation)"
   ]
  },
  {
   "cell_type": "code",
   "execution_count": 38,
   "metadata": {
    "vscode": {
     "languageId": "javascript"
    }
   },
   "outputs": [],
   "source": [
    "person = {\n",
    "  \"first name\" : \"ByeongRyul\",\n",
    "  \"last name\" : \"Lee\",\n",
    "  \"age\" : 26,\n",
    "  \"nationality\" : \"Republic Of Korea\",\n",
    "  \"education\" : [\n",
    "    {\n",
    "      \"degree\":\"B.S degree\", \n",
    "      \"university\":\"Daehan university\", \n",
    "      \"major\": \"computer engineering\", \n",
    "      \"graduated year\":2022\n",
    "    }\n",
    "  ]\n",
    "} "
   ]
  },
  {
   "cell_type": "markdown",
   "metadata": {},
   "source": [
    "파이썬의 dict와 유사함"
   ]
  },
  {
   "cell_type": "markdown",
   "metadata": {},
   "source": [
    "JSON 파싱\n",
    "***"
   ]
  },
  {
   "cell_type": "code",
   "execution_count": 39,
   "metadata": {},
   "outputs": [],
   "source": [
    "import json\n",
    "\n",
    "person = {\n",
    "  \"first name\" : \"Yuna\",\n",
    "  \"last name\" : \"Jung\",\n",
    "  \"age\" : 33,\n",
    "  \"nationality\" : \"South Korea\",\n",
    "  \"education\" : [\n",
    "    {\n",
    "      \"degree\":\"B.S degree\",\n",
    "      \"university\":\"Daehan university\",\n",
    "      \"major\": \"mechanical engineering\",\n",
    "      \"graduated year\":2010\n",
    "    }\n",
    "  ]\n",
    "} \n",
    "\n",
    "with open(\"data/person.json\", \"w\") as f:\n",
    "    json.dump(person , f)"
   ]
  },
  {
   "cell_type": "code",
   "execution_count": 40,
   "metadata": {},
   "outputs": [
    {
     "name": "stdout",
     "output_type": "stream",
     "text": [
      "{'first name': 'Yuna', 'last name': 'Jung', 'age': 33, 'nationality': 'South Korea', 'education': [{'degree': 'B.S degree', 'university': 'Daehan university', 'major': 'mechanical engineering', 'graduated year': 2010}]}\n"
     ]
    }
   ],
   "source": [
    "import json\n",
    "\n",
    "with open(\"data/person.json\", \"r\", encoding=\"utf-8\") as f:\n",
    "  contents = json.load(f)\n",
    "  print(contents)"
   ]
  },
  {
   "cell_type": "markdown",
   "metadata": {},
   "source": [
    "## 회고"
   ]
  },
  {
   "cell_type": "markdown",
   "metadata": {},
   "source": [
    "배우고 궁금한 것\n",
    "***"
   ]
  },
  {
   "cell_type": "markdown",
   "metadata": {},
   "source": [
    "어려웠는 것\n",
    "***"
   ]
  },
  {
   "cell_type": "markdown",
   "metadata": {},
   "source": [
    "시도한 것\n",
    "***"
   ]
  },
  {
   "cell_type": "markdown",
   "metadata": {},
   "source": [
    "실패한 것과 그 이유\n",
    "***"
   ]
  },
  {
   "cell_type": "markdown",
   "metadata": {},
   "source": [
    "## Ref\n"
   ]
  },
  {
   "cell_type": "markdown",
   "metadata": {},
   "source": [
    "|날짜|제목(링크)|내용|\n",
    "|:-:|:--------:|:--:|\n",
    "|20.03.08|[파이썬 인코딩과 디코딩](https://pertinency.blogspot.com/2020/03/blog-post.html?m=0)|그림 참고|\n",
    "|03.?.?|[Titus Is Testing Unicode Scriptmanagement](http://titus.uni-frankfurt.de/unicode/unitestx.htm)|유니코드 테이블|\n",
    "|19.01.01|[Unicode와 UTF-8 이해하기](https://jeongdowon.medium.com/unicode%EC%99%80-utf-8-%EA%B0%84%EB%8B%A8%ED%9E%88-%EC%9D%B4%ED%95%B4%ED%95%98%EA%B8%B0-b6aa3f7edf96)|Unicode와 UTF-8의 차이|\n",
    "|14.12.12|[UTF-8과 UTF-16 차이](https://jeongdowon.medium.com/unicode%EC%99%80-utf-8-%EA%B0%84%EB%8B%A8%ED%9E%88-%EC%9D%B4%ED%95%B4%ED%95%98%EA%B8%B0-b6aa3f7edf96)||\n",
    "|22.02.15|[regexr.com](https://regexr.com/#native_link#)|Regex를 연습해볼 수 있는 사이트|\n",
    "|?|[Beautiful Soup Documentation](https://www.crummy.com/software/BeautifulSoup/bs4/doc/#parsing-xml)|Beautiful Soup 사용 설명서|"
   ]
  }
 ],
 "metadata": {
  "kernelspec": {
   "display_name": "Python 3.8.9 64-bit",
   "language": "python",
   "name": "python3"
  },
  "language_info": {
   "codemirror_mode": {
    "name": "ipython",
    "version": 3
   },
   "file_extension": ".py",
   "mimetype": "text/x-python",
   "name": "python",
   "nbconvert_exporter": "python",
   "pygments_lexer": "ipython3",
   "version": "3.8.9"
  },
  "orig_nbformat": 4,
  "vscode": {
   "interpreter": {
    "hash": "31f2aee4e71d21fbe5cf8b01ff0e069b9275f58929596ceb00d14d90e3e16cd6"
   }
  }
 },
 "nbformat": 4,
 "nbformat_minor": 2
}
