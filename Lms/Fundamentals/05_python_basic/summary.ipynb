{
 "cells": [
  {
   "cell_type": "markdown",
   "metadata": {},
   "source": [
    "# 파이썬으로 코딩 시작하기"
   ]
  },
  {
   "cell_type": "markdown",
   "metadata": {},
   "source": [
    "변수, 자료구조, 제어구조, 함수, 클래스 등 파이썬을 이루는 핵심 개념들을 좀더 이론적으로 파악해 보고 이를 활용하는 실습문제를 풀어 본다."
   ]
  },
  {
   "cell_type": "markdown",
   "metadata": {},
   "source": [
    "- 파이썬으로 코딩 시작하기 🌞\n",
    "- 함수와 변수\n",
    "  - 함수 불러보기\n",
    "  - 변수 사용하기\n",
    "  - 새로운 함수를 정의하기\n",
    "  - 스코프: 변수의 유효 범위\n",
    "  - 함수에 인자 전달하기\n",
    "  - 함수에 인자 여러 개 한꺼번에 전달하기\n",
    "  - 함수의 결과로 값을 반환하기\n",
    "- 제어문\n",
    "  - `if`: 진실 혹은 거짓\n",
    "  - `while`: 조건이 참인 동안 반복\n",
    "  - `for`: 하나씩 반복\n",
    "- 자료형\n",
    "  - 정수_integer, `int`\n",
    "  - 부동소수점 수_floating-point number, `float`\n",
    "  - `NoneType`\n",
    "  - 불리언_boolean, `bool`\n",
    "  - 문자열_string, `str`\n",
    "  - 튜플과 리스트_`tuple`, `list`\n",
    "  - 딕셔너리_dictionary, `dict`\n",
    "- 마무리하기 🌜\n",
    "- 재귀함수와 치킨 (심화)\n",
    "- fibonacci (심화)\n",
    "- 더 빠르게! (심화)"
   ]
  },
  {
   "cell_type": "markdown",
   "metadata": {},
   "source": [
    "## 파이썬으로 코딩 시작하기 🌞"
   ]
  },
  {
   "cell_type": "markdown",
   "metadata": {},
   "source": [
    "- 프로그래밍의 기본 개념들을 이해\n",
    "  - 변수(variable)\n",
    "  - 함수(function)\n",
    "  - 연산자(operator)\n",
    "  - 제어문(control statements)\n",
    "  - 자료형(data types)\n",
    "- 오류 메시지를 읽고 이해\n",
    "- 코드를 이해하고 수정"
   ]
  },
  {
   "cell_type": "markdown",
   "metadata": {},
   "source": [
    "## 함수와 변수"
   ]
  },
  {
   "cell_type": "markdown",
   "metadata": {},
   "source": [
    "### 함수 불러보기"
   ]
  },
  {
   "cell_type": "markdown",
   "metadata": {},
   "source": [
    "함수 호출\n",
    "***"
   ]
  },
  {
   "cell_type": "markdown",
   "metadata": {},
   "source": [
    "![00](img/00.png)"
   ]
  },
  {
   "cell_type": "markdown",
   "metadata": {},
   "source": [
    "입출력값을 가지는 관계\n",
    "\n",
    "`f:x -> y` 또는 `f(x) = y`"
   ]
  },
  {
   "cell_type": "markdown",
   "metadata": {},
   "source": [
    "`print()` : 화면에 문자열을 표시해 주는 역할"
   ]
  },
  {
   "cell_type": "code",
   "execution_count": 2,
   "metadata": {},
   "outputs": [
    {
     "name": "stdout",
     "output_type": "stream",
     "text": [
      "\n",
      "1\n",
      "Hello\n",
      "<class 'str'>\n",
      "3\n",
      "Hello world!\n"
     ]
    }
   ],
   "source": [
    "print()\n",
    "print(1)\n",
    "print('Hello')\n",
    "print(type('Hello'))\n",
    "print(1 + 2)\n",
    "print('Hello ' + 'world!')"
   ]
  },
  {
   "cell_type": "markdown",
   "metadata": {},
   "source": [
    "프로그래밍 분야에서는 입력값을 주로 인자(argument)"
   ]
  },
  {
   "cell_type": "markdown",
   "metadata": {},
   "source": [
    "'' or \"\"으로 감싼 글자들의 한 묶음을 하나의 문자열(string) "
   ]
  },
  {
   "cell_type": "markdown",
   "metadata": {},
   "source": [
    "가지각색의 오류(bug)들을 앞으로 자주 마주"
   ]
  },
  {
   "cell_type": "markdown",
   "metadata": {},
   "source": [
    "### 변수 사용하기"
   ]
  },
  {
   "cell_type": "code",
   "execution_count": 3,
   "metadata": {},
   "outputs": [
    {
     "name": "stdout",
     "output_type": "stream",
     "text": [
      "안녕하세요?\n"
     ]
    }
   ],
   "source": [
    "greeting = '안녕하세요?' \n",
    "print(greeting) "
   ]
  },
  {
   "cell_type": "markdown",
   "metadata": {},
   "source": [
    "- 변수 : 어떤 관계나 범위 안에서 여러 가지 값으로 변할 수 있는 수 라고 정의\n",
    "\n",
    "[변수명] = [변숫값]과 같은 형식\n",
    "\n",
    "변수를 정의(define)하기 전에 먼저 사용하려고 하면 오류"
   ]
  },
  {
   "cell_type": "code",
   "execution_count": null,
   "metadata": {},
   "outputs": [],
   "source": [
    "#print(something)"
   ]
  },
  {
   "cell_type": "markdown",
   "metadata": {},
   "source": [
    "(not defined) 발생된 오류"
   ]
  },
  {
   "cell_type": "code",
   "execution_count": null,
   "metadata": {},
   "outputs": [],
   "source": [
    "greeting = '안녕하세요?'\n",
    "greeting = '안녕!'\n",
    "print(greeting)"
   ]
  },
  {
   "cell_type": "markdown",
   "metadata": {},
   "source": [
    "변수명을 재사용하게 될 경우 어떤 값을 가리키는지가 변함"
   ]
  },
  {
   "cell_type": "markdown",
   "metadata": {},
   "source": [
    "### 새로운 함수를 정의하기"
   ]
  },
  {
   "cell_type": "markdown",
   "metadata": {},
   "source": [
    "실행을 해도 함수를 정의할 뿐 함수 자체를 실행시키지는 않음"
   ]
  },
  {
   "cell_type": "code",
   "execution_count": 2,
   "metadata": {},
   "outputs": [
    {
     "name": "stdout",
     "output_type": "stream",
     "text": [
      "안녕!\n"
     ]
    }
   ],
   "source": [
    "def say_hi():\n",
    "  print('안녕!')\n",
    "say_hi()"
   ]
  },
  {
   "cell_type": "markdown",
   "metadata": {},
   "source": [
    " 일종의 예약어"
   ]
  },
  {
   "cell_type": "markdown",
   "metadata": {},
   "source": [
    "### 스코프: 변수의 유효 범위"
   ]
  },
  {
   "cell_type": "code",
   "execution_count": 3,
   "metadata": {},
   "outputs": [],
   "source": [
    "def say_goodbye():\n",
    "    goodbye = '잘 가!'\n",
    "\n",
    "#print(goodbye)"
   ]
  },
  {
   "cell_type": "markdown",
   "metadata": {},
   "source": [
    "함수 내부 변수 접근 X"
   ]
  },
  {
   "cell_type": "code",
   "execution_count": 4,
   "metadata": {},
   "outputs": [
    {
     "name": "stdout",
     "output_type": "stream",
     "text": [
      "하루\n",
      "시우\n"
     ]
    }
   ],
   "source": [
    "def say_name():\n",
    "    print(name)\n",
    "\n",
    "name = '하루'\n",
    "say_name()\n",
    "\n",
    "name = '시우'\n",
    "say_name()"
   ]
  },
  {
   "cell_type": "code",
   "execution_count": 5,
   "metadata": {},
   "outputs": [
    {
     "name": "stdout",
     "output_type": "stream",
     "text": [
      "하루\n"
     ]
    }
   ],
   "source": [
    "def change_name():\n",
    "    name = '시우'\n",
    "\n",
    "name = '하루'\n",
    "change_name()\n",
    "\n",
    "print(name)"
   ]
  },
  {
   "cell_type": "markdown",
   "metadata": {},
   "source": [
    "- 전역 스코프(global scope) : 내부를 포함해 코드 어디에서든 참조\n",
    "- 지역 스코프(local scope) : 내부에서만 참조"
   ]
  },
  {
   "cell_type": "markdown",
   "metadata": {},
   "source": [
    "### 함수에 인자 전달하기"
   ]
  },
  {
   "cell_type": "code",
   "execution_count": null,
   "metadata": {},
   "outputs": [],
   "source": [
    "def say_hi_somebody(name):\n",
    "  print(name + ', 안녕!')\n",
    "say_hi_somebody('준이')"
   ]
  },
  {
   "cell_type": "markdown",
   "metadata": {},
   "source": [
    "- 입력값으로 주어진 인자(argument) : 준이\n",
    "- 받는 변수를 매개변수(parameter) : name\n",
    "- 매개변수에 들어갈 인자 없이 살 수 없는 몸\n",
    "- 함수가 받을 매개변수의 기본값을 지정"
   ]
  },
  {
   "cell_type": "code",
   "execution_count": 6,
   "metadata": {},
   "outputs": [],
   "source": [
    "def say_hi_default(name='somebody'):\n",
    "    print('안녕, ' + name + '!')"
   ]
  },
  {
   "cell_type": "markdown",
   "metadata": {},
   "source": [
    "### 함수에 인자 여러 개 한꺼번에 전달하기"
   ]
  },
  {
   "cell_type": "code",
   "execution_count": 8,
   "metadata": {},
   "outputs": [
    {
     "name": "stdout",
     "output_type": "stream",
     "text": [
      "그리, 단테 안녕!\n"
     ]
    }
   ],
   "source": [
    "def say_hi_couple(name1='그리', name2='단테'):\n",
    "  print(name1 + ', ' + name2 + ' 안녕!')\n",
    "say_hi_couple('그리', '단테')"
   ]
  },
  {
   "cell_type": "markdown",
   "metadata": {},
   "source": [
    "기본값이 있는 인자들이 기본값이 없는 필수 인자들의 뒤에 와\n",
    "\n",
    "`SyntaxError`"
   ]
  },
  {
   "cell_type": "code",
   "execution_count": null,
   "metadata": {},
   "outputs": [],
   "source": [
    "def say_hi_couple_default(name1, name2='nobody'):\n",
    "    print(name1 + ', ' + name2 + ' 안녕!')"
   ]
  },
  {
   "cell_type": "markdown",
   "metadata": {},
   "source": [
    "### 함수의 결과로 값을 반환하기"
   ]
  },
  {
   "cell_type": "markdown",
   "metadata": {},
   "source": [
    "수가 실행된 뒤 그 결과를 가지고 무언가를 하고 싶다면, `return`"
   ]
  },
  {
   "cell_type": "code",
   "execution_count": 10,
   "metadata": {},
   "outputs": [
    {
     "name": "stdout",
     "output_type": "stream",
     "text": [
      "3\n",
      "6\n"
     ]
    }
   ],
   "source": [
    "def add_and_return(number1, number2):\n",
    "    print(number1 + number2)\n",
    "    return number1 + number2\n",
    "print(add_and_return(1, 2) + 3)"
   ]
  },
  {
   "cell_type": "code",
   "execution_count": null,
   "metadata": {},
   "outputs": [],
   "source": [
    "def print_two(word1, word2):\n",
    "    print(word1)\n",
    "    print(word2)\n",
    "\n",
    "def print_and_return(word1, word2, word3):\n",
    "    print_two(word3, word2)\n",
    "    return word1\n",
    "\n",
    "print_two('A', print_and_return('B', 'C', 'D'))"
   ]
  },
  {
   "cell_type": "markdown",
   "metadata": {},
   "source": [
    "출력 예측하기"
   ]
  },
  {
   "cell_type": "markdown",
   "metadata": {},
   "source": [
    "## 제어문"
   ]
  },
  {
   "cell_type": "markdown",
   "metadata": {},
   "source": [
    "- \"적절한 흐름\"에 따라서 조합하기\n",
    "- \"흐름을 제어(control)\"하는 방법"
   ]
  },
  {
   "cell_type": "markdown",
   "metadata": {},
   "source": [
    "### `if`: 진실 혹은 거짓"
   ]
  },
  {
   "cell_type": "markdown",
   "metadata": {},
   "source": [
    "입력값으로 주어진 숫자가 0 이상일 경우에만 화면에 숫자를 표시하는 함수"
   ]
  },
  {
   "cell_type": "code",
   "execution_count": 11,
   "metadata": {},
   "outputs": [
    {
     "name": "stdout",
     "output_type": "stream",
     "text": [
      "1\n"
     ]
    }
   ],
   "source": [
    "def print_if_positive(number):\n",
    "    if number >= 0:\n",
    "        print(number)\n",
    "#- 숫자가 0보다 크거나 같을(>=) 경우 즉, 0 이상일 경우에만 숫자를 출력합니다.\n",
    "\n",
    "print_if_positive(1)\n",
    "print_if_positive(-1)"
   ]
  },
  {
   "cell_type": "markdown",
   "metadata": {},
   "source": [
    "if 키워드 다음의 명제가 참일 때에만 실행\n",
    "\n",
    "- 비교 연산자(conditional operator)\n",
    "  - 초과, 미만, 이상, 이하, 같음, 다름\n",
    "- 그 이외의 경우(else)를 나타내는 else:\n",
    "- else if를 줄인 elif로 if 뒤, else 전에 새로운 조건문을 추가\n",
    "- 논리 연산자(logical operator)\n",
    "  - 그리고, 또는"
   ]
  },
  {
   "cell_type": "code",
   "execution_count": 12,
   "metadata": {},
   "outputs": [
    {
     "name": "stdout",
     "output_type": "stream",
     "text": [
      "+\n",
      "-\n"
     ]
    }
   ],
   "source": [
    "def print_whether_positive_or_negative(number):\n",
    "    if number >= 0:\n",
    "        print('+')\n",
    "    else:\n",
    "        print('-')\n",
    "#- 숫자가 0보다 크거나 같으면 +를, 작으면 -를 출력합니다.\n",
    "\n",
    "print_whether_positive_or_negative(1)\n",
    "print_whether_positive_or_negative(-1)"
   ]
  },
  {
   "cell_type": "code",
   "execution_count": 15,
   "metadata": {},
   "outputs": [
    {
     "name": "stdout",
     "output_type": "stream",
     "text": [
      "+\n",
      "0\n",
      "-\n"
     ]
    }
   ],
   "source": [
    "def print_whether_positive_or_negative_or_zero(number):\n",
    "    if number > 0:\n",
    "        print('+')\n",
    "    elif number == 0:\n",
    "        print('0')\n",
    "    else:\n",
    "        print('-')\n",
    "\n",
    "print_whether_positive_or_negative_or_zero(1)\n",
    "print_whether_positive_or_negative_or_zero(0)\n",
    "print_whether_positive_or_negative_or_zero(-1)"
   ]
  },
  {
   "cell_type": "code",
   "execution_count": 14,
   "metadata": {},
   "outputs": [
    {
     "name": "stdout",
     "output_type": "stream",
     "text": [
      "2\n"
     ]
    }
   ],
   "source": [
    "def print_if_positive_and_even(number):\n",
    "    if (number > 0) and (number % 2 == 0):\n",
    "        print(number)\n",
    "\n",
    "print_if_positive_and_even(1)\n",
    "print_if_positive_and_even(-1)\n",
    "print_if_positive_and_even(2)\n",
    "print_if_positive_and_even(-2)"
   ]
  },
  {
   "cell_type": "markdown",
   "metadata": {},
   "source": [
    "### `while`: 조건이 참인 동안 반복"
   ]
  },
  {
   "cell_type": "markdown",
   "metadata": {},
   "source": [
    "![fibonacci(4) 예시](img/04.png)"
   ]
  },
  {
   "cell_type": "markdown",
   "metadata": {},
   "source": [
    "fibonacci() 함수는 n번째 피보나치 수를 반환하는 함수"
   ]
  },
  {
   "cell_type": "code",
   "execution_count": 16,
   "metadata": {},
   "outputs": [
    {
     "name": "stdout",
     "output_type": "stream",
     "text": [
      "1\n",
      "1\n",
      "2\n",
      "3\n",
      "5\n",
      "8\n",
      "13\n",
      "21\n",
      "34\n",
      "55\n",
      "89\n",
      "144\n",
      "233\n",
      "377\n",
      "610\n",
      "987\n",
      "1597\n",
      "2584\n",
      "4181\n",
      "6765\n",
      "끝!\n"
     ]
    }
   ],
   "source": [
    "def fibonacci(n):\n",
    "    if n <= 2:\n",
    "        return 1\n",
    "    else:\n",
    "        return fibonacci(n-2) + fibonacci(n-1)\n",
    "\n",
    "n = 1\n",
    "while n <= 20:\n",
    "    print(fibonacci(n))\n",
    "    n = n + 1\n",
    "print('끝!')"
   ]
  },
  {
   "cell_type": "markdown",
   "metadata": {},
   "source": [
    "무한 루프(infinite loop)"
   ]
  },
  {
   "cell_type": "markdown",
   "metadata": {},
   "source": [
    "### `for`: 하나씩 반복"
   ]
  },
  {
   "cell_type": "markdown",
   "metadata": {},
   "source": [
    "반복 가능한(iterable, 이터러블) 객체"
   ]
  },
  {
   "cell_type": "code",
   "execution_count": 17,
   "metadata": {},
   "outputs": [
    {
     "name": "stdout",
     "output_type": "stream",
     "text": [
      "H\n",
      "e\n",
      "l\n",
      "l\n",
      "o\n"
     ]
    }
   ],
   "source": [
    "for character in 'Hello':\n",
    "    print(character)"
   ]
  },
  {
   "cell_type": "markdown",
   "metadata": {},
   "source": [
    "## 자료형"
   ]
  },
  {
   "cell_type": "markdown",
   "metadata": {},
   "source": [
    "숫자(0, 1, 2, ...)와 문자열('Hi', 'Hello')\n",
    "\n",
    "숫자와 문자열 외에도 다양한 종류의 '값'들이 있으며, 이러한 종류 하나하나를 자료형(data type) "
   ]
  },
  {
   "cell_type": "code",
   "execution_count": 18,
   "metadata": {},
   "outputs": [
    {
     "name": "stdout",
     "output_type": "stream",
     "text": [
      "<class 'int'>\n"
     ]
    }
   ],
   "source": [
    "print(type(1))"
   ]
  },
  {
   "cell_type": "markdown",
   "metadata": {},
   "source": [
    "### 정수_integer, `int`"
   ]
  },
  {
   "cell_type": "markdown",
   "metadata": {},
   "source": [
    "64비트 컴퓨터의 경우 기본적으로 64비트의 공간에 하나의 숫자를 저장할 수 있음\n",
    "\n",
    "숫자가 커지면 알아서 메모리를 더 사용하기에 안심"
   ]
  },
  {
   "cell_type": "code",
   "execution_count": 19,
   "metadata": {},
   "outputs": [
    {
     "name": "stdout",
     "output_type": "stream",
     "text": [
      "1000000000000000000000000000000\n"
     ]
    }
   ],
   "source": [
    "number = 1000 ** 10\n",
    "print(number)"
   ]
  },
  {
   "cell_type": "markdown",
   "metadata": {},
   "source": [
    "### 부동소수점 수_floating##point number, `float`"
   ]
  },
  {
   "cell_type": "markdown",
   "metadata": {},
   "source": [
    "정수를 제외한 실수"
   ]
  },
  {
   "cell_type": "code",
   "execution_count": 20,
   "metadata": {},
   "outputs": [
    {
     "name": "stdout",
     "output_type": "stream",
     "text": [
      "<class 'float'>\n"
     ]
    }
   ],
   "source": [
    "print(type(1.0))"
   ]
  },
  {
   "cell_type": "markdown",
   "metadata": {},
   "source": [
    "정수와 소수를 더하면 그 결과가 정수로 표현\n",
    "\n",
    "각각 자료형 이름을 함수로"
   ]
  },
  {
   "cell_type": "code",
   "execution_count": null,
   "metadata": {},
   "outputs": [],
   "source": [
    "print(float(1))\n",
    "print(type(float(1)))\n",
    "print(int(1.0))\n",
    "-print(type(int(1.0)))"
   ]
  },
  {
   "cell_type": "markdown",
   "metadata": {},
   "source": [
    "- 부동소수점 수(floating point number, 줄여서 float)\n",
    "- 고정소수점 수(fixed point number)\n",
    "\n",
    "[부동소수점 코딩 설명](https://velog.io/@thms200/%EB%B6%80%EB%8F%99%EC%86%8C%EC%88%98%EC%A0%90-0.1-0.1-02-jbk5jrde3a)"
   ]
  },
  {
   "cell_type": "markdown",
   "metadata": {},
   "source": [
    "### `NoneType`"
   ]
  },
  {
   "cell_type": "markdown",
   "metadata": {},
   "source": [
    "아무것도 없음을 뜻하는 None이 바로 그 값"
   ]
  },
  {
   "cell_type": "markdown",
   "metadata": {},
   "source": [
    "![그렇습니다. 휴지심조차 없는 상태가 `None`입니다.](img/02.jpeg)"
   ]
  },
  {
   "cell_type": "markdown",
   "metadata": {},
   "source": [
    "프로그램 실행 타이밍에 정의되지 않은 어떤 것이 발생했다고 할 때, 그 어떤 것으로도 정의되지 않는 유형"
   ]
  },
  {
   "cell_type": "code",
   "execution_count": null,
   "metadata": {},
   "outputs": [],
   "source": [
    "def get_mobile_phonenum(value):\n",
    "  if len(value) >= 11:     # 010XXXXYYYY 의 길이는 11 이상\n",
    "    #return (value)"
   ]
  },
  {
   "cell_type": "markdown",
   "metadata": {},
   "source": [
    "### 불리언_boolean, `bool`"
   ]
  },
  {
   "cell_type": "markdown",
   "metadata": {},
   "source": [
    "두 가지 값만 존재 : 참(True)과 거짓(False)."
   ]
  },
  {
   "cell_type": "code",
   "execution_count": null,
   "metadata": {},
   "outputs": [],
   "source": [
    "print(not True)\n",
    "print(not not True)\n",
    "print(bool(None))\n",
    "print(bool(0))\n",
    "print(bool(1.1))"
   ]
  },
  {
   "cell_type": "markdown",
   "metadata": {},
   "source": [
    "### 문자열_string, `str`"
   ]
  },
  {
   "cell_type": "markdown",
   "metadata": {},
   "source": [
    "지금까지 잘 써온 문자열(string)\n",
    "\n",
    "따옴표 또는 쌍따옴표로 감싸야"
   ]
  },
  {
   "cell_type": "code",
   "execution_count": null,
   "metadata": {},
   "outputs": [],
   "source": [
    "print('He said, \"spam.\"')\n",
    "print('Quote(\\') and double quote(\\\")')\n",
    "print('Hello ' 'June')\n",
    "print(\"\"\"Line 1\n",
    "Line2\"\"\")\n"
   ]
  },
  {
   "cell_type": "markdown",
   "metadata": {},
   "source": [
    "- 컨테이너(container) 자료형\n",
    "- 값들이 순서대로 들어있는 반복 가능한 객체 중에서도 유한한 길이를 갖는 자료형\n",
    "- 인덱스(index) 에 해당하는 값만 쏙 뽑아올 수 있음"
   ]
  },
  {
   "cell_type": "code",
   "execution_count": null,
   "metadata": {},
   "outputs": [],
   "source": [
    "message = 'Hello'\n",
    "print(message[1]) # 순서\n",
    "print(message[-1]) # 뒤에서의 순서\n",
    "print(message[0:4]) # 슬라이스(slice)\n",
    "print(message[2:]) # 생략\n",
    "print(message[::1])  # 기본 (한 칸 씩)\n",
    "print(message[:-1:1])  # 기본 (한 칸 씩)\n",
    "print(message[::2])  # 두 칸 씩"
   ]
  },
  {
   "cell_type": "markdown",
   "metadata": {},
   "source": [
    "### 튜플과 리스트_`tuple`, `list`"
   ]
  },
  {
   "cell_type": "markdown",
   "metadata": {},
   "source": [
    "또 다른 컨테이너 자료형[튜플(tuple)과 리스트(list)]\n",
    "\n",
    "숫자만 들어가라는 법은 없고, 문자든 어떤 값이든 넣어도 됨"
   ]
  },
  {
   "cell_type": "code",
   "execution_count": 21,
   "metadata": {},
   "outputs": [
    {
     "name": "stdout",
     "output_type": "stream",
     "text": [
      "Hello\n",
      "0\n",
      "True\n"
     ]
    }
   ],
   "source": [
    "mixed_tuple = ('Hello', 0, True)\n",
    "for mix in mixed_tuple:\n",
    "    print(mix)\n",
    "\n",
    "nested_tuple = ((1, 2), (3, 4))\n",
    "print(nested_tuple[1][0])\n",
    "\n",
    "tuple_a = (1, 2)\n",
    "tuple_b = (3, 4)\n",
    "print(tuple_a + tuple_b)\n",
    "\n",
    "tuple_abc = ('a', 'b', 'c')\n",
    "print('a' in tuple_abc)\n",
    "print('d' in tuple_abc)]"
   ]
  },
  {
   "cell_type": "code",
   "execution_count": null,
   "metadata": {},
   "outputs": [],
   "source": [
    "list_123 = [1, 2, 3]\n",
    "list_123[0] = 0\n",
    "print(list_123)\n",
    "\n",
    "list_123 = [1, 2, 3]\n",
    "list_123.append(4) # 추가\n",
    "print(list_123)\n",
    "\n",
    "list_123.remove(4) # 삭제\n",
    "print(list_123)\n",
    "\n",
    "list_123.pop(0) # 순서대로 뽑기\n",
    "print(list_123)"
   ]
  },
  {
   "cell_type": "markdown",
   "metadata": {},
   "source": [
    "### 딕셔너리_dictionary, `dict`"
   ]
  },
  {
   "cell_type": "markdown",
   "metadata": {},
   "source": [
    "딕셔너리(dictionary)도 값을 여러 개 포함하는 컨테이너 자료형의 일종"
   ]
  },
  {
   "cell_type": "code",
   "execution_count": null,
   "metadata": {},
   "outputs": [],
   "source": [
    "conductor = {'first_name': '단테', 'last_name': '안'}\n",
    "print(conductor['first_name'])"
   ]
  },
  {
   "cell_type": "markdown",
   "metadata": {},
   "source": [
    "'first_name'와 'last_name'은 각각 인덱스 또는 딕셔너리의 키(key)들이고, '단테'와 '안'은 각각 해당 키의 값(value)'\n",
    "\n",
    "항목 별로 쌍점(:)을 써서 키와 값"
   ]
  },
  {
   "cell_type": "code",
   "execution_count": null,
   "metadata": {},
   "outputs": [],
   "source": [
    "for key in conductor:\n",
    "    print(key)\n",
    "\n",
    "for key, value in conductor.items():\n",
    "    print(key + ' : ' + value)"
   ]
  },
  {
   "cell_type": "markdown",
   "metadata": {},
   "source": [
    "## 마무리하기 🌜"
   ]
  },
  {
   "cell_type": "markdown",
   "metadata": {},
   "source": [
    "- 함수(function): 불려진 시점에 특정한 작업을 수행하며, 입력값과 출력값(반환값)\n",
    "  - 인자(argument): 함수를 호출할 때 전달하는 입력값\n",
    "  - 매개변수(parameter): 함수가 실행될 때 입력값이 들어올 변수\n",
    "  - 반환값(return value): 함수가 종료될 때 호출 지점으로 전달할 출력값\n",
    "- 변수(variable): 값을 가리키는 이름\n",
    "  - 스코프(scope): 변수가 유효한 범위\n",
    "- 연산자(operator): 주어진 값들에 대해 정해진 연산을 수행\n",
    "  - 수리 연산자(mathematical operator): +, -, *, /, //, **\n",
    "  - 비교 연산자(comparison operator): ==, !=, <, >, <=, >=, is\n",
    "  - 논리 연산자(logical operator): and, or\n",
    "  - 소속 연산자(membership operator): in\n",
    "- 제어문(control statements): 코드 블록의 흐름(실행 여부, 반복)을 제어\n",
    "  - if: 명제가 참이면 실행합니다.\n",
    "  - else: if 명제 이외의 경우에 실행합니다.\n",
    "  - elif: if 명제 이외의 경우에 또 다른 명제가 참일 경우에 실행합니다.\n",
    "  - while: 명제가 참일 동안 반복합니다.\n",
    "  - for: 주어진 값들 하나씩 반복합니다.\n",
    "- 자료형(data types): 값들의 종류\n",
    "  - 정수(int), 부동소수점 수(float), 불리언(bool), 문자열(str), 튜플(tuple), 리스트(list), 딕셔너리(dict)"
   ]
  },
  {
   "cell_type": "markdown",
   "metadata": {},
   "source": [
    "## 재귀함수와 치킨 (심화)"
   ]
  },
  {
   "cell_type": "markdown",
   "metadata": {},
   "source": [
    "재귀함수(recursive function) : 함수 내에서 그 함수 스스로를 사용하는 인셉션 같은 함수 종류"
   ]
  },
  {
   "cell_type": "markdown",
   "metadata": {},
   "source": [
    "## fibonacci (심화)"
   ]
  },
  {
   "cell_type": "markdown",
   "metadata": {},
   "source": [
    "## 더 빠르게! (심화)"
   ]
  },
  {
   "cell_type": "code",
   "execution_count": null,
   "metadata": {},
   "outputs": [],
   "source": [
    "memory = {1: 1, 2: 1}\n",
    "\n",
    "def fibonacci(n):\n",
    "    if n in memory:\n",
    "        number = memory[n]\n",
    "    else:\n",
    "       number = fibonacci(n-1) + fibonacci(n-2)\n",
    "       memory[n] = number\n",
    "    return number\n",
    "\n",
    "print(fibonacci(100))\n",
    "\n",
    "print(memory)"
   ]
  },
  {
   "cell_type": "markdown",
   "metadata": {},
   "source": [
    "프로그래밍에서 이렇게 중간 계산 값을 기억해놓고, 다시 계산하는 대신 값을 바로 읽어 쓰는 방식으로 계산 시간을 줄이는 기법을 메모이제이션(memoization)"
   ]
  },
  {
   "cell_type": "markdown",
   "metadata": {},
   "source": [
    "# 코드 블록"
   ]
  },
  {
   "cell_type": "markdown",
   "metadata": {},
   "source": [
    "# 중요"
   ]
  },
  {
   "cell_type": "markdown",
   "metadata": {},
   "source": [
    "# 링크"
   ]
  },
  {
   "cell_type": "markdown",
   "metadata": {},
   "source": [
    "# 이미지"
   ]
  }
 ],
 "metadata": {
  "kernelspec": {
   "display_name": "Python 3.8.9 64-bit",
   "language": "python",
   "name": "python3"
  },
  "language_info": {
   "codemirror_mode": {
    "name": "ipython",
    "version": 3
   },
   "file_extension": ".py",
   "mimetype": "text/x-python",
   "name": "python",
   "nbconvert_exporter": "python",
   "pygments_lexer": "ipython3",
   "version": "3.8.9"
  },
  "orig_nbformat": 4,
  "vscode": {
   "interpreter": {
    "hash": "31f2aee4e71d21fbe5cf8b01ff0e069b9275f58929596ceb00d14d90e3e16cd6"
   }
  }
 },
 "nbformat": 4,
 "nbformat_minor": 2
}
