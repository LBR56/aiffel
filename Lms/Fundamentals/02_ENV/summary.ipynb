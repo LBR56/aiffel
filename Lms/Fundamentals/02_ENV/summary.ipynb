{
 "cells": [
  {
   "cell_type": "markdown",
   "metadata": {},
   "source": [
    "# 인공지능 개발자가 되기 위한 위대한 첫 걸음"
   ]
  },
  {
   "cell_type": "markdown",
   "metadata": {},
   "source": [
    "실습 진행 환경인 Ubuntu, Python, Tensorflow 등에 대해 직관적으로 이해하고, Anaconda를 활용하여 나만의 실습환경 구성을 완료한다l"
   ]
  },
  {
   "cell_type": "markdown",
   "metadata": {},
   "source": [
    "- 인공지능 개발자가 되기 위한 위대한 첫 걸음 \n",
    "- 까만 화면에 흰 글씨, 해커만 쓰는 거 아니냐고? 나도 쓸 수 있다! \n",
    "- 터미널을 자유자재로, 내 친구 삼기 \n",
    "- Terminal, 또 무엇을 할 수 있을까? \n",
    "- 가상환경으로 패키지를 조금 더 유연하게 관리해보자 \n",
    "- 마무리 "
   ]
  },
  {
   "cell_type": "markdown",
   "metadata": {},
   "source": [
    "## 인공지능 개발자가 되기 위한 위대한 첫 걸음 "
   ]
  },
  {
   "cell_type": "markdown",
   "metadata": {},
   "source": [
    "`클라우드 컨테이너` 를 제공\n",
    "\n",
    "> 💡 잠깐 컨테이너가 뭐지?\n",
    ">\n",
    "> 컨테이너는 가상머신보다는 더 가볍고 효율적 & \"일회용 가상컴퓨터\"\n",
    "\n",
    "개발 환경\n",
    "\n",
    "- Ubuntu 20.04.3\n",
    "- Python 3.9.7\n",
    "- TensorFlow 2.6.0"
   ]
  },
  {
   "cell_type": "markdown",
   "metadata": {},
   "source": [
    "Ubuntu 20.04\n",
    "***\n",
    "리눅스 기반으로 만들어진 운영 체제\n",
    "\n",
    "[운영체제(Operating System : OS)란 ? 운영체제 종류와 목적, OS 정복](https://jhnyang.tistory.com/16)\n",
    "\n",
    "- 컴퓨터의 하드웨어를 관리하는 역할\n",
    "- 작업 관리, 데이터 관리, 프로그램 제어 등\n",
    "- 편리하고 효율적으로 컴퓨터 자원을 사용하도록 도와주는 프로그램\n",
    "\n",
    "대표적인 OS\n",
    "\n",
    "마이크로소프트에서 만든 Windows, 애플에서 만든 MacOS, 그리고 리눅스 토발즈가 만든 Linux\n",
    "\n",
    "[Ubuntu(우분투)란? 무엇인가](https://dongdong-2.tistory.com/17)\n",
    "\n",
    "- 20년도 4월 출시"
   ]
  },
  {
   "cell_type": "markdown",
   "metadata": {},
   "source": [
    "Python 3.9.7\n",
    "***\n",
    "`프로그래밍 언어`\n",
    "\n",
    "[연봉 높은 프로그래밍 언어 TOP 5. 그 이유는?](https://www.youtube.com/watch?v=j5ogDOuqXqg)\n",
    "\n",
    "- 특정한 목적을 위한 언어 == 높은 연봉\n",
    "- 다양한 목적을 수행할 수 있는 언어 == 초심자 추천 \n",
    "\n",
    "파이썬이 \"오브젝트(object) 중심의 언어\"\n",
    "\n",
    "소수점 이하 숫자가 바뀌는 것은 작은 변화를, 앞자리가 바뀌는 것은 큰 변화"
   ]
  },
  {
   "cell_type": "markdown",
   "metadata": {},
   "source": [
    "TensorFlow 2.6.0\n",
    "***\n",
    "머신러닝/딥러닝에 특화된 라이브러리\n",
    "\n",
    "라이브러리란, 특정 기능을 위한 여러 함수 또는 클래스를 담고 있는 보따리\n",
    "\n",
    "비슷한 개념의 단어로는 패키지(package), 모듈(module) \n",
    "\n",
    "공식 사이트\n",
    "\n",
    "[Effective TensorFlow 2 | TensorFlow Core](https://www.tensorflow.org/guide/effective_tf2)\n",
    "\n",
    "가장 중요한 흐름은 훨씬 직관적이면서도 편리해졌다는 점"
   ]
  },
  {
   "cell_type": "markdown",
   "metadata": {},
   "source": [
    "즉, 우리는 우분투라는 운영체제 안에서 파이썬이라는 프로그래밍 언어로, 텐서플로우라는 딥러닝 프레임워크를 써서 여러가지를 배워나갈 예정"
   ]
  },
  {
   "cell_type": "markdown",
   "metadata": {},
   "source": [
    "## 까만 화면에 흰 글씨, 해커만 쓰는 거 아니냐고? 나도 쓸 수 있다! "
   ]
  },
  {
   "cell_type": "markdown",
   "metadata": {},
   "source": [
    "![터미널(MacOS), 출처 위키백과](img/00.png)"
   ]
  },
  {
   "cell_type": "markdown",
   "metadata": {},
   "source": [
    "제공받은 가상 컴퓨터인 컨테이너를 제어할 수 있음\n",
    "\n",
    "CLI(Command Line Interface)라고 부름\n",
    "\n",
    "눈으로 확인하며 작업할 수 있는 환경은 GUI(Graphical User Interface)"
   ]
  },
  {
   "cell_type": "markdown",
   "metadata": {},
   "source": [
    "더욱 복잡한 코드를 다루기 IDE(Integrated Development Environment) 통합 개발 환경의 줄임말\n",
    "\n",
    "[12 Best Python IDEs and Code Editors in 2022](https://www.softwaretestinghelp.com/python-ide-code-editors/)\n",
    "\n",
    "IDE를 통해서 많이 작성하게 되실 것"
   ]
  },
  {
   "cell_type": "markdown",
   "metadata": {},
   "source": [
    "## 터미널을 자유자재로, 내 친구 삼기 "
   ]
  },
  {
   "cell_type": "markdown",
   "metadata": {},
   "source": [
    "[Command Line 시작하기](https://tutorial.djangogirls.org/ko/intro_to_command_line/)"
   ]
  },
  {
   "cell_type": "markdown",
   "metadata": {},
   "source": [
    "> 💡 터미널(terminal), 쉘(shell)? 무슨 차이지?\n",
    ">\n",
    "> 터미널 위에 쉘이 실행되는 것. 터미널이 TV라면 쉘은 방송\n",
    ">\n",
    "> 터미널과 쉘에 대해서 더 궁금하시다면 해당 링크를 참고해 주세요! [터미널, 콘솔, 쉘의 차이점](https://blog.naver.com/asianchairshot/221383363419)"
   ]
  },
  {
   "cell_type": "code",
   "execution_count": 3,
   "metadata": {},
   "outputs": [
    {
     "name": "stdout",
     "output_type": "stream",
     "text": [
      "main\n"
     ]
    }
   ],
   "source": [
    "!whoami"
   ]
  },
  {
   "cell_type": "code",
   "execution_count": 4,
   "metadata": {},
   "outputs": [
    {
     "name": "stdout",
     "output_type": "stream",
     "text": [
      "/Users/main/Desktop/temp/Lms/Fundamentals/02_ENV\n"
     ]
    }
   ],
   "source": [
    "!pwd"
   ]
  },
  {
   "cell_type": "markdown",
   "metadata": {},
   "source": [
    "바로 클라우드 컨테이너의 Home 디렉토리이며 ~ 라는 약어로 나타내기도 합니다. 참고로, 디렉토리(Directory)"
   ]
  },
  {
   "cell_type": "code",
   "execution_count": 5,
   "metadata": {},
   "outputs": [
    {
     "name": "stdout",
     "output_type": "stream",
     "text": [
      "README.ipynb  \u001b[1m\u001b[36mimg\u001b[m\u001b[m           summary.ipynb\n"
     ]
    }
   ],
   "source": [
    "!ls"
   ]
  },
  {
   "cell_type": "markdown",
   "metadata": {},
   "source": [
    "현재 폴더에 어떤 파일 또는 다른 폴더가 있는지 보기 위해서는 ls 명령어"
   ]
  },
  {
   "cell_type": "code",
   "execution_count": 6,
   "metadata": {},
   "outputs": [
    {
     "name": "stdout",
     "output_type": "stream",
     "text": [
      "total 48\n",
      "drwxr-xr-x   6 main  staff   192 Aug  7 18:48 \u001b[1m\u001b[36m.\u001b[m\u001b[m\n",
      "drwxr-xr-x  14 main  staff   448 Aug  5 20:13 \u001b[1m\u001b[36m..\u001b[m\u001b[m\n",
      "-rw-r--r--@  1 main  staff  6148 Jul 27 10:38 .DS_Store\n",
      "-rw-r--r--   1 main  staff  9190 Aug  2 17:04 README.ipynb\n",
      "drwxr-xr-x   3 main  staff    96 Jul 27 10:57 \u001b[1m\u001b[36mimg\u001b[m\u001b[m\n",
      "-rw-r--r--   1 main  staff  2282 Aug  7 18:50 summary.ipynb\n"
     ]
    }
   ],
   "source": [
    "!ls -al"
   ]
  },
  {
   "cell_type": "markdown",
   "metadata": {},
   "source": [
    "- a 숨긴파일 확인\n",
    "- l 자세한 정보 출력\n",
    "\n",
    "[리눅스 ls -l 명령어 - 파일 정보 확인과 의미](https://www.leafcats.com/137)"
   ]
  },
  {
   "cell_type": "code",
   "execution_count": 15,
   "metadata": {},
   "outputs": [],
   "source": [
    "!cd .."
   ]
  },
  {
   "cell_type": "code",
   "execution_count": 22,
   "metadata": {},
   "outputs": [],
   "source": [
    "!mkdir -p test/test"
   ]
  },
  {
   "cell_type": "markdown",
   "metadata": {},
   "source": [
    "폴더 만들기"
   ]
  },
  {
   "cell_type": "code",
   "execution_count": 23,
   "metadata": {},
   "outputs": [],
   "source": [
    "!rm -rf test"
   ]
  },
  {
   "cell_type": "markdown",
   "metadata": {},
   "source": [
    "폴더 삭제\n",
    "\n",
    "- r 재귀(반복)\n",
    "- f 강제"
   ]
  },
  {
   "cell_type": "code",
   "execution_count": 19,
   "metadata": {},
   "outputs": [],
   "source": [
    "!mv img/00.png img/00.png"
   ]
  },
  {
   "cell_type": "markdown",
   "metadata": {},
   "source": [
    "이동"
   ]
  },
  {
   "cell_type": "code",
   "execution_count": 20,
   "metadata": {},
   "outputs": [],
   "source": [
    "!cp -r img img2 "
   ]
  },
  {
   "cell_type": "markdown",
   "metadata": {},
   "source": [
    "복사"
   ]
  },
  {
   "cell_type": "code",
   "execution_count": 21,
   "metadata": {},
   "outputs": [],
   "source": [
    "!rm -rf img2"
   ]
  },
  {
   "cell_type": "markdown",
   "metadata": {},
   "source": [
    "## Terminal, 또 무엇을 할 수 있을까? "
   ]
  },
  {
   "cell_type": "markdown",
   "metadata": {},
   "source": [
    "> LMS를 쓸 때도 매번 패키지를 관리\n",
    ">\n",
    "> 커널 초기화시 설치한 패키지는 유지되지 않음"
   ]
  },
  {
   "cell_type": "markdown",
   "metadata": {},
   "source": [
    "패키지(Package) 란, 간단히 말해서 특정 기능을 하는 작은 프로그램 단위\n",
    "\n",
    "[Ubuntu apt-get 명령어 사용법](https://codechacha.com/ko/linux-apt-commands/)"
   ]
  },
  {
   "cell_type": "code",
   "execution_count": 26,
   "metadata": {},
   "outputs": [
    {
     "name": "stdout",
     "output_type": "stream",
     "text": [
      "Password:\n",
      "sudo: a password is required\n"
     ]
    }
   ],
   "source": [
    "#!sudo apt list --installed\n",
    "#!sudo apt-get update\n",
    "#!sudo apt-get upgrade\n",
    "#!sudo apt-get install -y cmatrix\n",
    "#!cmatrix\n",
    "#!sudo apt-get remove cmatrix"
   ]
  },
  {
   "cell_type": "markdown",
   "metadata": {},
   "source": [
    "## 가상환경으로 패키지를 조금 더 유연하게 관리해보자 "
   ]
  },
  {
   "cell_type": "markdown",
   "metadata": {},
   "source": [
    "[파이썬 코딩 도장](https://dojang.io/mod/page/view.php?id=2470)\n",
    "\n",
    "- 패키지(package) 특정 기능을 위한 여러 함수 또는 클래스를 담고 있는 보따리로서, 라이브러리(library), 모듈(module)과 비슷한 개념 (다만 모듈은 조금 더 작은 개념으로 쓰이기도 함)\n",
    "- 가상환경(virtual environment) 컴퓨터에 설치된 패키지 간의 충돌 또는 패키지 버전에 의한 이슈 등을 방지하기 위해 가상으로 나누어서 사용하는 환경 즉, 특정 프로그램을 돌리기 위해 필요한 패키지들을 모아 만든 각각의 독립된 방과 같은 개념"
   ]
  },
  {
   "cell_type": "markdown",
   "metadata": {},
   "source": [
    "[Ubuntu 20.04 - Anaconda 설치 및 가상환경 구축](https://mishuni.tistory.com/118)\n",
    "\n",
    "[Create virtual environments for python with conda](https://uoa-eresearch.github.io/eresearch-cookbook/recipe/2014/11/20/conda/)"
   ]
  },
  {
   "cell_type": "code",
   "execution_count": null,
   "metadata": {},
   "outputs": [],
   "source": [
    "#!conda create -n my_env_name python=3.9.7\n",
    "#!conda init\n",
    "#!conda activate my_env_name\n",
    "#!conda env list\n",
    "#!conda deactivate\n",
    "#!conda env remove -n my_env_name"
   ]
  },
  {
   "cell_type": "markdown",
   "metadata": {},
   "source": [
    "[Conda Cheat Sheet](https://docs.conda.io/projects/conda/en/4.6.0/_downloads/52a95608c49671267e40c689e0bc00ca/conda-cheatsheet.pdf)"
   ]
  },
  {
   "cell_type": "markdown",
   "metadata": {},
   "source": [
    "## 마무리 "
   ]
  },
  {
   "cell_type": "markdown",
   "metadata": {},
   "source": [
    "Step 1. 인공지능 개발자가 되기 위한 위대한 첫 걸음 에서는 운영 체제와 개발 환경에 대한 개념을 익히고, Ubuntu, Python, Tensorflow 등에 대해 알아보았습니다.\n",
    "\n",
    "Step 2. 까만 화면에 흰 글씨, 해커만 쓰는 거 아니냐고? 나도 쓸 수 있다! 에서는 CLI의 개념을 배우고, 터미널에서 Python을 실행해보았죠. IDE도 배웠습니다!\n",
    "\n",
    "Step 3. 터미널을 자유자재로, 내 친구 삼기 에서는 Linux 터미널에서 사용하는 명령어를 익히고 CLI 환경에 조금 더 익숙해졌습니다.\n",
    "\n",
    "Step 4. Terminal, 또 무엇을 할 수 있을까? 에서는 명령어를 이용해 패키지를 설치하고 실행하는 법을 배웠습니다.\n",
    "\n",
    "Step 5. 가상환경으로 패키지를 조금 더 유연하게 관리해보자 에서는 가상환경의 개념과 필요성을 알아보고, 설치해서 가상환경을 만들어보았습니다."
   ]
  },
  {
   "cell_type": "markdown",
   "metadata": {},
   "source": [
    "# 코드 블록"
   ]
  },
  {
   "cell_type": "code",
   "execution_count": null,
   "metadata": {},
   "outputs": [],
   "source": [
    "!whoami"
   ]
  },
  {
   "cell_type": "code",
   "execution_count": null,
   "metadata": {},
   "outputs": [],
   "source": [
    "!pwd"
   ]
  },
  {
   "cell_type": "code",
   "execution_count": null,
   "metadata": {},
   "outputs": [],
   "source": [
    "!ls"
   ]
  },
  {
   "cell_type": "code",
   "execution_count": null,
   "metadata": {},
   "outputs": [],
   "source": [
    "!ls -al"
   ]
  },
  {
   "cell_type": "code",
   "execution_count": null,
   "metadata": {},
   "outputs": [],
   "source": [
    "!cd .."
   ]
  },
  {
   "cell_type": "code",
   "execution_count": null,
   "metadata": {},
   "outputs": [],
   "source": [
    "!mkdir -p test/test"
   ]
  },
  {
   "cell_type": "code",
   "execution_count": null,
   "metadata": {},
   "outputs": [],
   "source": [
    "!rm -rf test"
   ]
  },
  {
   "cell_type": "code",
   "execution_count": null,
   "metadata": {},
   "outputs": [],
   "source": [
    "!mv img/00.png img/00.png"
   ]
  },
  {
   "cell_type": "code",
   "execution_count": null,
   "metadata": {},
   "outputs": [],
   "source": [
    "!cp -r img img2 "
   ]
  },
  {
   "cell_type": "code",
   "execution_count": null,
   "metadata": {},
   "outputs": [],
   "source": [
    "!rm -rf img2"
   ]
  },
  {
   "cell_type": "code",
   "execution_count": null,
   "metadata": {},
   "outputs": [],
   "source": [
    "#!sudo apt list --installed\n",
    "#!sudo apt-get update\n",
    "#!sudo apt-get upgrade\n",
    "#!sudo apt-get install -y cmatrix\n",
    "#!cmatrix\n",
    "#!sudo apt-get remove cmatrix"
   ]
  },
  {
   "cell_type": "code",
   "execution_count": null,
   "metadata": {},
   "outputs": [],
   "source": [
    "#!conda create -n my_env_name python=3.9.7\n",
    "#!conda init\n",
    "#!conda activate my_env_name\n",
    "#!conda env list\n",
    "#!conda deactivate\n",
    "#!conda env remove -n my_env_name"
   ]
  },
  {
   "cell_type": "markdown",
   "metadata": {},
   "source": [
    "# 중요"
   ]
  },
  {
   "cell_type": "markdown",
   "metadata": {},
   "source": [
    "Step 1. 인공지능 개발자가 되기 위한 위대한 첫 걸음 에서는 운영 체제와 개발 환경에 대한 개념을 익히고, Ubuntu, Python, Tensorflow 등에 대해 알아보았습니다.\n",
    "\n",
    "Step 2. 까만 화면에 흰 글씨, 해커만 쓰는 거 아니냐고? 나도 쓸 수 있다! 에서는 CLI의 개념을 배우고, 터미널에서 Python을 실행해보았죠. IDE도 배웠습니다!\n",
    "\n",
    "Step 3. 터미널을 자유자재로, 내 친구 삼기 에서는 Linux 터미널에서 사용하는 명령어를 익히고 CLI 환경에 조금 더 익숙해졌습니다.\n",
    "\n",
    "Step 4. Terminal, 또 무엇을 할 수 있을까? 에서는 명령어를 이용해 패키지를 설치하고 실행하는 법을 배웠습니다.\n",
    "\n",
    "Step 5. 가상환경으로 패키지를 조금 더 유연하게 관리해보자 에서는 가상환경의 개념과 필요성을 알아보고, 설치해서 가상환경을 만들어보았습니다."
   ]
  },
  {
   "cell_type": "markdown",
   "metadata": {},
   "source": [
    "# 링크"
   ]
  },
  {
   "cell_type": "markdown",
   "metadata": {},
   "source": [
    "\n",
    "[운영체제(Operating System : OS)란 ? 운영체제 종류와 목적, OS 정복](https://jhnyang.tistory.com/16)\n",
    "\n",
    "[Ubuntu(우분투)란? 무엇인가](https://dongdong-2.tistory.com/17)\n",
    "\n",
    "[연봉 높은 프로그래밍 언어 TOP 5. 그 이유는?](https://www.youtube.com/watch?v=j5ogDOuqXqg)\n",
    "\n",
    "[Effective TensorFlow 2 | TensorFlow Core](https://www.tensorflow.org/guide/effective_tf2)\n",
    "\n",
    "[12 Best Python IDEs and Code Editors in 2022](https://www.softwaretestinghelp.com/python-ide-code-editors/)\n",
    "\n",
    "[Command Line 시작하기](https://tutorial.djangogirls.org/ko/intro_to_command_line/)\n",
    "\n",
    "[터미널, 콘솔, 쉘의 차이점](https://blog.naver.com/asianchairshot/221383363419)\n",
    "\n",
    "[리눅스 ls -l 명령어 - 파일 정보 확인과 의미](https://www.leafcats.com/137)\n",
    "\n",
    "[Ubuntu apt-get 명령어 사용법](https://codechacha.com/ko/linux-apt-commands/)\n",
    "\n",
    "[파이썬 코딩 도장](https://dojang.io/mod/page/view.php?id=2470)\n",
    "\n",
    "[Ubuntu 20.04 - Anaconda 설치 및 가상환경 구축](https://mishuni.tistory.com/118)\n",
    "\n",
    "[Create virtual environments for python with conda](https://uoa-eresearch.github.io/eresearch-cookbook/recipe/2014/11/20/conda/)\n",
    "\n",
    "[Conda Cheat Sheet](https://docs.conda.io/projects/conda/en/4.6.0/_downloads/52a95608c49671267e40c689e0bc00ca/conda-cheatsheet.pdf)"
   ]
  },
  {
   "cell_type": "markdown",
   "metadata": {},
   "source": [
    "# 이미지"
   ]
  },
  {
   "cell_type": "markdown",
   "metadata": {},
   "source": [
    "![터미널(MacOS), 출처 위키백과](img/00.png)"
   ]
  }
 ],
 "metadata": {
  "kernelspec": {
   "display_name": "Python 3.8.9 64-bit",
   "language": "python",
   "name": "python3"
  },
  "language_info": {
   "codemirror_mode": {
    "name": "ipython",
    "version": 3
   },
   "file_extension": ".py",
   "mimetype": "text/x-python",
   "name": "python",
   "nbconvert_exporter": "python",
   "pygments_lexer": "ipython3",
   "version": "3.8.9"
  },
  "orig_nbformat": 4,
  "vscode": {
   "interpreter": {
    "hash": "31f2aee4e71d21fbe5cf8b01ff0e069b9275f58929596ceb00d14d90e3e16cd6"
   }
  }
 },
 "nbformat": 4,
 "nbformat_minor": 2
}
