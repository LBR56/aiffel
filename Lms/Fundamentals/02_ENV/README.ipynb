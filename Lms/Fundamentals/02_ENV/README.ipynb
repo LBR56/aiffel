{
 "cells": [
  {
   "cell_type": "markdown",
   "metadata": {},
   "source": [
    "# 인공지능 개발자가 되기 위한 위대한 첫 걸음"
   ]
  },
  {
   "cell_type": "markdown",
   "metadata": {},
   "source": [
    "실습 환경 확인 **(Ubuntu, Python, Tensorflow)** 및 **Terminal** 소개, 사용법"
   ]
  },
  {
   "cell_type": "markdown",
   "metadata": {},
   "source": [
    "## 목차\n",
    "\n",
    "- 컨테이너 환경 소개\n",
    "- Terminal 소개\n",
    "- Terminal 명령어 사용법\n",
    "- Terminal 환경 관리법\n",
    "- 가상환경 만들기\n",
    "- 회고\n",
    "- Ref"
   ]
  },
  {
   "cell_type": "markdown",
   "metadata": {},
   "source": [
    "## 컨테이너 환경 소개"
   ]
  },
  {
   "cell_type": "markdown",
   "metadata": {},
   "source": [
    "아이펠에서 Cloud 컨테이너(container)를 제공하고 있음\n",
    "\n",
    "> container란?\n",
    ">\n",
    "> - 가상머신(virtual machine)과 비슷함\n",
    "> - 더 가볍고, 효율적\n",
    "> - 일종의 **일회용 가상 컴퓨터**"
   ]
  },
  {
   "cell_type": "markdown",
   "metadata": {},
   "source": [
    "### Container ENV\n",
    "***"
   ]
  },
  {
   "cell_type": "markdown",
   "metadata": {},
   "source": [
    "만약 local에서 코드를 실행하고 싶다면, env을 맞춰줘야함\n",
    "\n",
    "|이름|종류|버전|버전 뜻|왜 이건가?|\n",
    "|:-:|:-:|:-:|:-:|:-:|\n",
    "|ubuntu|OS|20.04.3|2020년 4월 출시|fund01 참고|\n",
    "|python|programming language|3.9.7|코드 변화 3번, 기능 추가 9번, 오류 수정 7번|[범용적인 언어](https://www.youtube.com/watch?t=271&v=j5ogDOuqXqg&feature=youtu.be)|\n",
    "|tensorflow|library|2.6.0|코드 변화 2번, 기능 추가 6번, 오류 수정 0번|[LMS 공식 Lib](https://www.springboard.com/blog/data-science/python-libraries-for-machine-learning/)"
   ]
  },
  {
   "cell_type": "markdown",
   "metadata": {},
   "source": [
    "### step 총 정리\n",
    "***"
   ]
  },
  {
   "cell_type": "markdown",
   "metadata": {},
   "source": [
    "앞으로 `ubuntu` os에서 `python` programming language로, `tensorflow` lib를 사용할 것!"
   ]
  },
  {
   "cell_type": "markdown",
   "metadata": {},
   "source": [
    "## Terminal 소개"
   ]
  },
  {
   "cell_type": "markdown",
   "metadata": {},
   "source": [
    "### Terminal?\n",
    "***"
   ]
  },
  {
   "cell_type": "markdown",
   "metadata": {},
   "source": [
    "![00](img/00.png)"
   ]
  },
  {
   "cell_type": "markdown",
   "metadata": {},
   "source": [
    "위와 같은 터미널 환경을 우리는 CLI라고 부름\n",
    "\n",
    " windows, MacOS에서 사용하는 환경을 GUI로 부름"
   ]
  },
  {
   "cell_type": "markdown",
   "metadata": {},
   "source": [
    "### python 실행해보기\n",
    "***"
   ]
  },
  {
   "cell_type": "markdown",
   "metadata": {},
   "source": [
    "Terminal에서 직접 python을 실행할 수 있음"
   ]
  },
  {
   "cell_type": "code",
   "execution_count": 3,
   "metadata": {
    "vscode": {
     "languageId": "powershell"
    }
   },
   "outputs": [
    {
     "name": "stdout",
     "output_type": "stream",
     "text": [
      "Python 3.8.9 (default, Apr 13 2022, 08:48:07) \n",
      "[Clang 13.1.6 (clang-1316.0.21.2.5)] on darwin\n",
      "Type \"help\", \"copyright\", \"credits\" or \"license\" for more information.\n",
      ">>> "
     ]
    }
   ],
   "source": [
    "#!python3"
   ]
  },
  {
   "cell_type": "code",
   "execution_count": 4,
   "metadata": {},
   "outputs": [
    {
     "name": "stdout",
     "output_type": "stream",
     "text": [
      "출력\n",
      "2.7.0\n"
     ]
    }
   ],
   "source": [
    "# 출력\n",
    "print('출력')\n",
    "\n",
    "# 라이브러리 가져오기 & 이름 변경하기\n",
    "import tensorflow as tf\n",
    "\n",
    "# 버전 확인\n",
    "print(tf.__version__)\n",
    "\n",
    "# 종류\n",
    "exit()"
   ]
  },
  {
   "cell_type": "markdown",
   "metadata": {},
   "source": [
    "통합 개발 환경의 등장(Integrated Development Environment : IDE)\n",
    "***"
   ]
  },
  {
   "cell_type": "markdown",
   "metadata": {},
   "source": [
    "코드 편집 기능이 높아 코드 작성을 편리하게 도와주는 프로그램\n",
    "\n",
    "[추천 IDE](https://www.softwaretestinghelp.com/python-ide-code-editors/)\n",
    "\n",
    "다음 요소중 visual studio code(vsc)를 추천함"
   ]
  },
  {
   "cell_type": "markdown",
   "metadata": {},
   "source": [
    "## Terminal 명령어 사용법"
   ]
  },
  {
   "cell_type": "markdown",
   "metadata": {},
   "source": [
    "|명령어|뜻|예제|결과|\n",
    "|:-:|:-:|:-:|:-:|\n",
    "|whoami|유저 이름 출력|whoami|user|\n",
    "|pwd|현재 위치 출력(print working dircetory|pwd|/|\n",
    "|ls|현재 디렉토리 목록 출력(directory list)|ls -al/file1 file2 dir1|\n",
    "|cd|디렉토리 이동(change directory)|cd ..||\n",
    "|mkdir|디렉토리 생성(make directory)|mkdir dir2||\n",
    "|rm|파일 삭제(remove)|rm -r dir2||\n",
    "|mv|파일 이동(move)|mv dir1 ..||\n",
    "|cp|파일 복사(copy)|cp ../dir1 .||\n",
    "\n",
    "- 자세한 내용은 fund 03에서 배움"
   ]
  },
  {
   "cell_type": "markdown",
   "metadata": {},
   "source": [
    "## Terminal 환경 관리법"
   ]
  },
  {
   "cell_type": "markdown",
   "metadata": {},
   "source": [
    "대표적으로 package 관리가 있음"
   ]
  },
  {
   "cell_type": "markdown",
   "metadata": {},
   "source": [
    "|명령어|뜻|예제|결과|\n",
    "|:-:|:-:|:-:|:-:|\n",
    "|sudo apt list --installed|package 확인|||\n",
    "|sudo apt-get update|package update|||\n",
    "|sudo apt-get upgrade|package upgrade|||\n",
    "|sudo apt-get install -y [package_name]|package install|sudo apt-get install -y cmatrix||\n",
    "|[package_name]|package run|cmatrix|나오기 위해서 `ctrl` + `c`를 넣어주면 됨|\n",
    "|sudo apt-get remove [package_name]|package uninstall|sudo apt-get remove cmatrix||"
   ]
  },
  {
   "cell_type": "markdown",
   "metadata": {},
   "source": [
    "## 가상환경 만들기"
   ]
  },
  {
   "cell_type": "markdown",
   "metadata": {},
   "source": [
    "프로젝트를 독립적으로 만들어주는 도구"
   ]
  },
  {
   "cell_type": "markdown",
   "metadata": {},
   "source": [
    "### 종류\n",
    "***"
   ]
  },
  {
   "cell_type": "markdown",
   "metadata": {},
   "source": [
    "- pyenv\n",
    "- pip\n",
    "- anaconda\n",
    "- venv"
   ]
  },
  {
   "cell_type": "markdown",
   "metadata": {},
   "source": [
    "## 회고"
   ]
  },
  {
   "cell_type": "markdown",
   "metadata": {},
   "source": [
    "### 느낀 점\n",
    "***"
   ]
  },
  {
   "cell_type": "markdown",
   "metadata": {},
   "source": [
    "### Node의 목적\n",
    "***"
   ]
  },
  {
   "cell_type": "markdown",
   "metadata": {},
   "source": [
    "### 추가 학습이 필요\n",
    "***"
   ]
  },
  {
   "cell_type": "markdown",
   "metadata": {},
   "source": [
    "단어\n",
    "***"
   ]
  },
  {
   "cell_type": "markdown",
   "metadata": {},
   "source": [
    "|노드|단어(링크)|내용|\n",
    "|:-:|:-:|:-:|\n",
    "|Fund 02|[가상 장치(Vitural Machine : VM)](https://www.redhat.com/ko/topics/virtualization/what-is-a-virtual-machine)|컴퓨터 환경을 소프트웨어로 구현한 것|\n",
    "|Fund 02|[upgrade vs update](https://www.advancedcpc.com/blog/software-upgrade-vs-update-what-difference)|새로운 기능의 추가로 이전 버전은 사용하지 못함 vs 작은 버그를 수정하거나, 제품을 수리하는데 사용됨|"
   ]
  },
  {
   "cell_type": "markdown",
   "metadata": {},
   "source": [
    "## Ref"
   ]
  },
  {
   "cell_type": "markdown",
   "metadata": {},
   "source": [
    "|날짜|제목(링크)|내용|\n",
    "|:-:|:--------:|:--:|\n",
    "|19.08.21|[연봉 높은 프로그래밍 언어 TOP 5.그 이유는?](https://www.youtube.com/watch?t=271&v=j5ogDOuqXqg&feature=youtu.be)|연봉 높은 프로그래밍 언어의 이유|\n",
    "|22.05.07|[15 Best Python Libraries for Machine and Deep Learning](https://www.springboard.com/blog/data-science/python-libraries-for-machine-learning/)|딥러닝 라이브러리 설명 모음|\n",
    "|22.07.15|[12 best IDE](https://www.softwaretestinghelp.com/python-ide-code-editors/)|22년도 최고의 IDE|"
   ]
  }
 ],
 "metadata": {
  "kernelspec": {
   "display_name": "Python 3.8.9 64-bit",
   "language": "python",
   "name": "python3"
  },
  "language_info": {
   "codemirror_mode": {
    "name": "ipython",
    "version": 3
   },
   "file_extension": ".py",
   "mimetype": "text/x-python",
   "name": "python",
   "nbconvert_exporter": "python",
   "pygments_lexer": "ipython3",
   "version": "3.8.9"
  },
  "orig_nbformat": 4,
  "vscode": {
   "interpreter": {
    "hash": "31f2aee4e71d21fbe5cf8b01ff0e069b9275f58929596ceb00d14d90e3e16cd6"
   }
  }
 },
 "nbformat": 4,
 "nbformat_minor": 2
}
