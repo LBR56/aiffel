{
 "cells": [
  {
   "cell_type": "markdown",
   "metadata": {},
   "source": [
    "# 딥러닝과 신경망의 본질"
   ]
  },
  {
   "cell_type": "markdown",
   "metadata": {},
   "source": [
    "딥러닝이라는 기술과 그 본질에 대해 다양한 관점에서 고민해 본다."
   ]
  },
  {
   "cell_type": "markdown",
   "metadata": {},
   "source": [
    "## 목차"
   ]
  },
  {
   "cell_type": "markdown",
   "metadata": {},
   "source": [
    "- 들어가며\n",
    "- Deep Learning == Representation Learning?\n",
    "  - Deep Learning\n",
    "  - Representation Learning\n",
    "- 딥러닝을 관통하는 철학\n",
    "  - 행동주의\n",
    "  - 인지주의\n",
    "  - 연결주의\n",
    "- 신경망의 본질\n",
    "  - 개요\n",
    "  - 수학과 프로그래밍의 \"함수\"\n",
    "  - 함수의 역할(상)\n",
    "  - 함수의 역할(하)\n",
    "  - 함수와 모델\n",
    "- AI의 현재와 미래\n",
    "  - 머신러닝과 딥러닝\n",
    "  - 딥러닝은 블랙박스인가 아닌가? 끝나지 않는 논쟁\n",
    "  - 현시대 AI\n",
    "- 회고\n",
    "- Ref"
   ]
  },
  {
   "cell_type": "markdown",
   "metadata": {},
   "source": [
    "## 들어가며"
   ]
  },
  {
   "cell_type": "markdown",
   "metadata": {},
   "source": [
    "학습 목표\n",
    "***"
   ]
  },
  {
   "cell_type": "markdown",
   "metadata": {},
   "source": [
    "- 딥러닝과 머신러닝의 차이\n",
    "- 딥러닝은 데이터를 '표현'하는 것이 목표\n",
    "  - 즉, '표현 학습'임\n",
    "- 연결주의를 계승\n",
    "  - 함수차원에서의 이해\n",
    "- 선형성이란?"
   ]
  },
  {
   "cell_type": "markdown",
   "metadata": {},
   "source": [
    "## Deep Learning == Representation Learning?"
   ]
  },
  {
   "cell_type": "markdown",
   "metadata": {},
   "source": [
    "### Deep Learning\n",
    "***"
   ]
  },
  {
   "cell_type": "markdown",
   "metadata": {},
   "source": [
    "머신러닝과 딥러닝의 차이\n",
    "***"
   ]
  },
  {
   "cell_type": "markdown",
   "metadata": {},
   "source": [
    "[![00](img/00.png)](https://blogs.nvidia.co.kr/2016/08/03/difference_ai_learning_machinelearning/)"
   ]
  },
  {
   "cell_type": "markdown",
   "metadata": {},
   "source": [
    "- 인공지능\n",
    "  - 기계가 자체 규칙 시스템을 구축하는 것\n",
    "- 머신러닝\n",
    "  - 데이터 기반으로 패턴을 학습하여 예측하는 것\n",
    "- 딥러닝\n",
    "  - 신경망 방법론"
   ]
  },
  {
   "cell_type": "markdown",
   "metadata": {},
   "source": [
    "딥러닝을 나눈 이유\n",
    "***"
   ]
  },
  {
   "cell_type": "markdown",
   "metadata": {},
   "source": [
    "[![01](img/01.png)](https://www.researchgate.net/figure/a-Biological-neuron-structure-and-neuron-model-b-Deep-neural-network-structure_fig1_334637084)"
   ]
  },
  {
   "cell_type": "markdown",
   "metadata": {},
   "source": [
    "> 뇌의 신경 구조로부터 영감을 받아 신경망 형태로 설계된 딥러닝의 목표는, \"합성된 함수를 학습시켜서 풍푸하고 유용한 **'내재적 표현'(internal repressentation)** 을 찾아내는 machine을 구축하는 것\" 이다!\n",
    ">\n",
    "> 조슈아 벤지오"
   ]
  },
  {
   "cell_type": "markdown",
   "metadata": {},
   "source": [
    "### 표현 학습(Representation Learning)]\n",
    "***"
   ]
  },
  {
   "cell_type": "markdown",
   "metadata": {},
   "source": [
    "데이터의 표현 방법\n",
    "***"
   ]
  },
  {
   "cell_type": "markdown",
   "metadata": {},
   "source": [
    "피자"
   ]
  },
  {
   "cell_type": "markdown",
   "metadata": {},
   "source": [
    "- 분자 형태\n",
    "  - 아무런 가공을 거치지 않은, 데이터가 존재하는 형태 그대로"
   ]
  },
  {
   "cell_type": "markdown",
   "metadata": {},
   "source": [
    "![02](img/02.jpeg)"
   ]
  },
  {
   "cell_type": "markdown",
   "metadata": {},
   "source": [
    "- 이미지\n",
    "  - (row, col, channel) 3차원 데이터"
   ]
  },
  {
   "cell_type": "markdown",
   "metadata": {},
   "source": [
    "|1회 중량|1회 기준|총 중량|열량|단백질|포화지방|나트륨|당류|\n",
    "|:-:|:-:|:-:|:-:|:-:|:-:|:-:|:-:|\n",
    "|106.1|1조각|849.0|285.5|14.1|3.9|382.6|2.19|"
   ]
  },
  {
   "cell_type": "markdown",
   "metadata": {},
   "source": [
    "- 표\n",
    "  - 어떤 특징(Feature)로 나타낼 것인지 정의하는 과정이 필요"
   ]
  },
  {
   "cell_type": "markdown",
   "metadata": {},
   "source": [
    "`['피자', '음식']`"
   ]
  },
  {
   "cell_type": "markdown",
   "metadata": {},
   "source": [
    "- 카테고리\n",
    "  - 사람의 개입이 심함"
   ]
  },
  {
   "cell_type": "markdown",
   "metadata": {},
   "source": [
    "사람의 개입 정도에 따라서 매우 **계층적(Hierarchical)** 임"
   ]
  },
  {
   "cell_type": "markdown",
   "metadata": {},
   "source": [
    "딥러닝의 목표\n",
    "***"
   ]
  },
  {
   "cell_type": "markdown",
   "metadata": {},
   "source": [
    "**추상적**이고 **내재적인 표현**들을 사람의 **개입 없이** 딥러닝만으로 나타내는 것이 목표"
   ]
  },
  {
   "cell_type": "markdown",
   "metadata": {},
   "source": [
    "예시\n",
    "***"
   ]
  },
  {
   "cell_type": "markdown",
   "metadata": {},
   "source": [
    "[![03](img/03.png)](https://www.researchgate.net/figure/The-architecture-of-VGG-16-model-To-represent-different-depth-levels-convolutional_fig1_323440752)"
   ]
  },
  {
   "cell_type": "markdown",
   "metadata": {},
   "source": [
    "이미지를 넣으면 1000개의 내제된 Feature을 representation할 수 있는 것!"
   ]
  },
  {
   "cell_type": "markdown",
   "metadata": {},
   "source": [
    "정리\n",
    "***"
   ]
  },
  {
   "cell_type": "markdown",
   "metadata": {},
   "source": [
    "- deep learning은 data representation을 learn한다는 것\n",
    "- raw 한 데이터를 입력하면 내재된 표현을 추출한 다는 것"
   ]
  },
  {
   "cell_type": "markdown",
   "metadata": {},
   "source": [
    "## 딥러닝을 관통하는 철학"
   ]
  },
  {
   "cell_type": "markdown",
   "metadata": {},
   "source": [
    "이러한 문제의식의 시작은?\n",
    "\n",
    "- 연결주의(Connectionism)에서 시작\n",
    "- 연결주의는 인지과학의 한 학파\n",
    "- 인지과학은 행동주의를 반발하는 학문"
   ]
  },
  {
   "cell_type": "markdown",
   "metadata": {},
   "source": [
    "### 행동주의\n",
    "***"
   ]
  },
  {
   "cell_type": "markdown",
   "metadata": {},
   "source": [
    "[적절한 보상은 비둘기를 탁구하게 한다!](https://www.youtube.com/watch?v=vGazyH6fQQ4)"
   ]
  },
  {
   "cell_type": "markdown",
   "metadata": {},
   "source": [
    "학습된 행동은 자극의 반복으로 만들어진다\n",
    "\n",
    "- 강화학습의 근간 이론"
   ]
  },
  {
   "cell_type": "markdown",
   "metadata": {},
   "source": [
    "[조작적 조건화(Operant Conditioning)](https://ko.wikipedia.org/wiki/조작적_조건화)\n",
    "***"
   ]
  },
  {
   "cell_type": "markdown",
   "metadata": {},
   "source": [
    "생명체가 외부에서 받는 자극으로 인해 학습되는 과정"
   ]
  },
  {
   "cell_type": "markdown",
   "metadata": {},
   "source": [
    "### 인지주의\n",
    "***"
   ]
  },
  {
   "cell_type": "markdown",
   "metadata": {},
   "source": [
    "![04](img/04.webp)"
   ]
  },
  {
   "cell_type": "markdown",
   "metadata": {},
   "source": [
    "자극을 받아 반응 하기까지 복잡한 알고리즘을 통해 정보를 처리함!\n",
    "\n",
    "즉, `정보처리`과정에 관심을 두었음"
   ]
  },
  {
   "cell_type": "markdown",
   "metadata": {},
   "source": [
    "### 연결주의\n",
    "***"
   ]
  },
  {
   "cell_type": "markdown",
   "metadata": {},
   "source": [
    "정보처리는 뇌에 있는 수많은 뉴런의 연결고리를 통해 이루어진다"
   ]
  },
  {
   "cell_type": "markdown",
   "metadata": {},
   "source": [
    "수많은 뇌의 뉴런을 본뜬 '인공 신경망' 모델을 생각나게 함"
   ]
  },
  {
   "cell_type": "markdown",
   "metadata": {},
   "source": [
    "## 신경망의 본질"
   ]
  },
  {
   "cell_type": "markdown",
   "metadata": {},
   "source": [
    "### 개요\n",
    "***"
   ]
  },
  {
   "cell_type": "markdown",
   "metadata": {},
   "source": [
    "어떤 것을 입력받아 처리하여 출력한다!\n",
    "\n",
    "마치 함수 처럼!"
   ]
  },
  {
   "cell_type": "markdown",
   "metadata": {},
   "source": [
    "### 수학과 프로그래밍의 \"함수\"\n",
    "***"
   ]
  },
  {
   "cell_type": "code",
   "execution_count": 1,
   "metadata": {},
   "outputs": [],
   "source": [
    "def f(x):\n",
    "  y = 3 * x + 2\n",
    "  return y"
   ]
  },
  {
   "cell_type": "markdown",
   "metadata": {},
   "source": [
    "- 입력(x)\n",
    "- 내부 연산(y = 3 * x + 2)\n",
    "- 출력(return y)"
   ]
  },
  {
   "cell_type": "markdown",
   "metadata": {},
   "source": [
    "### 함수의 역할\n",
    "***"
   ]
  },
  {
   "cell_type": "markdown",
   "metadata": {},
   "source": [
    "관계(Relation)\n",
    "***"
   ]
  },
  {
   "cell_type": "markdown",
   "metadata": {},
   "source": [
    "y = 2x\n",
    "\n",
    "x가 증가하면, y가 2배 증가한다!\n",
    "\n",
    "y는 x의 함수다!"
   ]
  },
  {
   "cell_type": "markdown",
   "metadata": {},
   "source": [
    "- y는 x의 변화에 종속적이다\n",
    "- x에 따른 y의 변화를 함수로 나타낼 수 있다"
   ]
  },
  {
   "cell_type": "markdown",
   "metadata": {},
   "source": [
    "[변환(Transformation)](https://www.youtube.com/watch?v=kYB8IZa5AuE)\n",
    "***"
   ]
  },
  {
   "cell_type": "markdown",
   "metadata": {},
   "source": [
    "선형성과 행렬, 변환에 대한 사고가 필요함"
   ]
  },
  {
   "cell_type": "markdown",
   "metadata": {},
   "source": [
    "매핑(Mapping)\n",
    "***"
   ]
  },
  {
   "cell_type": "markdown",
   "metadata": {},
   "source": [
    "- 스칼라(Scalar)\n",
    "  - `크기`만 존재함\n",
    "- 벡터(Vector)\n",
    "  - `방향`과 `크기`가 같이 존재함"
   ]
  },
  {
   "cell_type": "markdown",
   "metadata": {},
   "source": [
    "- one2one\n",
    "  - scalar 값으로 scalar를 예측함\n",
    "  - 단순한 함수 y = f(x)\n",
    "  - 단변량 회귀(Univariate Regression)\n",
    "  - ex) 키로 몸무게 예측\n",
    "- many2one\n",
    "  - vector로 scalar를 예측함\n",
    "  - 다변량 회귀(Multivariate regression)\n",
    "  - ex) 키, 체지방, ..., 골격근으로 몸무게를 예측함\n",
    "- many2many\n",
    "  - vector로 vector 예측함\n",
    "  - 분류(classification)\n",
    "  - ex) 키, 체지방, ..., 골격근으로 초고도 비만, 비만, ..., 저체중을 예측함\n"
   ]
  },
  {
   "cell_type": "markdown",
   "metadata": {},
   "source": [
    "### 함수와 모델\n",
    "***"
   ]
  },
  {
   "cell_type": "markdown",
   "metadata": {},
   "source": [
    "함수와 모델의 차이점\n",
    "***"
   ]
  },
  {
   "cell_type": "markdown",
   "metadata": {},
   "source": [
    "함수는 경우가 고정됨\n",
    "\n",
    "모델은 근사한 함수를 만드는 것"
   ]
  },
  {
   "cell_type": "markdown",
   "metadata": {},
   "source": [
    "어떻게 근사한 함수를 찾는가?\n",
    "***"
   ]
  },
  {
   "cell_type": "markdown",
   "metadata": {},
   "source": [
    "1. 함수 공간 정의\n",
    "    - 일차함수? 다변수 선형 함수? 이차 함수?\n",
    "    - 함수 공간을 정하는 것(Inductive Bias || Prior)a\n",
    "2. 함수 공간 안에서 최적의 함수를 찾기\n",
    "    - `모델 학습` 파트\n",
    "    - `보정`하는 과정"
   ]
  },
  {
   "cell_type": "markdown",
   "metadata": {},
   "source": [
    "## AI의 현재와 미래"
   ]
  },
  {
   "cell_type": "markdown",
   "metadata": {},
   "source": [
    "### 머신러닝과 딥러닝\n",
    "***"
   ]
  },
  {
   "cell_type": "markdown",
   "metadata": {},
   "source": [
    "[![05](img/05.png)](https://medium.com/ddiddu-log/인공지능-머신러닝-딥러닝의-차이-3-딥러닝-deep-learning-이란-78555ef14ee3)"
   ]
  },
  {
   "cell_type": "markdown",
   "metadata": {},
   "source": [
    "모델에 넣기 위한 작업(Feature Engineering)이 없어짐\n",
    "\n",
    "End-to-End Learning을 추구함"
   ]
  },
  {
   "cell_type": "markdown",
   "metadata": {},
   "source": [
    "- [머신러닝](https://www.stechstar.com/user/zbxe/index.php?mid=study_SQL&page=14&document_srl=63467)\n",
    "- [딥러닝](https://www.stechstar.com/user/zbxe/index.php?mid=study_SQL&page=13&document_srl=63482)\n",
    "- [딥러닝](https://www.stechstar.com/user/zbxe/index.php?mid=study_SQL&page=13&document_srl=63499)"
   ]
  },
  {
   "cell_type": "markdown",
   "metadata": {},
   "source": [
    "### 딥러닝은 블랙박스인가 아닌가? 끝나지 않는 논쟁\n",
    "***"
   ]
  },
  {
   "cell_type": "markdown",
   "metadata": {},
   "source": [
    "[블랙박스 모델이 아니다!](https://blog.pabii.co.kr/aint-blackbox/)\n",
    "\n",
    "- 동작 하는 원리를 알고 있음"
   ]
  },
  {
   "cell_type": "markdown",
   "metadata": {},
   "source": [
    "[블랙박스 모델이다!](https://www.joongang.co.kr/article/22394025#home)\n",
    "- 결과의 이유를 설명할 수 없음"
   ]
  },
  {
   "cell_type": "markdown",
   "metadata": {},
   "source": [
    "[설명 가능한 인공지능(eXplainable AI : XAI)](https://www.joongang.co.kr/article/22394025#home)\n",
    "\n",
    "[추가 참고 링크](https://realblack0.github.io/2020/04/27/explainable-ai.html)"
   ]
  },
  {
   "cell_type": "markdown",
   "metadata": {},
   "source": [
    "### 현시대 AI\n",
    "***"
   ]
  },
  {
   "cell_type": "markdown",
   "metadata": {},
   "source": [
    "인공지능이 할 수 있는 일!"
   ]
  },
  {
   "cell_type": "markdown",
   "metadata": {},
   "source": [
    "[![06](img/06.png)](https://www.google.com/search?q=Midjourney&sxsrf=ALiCzsbb3JoabVaTYrh64myEQNd_zzgivA:1659075261715&source=lnms&tbm=isch&sa=X&ved=2ahUKEwiT_4T9uJ35AhXuFqYKHXaqAiAQ_AUoAXoECAEQAw&biw=894&bih=882&dpr=2)\n",
    "\n",
    "[![07](img/07.png)](https://www.google.com/search?q=dall+e&hl=ko&sxsrf=ALiCzsaqnHxYv0goMJ3wwXg0hncLCLDe4Q:1659075350542&source=lnms&tbm=isch&sa=X&ved=2ahUKEwjnt7KnuZ35AhXuGaYKHXFeCNIQ_AUoAXoECAIQAw&biw=894&bih=882&dpr=2)"
   ]
  },
  {
   "cell_type": "markdown",
   "metadata": {},
   "source": [
    "문장을 통해 그림을 그려줌"
   ]
  },
  {
   "cell_type": "markdown",
   "metadata": {},
   "source": [
    "## 회고"
   ]
  },
  {
   "cell_type": "markdown",
   "metadata": {},
   "source": [
    "## Ref"
   ]
  },
  {
   "cell_type": "markdown",
   "metadata": {},
   "source": [
    "|날짜|제목(링크)|내용|\n",
    "|:-:|:--------:|:--:|\n",
    "|16.08.03|[인공 지능과 머신 러닝, 딥 러닝의 차이점을 알아보자](https://blogs.nvidia.co.kr/2016/08/03/difference_ai_learning_machinelearning/)|인공지능과 머신러닝의 차이점|\n",
    "|20.09.?|[뉴런과 딥러닝 모델](https://www.researchgate.net/figure/a-Biological-neuron-structure-and-neuron-model-b-Deep-neural-network-structure_fig1_334637084)|뉴런과 딥러닝의 연관성|\n",
    "|18.02.?|[vgg16](https://www.researchgate.net/figure/The-architecture-of-VGG-16-model-To-represent-different-depth-levels-convolutional_fig1_323440752)|raw data로 내재적 표현 찾기|\n",
    "|09.04.02|[탁구하는 비둘기](https://www.youtube.com/watch?v=vGazyH6fQQ4)|행동주의적인 내용|\n",
    "|?.?.?|[조작적 조건화](https://ko.wikipedia.org/wiki/조작적_조건화)||\n",
    "|16.08.08|[선형 변환과 매트릭스](https://www.youtube.com/watch?v=kYB8IZa5AuE)|변환이란?|\n",
    "|21.05.10|[인공지능, 머신러닝, 딥러닝의 차이: 3.딥러닝(Deep Learning)이란](https://medium.com/ddiddu-log/인공지능-머신러닝-딥러닝의-차이-3-딥러닝-Deep-Learning-이란-78555ef14ee3)|사진 출처|\n",
    "|17.9.04|[머신러닝이란 무엇인가?](https://www.stechstar.com/user/zbxe/index.php?mid=study_SQL&page=14&document_srl=63467)|데이터 기반에 학습|\n",
    "|17.10.10|[딥러닝이란 무엇인가? 1](https://www.stechstar.com/user/zbxe/index.php?mid=study_SQL&page=13&document_srl=63482)|DNN, CNN, RNN|\n",
    "|17.10.10|[딥러닝이란 무엇인가? 2](https://www.stechstar.com/user/zbxe/index.php?mid=study_SQL&page=13&document_srl=63499)|딥러닝의 장점과 단점|\n",
    "|18.09.21|[블랙박스(Blackbox)라고?](https://blog.pabii.co.kr/aint-blackbox/)||\n",
    "|18.02.25|[못 믿겠다 AI, 설계자도 심층신경망 작동 방식 몰라](https://www.joongang.co.kr/article/22394025#home)|\n",
    "|20.04.27|[설명가능 인공지능이란?](https://realblack0.github.io/2020/04/27/explainable-ai.html)|XAI|\n",
    "|?.?.?|[Midjourney 검색](https://www.google.com/search?q=Midjourney&sxsrf=ALiCzsbb3JoabVaTYrh64myEQNd_zzgivA:1659075261715&source=lnms&tbm=isch&sa=X&ved=2ahUKEwiT_4T9uJ35AhXuFqYKHXaqAiAQ_AUoAXoECAEQAw&biw=894&bih=882&dpr=2)|미드저니 검색|\n",
    "|?.?.?|[dall e 검색](https://www.google.com/search?q=dall+e&hl=ko&sxsrf=ALiCzsaqnHxYv0goMJ3wwXg0hncLCLDe4Q:1659075350542&source=lnms&tbm=isch&sa=X&ved=2ahUKEwjnt7KnuZ35AhXuGaYKHXFeCNIQ_AUoAXoECAIQAw&biw=894&bih=882&dpr=2)|달리 검색|"
   ]
  }
 ],
 "metadata": {
  "kernelspec": {
   "display_name": "Python 3.8.9 64-bit",
   "language": "python",
   "name": "python3"
  },
  "language_info": {
   "codemirror_mode": {
    "name": "ipython",
    "version": 3
   },
   "file_extension": ".py",
   "mimetype": "text/x-python",
   "name": "python",
   "nbconvert_exporter": "python",
   "pygments_lexer": "ipython3",
   "version": "3.8.9"
  },
  "orig_nbformat": 4,
  "vscode": {
   "interpreter": {
    "hash": "31f2aee4e71d21fbe5cf8b01ff0e069b9275f58929596ceb00d14d90e3e16cd6"
   }
  }
 },
 "nbformat": 4,
 "nbformat_minor": 2
}
