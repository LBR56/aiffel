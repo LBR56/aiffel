{
 "cells": [
  {
   "cell_type": "markdown",
   "metadata": {},
   "source": [
    "# 2 day"
   ]
  },
  {
   "cell_type": "markdown",
   "metadata": {},
   "source": [
    "## 목차\n",
    "- 딕셔너리 사용하기\n",
    "- if 조건문으로 특정 조건일 떄 코드 실행하기\n",
    "- else를 사용하여 두 방향으로 분기하기\n",
    "- for 반복문으로 Hello, world! 100번 출력하기\n",
    "- while 반복문으로 Hello, world! 100번 출력하기\n",
    "- break, continue로 반복문 제어하기"
   ]
  },
  {
   "cell_type": "markdown",
   "metadata": {},
   "source": [
    "## 딕셔너리 사용하기"
   ]
  },
  {
   "cell_type": "code",
   "execution_count": 1,
   "metadata": {},
   "outputs": [],
   "source": [
    "# 베열 직관 X\n",
    "lux = [490, 334, 550, 18.72]\n",
    "\n",
    "# 딕셔너리 직관 O\n",
    "lux = {'health': 490, 'mana': 334, 'melee': 550, 'armor': 18.72}"
   ]
  },
  {
   "cell_type": "markdown",
   "metadata": {},
   "source": [
    "### 딕셔너리 만들기\n",
    "***"
   ]
  },
  {
   "cell_type": "code",
   "execution_count": 2,
   "metadata": {},
   "outputs": [],
   "source": [
    "# 딕셔너리 = {키1: 값1, 키2: 값2}\n",
    "# 겹치면 뒷 값 인식\n",
    "lux = {'health': 490, 'health': 800, 'mana': 334, 'melee': 550, 'armor': 18.72}\n",
    "\n",
    "# 키로 리스트 딕셔너리 빼고 다 됨\n",
    "x = {100: 'hundred', False: 0, 3.5: [3.5, 3.5]}\n",
    "\n",
    "# 빈 딕셔너리 만들기\n",
    "x = {}\n",
    "x = dict()\n",
    "\n",
    "# dict으로 딕셔너리 만들기\n",
    "lux1 = dict(health=490, mana=334, melee=550, armor=18.72) \n",
    "lux2 = dict(zip(['health', 'mana', 'melee', 'armor'], [490, 334, 550, 18.72]))\n",
    "lux3 = dict([('health', 490), ('mana', 334), ('melee', 550), ('armor', 18.72)])"
   ]
  },
  {
   "cell_type": "markdown",
   "metadata": {},
   "source": [
    "### 딕셔너리의 키에 접근하고 값 할당하기\n",
    "***"
   ]
  },
  {
   "cell_type": "code",
   "execution_count": 3,
   "metadata": {},
   "outputs": [
    {
     "name": "stdout",
     "output_type": "stream",
     "text": [
      "490\n",
      "True\n"
     ]
    },
    {
     "data": {
      "text/plain": [
       "4"
      ]
     },
     "execution_count": 3,
     "metadata": {},
     "output_type": "execute_result"
    }
   ],
   "source": [
    "lux = {'health': 490, 'mana': 334, 'melee': 550, 'armor': 18.72}\n",
    "\n",
    "# 접근하기\n",
    "print(lux['health'])\n",
    "\n",
    "# 할당 가능\n",
    "lux['health'] = 800\n",
    "\n",
    "# 딕셔너리에 키가 있는지 확인\n",
    "print('health' in lux)\n",
    "\n",
    "# 딕셔너리의 키 갯수 ㅈ구하기\n",
    "len(lux)\n"
   ]
  },
  {
   "cell_type": "markdown",
   "metadata": {},
   "source": [
    "## if 조건문 사용하기"
   ]
  },
  {
   "cell_type": "markdown",
   "metadata": {},
   "source": [
    "```python\n",
    "if 비가 온다면:\n",
    "  우산을 가지고 나간다.\n",
    " \n",
    "if 날씨가 춥다면:\n",
    "  코트를 입고 나간다.\n",
    " \n",
    "if 날씨가 덥다면:\n",
    "  반소매에 얇은 옷을 입고 나간다.\n",
    "```"
   ]
  },
  {
   "cell_type": "markdown",
   "metadata": {},
   "source": [
    "### if 조건문 사용하기\n",
    "***"
   ]
  },
  {
   "cell_type": "code",
   "execution_count": 4,
   "metadata": {},
   "outputs": [],
   "source": [
    "if x == 10: # x가 10이면?\n",
    "  print('10') # 출력\n",
    "\n",
    "# 할당하지 말 것!\n",
    "#if x = 10:\n",
    "\n",
    "# : 빼기 말 것!\n",
    "#if x == 10\n",
    "\n",
    "if x == 10:\n",
    "  # 나중에 할 일 체크\n",
    "  pass"
   ]
  },
  {
   "cell_type": "markdown",
   "metadata": {},
   "source": [
    "### if 조건문과 들여쓰기\n",
    "***"
   ]
  },
  {
   "cell_type": "code",
   "execution_count": 5,
   "metadata": {},
   "outputs": [
    {
     "name": "stdout",
     "output_type": "stream",
     "text": [
      "입니다.\n"
     ]
    }
   ],
   "source": [
    "x = 5\n",
    "if x == 10:\n",
    "  print(x)\n",
    "# 들여쓰기 조심\n",
    "print('입니다.')"
   ]
  },
  {
   "cell_type": "markdown",
   "metadata": {},
   "source": [
    "### 중첨 if 조건문 사용하기\n",
    "***"
   ]
  },
  {
   "cell_type": "code",
   "execution_count": 6,
   "metadata": {},
   "outputs": [
    {
     "name": "stdout",
     "output_type": "stream",
     "text": [
      "10 이상입니다.\n",
      "15입니다.\n"
     ]
    }
   ],
   "source": [
    "x = 15\n",
    "\n",
    "if x >= 10:\n",
    "  print('10 이상입니다.')\n",
    "  # if 안에 if 가능\n",
    "  if x == 15:\n",
    "    print('15입니다.')"
   ]
  },
  {
   "cell_type": "markdown",
   "metadata": {},
   "source": [
    "### 사용자가 입력한 값에 if 조건문 사용하기\n",
    "***"
   ]
  },
  {
   "cell_type": "code",
   "execution_count": 7,
   "metadata": {},
   "outputs": [],
   "source": [
    "# x = int(input())\n",
    "\n",
    "if x == 10:\n",
    "  pass"
   ]
  },
  {
   "cell_type": "markdown",
   "metadata": {},
   "source": [
    "## else 사용하기"
   ]
  },
  {
   "cell_type": "markdown",
   "metadata": {},
   "source": [
    "### else 사용하기\n",
    "***"
   ]
  },
  {
   "cell_type": "markdown",
   "metadata": {},
   "source": [
    "```python\n",
    "if 광고 전화인가:\n",
    "    전화를 끊고, 차단 목록에 등록한다.\n",
    "else:\n",
    "    계속 통화한다.\n",
    "```"
   ]
  },
  {
   "cell_type": "code",
   "execution_count": 8,
   "metadata": {},
   "outputs": [
    {
     "name": "stdout",
     "output_type": "stream",
     "text": [
      "10이 아닙니다.\n",
      "10이 아닙니다.\n"
     ]
    }
   ],
   "source": [
    "x = 5\n",
    "if x == 10: # 10이면?\n",
    "  print('10입니다.')\n",
    "else: # 10이 아니면?\n",
    "  print('10이 아닙니다.')\n",
    "\n",
    "# 한줄 가능\n",
    "print('10입니다.') if x == 10 else print('10이 아닙니다.')"
   ]
  },
  {
   "cell_type": "markdown",
   "metadata": {},
   "source": [
    "### else와 들여쓰기\n",
    "***"
   ]
  },
  {
   "cell_type": "code",
   "execution_count": 9,
   "metadata": {},
   "outputs": [
    {
     "name": "stdout",
     "output_type": "stream",
     "text": [
      "10\n",
      "아닙니다.\n"
     ]
    }
   ],
   "source": [
    "x = 5\n",
    "if x == 10:\n",
    "  print(x, '입니다')\n",
    "else:\n",
    "  print(10)\n",
    "# 들여쓰기 조심\n",
    "print('아닙니다.')"
   ]
  },
  {
   "cell_type": "markdown",
   "metadata": {},
   "source": [
    "### if 조건문의 동작 방식 알아보기\n",
    "***"
   ]
  },
  {
   "cell_type": "code",
   "execution_count": 10,
   "metadata": {},
   "outputs": [],
   "source": [
    "# 거짓인 조건들\n",
    "if None:\n",
    "  print('참')\n",
    "\n",
    "if 0:\n",
    "  print('참')\n",
    "\n",
    "if '':\n",
    "  print('참')"
   ]
  },
  {
   "cell_type": "markdown",
   "metadata": {},
   "source": [
    "### 조건식을 여러 개 지정하기\n",
    "***"
   ]
  },
  {
   "cell_type": "markdown",
   "metadata": {},
   "source": [
    "```python\n",
    "if 포털 사이트 회원인지 `그리고` 중고나라 회원인지:\n",
    "  글쓰기 화면 표시\n",
    "else:\n",
    "  포털 사이트 또는 중고나라 회원이 아니므로 글을 쓸 수 없다는 경고 문구 표시\n",
    "```"
   ]
  },
  {
   "cell_type": "code",
   "execution_count": 11,
   "metadata": {},
   "outputs": [
    {
     "name": "stdout",
     "output_type": "stream",
     "text": [
      "참\n",
      "참\n",
      "참\n"
     ]
    }
   ],
   "source": [
    "x = y = 10\n",
    "\n",
    "if x == 10 and y == 10:\n",
    "  print('참')\n",
    "\n",
    "# 완전 동일\n",
    "\n",
    "if x == 10:\n",
    "  if y == 10:\n",
    "    print('참')\n",
    "\n",
    "# 이것도 가능\n",
    "if 0 < x < 20:\n",
    "  print('참')"
   ]
  },
  {
   "cell_type": "markdown",
   "metadata": {},
   "source": [
    "## elif 사용하기"
   ]
  },
  {
   "cell_type": "markdown",
   "metadata": {},
   "source": [
    "```python\n",
    "if 콜라 버튼을 눌렀다면:\n",
    "  콜라를 내보냄\n",
    "elif 사이다 버튼을 눌렀다면:\n",
    "  사이다를 내보냄\n",
    "elif 환타 버튼을 눌렀다면:\n",
    "  환타를 내보냄:\n",
    "else:\n",
    "  제공하지 않는 메뉴\n",
    "```"
   ]
  },
  {
   "cell_type": "code",
   "execution_count": 12,
   "metadata": {},
   "outputs": [
    {
     "name": "stdout",
     "output_type": "stream",
     "text": [
      "10도 20도 아닙니다.\n"
     ]
    }
   ],
   "source": [
    "x = 30\n",
    "\n",
    "if x == 10:             # x가 10일 때\n",
    "  print('10입니다.')\n",
    "elif x == 20:           # x가 20일 때\n",
    "  print('20입니다.')\n",
    "\n",
    "# else가 먼저 나오면 안됨\n",
    "else:                   # 앞의 조건식에 모두 만족하지 않을 때\n",
    "  print('10도 20도 아닙니다.')"
   ]
  },
  {
   "cell_type": "markdown",
   "metadata": {},
   "source": [
    "## for 반복문으로 Hello, world! 100번 출력하기"
   ]
  },
  {
   "cell_type": "markdown",
   "metadata": {},
   "source": [
    "```python\n",
    "for 변수 in range(횟수):\n",
    "  반복할 코드\n",
    "```"
   ]
  },
  {
   "cell_type": "code",
   "execution_count": 13,
   "metadata": {},
   "outputs": [
    {
     "name": "stdout",
     "output_type": "stream",
     "text": [
      "0\n",
      "1\n",
      "2\n",
      "3\n",
      "4\n",
      "5\n",
      "6\n",
      "7\n",
      "8\n",
      "9\n",
      "10\n",
      "11\n",
      "12\n",
      "13\n",
      "14\n",
      "15\n",
      "16\n",
      "17\n",
      "18\n",
      "19\n",
      "20\n",
      "21\n",
      "22\n",
      "23\n",
      "24\n",
      "25\n",
      "26\n",
      "27\n",
      "28\n",
      "29\n",
      "30\n",
      "31\n",
      "32\n",
      "33\n",
      "34\n",
      "35\n",
      "36\n",
      "37\n",
      "38\n",
      "39\n",
      "40\n",
      "41\n",
      "42\n",
      "43\n",
      "44\n",
      "45\n",
      "46\n",
      "47\n",
      "48\n",
      "49\n",
      "50\n",
      "51\n",
      "52\n",
      "53\n",
      "54\n",
      "55\n",
      "56\n",
      "57\n",
      "58\n",
      "59\n",
      "60\n",
      "61\n",
      "62\n",
      "63\n",
      "64\n",
      "65\n",
      "66\n",
      "67\n",
      "68\n",
      "69\n",
      "70\n",
      "71\n",
      "72\n",
      "73\n",
      "74\n",
      "75\n",
      "76\n",
      "77\n",
      "78\n",
      "79\n",
      "80\n",
      "81\n",
      "82\n",
      "83\n",
      "84\n",
      "85\n",
      "86\n",
      "87\n",
      "88\n",
      "89\n",
      "90\n",
      "91\n",
      "92\n",
      "93\n",
      "94\n",
      "95\n",
      "96\n",
      "97\n",
      "98\n",
      "99\n"
     ]
    }
   ],
   "source": [
    "# 반복문에서 변수의 변화는?\n",
    "for i in range(100): # range에서 숫자를 꺼내서 i에 넣음\n",
    "  print(i)\n"
   ]
  },
  {
   "cell_type": "markdown",
   "metadata": {},
   "source": [
    "### for와 range 응용하기\n",
    "***"
   ]
  },
  {
   "cell_type": "code",
   "execution_count": 14,
   "metadata": {},
   "outputs": [
    {
     "name": "stdout",
     "output_type": "stream",
     "text": [
      "10\t8\t6\t4\t2\t\n",
      "10\t8\t6\t4\t2\t"
     ]
    }
   ],
   "source": [
    "for i in range(10, 0, -2):\n",
    "  print(i, end='\\t')\n",
    "print() # 동일함\n",
    "for i in reversed(range(2, 12, 2)):\n",
    "  print(i, end='\\t')"
   ]
  },
  {
   "cell_type": "markdown",
   "metadata": {},
   "source": [
    "### 시퀀스 객체로 반복\n",
    "***"
   ]
  },
  {
   "cell_type": "code",
   "execution_count": 15,
   "metadata": {},
   "outputs": [
    {
     "name": "stdout",
     "output_type": "stream",
     "text": [
      "1\t2\t3\t\n",
      "1\t2\t3\t\n",
      "1\t2\t3\t"
     ]
    }
   ],
   "source": [
    "for i in [1,2,3]:\n",
    "  print(i, end = '\\t')\n",
    "print()\n",
    "for i in 1,2,3:\n",
    "  print(i, end = '\\t')\n",
    "print()\n",
    "for i in '123':\n",
    "  print(i, end = '\\t')\n",
    "\n",
    "# reversed 가능"
   ]
  },
  {
   "cell_type": "markdown",
   "metadata": {},
   "source": [
    "## while 반복문 사용"
   ]
  },
  {
   "cell_type": "code",
   "execution_count": 16,
   "metadata": {},
   "outputs": [
    {
     "name": "stdout",
     "output_type": "stream",
     "text": [
      "Hello, world! Hello, world! Hello, world! Hello, world! Hello, world! Hello, world! Hello, world! Hello, world! Hello, world! Hello, world! Hello, world! Hello, world! Hello, world! Hello, world! Hello, world! Hello, world! Hello, world! Hello, world! Hello, world! Hello, world! Hello, world! Hello, world! Hello, world! Hello, world! Hello, world! Hello, world! Hello, world! Hello, world! Hello, world! Hello, world! Hello, world! Hello, world! Hello, world! Hello, world! Hello, world! Hello, world! Hello, world! Hello, world! Hello, world! Hello, world! Hello, world! Hello, world! Hello, world! Hello, world! Hello, world! Hello, world! Hello, world! Hello, world! Hello, world! Hello, world! Hello, world! Hello, world! Hello, world! Hello, world! Hello, world! Hello, world! Hello, world! Hello, world! Hello, world! Hello, world! Hello, world! Hello, world! Hello, world! Hello, world! Hello, world! Hello, world! Hello, world! Hello, world! Hello, world! Hello, world! Hello, world! Hello, world! Hello, world! Hello, world! Hello, world! Hello, world! Hello, world! Hello, world! Hello, world! Hello, world! Hello, world! Hello, world! Hello, world! Hello, world! Hello, world! Hello, world! Hello, world! Hello, world! Hello, world! Hello, world! Hello, world! Hello, world! Hello, world! Hello, world! Hello, world! Hello, world! Hello, world! Hello, world! Hello, world! Hello, world! "
     ]
    }
   ],
   "source": [
    "i = 0                     # 초기식\n",
    "while i < 100:            # while 조건식\n",
    "  print('Hello, world!', end=' ')    # 반복할 코드\n",
    "  i += 1                    # 변화식\n",
    "\n",
    "# 초기값, 감소, 입력 다됨"
   ]
  },
  {
   "cell_type": "markdown",
   "metadata": {},
   "source": [
    "### 횟수가 정해지지 않은 경우\n",
    "***"
   ]
  },
  {
   "cell_type": "code",
   "execution_count": 17,
   "metadata": {},
   "outputs": [
    {
     "name": "stdout",
     "output_type": "stream",
     "text": [
      "6\t2\t6\t6\t2\t6\t6\t2\t5\t4\t5\t1\t2\t4\t3\t"
     ]
    }
   ],
   "source": [
    "import random\n",
    "\n",
    "i = 0\n",
    "while i != 3:\n",
    "  i = random.randint(1,6)\n",
    "  print(i, end='\\t')"
   ]
  },
  {
   "cell_type": "markdown",
   "metadata": {},
   "source": [
    "### while 반복문으로 무한 루프 만들기\n",
    "***"
   ]
  },
  {
   "cell_type": "code",
   "execution_count": 18,
   "metadata": {},
   "outputs": [],
   "source": [
    "# 무한 반복문\n",
    "#while True: # 물론 숫자와 문자열도 가능함\n",
    "  #print('H', end= '')"
   ]
  },
  {
   "cell_type": "markdown",
   "metadata": {},
   "source": [
    "## break, continue로 반복문 제어하기"
   ]
  },
  {
   "cell_type": "markdown",
   "metadata": {},
   "source": [
    "### break로 반복문 끝내기\n",
    "***"
   ]
  },
  {
   "cell_type": "code",
   "execution_count": 19,
   "metadata": {},
   "outputs": [
    {
     "name": "stdout",
     "output_type": "stream",
     "text": [
      "0 1 2 3 4 5 6 7 8 9 10 11 12 13 14 15 16 17 18 19 20 21 22 23 24 25 26 27 28 29 30 31 32 33 34 35 36 37 38 39 40 41 42 43 44 45 46 47 48 49 50 51 52 53 54 55 56 57 58 59 60 61 62 63 64 65 66 67 68 69 70 71 72 73 74 75 76 77 78 79 80 81 82 83 84 85 86 87 88 89 90 91 92 93 94 95 96 97 98 99 0 1 2 3 4 5 6 7 8 9 10 11 12 13 14 15 16 17 18 19 20 21 22 23 24 25 26 27 28 29 30 31 32 33 34 35 36 37 38 39 40 41 42 43 44 45 46 47 48 49 50 51 52 53 54 55 56 57 58 59 60 61 62 63 64 65 66 67 68 69 70 71 72 73 74 75 76 77 78 79 80 81 82 83 84 85 86 87 88 89 90 91 92 93 94 95 96 97 98 99 100 "
     ]
    }
   ],
   "source": [
    "i = 0\n",
    "while True:    # 무한 루프\n",
    "  print(i, end=' ')\n",
    "  i += 1          # i를 1씩 증가시킴\n",
    "  if i == 100:    # i가 100일 때\n",
    "    break       # 반복문을 끝냄. while의 제어흐름을 벗어남\n",
    "\n",
    "# 반복문에서도 사용 가능\n",
    "for i in range(10000):\n",
    "  print(i, end= ' ')\n",
    "  if i == 100:\n",
    "    break\n"
   ]
  },
  {
   "cell_type": "markdown",
   "metadata": {},
   "source": [
    "### continue로 코드 실행 건너뛰기\n",
    "***"
   ]
  },
  {
   "cell_type": "code",
   "execution_count": 20,
   "metadata": {},
   "outputs": [
    {
     "name": "stdout",
     "output_type": "stream",
     "text": [
      "1 3 5 7 9 11 13 15 17 19 21 23 25 27 29 31 33 35 37 39 41 43 45 47 49 51 53 55 57 59 61 63 65 67 69 71 73 75 77 79 81 83 85 87 89 91 93 95 97 99 1\n",
      "3\n",
      "5\n",
      "7\n",
      "9\n",
      "11\n",
      "13\n",
      "15\n",
      "17\n",
      "19\n",
      "21\n",
      "23\n",
      "25\n",
      "27\n",
      "29\n",
      "31\n",
      "33\n",
      "35\n",
      "37\n",
      "39\n",
      "41\n",
      "43\n",
      "45\n",
      "47\n",
      "49\n",
      "51\n",
      "53\n",
      "55\n",
      "57\n",
      "59\n",
      "61\n",
      "63\n",
      "65\n",
      "67\n",
      "69\n",
      "71\n",
      "73\n",
      "75\n",
      "77\n",
      "79\n",
      "81\n",
      "83\n",
      "85\n",
      "87\n",
      "89\n",
      "91\n",
      "93\n",
      "95\n",
      "97\n",
      "99\n"
     ]
    }
   ],
   "source": [
    "# 입력을 넣으면 범위를 정할 수 있음\n",
    "\n",
    "for i in range(100):\n",
    "  if i % 2 == 0:\n",
    "    continue\n",
    "  print(i, end = ' ')\n",
    "# while도 가능함\n",
    "i = 0\n",
    "while i < 100:        # i가 100보다 작을 때 반복. 0부터 99까지 증가하면서 100번 반복\n",
    "    i += 1            # i를 1씩 증가시킴\n",
    "    if i % 2 == 0:    # i를 2로 나누었을 때 나머지가 0이면 짝수\n",
    "        continue      # 아래 코드를 실행하지 않고 건너뜀\n",
    "    print(i)"
   ]
  },
  {
   "cell_type": "markdown",
   "metadata": {},
   "source": [
    "# 300제(101 ~ 130, 131 ~ 200)"
   ]
  },
  {
   "cell_type": "markdown",
   "metadata": {},
   "source": [
    "## 101 ~ 110(bool, 참 거짓 연산자, if, else 들여쓰기)"
   ]
  },
  {
   "cell_type": "markdown",
   "metadata": {},
   "source": [
    "boolean"
   ]
  },
  {
   "cell_type": "code",
   "execution_count": 21,
   "metadata": {},
   "outputs": [
    {
     "name": "stdout",
     "output_type": "stream",
     "text": [
      "False\n"
     ]
    },
    {
     "data": {
      "text/plain": [
       "False"
      ]
     },
     "execution_count": 21,
     "metadata": {},
     "output_type": "execute_result"
    }
   ],
   "source": [
    "print(3 == 5)\n",
    "False"
   ]
  },
  {
   "cell_type": "code",
   "execution_count": 22,
   "metadata": {},
   "outputs": [
    {
     "name": "stdout",
     "output_type": "stream",
     "text": [
      "True\n"
     ]
    },
    {
     "data": {
      "text/plain": [
       "True"
      ]
     },
     "execution_count": 22,
     "metadata": {},
     "output_type": "execute_result"
    }
   ],
   "source": [
    "print(3 < 5)\n",
    "True"
   ]
  },
  {
   "cell_type": "code",
   "execution_count": 23,
   "metadata": {},
   "outputs": [
    {
     "name": "stdout",
     "output_type": "stream",
     "text": [
      "True\n"
     ]
    },
    {
     "data": {
      "text/plain": [
       "True"
      ]
     },
     "execution_count": 23,
     "metadata": {},
     "output_type": "execute_result"
    }
   ],
   "source": [
    "x = 4\n",
    "print(1 < x < 5)\n",
    "True"
   ]
  },
  {
   "cell_type": "code",
   "execution_count": 24,
   "metadata": {},
   "outputs": [
    {
     "name": "stdout",
     "output_type": "stream",
     "text": [
      "True\n"
     ]
    },
    {
     "data": {
      "text/plain": [
       "True"
      ]
     },
     "execution_count": 24,
     "metadata": {},
     "output_type": "execute_result"
    }
   ],
   "source": [
    "print((3 == 3) and ( 4 != 3))\n",
    "True"
   ]
  },
  {
   "cell_type": "code",
   "execution_count": 25,
   "metadata": {},
   "outputs": [],
   "source": [
    "#print(3 => 4)\n",
    "# 기호가 먼저 나와야함"
   ]
  },
  {
   "cell_type": "code",
   "execution_count": 26,
   "metadata": {},
   "outputs": [
    {
     "data": {
      "text/plain": [
       "'h'"
      ]
     },
     "execution_count": 26,
     "metadata": {},
     "output_type": "execute_result"
    }
   ],
   "source": [
    "if 4 < 3:\n",
    "  print('h')\n",
    "'h'"
   ]
  },
  {
   "cell_type": "code",
   "execution_count": 27,
   "metadata": {},
   "outputs": [
    {
     "name": "stdout",
     "output_type": "stream",
     "text": [
      "e\n"
     ]
    },
    {
     "data": {
      "text/plain": [
       "'e'"
      ]
     },
     "execution_count": 27,
     "metadata": {},
     "output_type": "execute_result"
    }
   ],
   "source": [
    "if 4 < 3:\n",
    "  print('h')\n",
    "else:\n",
    "  print('e')\n",
    "'e'"
   ]
  },
  {
   "cell_type": "code",
   "execution_count": 28,
   "metadata": {},
   "outputs": [
    {
     "name": "stdout",
     "output_type": "stream",
     "text": [
      "1\n",
      "2\n",
      "4\n"
     ]
    },
    {
     "data": {
      "text/plain": [
       "(1, 2, 4)"
      ]
     },
     "execution_count": 28,
     "metadata": {},
     "output_type": "execute_result"
    }
   ],
   "source": [
    "if True:\n",
    "  print(1)\n",
    "  print(2)\n",
    "else:\n",
    "  print(3)\n",
    "print(4)\n",
    "1,2,4"
   ]
  },
  {
   "cell_type": "code",
   "execution_count": 29,
   "metadata": {},
   "outputs": [
    {
     "name": "stdout",
     "output_type": "stream",
     "text": [
      "3\n",
      "5\n"
     ]
    },
    {
     "data": {
      "text/plain": [
       "(3, 5)"
      ]
     },
     "execution_count": 29,
     "metadata": {},
     "output_type": "execute_result"
    }
   ],
   "source": [
    "if True:\n",
    "  if False:\n",
    "    print(1)\n",
    "    print(2)\n",
    "  else:\n",
    "    print(3)\n",
    "else:\n",
    "  print(4)\n",
    "print(5)\n",
    "3, 5"
   ]
  },
  {
   "cell_type": "markdown",
   "metadata": {},
   "source": [
    "## 111 ~ 120(입력 처리, in, dict)"
   ]
  },
  {
   "cell_type": "code",
   "execution_count": 30,
   "metadata": {},
   "outputs": [],
   "source": [
    "# 입력값 2번 출력\n",
    "#input() * 2"
   ]
  },
  {
   "cell_type": "code",
   "execution_count": 31,
   "metadata": {},
   "outputs": [],
   "source": [
    "# 숫자 입력 + 10\n",
    "#int(input()) + 10"
   ]
  },
  {
   "cell_type": "code",
   "execution_count": 32,
   "metadata": {},
   "outputs": [],
   "source": [
    "#if int(input()) % 2 == 0:\n",
    "#  print('even')\n",
    "#else:\n",
    "#  print('odd')"
   ]
  },
  {
   "cell_type": "code",
   "execution_count": 33,
   "metadata": {},
   "outputs": [
    {
     "name": "stdout",
     "output_type": "stream",
     "text": [
      "255\n"
     ]
    }
   ],
   "source": [
    "#n = int(input()) + 20 \n",
    "n = 244 + 20\n",
    "if n // 255 == 1:\n",
    "  n = 255\n",
    "print(n)"
   ]
  },
  {
   "cell_type": "code",
   "execution_count": 34,
   "metadata": {},
   "outputs": [
    {
     "name": "stdout",
     "output_type": "stream",
     "text": [
      "224\n"
     ]
    }
   ],
   "source": [
    "#n = int(input()) - 20 \n",
    "n = 244 - 20\n",
    "if n // 255 == 1:\n",
    "  n = 255\n",
    "elif n < 0:\n",
    "  n = 0\n",
    "print(n)"
   ]
  },
  {
   "cell_type": "code",
   "execution_count": 35,
   "metadata": {},
   "outputs": [],
   "source": [
    "#if int(input().split(':')[1]) == 0:\n",
    "#  print('통과')\n",
    "#else:\n",
    "#  print('실패')"
   ]
  },
  {
   "cell_type": "code",
   "execution_count": 36,
   "metadata": {},
   "outputs": [
    {
     "name": "stdout",
     "output_type": "stream",
     "text": [
      "O\n"
     ]
    }
   ],
   "source": [
    "fruit = [\"사과\", \"포도\", \"홍시\"]\n",
    "#data = input()\n",
    "data = '사과'\n",
    "if data in fruit:\n",
    "  print('O')\n",
    "else:\n",
    "  print('X')"
   ]
  },
  {
   "cell_type": "code",
   "execution_count": 37,
   "metadata": {},
   "outputs": [
    {
     "name": "stdout",
     "output_type": "stream",
     "text": [
      "X\n"
     ]
    }
   ],
   "source": [
    "warn_investment_list = [\"Microsoft\", \"Google\", \"Naver\", \"Kakao\", \"SAMSUNG\", \"LG\"]\n",
    "data = 'test'\n",
    "if data in warn_investment_list:\n",
    "  print('O')\n",
    "else:\n",
    "  print('X')"
   ]
  },
  {
   "cell_type": "code",
   "execution_count": 38,
   "metadata": {},
   "outputs": [
    {
     "name": "stdout",
     "output_type": "stream",
     "text": [
      "O\n"
     ]
    }
   ],
   "source": [
    "fruit = {\"봄\" : \"딸기\", \"여름\" : \"토마토\", \"가을\" : \"사과\"}\n",
    "data = '봄'\n",
    "if data in fruit:\n",
    "  print('O')\n",
    "else:\n",
    "  print('X')"
   ]
  },
  {
   "cell_type": "code",
   "execution_count": 39,
   "metadata": {},
   "outputs": [
    {
     "name": "stdout",
     "output_type": "stream",
     "text": [
      "X\n"
     ]
    }
   ],
   "source": [
    "fruit = {\"봄\" : \"딸기\", \"여름\" : \"토마토\", \"가을\" : \"사과\"}\n",
    "data = '봄'\n",
    "if data in fruit.values():\n",
    "  print('O')\n",
    "else:\n",
    "  print('X')"
   ]
  },
  {
   "cell_type": "markdown",
   "metadata": {},
   "source": [
    "## 121 ~ 130"
   ]
  },
  {
   "cell_type": "code",
   "execution_count": 40,
   "metadata": {},
   "outputs": [
    {
     "name": "stdout",
     "output_type": "stream",
     "text": [
      "A\n"
     ]
    }
   ],
   "source": [
    "#data = input()\n",
    "data = 'a'\n",
    "if data.islower():\n",
    "  print(data.upper())\n",
    "else:\n",
    "  print(data.lower())"
   ]
  },
  {
   "cell_type": "code",
   "execution_count": 41,
   "metadata": {},
   "outputs": [
    {
     "name": "stdout",
     "output_type": "stream",
     "text": [
      "A\n"
     ]
    }
   ],
   "source": [
    "scores = dict(zip([80,60,40,20,0], ['A', 'B', 'C', 'D', 'E']))\n",
    "score = 83\n",
    "for k, v in scores.items():\n",
    "  if k < score:\n",
    "    print(v)\n",
    "    break"
   ]
  },
  {
   "cell_type": "code",
   "execution_count": 42,
   "metadata": {},
   "outputs": [
    {
     "name": "stdout",
     "output_type": "stream",
     "text": [
      "116700.00\n"
     ]
    }
   ],
   "source": [
    "exchange = dict(zip(['달러', '엔', '유로', '위안'], [1167, 1.096, 1268, 171]))\n",
    "data = '100 달러'\n",
    "# data = input()\n",
    "num, name = data.split()\n",
    "print(f'{int(num) * exchange[name]:0.2f}')"
   ]
  },
  {
   "cell_type": "code",
   "execution_count": 43,
   "metadata": {},
   "outputs": [
    {
     "data": {
      "text/plain": [
       "3"
      ]
     },
     "execution_count": 43,
     "metadata": {},
     "output_type": "execute_result"
    }
   ],
   "source": [
    "#max(list(map(int, input().split())))"
   ]
  },
  {
   "cell_type": "code",
   "execution_count": 44,
   "metadata": {},
   "outputs": [
    {
     "name": "stdout",
     "output_type": "stream",
     "text": [
      "SKT\n"
     ]
    }
   ],
   "source": [
    "phone_num = dict(zip(['011', '016', '019', '010'], ['SKT', 'KT', 'LGU', '알수없음']))\n",
    "#data = input()\n",
    "data = '011-345-1922'\n",
    "for phone in phone_num:\n",
    "  if data.split('-')[0] == phone:\n",
    "    print(phone_num[phone])\n",
    "    break"
   ]
  },
  {
   "cell_type": "code",
   "execution_count": 45,
   "metadata": {},
   "outputs": [
    {
     "data": {
      "text/plain": [
       "'도봉구'"
      ]
     },
     "execution_count": 45,
     "metadata": {},
     "output_type": "execute_result"
    }
   ],
   "source": [
    "post_num = dict(zip(list(map(lambda x : '01' + str(x), range(10))), ['강북구'] * 3 + ['도봉구'] * 3 + ['노원구'] * 4))\n",
    "data = '01400'\n",
    "post_num[data[:3]]"
   ]
  },
  {
   "cell_type": "code",
   "execution_count": 46,
   "metadata": {},
   "outputs": [
    {
     "name": "stdout",
     "output_type": "stream",
     "text": [
      "남\n"
     ]
    }
   ],
   "source": [
    "data = '821010-1635210'\n",
    "if int(data.split('-')[1][0]) % 2 == 0:\n",
    "  print('여')\n",
    "else:\n",
    "  print('남')"
   ]
  },
  {
   "cell_type": "code",
   "execution_count": 47,
   "metadata": {},
   "outputs": [
    {
     "name": "stdout",
     "output_type": "stream",
     "text": [
      "지방\n"
     ]
    }
   ],
   "source": [
    "data = '821010-1635210'\n",
    "if int(data.split('-')[1][1:3]) <= 8:\n",
    "  print('서울')\n",
    "else:\n",
    "  print('지방')"
   ]
  },
  {
   "cell_type": "code",
   "execution_count": 48,
   "metadata": {},
   "outputs": [
    {
     "name": "stdout",
     "output_type": "stream",
     "text": [
      "X\n"
     ]
    }
   ],
   "source": [
    "data = '821010-1635210'\n",
    "data = list(map(int, data.split('-')[0] + data.split('-')[1]))\n",
    "nums = list(range(2, 10)) * 2\n",
    "\n",
    "total = 0\n",
    "for i, n in enumerate(data):\n",
    "  total += n * nums[i]\n",
    "\n",
    "if 11 - total % 11 == data[-1]:\n",
    "  print('O')\n",
    "else:\n",
    "  print('X')\n"
   ]
  },
  {
   "cell_type": "code",
   "execution_count": 49,
   "metadata": {},
   "outputs": [],
   "source": [
    "import requests\n",
    "btc = requests.get(\"https://api.bithumb.com/public/ticker/\").json()['data']"
   ]
  },
  {
   "cell_type": "code",
   "execution_count": 50,
   "metadata": {},
   "outputs": [
    {
     "name": "stdout",
     "output_type": "stream",
     "text": [
      "O\n"
     ]
    }
   ],
   "source": [
    "btc = dict(zip(btc.keys(), map(float, btc.values())))\n",
    "\n",
    "flex = btc['max_price'] - btc['min_price']\n",
    "if btc['opening_price'] + flex > btc['max_price']:\n",
    "  print('O')\n",
    "else:\n",
    "  print('X')"
   ]
  }
 ],
 "metadata": {
  "kernelspec": {
   "display_name": "Python 3.8.9 64-bit",
   "language": "python",
   "name": "python3"
  },
  "language_info": {
   "codemirror_mode": {
    "name": "ipython",
    "version": 3
   },
   "file_extension": ".py",
   "mimetype": "text/x-python",
   "name": "python",
   "nbconvert_exporter": "python",
   "pygments_lexer": "ipython3",
   "version": "3.8.9"
  },
  "orig_nbformat": 4,
  "vscode": {
   "interpreter": {
    "hash": "31f2aee4e71d21fbe5cf8b01ff0e069b9275f58929596ceb00d14d90e3e16cd6"
   }
  }
 },
 "nbformat": 4,
 "nbformat_minor": 2
}
