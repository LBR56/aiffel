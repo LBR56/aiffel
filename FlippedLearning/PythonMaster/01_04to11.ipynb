{
 "cells": [
  {
   "cell_type": "markdown",
   "metadata": {},
   "source": [
    "# 1 day"
   ]
  },
  {
   "cell_type": "markdown",
   "metadata": {},
   "source": [
    "## 목차\n",
    "- 기본 문법 알아보기\n",
    "- 숫자 계산하기\n",
    "- 변수와 입력 사용하기\n",
    "- 출력 방법 알아보기\n",
    "- 불과 비교, 논리 연산자 알아보기\n",
    "- 문자열 사용하기\n",
    "- 리스트와 튜플 사용하기\n",
    "- 시퀀스 자료형 활용하기"
   ]
  },
  {
   "cell_type": "markdown",
   "metadata": {},
   "source": [
    "## 기본 문법 알아보기"
   ]
  },
  {
   "cell_type": "markdown",
   "metadata": {},
   "source": [
    "### 세미콜론\n",
    "***"
   ]
  },
  {
   "cell_type": "code",
   "execution_count": 1,
   "metadata": {},
   "outputs": [
    {
     "name": "stdout",
     "output_type": "stream",
     "text": [
      "0\n",
      "1\n",
      "2\n"
     ]
    }
   ],
   "source": [
    "# 세미콜론 필수 아님\n",
    "print(0)\n",
    "\n",
    "# 한 줄 여러 구문 사용시 사용\n",
    "print(1);print(2)"
   ]
  },
  {
   "cell_type": "markdown",
   "metadata": {},
   "source": [
    "### 주석\n",
    "***"
   ]
  },
  {
   "cell_type": "code",
   "execution_count": 2,
   "metadata": {},
   "outputs": [
    {
     "name": "stdout",
     "output_type": "stream",
     "text": [
      "0\n"
     ]
    }
   ],
   "source": [
    "# `ctrl + /`를 누르면 자동으로 주석처리 됨\n",
    "\n",
    "print(0) # 뒤에 한줄 주석 가능 "
   ]
  },
  {
   "cell_type": "markdown",
   "metadata": {},
   "source": [
    "### 들여쓰기\n",
    "***"
   ]
  },
  {
   "cell_type": "code",
   "execution_count": 3,
   "metadata": {},
   "outputs": [],
   "source": [
    "# 들여쓰기로 코드 블록을 만듬\n",
    "if 10 == '10':\n",
    "  print('True')"
   ]
  },
  {
   "cell_type": "markdown",
   "metadata": {},
   "source": [
    "### 코드 블록\n",
    "***"
   ]
  },
  {
   "cell_type": "code",
   "execution_count": 4,
   "metadata": {},
   "outputs": [],
   "source": [
    "# 만들 때, tab과 스페이스를 섞어 사용하면 안됨"
   ]
  },
  {
   "cell_type": "markdown",
   "metadata": {},
   "source": [
    "## 숫자 계산하기"
   ]
  },
  {
   "cell_type": "markdown",
   "metadata": {},
   "source": [
    "### 정수 계산하기\n",
    "***"
   ]
  },
  {
   "cell_type": "code",
   "execution_count": 5,
   "metadata": {},
   "outputs": [
    {
     "name": "stdout",
     "output_type": "stream",
     "text": [
      "6 0 9 1.0\n",
      "1 0\n",
      "27\n",
      "3\n",
      "<class 'int'>\n"
     ]
    }
   ],
   "source": [
    "# 사칙 연산 가능\n",
    "print(3 + 3, 3 - 3, 3 * 3, 3 / 3)\n",
    "\n",
    "# 몫, 나머지 연산 가능\n",
    "print(3 // 3, 3 % 3)\n",
    "\n",
    "# 거듭제곱 가능\n",
    "print(3 ** 3)\n",
    "\n",
    "# 값을 정수로 변경할 수 있음\n",
    "print(int(3.3))\n",
    "\n",
    "# 자료형 확인\n",
    "print(type(3))"
   ]
  },
  {
   "cell_type": "markdown",
   "metadata": {},
   "source": [
    "### 실수 계산하기\n",
    "***"
   ]
  },
  {
   "cell_type": "code",
   "execution_count": 6,
   "metadata": {},
   "outputs": [
    {
     "name": "stdout",
     "output_type": "stream",
     "text": [
      "6.6 0.0 10.889999999999999 1.0\n",
      "6.3\n",
      "3.3\n",
      "<class 'float'>\n"
     ]
    }
   ],
   "source": [
    "# 똑같이 연산이 되지만 오차가 있음\n",
    "print(3.3 + 3.3, 3.3 - 3.3, 3.3 * 3.3, 3.3 / 3.3)\n",
    "\n",
    "# 실수와 정수 계산시 실수화\n",
    "print(3 + 3.3)\n",
    "\n",
    "# 값을 실수로 변경할 수 있음\n",
    "print(float('3.3'))\n",
    "\n",
    "# 자료형 확인\n",
    "print(type(3.3))"
   ]
  },
  {
   "cell_type": "markdown",
   "metadata": {},
   "source": [
    "### 괄호 사용하기\n",
    "***"
   ]
  },
  {
   "cell_type": "code",
   "execution_count": 7,
   "metadata": {},
   "outputs": [
    {
     "name": "stdout",
     "output_type": "stream",
     "text": [
      "7 9\n"
     ]
    }
   ],
   "source": [
    "# 괄호 사용 가능\n",
    "print(1 + 2 * 3, (1 + 2) * 3)"
   ]
  },
  {
   "cell_type": "markdown",
   "metadata": {},
   "source": [
    "## 변수와 입력 사용하기"
   ]
  },
  {
   "cell_type": "markdown",
   "metadata": {},
   "source": [
    "### 변수 만들기\n",
    "***"
   ]
  },
  {
   "cell_type": "code",
   "execution_count": 8,
   "metadata": {},
   "outputs": [
    {
     "name": "stdout",
     "output_type": "stream",
     "text": [
      "<class 'int'> <class 'str'>\n"
     ]
    }
   ],
   "source": [
    "# 변수 여러 개 만들기\n",
    "x, y = 10, 'Hello world'\n",
    "\n",
    "# 변수 자료형 확인\n",
    "print(type(x), type(y))\n",
    "\n",
    "# 동일한 내용으로 변수 만들기\n",
    "x = y = 10 \n",
    "\n",
    "# 만든 변수를 삭제할 수 있음\n",
    "del x"
   ]
  },
  {
   "cell_type": "markdown",
   "metadata": {},
   "source": [
    "### 변수로 계산하기\n",
    "***"
   ]
  },
  {
   "cell_type": "code",
   "execution_count": 9,
   "metadata": {},
   "outputs": [],
   "source": [
    "a = b = 1\n",
    "\n",
    "# 변수간 계산이 가능함\n",
    "a + b\n",
    "\n",
    "# 변한 값을 다시 할당 해야함\n",
    "a = a + 1\n",
    "\n",
    "# 변수를 2번 적기 귀찮으니 생략 가능\n",
    "a += 1\n"
   ]
  },
  {
   "cell_type": "markdown",
   "metadata": {},
   "source": [
    "### 입력 값을 변수에 저장하기\n",
    "***"
   ]
  },
  {
   "cell_type": "code",
   "execution_count": 10,
   "metadata": {},
   "outputs": [],
   "source": [
    "# 입력창이 뜨면 입력하면 됨\n",
    "#input('문자열을 입력하세요 : ')\n",
    "\n",
    "# 변수에 입력값을 할당할 수 있음\n",
    "#x = input()\n",
    "\n",
    "# input은 문자열로 받기 때문에 type을 변경해 줘야함"
   ]
  },
  {
   "cell_type": "markdown",
   "metadata": {},
   "source": [
    "### 입력 값을 변수 두 개에 저장하기\n",
    "***"
   ]
  },
  {
   "cell_type": "code",
   "execution_count": 11,
   "metadata": {},
   "outputs": [],
   "source": [
    "# 값을 2개 받아 옴(2개 이상은 에러가 발생)\n",
    "# 숫자가 아니라면 map을 빼고 사용\n",
    "# 나누는 기준을 `,`로 사용, 비어있으면 ` ` 기준\n",
    "#a, b = map(int, input().split(','))\n",
    "\n"
   ]
  },
  {
   "cell_type": "markdown",
   "metadata": {},
   "source": [
    "## 출력 방법 알아보기"
   ]
  },
  {
   "cell_type": "markdown",
   "metadata": {},
   "source": [
    "### 값을 여러개 출력하기\n",
    "***"
   ]
  },
  {
   "cell_type": "code",
   "execution_count": 12,
   "metadata": {},
   "outputs": [
    {
     "name": "stdout",
     "output_type": "stream",
     "text": [
      "1,2,3\n"
     ]
    }
   ],
   "source": [
    "# 위에서 사용함\n",
    "# 나누는 기준을 `,`로 사용, 비어있으면 ` ` 기준\n",
    "print(1, 2, 3, sep= ',')"
   ]
  },
  {
   "cell_type": "markdown",
   "metadata": {},
   "source": [
    "### 줄바꿈 활용하기\n",
    "***"
   ]
  },
  {
   "cell_type": "code",
   "execution_count": 13,
   "metadata": {},
   "outputs": [
    {
     "name": "stdout",
     "output_type": "stream",
     "text": [
      "1\n",
      "2\n",
      "1 2 3 "
     ]
    }
   ],
   "source": [
    "# \\n은 줄바꿈 기호\n",
    "print('1\\n2')\n",
    "\n",
    "# end를 설정해서 print가 동시에 되도록 변경 가능\n",
    "print('1', end=' ');print('2', end=' ');print('3', end=' ')"
   ]
  },
  {
   "cell_type": "markdown",
   "metadata": {},
   "source": [
    "## 불과 비교, 논리 연산자 알아보기"
   ]
  },
  {
   "cell_type": "markdown",
   "metadata": {},
   "source": [
    "### 불과 비교 연산자 사용하기\n",
    "***"
   ]
  },
  {
   "cell_type": "code",
   "execution_count": 14,
   "metadata": {},
   "outputs": [
    {
     "name": "stdout",
     "output_type": "stream",
     "text": [
      "True True True\n",
      "False True False True\n",
      "True False True\n"
     ]
    },
    {
     "name": "stderr",
     "output_type": "stream",
     "text": [
      "<>:11: SyntaxWarning: \"is\" with a literal. Did you mean \"==\"?\n",
      "<>:11: SyntaxWarning: \"is not\" with a literal. Did you mean \"!=\"?\n",
      "<>:11: SyntaxWarning: \"is\" with a literal. Did you mean \"==\"?\n",
      "<>:11: SyntaxWarning: \"is not\" with a literal. Did you mean \"!=\"?\n",
      "/var/folders/3c/92085pds035_bky462x8tl0h0000gn/T/ipykernel_11647/54897342.py:11: SyntaxWarning: \"is\" with a literal. Did you mean \"==\"?\n",
      "  print(1 == 1.0, 1 is 1.0, 1 is not 1.0)\n",
      "/var/folders/3c/92085pds035_bky462x8tl0h0000gn/T/ipykernel_11647/54897342.py:11: SyntaxWarning: \"is not\" with a literal. Did you mean \"!=\"?\n",
      "  print(1 == 1.0, 1 is 1.0, 1 is not 1.0)\n"
     ]
    }
   ],
   "source": [
    "# True False 라는 불리언이 있음\n",
    "True, False\n",
    "\n",
    "# 같은지 다른지 확인 가능\n",
    "print(10 == 10, 10 != 5, 't' == 't')\n",
    "\n",
    "# 부등호 가능\n",
    "print(10 < 10, 10 <= 10, 10 > 10, 10 >= 10)\n",
    "\n",
    "# 객체 비교 가능\n",
    "print(1 == 1.0, 1 is 1.0, 1 is not 1.0)"
   ]
  },
  {
   "cell_type": "markdown",
   "metadata": {},
   "source": [
    "### 논리 연산자 사용하기\n",
    "***"
   ]
  },
  {
   "cell_type": "code",
   "execution_count": 15,
   "metadata": {},
   "outputs": [
    {
     "name": "stdout",
     "output_type": "stream",
     "text": [
      "False True False\n"
     ]
    }
   ],
   "source": [
    "# not, and, or 순으로 연산\n",
    "# 괄호로 순서 변경 가능\n",
    "print(not True, True and True, False or False)"
   ]
  },
  {
   "cell_type": "markdown",
   "metadata": {},
   "source": [
    "## 문자열 사용하기"
   ]
  },
  {
   "cell_type": "markdown",
   "metadata": {},
   "source": [
    "### 문자열 사용하기\n",
    "***"
   ]
  },
  {
   "cell_type": "code",
   "execution_count": 16,
   "metadata": {},
   "outputs": [],
   "source": [
    "# 문자열을 선언할 때, `'` 또는 `\"`를 사용할 수 있음\n",
    "text = 'text'\n",
    "text = \"text\"\n",
    "\n",
    "# 3번 연속으로 사용하면 여러 줄 입력이 가능\n",
    "text = '''\n",
    "text'''\n",
    "text = \"\"\"text\n",
    "\"\"\""
   ]
  },
  {
   "cell_type": "markdown",
   "metadata": {},
   "source": [
    "## 리스트와 튜플 사용하기"
   ]
  },
  {
   "cell_type": "markdown",
   "metadata": {},
   "source": [
    "### 리스트 만들기\n",
    "***"
   ]
  },
  {
   "cell_type": "code",
   "execution_count": 17,
   "metadata": {},
   "outputs": [
    {
     "name": "stdout",
     "output_type": "stream",
     "text": [
      "[1, 3, 5, 7, 9]\n"
     ]
    }
   ],
   "source": [
    "# 리스트 만들기\n",
    "a = [1, 2.2, '3']\n",
    "\n",
    "# 빈 리스트 만들기\n",
    "a = [] = list()\n",
    "\n",
    "# range(시작, 끝, 증가폭) 사용한 리스트\n",
    "a = list(range(1, 10, 2))\n",
    "print(a)"
   ]
  },
  {
   "cell_type": "markdown",
   "metadata": {},
   "source": [
    "### 튜플 사용하기\n",
    "***"
   ]
  },
  {
   "cell_type": "code",
   "execution_count": 18,
   "metadata": {},
   "outputs": [
    {
     "name": "stdout",
     "output_type": "stream",
     "text": [
      "(1, 3, 5, 7, 9)\n",
      "[1, 3, 5, 7, 9]\n",
      "(1, 3, 5, 7, 9)\n"
     ]
    }
   ],
   "source": [
    "# 튜플은 2가지 방법으로 만들 수 있음\n",
    "a = 1, 2.2, '3'\n",
    "a = (1, 2.2, '3')\n",
    "\n",
    "# 요소가 한 개인 튜플 가능\n",
    "a = (1,)\n",
    "\n",
    "# range(시작, 끝, 증가폭) 사용한 튜플\n",
    "a = tuple(range(1, 10, 2))\n",
    "print(a)\n",
    "\n",
    "# 리스트와 튜플 변경하기\n",
    "a = list(a)\n",
    "print(a)\n",
    "a = tuple(a)\n",
    "print(a)"
   ]
  },
  {
   "cell_type": "markdown",
   "metadata": {},
   "source": [
    "## 시퀀스 자료형 활용하기"
   ]
  },
  {
   "cell_type": "markdown",
   "metadata": {},
   "source": [
    "### 시퀀스 자료형의 공통 기능 사용하기\n",
    "***"
   ]
  },
  {
   "cell_type": "code",
   "execution_count": 19,
   "metadata": {},
   "outputs": [
    {
     "name": "stdout",
     "output_type": "stream",
     "text": [
      "True False\n",
      "[1, 2, 3]\n",
      "123123\n"
     ]
    }
   ],
   "source": [
    "# 자주 사용하는 시퀀스 자료형은 4가지(리스트, 튜플, range, 문자열)\n",
    "my_list = [1, 2, 3]\n",
    "my_tuple = 1, 2, 3\n",
    "my_range = range(3)\n",
    "my_str = '123'\n",
    "\n",
    "# 시퀀스 객체의 요소 확인\n",
    "print(1 in my_list, 1 not in my_tuple)\n",
    "\n",
    "# 객체 연결(단, range 불가)\n",
    "print([1, 2] + [3])\n",
    "#print(range(3) + range(3))\n",
    "\n",
    "# 반복(단, range 불가)\n",
    "print(my_str * 2)\n",
    "\n"
   ]
  },
  {
   "cell_type": "markdown",
   "metadata": {},
   "source": [
    "### 시퀀스 객체의 요소 개수 구하기\n",
    "***"
   ]
  },
  {
   "cell_type": "code",
   "execution_count": 20,
   "metadata": {},
   "outputs": [
    {
     "data": {
      "text/plain": [
       "3"
      ]
     },
     "execution_count": 20,
     "metadata": {},
     "output_type": "execute_result"
    }
   ],
   "source": [
    "# 리스트와 튜플의 요소 개수 구하기\n",
    "len(my_range)\n",
    "\n"
   ]
  },
  {
   "cell_type": "markdown",
   "metadata": {},
   "source": [
    "### 인덱스 사용하기\n",
    "***"
   ]
  },
  {
   "cell_type": "code",
   "execution_count": 21,
   "metadata": {},
   "outputs": [
    {
     "name": "stdout",
     "output_type": "stream",
     "text": [
      "2\n"
     ]
    }
   ],
   "source": [
    "# 위치 정보로 접근하기(음수 가능)\n",
    "print(my_range[-1])\n",
    "\n",
    "# 범위를 벗어나면 오류 발생\n",
    "\n",
    "# 요소에 값 할당하기(tuple과 range는 변경 불가)\n",
    "my_list[1] = 4\n",
    "\n",
    "# 요소 삭제 가능(tuple과 range는 변경 불가)\n",
    "del my_list[1]"
   ]
  },
  {
   "cell_type": "markdown",
   "metadata": {},
   "source": [
    "### 슬라이스 사용하기\n",
    "***"
   ]
  },
  {
   "cell_type": "code",
   "execution_count": 22,
   "metadata": {},
   "outputs": [
    {
     "name": "stdout",
     "output_type": "stream",
     "text": [
      "(2,)\n",
      "123\n",
      "[3]\n",
      "[]\n"
     ]
    }
   ],
   "source": [
    "# range와 동일하게 시작, 종료, 증가폭 설정 가능\n",
    "print(my_tuple[1:-1:2])\n",
    "\n",
    "# 인덱스 생략 가능 시작, 종료 설정 가능\n",
    "print(my_str[::])\n",
    "\n",
    "# 슬라이스로 칸 넣기\n",
    "my_list[:2:] = [3]\n",
    "print(my_list)\n",
    "\n",
    "# 슬라이스 삭제 가능\n",
    "del my_list[::4]\n",
    "print(my_list)"
   ]
  },
  {
   "cell_type": "markdown",
   "metadata": {},
   "source": [
    "# 300제(01 ~ 10, 11 ~ 20)"
   ]
  },
  {
   "cell_type": "markdown",
   "metadata": {},
   "source": [
    "## 01 ~ 10(print 사용법, 문자열, `\\`, 기본 연산)"
   ]
  },
  {
   "cell_type": "code",
   "execution_count": 23,
   "metadata": {},
   "outputs": [
    {
     "name": "stdout",
     "output_type": "stream",
     "text": [
      "Hello World\n"
     ]
    }
   ],
   "source": [
    "print('Hello World')"
   ]
  },
  {
   "cell_type": "code",
   "execution_count": 24,
   "metadata": {},
   "outputs": [
    {
     "name": "stdout",
     "output_type": "stream",
     "text": [
      "Mary's cosmetics\n"
     ]
    }
   ],
   "source": [
    "print(\"Mary's cosmetics\")"
   ]
  },
  {
   "cell_type": "code",
   "execution_count": 25,
   "metadata": {},
   "outputs": [
    {
     "name": "stdout",
     "output_type": "stream",
     "text": [
      "신씨가 소리질렀다. \"도둑이야\".\n"
     ]
    }
   ],
   "source": [
    "print('신씨가 소리질렀다. \"도둑이야\".')"
   ]
  },
  {
   "cell_type": "code",
   "execution_count": 26,
   "metadata": {},
   "outputs": [
    {
     "name": "stdout",
     "output_type": "stream",
     "text": [
      "\"C:\\Windows\"\n"
     ]
    }
   ],
   "source": [
    "print('\"C:\\\\Windows\"')"
   ]
  },
  {
   "cell_type": "markdown",
   "metadata": {},
   "source": [
    "\\t는 탭, \\n는 줄바꿈"
   ]
  },
  {
   "cell_type": "markdown",
   "metadata": {},
   "source": [
    "오늘은 일요일"
   ]
  },
  {
   "cell_type": "code",
   "execution_count": 27,
   "metadata": {},
   "outputs": [
    {
     "name": "stdout",
     "output_type": "stream",
     "text": [
      "naver;kakao;sk;samsung\n"
     ]
    }
   ],
   "source": [
    "print('naver', 'kakao', 'sk', 'samsung', sep=';')"
   ]
  },
  {
   "cell_type": "code",
   "execution_count": 28,
   "metadata": {},
   "outputs": [
    {
     "name": "stdout",
     "output_type": "stream",
     "text": [
      "naver/kakao/sk/samsung\n"
     ]
    }
   ],
   "source": [
    "print('naver', 'kakao', 'sk', 'samsung', sep='/')"
   ]
  },
  {
   "cell_type": "code",
   "execution_count": 29,
   "metadata": {},
   "outputs": [
    {
     "name": "stdout",
     "output_type": "stream",
     "text": [
      "firstsecond\n"
     ]
    }
   ],
   "source": [
    "print(\"first\", end='');print(\"second\")"
   ]
  },
  {
   "cell_type": "code",
   "execution_count": 30,
   "metadata": {},
   "outputs": [
    {
     "name": "stdout",
     "output_type": "stream",
     "text": [
      "1.6666666666666667\n"
     ]
    }
   ],
   "source": [
    "print(5/3)"
   ]
  },
  {
   "cell_type": "markdown",
   "metadata": {},
   "source": [
    "## 11 ~ 20(변수, type 확인, 형 변환)"
   ]
  },
  {
   "cell_type": "code",
   "execution_count": 31,
   "metadata": {},
   "outputs": [
    {
     "name": "stdout",
     "output_type": "stream",
     "text": [
      "500000\n"
     ]
    }
   ],
   "source": [
    "삼성전자 = 50000\n",
    "print(삼성전자 * 10)"
   ]
  },
  {
   "cell_type": "code",
   "execution_count": 32,
   "metadata": {},
   "outputs": [],
   "source": [
    "시가총액 = '298조'\n",
    "현재가 = 50000\n",
    "PER = 15.79"
   ]
  },
  {
   "cell_type": "code",
   "execution_count": 33,
   "metadata": {},
   "outputs": [
    {
     "name": "stdout",
     "output_type": "stream",
     "text": [
      "hello! python\n"
     ]
    }
   ],
   "source": [
    "s = \"hello\"\n",
    "t = \"python\"\n",
    "print(s + '!', t)"
   ]
  },
  {
   "cell_type": "markdown",
   "metadata": {},
   "source": [
    "8"
   ]
  },
  {
   "cell_type": "code",
   "execution_count": 34,
   "metadata": {},
   "outputs": [
    {
     "name": "stdout",
     "output_type": "stream",
     "text": [
      "<class 'str'>\n"
     ]
    }
   ],
   "source": [
    "a = \"132\"\n",
    "print(type(a))"
   ]
  },
  {
   "cell_type": "code",
   "execution_count": 35,
   "metadata": {},
   "outputs": [],
   "source": [
    "num_str = \"720\"\n",
    "num_str = int(num_str)"
   ]
  },
  {
   "cell_type": "code",
   "execution_count": 36,
   "metadata": {},
   "outputs": [],
   "source": [
    "num = 100\n",
    "num = int(num)"
   ]
  },
  {
   "cell_type": "code",
   "execution_count": 37,
   "metadata": {},
   "outputs": [],
   "source": [
    "num = '15.79'\n",
    "num = float(num)"
   ]
  },
  {
   "cell_type": "code",
   "execution_count": 38,
   "metadata": {},
   "outputs": [
    {
     "name": "stdout",
     "output_type": "stream",
     "text": [
      "2019 2018 2017\n"
     ]
    }
   ],
   "source": [
    "year = \"2020\"\n",
    "year = int(year)\n",
    "print(year - 1, year - 2, year - 3)"
   ]
  },
  {
   "cell_type": "code",
   "execution_count": 39,
   "metadata": {},
   "outputs": [
    {
     "name": "stdout",
     "output_type": "stream",
     "text": [
      "1388988\n"
     ]
    }
   ],
   "source": [
    "money = 38583\n",
    "month = 36\n",
    "print(money * month)"
   ]
  }
 ],
 "metadata": {
  "kernelspec": {
   "display_name": "Python 3.8.9 64-bit",
   "language": "python",
   "name": "python3"
  },
  "language_info": {
   "codemirror_mode": {
    "name": "ipython",
    "version": 3
   },
   "file_extension": ".py",
   "mimetype": "text/x-python",
   "name": "python",
   "nbconvert_exporter": "python",
   "pygments_lexer": "ipython3",
   "version": "3.8.9"
  },
  "orig_nbformat": 4,
  "vscode": {
   "interpreter": {
    "hash": "31f2aee4e71d21fbe5cf8b01ff0e069b9275f58929596ceb00d14d90e3e16cd6"
   }
  }
 },
 "nbformat": 4,
 "nbformat_minor": 2
}
